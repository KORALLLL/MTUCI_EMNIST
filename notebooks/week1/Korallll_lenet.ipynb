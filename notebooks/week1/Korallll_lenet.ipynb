{
  "nbformat": 4,
  "nbformat_minor": 0,
  "metadata": {
    "colab": {
      "provenance": [],
      "gpuType": "T4",
      "authorship_tag": "ABX9TyPC8hMJ5xThk0LwXSyiNDef",
      "include_colab_link": true
    },
    "kernelspec": {
      "name": "python3",
      "display_name": "Python 3"
    },
    "language_info": {
      "name": "python"
    },
    "accelerator": "GPU",
    "widgets": {
      "application/vnd.jupyter.widget-state+json": {
        "76768bc9056d4a02b60341afc6d01232": {
          "model_module": "@jupyter-widgets/controls",
          "model_name": "HBoxModel",
          "model_module_version": "1.5.0",
          "state": {
            "_dom_classes": [],
            "_model_module": "@jupyter-widgets/controls",
            "_model_module_version": "1.5.0",
            "_model_name": "HBoxModel",
            "_view_count": null,
            "_view_module": "@jupyter-widgets/controls",
            "_view_module_version": "1.5.0",
            "_view_name": "HBoxView",
            "box_style": "",
            "children": [
              "IPY_MODEL_8a937ec2834e4bcc929048197f466f59",
              "IPY_MODEL_662a79e5445e446da8ded17e000c6a2c",
              "IPY_MODEL_51c57c53f5d349fa91753a4f8e8870fa"
            ],
            "layout": "IPY_MODEL_7c87c13af0a04f2baec1ba8a770ede82"
          }
        },
        "8a937ec2834e4bcc929048197f466f59": {
          "model_module": "@jupyter-widgets/controls",
          "model_name": "HTMLModel",
          "model_module_version": "1.5.0",
          "state": {
            "_dom_classes": [],
            "_model_module": "@jupyter-widgets/controls",
            "_model_module_version": "1.5.0",
            "_model_name": "HTMLModel",
            "_view_count": null,
            "_view_module": "@jupyter-widgets/controls",
            "_view_module_version": "1.5.0",
            "_view_name": "HTMLView",
            "description": "",
            "description_tooltip": null,
            "layout": "IPY_MODEL_98b2525e19054d4c88813c157fe42425",
            "placeholder": "​",
            "style": "IPY_MODEL_92debe34af2945fe9a7caf0859f168a6",
            "value": "learning: 100%"
          }
        },
        "662a79e5445e446da8ded17e000c6a2c": {
          "model_module": "@jupyter-widgets/controls",
          "model_name": "FloatProgressModel",
          "model_module_version": "1.5.0",
          "state": {
            "_dom_classes": [],
            "_model_module": "@jupyter-widgets/controls",
            "_model_module_version": "1.5.0",
            "_model_name": "FloatProgressModel",
            "_view_count": null,
            "_view_module": "@jupyter-widgets/controls",
            "_view_module_version": "1.5.0",
            "_view_name": "ProgressView",
            "bar_style": "success",
            "description": "",
            "description_tooltip": null,
            "layout": "IPY_MODEL_a3e03a52eaea4b0d9fa3c7a24832a45b",
            "max": 100,
            "min": 0,
            "orientation": "horizontal",
            "style": "IPY_MODEL_574f962d3d2c4cb49f2516a6845de6d3",
            "value": 100
          }
        },
        "51c57c53f5d349fa91753a4f8e8870fa": {
          "model_module": "@jupyter-widgets/controls",
          "model_name": "HTMLModel",
          "model_module_version": "1.5.0",
          "state": {
            "_dom_classes": [],
            "_model_module": "@jupyter-widgets/controls",
            "_model_module_version": "1.5.0",
            "_model_name": "HTMLModel",
            "_view_count": null,
            "_view_module": "@jupyter-widgets/controls",
            "_view_module_version": "1.5.0",
            "_view_name": "HTMLView",
            "description": "",
            "description_tooltip": null,
            "layout": "IPY_MODEL_7f0aeeedf283457ea7d8f9e2def6ddc7",
            "placeholder": "​",
            "style": "IPY_MODEL_836c69030cb7426e9441e646da88c472",
            "value": " 100/100 [00:30&lt;00:00,  3.21it/s]"
          }
        },
        "7c87c13af0a04f2baec1ba8a770ede82": {
          "model_module": "@jupyter-widgets/base",
          "model_name": "LayoutModel",
          "model_module_version": "1.2.0",
          "state": {
            "_model_module": "@jupyter-widgets/base",
            "_model_module_version": "1.2.0",
            "_model_name": "LayoutModel",
            "_view_count": null,
            "_view_module": "@jupyter-widgets/base",
            "_view_module_version": "1.2.0",
            "_view_name": "LayoutView",
            "align_content": null,
            "align_items": null,
            "align_self": null,
            "border": null,
            "bottom": null,
            "display": null,
            "flex": null,
            "flex_flow": null,
            "grid_area": null,
            "grid_auto_columns": null,
            "grid_auto_flow": null,
            "grid_auto_rows": null,
            "grid_column": null,
            "grid_gap": null,
            "grid_row": null,
            "grid_template_areas": null,
            "grid_template_columns": null,
            "grid_template_rows": null,
            "height": null,
            "justify_content": null,
            "justify_items": null,
            "left": null,
            "margin": null,
            "max_height": null,
            "max_width": null,
            "min_height": null,
            "min_width": null,
            "object_fit": null,
            "object_position": null,
            "order": null,
            "overflow": null,
            "overflow_x": null,
            "overflow_y": null,
            "padding": null,
            "right": null,
            "top": null,
            "visibility": null,
            "width": null
          }
        },
        "98b2525e19054d4c88813c157fe42425": {
          "model_module": "@jupyter-widgets/base",
          "model_name": "LayoutModel",
          "model_module_version": "1.2.0",
          "state": {
            "_model_module": "@jupyter-widgets/base",
            "_model_module_version": "1.2.0",
            "_model_name": "LayoutModel",
            "_view_count": null,
            "_view_module": "@jupyter-widgets/base",
            "_view_module_version": "1.2.0",
            "_view_name": "LayoutView",
            "align_content": null,
            "align_items": null,
            "align_self": null,
            "border": null,
            "bottom": null,
            "display": null,
            "flex": null,
            "flex_flow": null,
            "grid_area": null,
            "grid_auto_columns": null,
            "grid_auto_flow": null,
            "grid_auto_rows": null,
            "grid_column": null,
            "grid_gap": null,
            "grid_row": null,
            "grid_template_areas": null,
            "grid_template_columns": null,
            "grid_template_rows": null,
            "height": null,
            "justify_content": null,
            "justify_items": null,
            "left": null,
            "margin": null,
            "max_height": null,
            "max_width": null,
            "min_height": null,
            "min_width": null,
            "object_fit": null,
            "object_position": null,
            "order": null,
            "overflow": null,
            "overflow_x": null,
            "overflow_y": null,
            "padding": null,
            "right": null,
            "top": null,
            "visibility": null,
            "width": null
          }
        },
        "92debe34af2945fe9a7caf0859f168a6": {
          "model_module": "@jupyter-widgets/controls",
          "model_name": "DescriptionStyleModel",
          "model_module_version": "1.5.0",
          "state": {
            "_model_module": "@jupyter-widgets/controls",
            "_model_module_version": "1.5.0",
            "_model_name": "DescriptionStyleModel",
            "_view_count": null,
            "_view_module": "@jupyter-widgets/base",
            "_view_module_version": "1.2.0",
            "_view_name": "StyleView",
            "description_width": ""
          }
        },
        "a3e03a52eaea4b0d9fa3c7a24832a45b": {
          "model_module": "@jupyter-widgets/base",
          "model_name": "LayoutModel",
          "model_module_version": "1.2.0",
          "state": {
            "_model_module": "@jupyter-widgets/base",
            "_model_module_version": "1.2.0",
            "_model_name": "LayoutModel",
            "_view_count": null,
            "_view_module": "@jupyter-widgets/base",
            "_view_module_version": "1.2.0",
            "_view_name": "LayoutView",
            "align_content": null,
            "align_items": null,
            "align_self": null,
            "border": null,
            "bottom": null,
            "display": null,
            "flex": null,
            "flex_flow": null,
            "grid_area": null,
            "grid_auto_columns": null,
            "grid_auto_flow": null,
            "grid_auto_rows": null,
            "grid_column": null,
            "grid_gap": null,
            "grid_row": null,
            "grid_template_areas": null,
            "grid_template_columns": null,
            "grid_template_rows": null,
            "height": null,
            "justify_content": null,
            "justify_items": null,
            "left": null,
            "margin": null,
            "max_height": null,
            "max_width": null,
            "min_height": null,
            "min_width": null,
            "object_fit": null,
            "object_position": null,
            "order": null,
            "overflow": null,
            "overflow_x": null,
            "overflow_y": null,
            "padding": null,
            "right": null,
            "top": null,
            "visibility": null,
            "width": null
          }
        },
        "574f962d3d2c4cb49f2516a6845de6d3": {
          "model_module": "@jupyter-widgets/controls",
          "model_name": "ProgressStyleModel",
          "model_module_version": "1.5.0",
          "state": {
            "_model_module": "@jupyter-widgets/controls",
            "_model_module_version": "1.5.0",
            "_model_name": "ProgressStyleModel",
            "_view_count": null,
            "_view_module": "@jupyter-widgets/base",
            "_view_module_version": "1.2.0",
            "_view_name": "StyleView",
            "bar_color": null,
            "description_width": ""
          }
        },
        "7f0aeeedf283457ea7d8f9e2def6ddc7": {
          "model_module": "@jupyter-widgets/base",
          "model_name": "LayoutModel",
          "model_module_version": "1.2.0",
          "state": {
            "_model_module": "@jupyter-widgets/base",
            "_model_module_version": "1.2.0",
            "_model_name": "LayoutModel",
            "_view_count": null,
            "_view_module": "@jupyter-widgets/base",
            "_view_module_version": "1.2.0",
            "_view_name": "LayoutView",
            "align_content": null,
            "align_items": null,
            "align_self": null,
            "border": null,
            "bottom": null,
            "display": null,
            "flex": null,
            "flex_flow": null,
            "grid_area": null,
            "grid_auto_columns": null,
            "grid_auto_flow": null,
            "grid_auto_rows": null,
            "grid_column": null,
            "grid_gap": null,
            "grid_row": null,
            "grid_template_areas": null,
            "grid_template_columns": null,
            "grid_template_rows": null,
            "height": null,
            "justify_content": null,
            "justify_items": null,
            "left": null,
            "margin": null,
            "max_height": null,
            "max_width": null,
            "min_height": null,
            "min_width": null,
            "object_fit": null,
            "object_position": null,
            "order": null,
            "overflow": null,
            "overflow_x": null,
            "overflow_y": null,
            "padding": null,
            "right": null,
            "top": null,
            "visibility": null,
            "width": null
          }
        },
        "836c69030cb7426e9441e646da88c472": {
          "model_module": "@jupyter-widgets/controls",
          "model_name": "DescriptionStyleModel",
          "model_module_version": "1.5.0",
          "state": {
            "_model_module": "@jupyter-widgets/controls",
            "_model_module_version": "1.5.0",
            "_model_name": "DescriptionStyleModel",
            "_view_count": null,
            "_view_module": "@jupyter-widgets/base",
            "_view_module_version": "1.2.0",
            "_view_name": "StyleView",
            "description_width": ""
          }
        }
      }
    }
  },
  "cells": [
    {
      "cell_type": "markdown",
      "metadata": {
        "id": "view-in-github",
        "colab_type": "text"
      },
      "source": [
        "<a href=\"https://colab.research.google.com/github/KORALLLL/MTUCI_EMNIST/blob/main/lenet/Korallll_lenet.ipynb\" target=\"_parent\"><img src=\"https://colab.research.google.com/assets/colab-badge.svg\" alt=\"Open In Colab\"/></a>"
      ]
    },
    {
      "cell_type": "markdown",
      "source": [
        "# lenet configuration on custom dataset with normalizeing data"
      ],
      "metadata": {
        "id": "TwHhKc7WAoic"
      }
    },
    {
      "cell_type": "markdown",
      "source": [
        "<table>\n",
        "  <tr>\n",
        "    <th>layer</th>\n",
        "    <th>layer type2</th>\n",
        "    <th>feature maps</th>\n",
        "    <th>size</th>\n",
        "    <th>kernel size</th>\n",
        "    <th>stride</th>\n",
        "    <th>activation</th>\n",
        "  </tr>\n",
        "  <tr>\n",
        "    <th>input</th>\n",
        "    <th>image</th>\n",
        "    <th>1</th>\n",
        "    <th>28*28</th>\n",
        "    <th>-</th>\n",
        "    <th>-</th>\n",
        "    <th>-</th>\n",
        "  </tr>\n",
        "  <tr>\n",
        "    <th>1</th>\n",
        "    <th>convoluation</th>\n",
        "    <th>6</th>\n",
        "    <th>28*28</th>\n",
        "    <th>5*5</th>\n",
        "    <th>1</th>\n",
        "    <th>tanh</th>\n",
        "  </tr>\n",
        "  <tr>\n",
        "    <th>2</th>\n",
        "    <th>average pooling</th>\n",
        "    <th>6</th>\n",
        "    <th>14*14</th>\n",
        "    <th>2*2</th>\n",
        "    <th>2</th>\n",
        "    <th>tanh</th>\n",
        "  </tr>\n",
        "  <tr>\n",
        "    <th>3</th>\n",
        "    <th>convoluation</th>\n",
        "    <th>16</th>\n",
        "    <th>10*10</th>\n",
        "    <th>5*5</th>\n",
        "    <th>1</th>\n",
        "    <th>tanh</th>\n",
        "  </tr>\n",
        "  <tr>\n",
        "    <th>4</th>\n",
        "    <th>average pooling</th>\n",
        "    <th>16</th>\n",
        "    <th>5*5</th>\n",
        "    <th>2*2</th>\n",
        "    <th>2</th>\n",
        "    <th>tanh</th>\n",
        "  </tr>\n",
        "  <tr>\n",
        "    <th>5</th>\n",
        "    <th>fully connected</th>\n",
        "    <th>-</th>\n",
        "    <th>120</th>\n",
        "    <th>-</th>\n",
        "    <th>-</th>\n",
        "    <th>tanh</th>\n",
        "  </tr>\n",
        "  <tr>\n",
        "    <th>6</th>\n",
        "    <th>fully connected</th>\n",
        "    <th>-</th>\n",
        "    <th>84</th>\n",
        "    <th>-</th>\n",
        "    <th>-</th>\n",
        "    <th>tanh</th>\n",
        "  </tr>\n",
        "  <tr>\n",
        "    <th>output</th>\n",
        "    <th>fully connected</th>\n",
        "    <th>-</th>\n",
        "    <th>10</th>\n",
        "    <th>-</th>\n",
        "    <th>-</th>\n",
        "    <th>-</th>\n",
        "  </tr>\n",
        "</table>"
      ],
      "metadata": {
        "id": "Y0pPCnrsAy1t"
      }
    },
    {
      "cell_type": "markdown",
      "source": [
        "train dataset: MNIST + EMNIST letters\n",
        "\n",
        "test dataset: dataset of DreamTeam\n",
        "\n",
        "training sample size: 36960\n",
        "\n",
        "testing sample size: 16784\n",
        "\n",
        "loss finction: Cross Entropy Loss\n",
        "\n",
        "optimizer: adam\n",
        "\n",
        "learning rate: 0.001\n",
        "\n",
        "batch size: 1120\n",
        "\n",
        "epoch number: 100\n"
      ],
      "metadata": {
        "id": "sL0QmOoXAz_J"
      }
    },
    {
      "cell_type": "markdown",
      "source": [
        "## module importation"
      ],
      "metadata": {
        "id": "o-WgUxsfLpJw"
      }
    },
    {
      "cell_type": "code",
      "source": [
        "import torch\n",
        "import torchvision.datasets\n",
        "import torchvision.transforms as transforms\n",
        "import matplotlib\n",
        "import matplotlib.pyplot as plt\n",
        "from tqdm import tqdm_notebook as bar\n",
        "import pickle\n",
        "import numpy as np"
      ],
      "metadata": {
        "id": "0tqM9M2KCWdT"
      },
      "execution_count": 1,
      "outputs": []
    },
    {
      "cell_type": "markdown",
      "source": [
        "## git cloning"
      ],
      "metadata": {
        "id": "Qy8hIERQLr0K"
      }
    },
    {
      "cell_type": "code",
      "source": [
        "!git clone https://github.com/KORALLLL/MTUCI_EMNIST.git"
      ],
      "metadata": {
        "colab": {
          "base_uri": "https://localhost:8080/"
        },
        "id": "HXW5vy_7KgqS",
        "outputId": "98ab366a-f75f-43e4-ece6-9feeb4495493"
      },
      "execution_count": 2,
      "outputs": [
        {
          "output_type": "stream",
          "name": "stdout",
          "text": [
            "Cloning into 'MTUCI_EMNIST'...\n",
            "remote: Enumerating objects: 36354, done.\u001b[K\n",
            "remote: Counting objects: 100% (12714/12714), done.\u001b[K\n",
            "remote: Compressing objects: 100% (12599/12599), done.\u001b[K\n",
            "remote: Total 36354 (delta 123), reused 12685 (delta 113), pack-reused 23640\u001b[K\n",
            "Receiving objects: 100% (36354/36354), 126.00 MiB | 31.86 MiB/s, done.\n",
            "Resolving deltas: 100% (408/408), done.\n"
          ]
        }
      ]
    },
    {
      "cell_type": "markdown",
      "source": [
        "##dataset preparation"
      ],
      "metadata": {
        "id": "Khp4O0kTLt0_"
      }
    },
    {
      "cell_type": "code",
      "source": [
        "emnist_train = torchvision.datasets.EMNIST('./', split='letters', download = True, train = True)\n",
        "mnist_train = torchvision.datasets.EMNIST('./', split='mnist', download = True, train = True)\n",
        "emnist_val = torchvision.datasets.EMNIST('./', split='letters', download = True, train = False)\n",
        "mnist_val = torchvision.datasets.EMNIST('./', split='mnist', download = True, train = False)\n",
        "\n",
        "device = torch.device('cuda:0' if torch.cuda.is_available() else 'cpu')\n",
        "\n",
        "emnist_train_data = emnist_train.data\n",
        "mnist_train_data = mnist_train.data\n",
        "train_data = torch.cat([emnist_train_data[:24960], mnist_train_data[:12000]], dim=0).float().unsqueeze(1).to(device) / 255\n",
        "\n",
        "emnist_val_data = emnist_val.data\n",
        "mnist_val_data = mnist_val.data\n",
        "val_data = torch.cat([emnist_val_data, mnist_val_data], dim=0).float().unsqueeze(1).to(device) / 255\n",
        "\n",
        "temp_emnist_train_labels = emnist_train.targets[:24960]\n",
        "emnist_train_labels = []\n",
        "\n",
        "temp_emnist_val_labels = emnist_val.targets\n",
        "emnist_val_labels = []\n",
        "\n",
        "for i in range(len(temp_emnist_train_labels)):\n",
        "  if temp_emnist_train_labels[i]==15:\n",
        "    emnist_train_labels.append(torch.tensor(0))\n",
        "  elif temp_emnist_train_labels[i]>15:\n",
        "    emnist_train_labels.append(temp_emnist_train_labels[i]+8)\n",
        "  else:\n",
        "    emnist_train_labels.append(temp_emnist_train_labels[i]+9)\n",
        "\n",
        "for i in range(len(temp_emnist_val_labels)):\n",
        "  if temp_emnist_val_labels[i]==15:\n",
        "    emnist_val_labels.append(torch.tensor(0))\n",
        "  elif temp_emnist_val_labels[i]>15:\n",
        "    emnist_val_labels.append(temp_emnist_val_labels[i] + 8)\n",
        "  else:\n",
        "    emnist_val_labels.append(temp_emnist_val_labels[i]+9)\n",
        "\n",
        "mnist_train_labels = mnist_train.targets\n",
        "train_labels = torch.cat([torch.stack(emnist_train_labels[:24960]), mnist_train_labels[:12000]], dim=0).to(device)\n",
        "\n",
        "mnist_val_labels = mnist_val.targets\n",
        "val_labels = torch.cat([torch.stack(emnist_val_labels), mnist_val_labels], dim=0).to(device)\n",
        "\n",
        "\n",
        "file = open('MTUCI_EMNIST/dataset.pkl', 'rb')\n",
        "test_dataset = pickle.load(file)\n",
        "file.close()\n",
        "\n",
        "test_data = test_dataset['data'].numpy()\n",
        "test_data = np.flip(test_data, axis = 3)\n",
        "test_data = np.rot90(test_data, k=1, axes=(2,3))\n",
        "test_data = 1 - test_data\n",
        "test_data = torch.from_numpy(test_data).float().to(device)\n",
        "test_labels = test_dataset['targets'].to(device)"
      ],
      "metadata": {
        "id": "rPT0hsgWCjXk"
      },
      "execution_count": 6,
      "outputs": []
    },
    {
      "cell_type": "code",
      "source": [
        "plt.imshow(val_data[0][0].cpu())"
      ],
      "metadata": {
        "colab": {
          "base_uri": "https://localhost:8080/",
          "height": 447
        },
        "id": "3YFlzRdxAGTz",
        "outputId": "5e764778-88cd-4c3a-8f20-553e033a17b0"
      },
      "execution_count": 7,
      "outputs": [
        {
          "output_type": "execute_result",
          "data": {
            "text/plain": [
              "<matplotlib.image.AxesImage at 0x7cbdec9c9f90>"
            ]
          },
          "metadata": {},
          "execution_count": 7
        },
        {
          "output_type": "display_data",
          "data": {
            "text/plain": [
              "<Figure size 640x480 with 1 Axes>"
            ],
            "image/png": "[encoded data removed]"
          },
          "metadata": {}
        }
      ]
    },
    {
      "cell_type": "markdown",
      "source": [
        "## configuration net"
      ],
      "metadata": {
        "id": "K9sOwkHyMc0k"
      }
    },
    {
      "cell_type": "code",
      "source": [
        "class LeNet(torch.nn.Module):\n",
        "  def __init__(self):\n",
        "    super(LeNet, self).__init__()\n",
        "    self.conv1 = torch.nn.Conv2d(in_channels=1, out_channels=6, kernel_size=5, padding=2)\n",
        "    self.act1 = torch.nn.Tanh()\n",
        "    self.pool1 = torch.nn.AvgPool2d(kernel_size=2, stride=2)\n",
        "    self.act2 = torch.nn.Tanh()\n",
        "    self.conv2 = torch.nn.Conv2d(in_channels=6, out_channels=16, kernel_size=5, padding=0)\n",
        "    self.act3 = torch.nn.Tanh()\n",
        "    self.pool2 = torch.nn.AvgPool2d(kernel_size=2, stride=2)\n",
        "    self.act4=torch.nn.Tanh()\n",
        "    self.fc1 = torch.nn.Linear(5*5*16,120)\n",
        "    self.act5=torch.nn.Tanh()\n",
        "    self.fc2 = torch.nn.Linear(120, 84)\n",
        "    self.act6 = torch.nn.Tanh()\n",
        "    self.fc3 = torch.nn.Linear(84, 35)\n",
        "\n",
        "  def forward(self, x):\n",
        "    x = self.conv1(x)\n",
        "    x = self.act1(x)\n",
        "    x = self.pool1(x)\n",
        "    x = self.act2(x)\n",
        "    x = self.conv2(x)\n",
        "    x = self.act3(x)\n",
        "    x = self.pool2(x)\n",
        "    x = self.act4(x)\n",
        "\n",
        "    x = x.view(x.size(0), x.size(1)*x.size(2)*x.size(3))\n",
        "\n",
        "    x = self.fc1(x)\n",
        "    x = self.act5(x)\n",
        "    x = self.fc2(x)\n",
        "    x = self.act6(x)\n",
        "    x = self.fc3(x)\n",
        "    return x\n",
        "lenet = LeNet().to(device)"
      ],
      "metadata": {
        "id": "2GUwnMMrDeNN"
      },
      "execution_count": 29,
      "outputs": []
    },
    {
      "cell_type": "markdown",
      "source": [
        "## initializing loss finction and optimizer"
      ],
      "metadata": {
        "id": "Q1ZmegawPxlJ"
      }
    },
    {
      "cell_type": "code",
      "source": [
        "loss = torch.nn.CrossEntropyLoss()\n",
        "optimizer = torch.optim.Adam(lenet.parameters(), lr=0.001)"
      ],
      "metadata": {
        "id": "Fo__SwKqP2MI"
      },
      "execution_count": 30,
      "outputs": []
    },
    {
      "cell_type": "markdown",
      "source": [
        "## initializing arrays of metrics"
      ],
      "metadata": {
        "id": "v3qjui7bQktZ"
      }
    },
    {
      "cell_type": "code",
      "source": [
        "train_accuracy_history = []\n",
        "val_accuracy_history = []\n",
        "test_accuracy_history = []\n",
        "train_loss_history = []\n",
        "val_loss_history = []\n",
        "test_loss_history = []"
      ],
      "metadata": {
        "id": "rvQLwO7KQor8"
      },
      "execution_count": 31,
      "outputs": []
    },
    {
      "cell_type": "markdown",
      "source": [
        "## learning stage"
      ],
      "metadata": {
        "id": "MYOY2735Q4hE"
      }
    },
    {
      "cell_type": "code",
      "source": [
        "batch_size = 1120\n",
        "\n",
        "for epoch in bar(range(100), desc = 'learning'):\n",
        "  order = np.random.permutation(len(train_data))\n",
        "\n",
        "  for start_index in range(0, len(train_data), batch_size):\n",
        "    optimizer.zero_grad()\n",
        "\n",
        "    batch_indexes = order[start_index:start_index+batch_size]\n",
        "\n",
        "    data_batch = train_data[batch_indexes].to(device)\n",
        "    label_batch = train_labels[batch_indexes].to(device)\n",
        "\n",
        "    preds = lenet.forward(data_batch)\n",
        "\n",
        "    loss_val = loss(preds, label_batch)\n",
        "    loss_val.backward()\n",
        "\n",
        "    optimizer.step()\n",
        "\n",
        "  train_preds = lenet.forward(train_data)\n",
        "  val_preds = lenet.forward(val_data)\n",
        "  test_preds = lenet.forward(test_data)\n",
        "\n",
        "  train_loss_history.append(loss(train_preds, train_labels).data.cpu())\n",
        "  val_loss_history.append(loss(val_preds, val_labels).data.cpu())\n",
        "  test_loss_history.append(loss(test_preds, test_labels).data.cpu())\n",
        "\n",
        "  train_accuracy = (train_preds.argmax(dim=1)==train_labels).float().mean().data.cpu()\n",
        "  val_accuracy = (val_preds.argmax(dim=1)==val_labels).float().mean().data.cpu()\n",
        "  test_accuracy = (test_preds.argmax(dim=1)==test_labels).float().mean().data.cpu()\n",
        "\n",
        "  train_accuracy_history.append(train_accuracy)\n",
        "  val_accuracy_history.append(val_accuracy)\n",
        "  test_accuracy_history.append(test_accuracy)"
      ],
      "metadata": {
        "colab": {
          "base_uri": "https://localhost:8080/",
          "height": 101,
          "referenced_widgets": [
            "76768bc9056d4a02b60341afc6d01232",
            "8a937ec2834e4bcc929048197f466f59",
            "662a79e5445e446da8ded17e000c6a2c",
            "51c57c53f5d349fa91753a4f8e8870fa",
            "7c87c13af0a04f2baec1ba8a770ede82",
            "98b2525e19054d4c88813c157fe42425",
            "92debe34af2945fe9a7caf0859f168a6",
            "a3e03a52eaea4b0d9fa3c7a24832a45b",
            "574f962d3d2c4cb49f2516a6845de6d3",
            "7f0aeeedf283457ea7d8f9e2def6ddc7",
            "836c69030cb7426e9441e646da88c472"
          ]
        },
        "id": "VUhzaq6bQ3Dh",
        "outputId": "f6021dbb-3154-4c28-cf34-07f852b0a0f6"
      },
      "execution_count": 32,
      "outputs": [
        {
          "output_type": "stream",
          "name": "stderr",
          "text": [
            "<ipython-input-32-5549ef1b02f5>:3: TqdmDeprecationWarning: This function will be removed in tqdm==5.0.0\n",
            "Please use `tqdm.notebook.tqdm` instead of `tqdm.tqdm_notebook`\n",
            "  for epoch in bar(range(100), desc = 'learning'):\n"
          ]
        },
        {
          "output_type": "display_data",
          "data": {
            "text/plain": [
              "learning:   0%|          | 0/100 [00:00<?, ?it/s]"
            ],
            "application/vnd.jupyter.widget-view+json": {
              "version_major": 2,
              "version_minor": 0,
              "model_id": "76768bc9056d4a02b60341afc6d01232"
            }
          },
          "metadata": {}
        }
      ]
    },
    {
      "cell_type": "markdown",
      "source": [
        "## accuracy plot"
      ],
      "metadata": {
        "id": "5FVEL8TIWjff"
      }
    },
    {
      "cell_type": "code",
      "source": [
        "plt.figure(figsize=(16.0, 6.0))\n",
        "plt.plot(range(len(train_accuracy_history)), train_accuracy_history, c='blue', label='train accuracy history')\n",
        "plt.plot(range(len(train_accuracy_history)), val_accuracy_history, c = 'yellow', label = 'validation accuracy history')\n",
        "plt.plot(range(len(train_accuracy_history)), test_accuracy_history, c='green', label='test accuracy history')\n",
        "plt.title('accurasy history')\n",
        "plt.xlabel('epoch')\n",
        "plt.ylabel('accuracy')\n",
        "plt.legend(loc='upper right')"
      ],
      "metadata": {
        "colab": {
          "base_uri": "https://localhost:8080/",
          "height": 581
        },
        "id": "TzMxLg-rWjDS",
        "outputId": "876674e5-7459-4f25-f027-9d9ac5f2146f"
      },
      "execution_count": 33,
      "outputs": [
        {
          "output_type": "execute_result",
          "data": {
            "text/plain": [
              "<matplotlib.legend.Legend at 0x7cbde9d136d0>"
            ]
          },
          "metadata": {},
          "execution_count": 33
        },
        {
          "output_type": "display_data",
          "data": {
            "text/plain": [
              "<Figure size 1600x600 with 1 Axes>"
            ],
            "image/png": "[encoded data removed]"
          },
          "metadata": {}
        }
      ]
    },
    {
      "cell_type": "markdown",
      "source": [
        "## loss plot"
      ],
      "metadata": {
        "id": "5Qwv2wYD73Vo"
      }
    },
    {
      "cell_type": "code",
      "source": [
        "plt.figure(figsize=(16.0, 6.0))\n",
        "plt.plot(range(len(train_loss_history)), train_loss_history, c='blue', label='train loss history')\n",
        "plt.plot(range(len(train_loss_history)), val_loss_history, c = 'yellow', label = 'validation loss history')\n",
        "plt.plot(range(len(train_loss_history)), test_loss_history, c='green', label='test loss history')\n",
        "plt.title('loss history')\n",
        "plt.xlabel('epoch')\n",
        "plt.ylabel('loss')\n",
        "plt.legend(loc='upper right')"
      ],
      "metadata": {
        "colab": {
          "base_uri": "https://localhost:8080/",
          "height": 581
        },
        "id": "5nUUQc4e75gr",
        "outputId": "9987096e-c2cb-4c87-abde-613ddfd7f7dc"
      },
      "execution_count": 34,
      "outputs": [
        {
          "output_type": "execute_result",
          "data": {
            "text/plain": [
              "<matplotlib.legend.Legend at 0x7cbdeae9fbe0>"
            ]
          },
          "metadata": {},
          "execution_count": 34
        },
        {
          "output_type": "display_data",
          "data": {
            "text/plain": [
              "<Figure size 1600x600 with 1 Axes>"
            ],
            "image/png": "[encoded data removed]"
          },
          "metadata": {}
        }
      ]
    }
  ]
}