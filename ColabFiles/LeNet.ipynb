{
  "cells": [
    {
      "cell_type": "markdown",
      "metadata": {
        "id": "view-in-github",
        "colab_type": "text"
      },
      "source": [
        "<a href=\"https://colab.research.google.com/github/KORALLLL/MTUCI_EMNIST/blob/Sasha/LeNet.ipynb\" target=\"_parent\"><img src=\"https://colab.research.google.com/assets/colab-badge.svg\" alt=\"Open In Colab\"/></a>"
      ]
    },
    {
      "cell_type": "markdown",
      "source": [
        "1 модель"
      ],
      "metadata": {
        "id": "CfxwrEY5UMZn"
      }
    },
    {
      "cell_type": "markdown",
      "source": [
        "| layer | layer type 2 | feature maps | size  | kernel | stride | padding | activation |\n",
        "| ----- | ------------ | ------------ | ----- | ------ | ------ | ------- | ---------- |\n",
        "| 1     | image        | 1            | 28x28 | \\-     | \\-     | \\-      | \\-         |\n",
        "| 2     | conv         | 8            | 24x24 | 5x5    | 1      | 0       | Tanh       |\n",
        "| 3     | AvgPool      | \\-           | 12x12 | 2x2    | 2      | 0       | Tanh       |\n",
        "| 4     | conv         | 16           | 10x10 | 3x3    | 1      | 0       | Tanh       |\n",
        "| 5     | fc           | \\-           | 120   | \\-     | \\-     | \\-      | Tanh       |\n",
        "| 6     | fc           | \\-           | 84    | \\-     | \\-     | \\-      | Tanh       |\n",
        "| 7     | output       | \\-           | 35    | \\-     | \\-     | \\-      | \\-         |"
      ],
      "metadata": {
        "id": "H9S6famMQvfX"
      }
    },
    {
      "cell_type": "markdown",
      "source": [
        "2 модель"
      ],
      "metadata": {
        "id": "HZ4vQe2SUO4P"
      }
    },
    {
      "cell_type": "markdown",
      "source": [
        "| layer | layer type 2 | feauture maps | size  | kernel | stride | padding | activation |\n",
        "|-------|--------------|---------------|-------|--------|--------|---------|------------|\n",
        "| 1     | imgae        | 1             | 28x28 | -      | -      | -       | -          |\n",
        "| 2     | conv         | 2             | 26x26 | 3x3    | 1      | 0       | Tanh       |\n",
        "| 3     | conv         | 4             | 24x24 | 3x3    | 1      | 0       | Tanh       |\n",
        "| 4     | AvgPool      | -             | 12x12 | 2x2    | 2      | 0       | Tanh       |\n",
        "| 5     | conv         | 8             | 12x12 | 3x3    | 1      | 1       | Tanh       |\n",
        "| 6     | conv         | 16            | 10x10 | 3x3    | 1      | 0       | Tanh       |\n",
        "| 7     | AvgPool      | -             | 5x5   | 2x2    | 2      | 0       | Tanh       |\n",
        "| 8     | fc           | -             | 120   | -      | -      | -       | Tanh       |\n",
        "| 9     | fc           | -             | 84    | -      | -      | -       | Tanh       |\n",
        "| 10    | output       | -             | 35    | -      | -      | -       | -          |"
      ],
      "metadata": {
        "id": "Z2w7zwchQy4Y"
      }
    },
    {
      "cell_type": "markdown",
      "source": [
        "3 модель"
      ],
      "metadata": {
        "id": "hgNVdY3KUPv8"
      }
    },
    {
      "cell_type": "markdown",
      "source": [
        "| layer | layer type 2 | feauture maps | size  | kernel | stride | padding | activation |\n",
        "|-------|--------------|---------------|-------|--------|--------|---------|------------|\n",
        "| 1     | imgae        | 1             | 28x28 | -      | -      | -       | -          |\n",
        "| 2     | conv         | 2             | 28x28 | 3x3    | 1      | 1       | Tanh       |\n",
        "| 3     | conv         | 4             | 28x28 | 3x3    | 1      | 1       | Tanh       |\n",
        "| 4     | conv         | 8             | 28x28 | 3x3    | 1      | 1       | Tanh       |\n",
        "| 5     | AvgPool      | -             | 14x14 | 2x2    | 2      | 0       | Tanh       |\n",
        "| 6     | conv         | 16            | 14x14 | 3x3    | 1      | 1       | Tanh       |\n",
        "| 7     | conv         | 16            | 12x12 | 3x3    | 1      | 0       | Tanh       |\n",
        "| 8     | conv         | 16            | 10x10 | 3x3    | 1      | 0       | Tanh       |\n",
        "| 9     | AvgPool      | -             | 5x5   | 2x2    | 2      | 0       | Tanh       |\n",
        "| 10    | fc           | -             | 120   | -      | -      | -       | ReLU       |\n",
        "| 11    | fc           | -             | 84    | -      | -      | -       | ReLU       |\n",
        "| 12    | output       | -             | 35    | -      | -      | -       | -          |"
      ],
      "metadata": {
        "id": "sjVAHxCsSOXS"
      }
    },
    {
      "cell_type": "markdown",
      "source": [
        "4 модель"
      ],
      "metadata": {
        "id": "YQ_Z1MQDUP5Z"
      }
    },
    {
      "cell_type": "markdown",
      "source": [
        "| layer | layer type 2 | feauture maps | size  | kernel | stride | padding | activation |\n",
        "|-------|--------------|---------------|-------|--------|--------|---------|------------|\n",
        "| 1     | imgae        | 1             | 28x28 | -      | -      | -       | -          |\n",
        "| 2     | conv         | 2             | 28x28 | 3x3    | 1      | 1       | Tanh       |\n",
        "| 3     | conv         | 4             | 28x28 | 3x3    | 1      | 1       | Tanh       |\n",
        "| 4     | conv         | 8             | 28x28 | 3x3    | 1      | 1       | Tanh       |\n",
        "| 5     | conv         | 16            | 28x28 | 3x3    | 1      | 1       | Tanh       |\n",
        "| 6     | AvgPool      | -             | 14x14 | 2x2    | 2      | 0       | Tanh       |\n",
        "| 7     | conv         | 16            | 14x14 | 3x3    | 1      | 1       | Tanh       |\n",
        "| 8     | conv         | 16            | 14x14 | 3x3    | 1      | 1       | Tanh       |\n",
        "| 9     | conv         | 16            | 12x12 | 3x3    | 1      | 0       | Tanh       |\n",
        "| 10    | conv         | 16            | 10x10 | 3x3    | 1      | 0       | Tanh       |\n",
        "| 11    | AvgPool      | -             | 5x5   | 2x2    | 2      | 0       | Tanh       |\n",
        "| 12    | fc           | -             | 120   | -      | -      | -       | ReLU       |\n",
        "| 13    | fc           | -             | 84    | -      | -      | -       | ReLU       |\n",
        "| 14    | output       | -             | 35    | -      | -      | -       | -          |"
      ],
      "metadata": {
        "id": "1EOTS8HpS9RY"
      }
    },
    {
      "cell_type": "markdown",
      "source": [
        "5 модель"
      ],
      "metadata": {
        "id": "YmMe-b8lUQDX"
      }
    },
    {
      "cell_type": "markdown",
      "source": [
        "| layer | layer type 2 | feauture maps | size  | kernel | stride | padding | activation |\n",
        "|-------|--------------|---------------|-------|--------|--------|---------|------------|\n",
        "| 1     | imgae        | 1             | 28x28 | -      | -      | -       | -          |\n",
        "| 2     | conv         | 2             | 28x28 | 3x3    | 1      | 1       | Tanh       |\n",
        "| 3     | conv         | 4             | 28x28 | 3x3    | 1      | 1       | Tanh       |\n",
        "| 4     | conv         | 8             | 28x28 | 3x3    | 1      | 1       | Tanh       |\n",
        "| 5     | conv         | 16            | 28x28 | 3x3    | 1      | 1       | Tanh       |\n",
        "| 6     | conv         | 16            | 28x28 | 3x3    | 1      | 1       | Tanh       |\n",
        "| 7     | AvgPool      | -             | 14x14 | 2x2    | 2      | 0       | Tanh       |\n",
        "| 8     | conv         | 16            | 14x14 | 3x3    | 1      | 1       | Tanh       |\n",
        "| 9     | conv         | 16            | 14x14 | 3x3    | 1      | 1       | Tanh       |\n",
        "| 10    | conv         | 16            | 14x14 | 3x3    | 1      | 1       | Tanh       |\n",
        "| 11    | conv         | 16            | 12x12 | 3x3    | 1      | 0       | Tanh       |\n",
        "| 12    | conv         | 16            | 10x10 | 3x3    | 1      | 0       | Tanh       |\n",
        "| 13    | AvgPool      | -             | 5x5   | 2x2    | 2      | 0       | Tanh       |\n",
        "| 14    | fc           | -             | 120   | -      | -      | -       | ReLU       |\n",
        "| 15    | fc           | -             | 84    | -      | -      | -       | ReLU       |\n",
        "| 16    | output       | -             | 35    | -      | -      | -       | -          |"
      ],
      "metadata": {
        "id": "PZawOKoRT4rh"
      }
    },
    {
      "cell_type": "markdown",
      "source": [
        "\n",
        "## **Сверточная нейронная сеть архитектуры LeNet**\n",
        "Тренировочный датасет: MNIST + EMNIST letters\n",
        "\n",
        "Датасет для теста: dataset of DreamTeam\n",
        "\n",
        "Кол-во изображения для тренировки: 36960\n",
        "\n",
        "Кол-во изображения для теста: 16784\n",
        "\n",
        "Функция потерь: Cross Entropy Loss\n",
        "\n",
        "Оптимизатор: adam\n",
        "\n",
        "Величина градиентного шага: 0.001\n",
        "\n",
        "Размер батча: 1120\n",
        "\n",
        "Кол-во эпох: 100"
      ],
      "metadata": {
        "id": "uXkFZ-bXTkqL"
      }
    },
    {
      "cell_type": "code",
      "execution_count": null,
      "metadata": {
        "id": "tEK2t6nvzARb"
      },
      "outputs": [],
      "source": [
        "import torch\n",
        "import random\n",
        "import numpy as np\n",
        "import torchvision.datasets\n",
        "import torchvision.transforms as transforms\n",
        "import matplotlib\n",
        "import matplotlib.pyplot as plt\n",
        "from tqdm import tqdm_notebook as bar\n",
        "import pickle\n",
        "\n",
        "random.seed(0)\n",
        "np.random.seed(0)\n",
        "torch.cuda.manual_seed(0)\n",
        "torch.backends.cudnn.deterministic = True"
      ]
    },
    {
      "cell_type": "code",
      "execution_count": null,
      "metadata": {
        "id": "3VRIKfWg85iz"
      },
      "outputs": [],
      "source": [
        "import torchvision.datasets"
      ]
    },
    {
      "cell_type": "code",
      "source": [
        "\n",
        "!git clone https://github.com/KORALLLL/MTUCI_EMNIST.git"
      ],
      "metadata": {
        "colab": {
          "base_uri": "https://localhost:8080/"
        },
        "id": "Ur9AxLgteSoV",
        "outputId": "9fd2dbea-9432-4d1e-dddf-0d186898fea7"
      },
      "execution_count": null,
      "outputs": [
        {
          "output_type": "stream",
          "name": "stdout",
          "text": [
            "Cloning into 'MTUCI_EMNIST'...\n",
            "remote: Enumerating objects: 36475, done.\u001b[K\n",
            "remote: Counting objects: 100% (12835/12835), done.\u001b[K\n",
            "remote: Compressing objects: 100% (12671/12671), done.\u001b[K\n",
            "remote: Total 36475 (delta 177), reused 12797 (delta 157), pack-reused 23640\u001b[K\n",
            "Receiving objects: 100% (36475/36475), 128.36 MiB | 20.01 MiB/s, done.\n",
            "Resolving deltas: 100% (462/462), done.\n"
          ]
        }
      ]
    },
    {
      "cell_type": "code",
      "execution_count": null,
      "metadata": {
        "id": "S1DDMJs18-hI",
        "colab": {
          "base_uri": "https://localhost:8080/"
        },
        "outputId": "8f0dc53a-05df-440f-bcf0-2ea73e8b3c6b"
      },
      "outputs": [
        {
          "output_type": "stream",
          "name": "stdout",
          "text": [
            "Downloading https://www.itl.nist.gov/iaui/vip/cs_links/EMNIST/gzip.zip to ./EMNIST/raw/gzip.zip\n"
          ]
        },
        {
          "output_type": "stream",
          "name": "stderr",
          "text": [
            "100%|██████████| 561753746/561753746 [00:05<00:00, 105216653.96it/s]\n"
          ]
        },
        {
          "output_type": "stream",
          "name": "stdout",
          "text": [
            "Extracting ./EMNIST/raw/gzip.zip to ./EMNIST/raw\n"
          ]
        }
      ],
      "source": [
        "emnist_train = torchvision.datasets.EMNIST('./', split='letters', download = True, train = True)\n",
        "mnist_train = torchvision.datasets.EMNIST('./', split='mnist', download = True, train = True)\n",
        "emnist_val = torchvision.datasets.EMNIST('./', split='letters', download = True, train = False)\n",
        "mnist_val = torchvision.datasets.EMNIST('./', split='mnist', download = True, train = False)\n",
        "\n",
        "device = torch.device('cuda:0' if torch.cuda.is_available() else 'cpu')\n",
        "\n",
        "emnist_train_data = emnist_train.data\n",
        "mnist_train_data = mnist_train.data\n",
        "train_data = torch.cat([emnist_train_data[:24960], mnist_train_data[:12000]], dim=0).float().unsqueeze(1).to(device) / 255\n",
        "\n",
        "emnist_val_data = emnist_val.data\n",
        "mnist_val_data = mnist_val.data\n",
        "val_data = torch.cat([emnist_val_data, mnist_val_data], dim=0).float().unsqueeze(1).to(device) / 255\n",
        "\n",
        "temp_emnist_train_labels = emnist_train.targets[:24960]\n",
        "emnist_train_labels = []\n",
        "\n",
        "temp_emnist_val_labels = emnist_val.targets\n",
        "emnist_val_labels = []\n",
        "\n",
        "for i in range(len(temp_emnist_train_labels)):\n",
        "  if temp_emnist_train_labels[i]==15:\n",
        "    emnist_train_labels.append(torch.tensor(0))\n",
        "  elif temp_emnist_train_labels[i]>15:\n",
        "    emnist_train_labels.append(temp_emnist_train_labels[i]+8)\n",
        "  else:\n",
        "    emnist_train_labels.append(temp_emnist_train_labels[i]+9)\n",
        "\n",
        "for i in range(len(temp_emnist_val_labels)):\n",
        "  if temp_emnist_val_labels[i]==15:\n",
        "    emnist_val_labels.append(torch.tensor(0))\n",
        "  elif temp_emnist_val_labels[i]>15:\n",
        "    emnist_val_labels.append(temp_emnist_val_labels[i] + 8)\n",
        "  else:\n",
        "    emnist_val_labels.append(temp_emnist_val_labels[i]+9)\n",
        "\n",
        "mnist_train_labels = mnist_train.targets\n",
        "train_labels = torch.cat([torch.stack(emnist_train_labels[:24960]), mnist_train_labels[:12000]], dim=0).to(device)\n",
        "\n",
        "mnist_val_labels = mnist_val.targets\n",
        "val_labels = torch.cat([torch.stack(emnist_val_labels), mnist_val_labels], dim=0).to(device)\n",
        "\n",
        "\n",
        "file = open('MTUCI_EMNIST/dataset.pkl', 'rb')\n",
        "test_dataset = pickle.load(file)\n",
        "file.close()\n",
        "\n",
        "test_data = test_dataset['data'].numpy()\n",
        "test_data = np.flip(test_data, axis = 3)\n",
        "test_data = np.rot90(test_data, k=1, axes=(2,3))\n",
        "test_data = 1 - test_data\n",
        "test_data = torch.from_numpy(test_data).float().to(device)\n",
        "test_labels = test_dataset['targets'].to(device)\n"
      ]
    },
    {
      "cell_type": "code",
      "execution_count": null,
      "metadata": {
        "id": "Xcwm05Ei9q0c"
      },
      "outputs": [],
      "source": [
        "import matplotlib.pyplot as plt"
      ]
    },
    {
      "cell_type": "markdown",
      "source": [
        "##Тестовая архитектура 22 имба дикая, пока что не надо, но удалять жалко\n"
      ],
      "metadata": {
        "id": "aivw4wNB9Ypx"
      }
    },
    {
      "cell_type": "code",
      "execution_count": null,
      "metadata": {
        "id": "4bs_2tX69U92"
      },
      "outputs": [],
      "source": [
        "class LeNet2Test(torch.nn.Module):\n",
        "  def __init__(self):\n",
        "    super(LeNet2Test, self).__init__()\n",
        "\n",
        "    self.conv1 = torch.nn.Conv2d(in_channels=1, out_channels=2,\n",
        "                                 kernel_size=3, padding=1)\n",
        "    self.act1 = torch.nn.Tanh()\n",
        "    self.conv2 = torch.nn.Conv2d(in_channels=2, out_channels=4,\n",
        "                                 kernel_size=3, padding=1)\n",
        "    self.act2 = torch.nn.Tanh()\n",
        "    self.pool1 = torch.nn.AvgPool2d(kernel_size=2, stride=2)\n",
        "    self.act3 = torch.nn.Tanh()\n",
        "\n",
        "\n",
        "    self.conv3 = torch.nn.Conv2d(in_channels=4, out_channels=8,\n",
        "                                 kernel_size=3, padding=1)\n",
        "    self.act4 = torch.nn.Tanh()\n",
        "    self.conv4 = torch.nn.Conv2d(in_channels=8, out_channels=16,\n",
        "                                 kernel_size=3, padding=0)\n",
        "    self.act5 = torch.nn.Tanh()\n",
        "    self.pool2 = torch.nn.AvgPool2d(kernel_size=2, stride=2)\n",
        "    self.act6 = torch.nn.Tanh()\n",
        "\n",
        "\n",
        "    self.conv5 = torch.nn.Conv2d(in_channels=16, out_channels=16,\n",
        "                                 kernel_size=3, padding=1)\n",
        "    self.act7 = torch.nn.Tanh()\n",
        "    self.conv6 = torch.nn.Conv2d(in_channels=16, out_channels=16,\n",
        "                                 kernel_size=3, padding=1)\n",
        "    self.act8 = torch.nn.Tanh()\n",
        "    self.pool3 = torch.nn.AvgPool2d(kernel_size=2, stride=2)\n",
        "    self.act9 = torch.nn.Tanh()\n",
        "\n",
        "\n",
        "    self.fc1 = torch.nn.Linear(3 * 3 * 16, 120)\n",
        "    self.act10 = torch.nn.Tanh()\n",
        "    self.fc2 = torch.nn.Linear(120, 84)\n",
        "    self.act11 = torch.nn.Tanh()\n",
        "    self.fc3 = torch.nn.Linear(84, 35)\n",
        "\n",
        "  def forward(self, x):\n",
        "    x = self.conv1(x)\n",
        "    x = self.act1(x)\n",
        "    x = self.conv2(x)\n",
        "    x = self.act2(x)\n",
        "    x = self.pool1(x)\n",
        "    x = self.act3(x)\n",
        "\n",
        "\n",
        "    x = self.conv3(x)\n",
        "    x = self.act4(x)\n",
        "    x = self.conv4(x)\n",
        "    x = self.act5(x)\n",
        "    x = self.pool2(x)\n",
        "    x = self.act6(x)\n",
        "\n",
        "\n",
        "    x = self.conv5(x)\n",
        "    x = self.act7(x)\n",
        "    x = self.conv6(x)\n",
        "    x = self.act8(x)\n",
        "    x = self.pool3(x)\n",
        "    x = self.act9(x)\n",
        "\n",
        "    x = x.view(x.size(0), x.size(1) * x.size(2) * x.size(3))\n",
        "\n",
        "    x = self.fc1(x)\n",
        "    x = self.act10(x)\n",
        "    x = self.fc2(x)\n",
        "    x = self.act11(x)\n",
        "    x = self.fc3(x)\n",
        "\n",
        "    return x\n",
        "\n",
        "lenet5 = LeNet2Test()"
      ]
    },
    {
      "cell_type": "code",
      "source": [
        "class LeNetClassic(torch.nn.Module):\n",
        "  def __init__(self):\n",
        "    super(LeNetClassic, self).__init__()\n",
        "\n",
        "    self.conv1 = torch.nn.Conv2d(in_channels=1, out_channels=8,\n",
        "                                 kernel_size=5, padding=0)\n",
        "    self.act1 = torch.nn.Tanh()\n",
        "    self.pool1 = torch.nn.AvgPool2d(kernel_size=2, stride=2)\n",
        "    self.act2 = torch.nn.Tanh()\n",
        "\n",
        "    self.conv2 = torch.nn.Conv2d(in_channels=8, out_channels=16, kernel_size=3,\n",
        "                                 padding=0)\n",
        "    self.act3 = torch.nn.Tanh()\n",
        "    self.pool2 = torch.nn.AvgPool2d(kernel_size=2, stride=2)\n",
        "    self.act4 = torch.nn.Tanh()\n",
        "\n",
        "    self.fc1 = torch.nn.Linear(5 * 5 * 16, 120)\n",
        "    self.act5 = torch.nn.Tanh()\n",
        "    self.fc2 = torch.nn.Linear(120, 84)\n",
        "    self.act6 = torch.nn.Tanh()\n",
        "    self.fc3 = torch.nn.Linear(84, 35)\n",
        "\n",
        "  def forward(self, x):\n",
        "    x = self.conv1(x)\n",
        "    x = self.act1(x)\n",
        "    x = self.pool1(x)\n",
        "    x = self.act2(x)\n",
        "\n",
        "    x = self.conv2(x)\n",
        "    x = self.act3(x)\n",
        "    x = self.pool2(x)\n",
        "    x = self.act4(x)\n",
        "\n",
        "    x = x.view(x.size(0), x.size(1) * x.size(2) * x.size(3))\n",
        "\n",
        "    x = self.fc1(x)\n",
        "    x = self.act5(x)\n",
        "    x = self.fc2(x)\n",
        "    x = self.act6(x)\n",
        "    x = self.fc3(x)\n",
        "\n",
        "    return x\n"
      ],
      "metadata": {
        "id": "5OVqO_nMXlh-"
      },
      "execution_count": null,
      "outputs": []
    },
    {
      "cell_type": "markdown",
      "source": [
        "##Первая версия.\n"
      ],
      "metadata": {
        "id": "iOONPypW8cvU"
      }
    },
    {
      "cell_type": "code",
      "execution_count": null,
      "metadata": {
        "id": "XdB4rfEC_kuf"
      },
      "outputs": [],
      "source": [
        "class LeNet1(torch.nn.Module):\n",
        "  def __init__(self):\n",
        "    super(LeNet1, self).__init__()\n",
        "\n",
        "    self.conv1 = torch.nn.Conv2d(in_channels=1, out_channels=8,\n",
        "                                 kernel_size=3, padding=1)\n",
        "    self.act1 = torch.nn.Tanh()\n",
        "    self.pool1 = torch.nn.AvgPool2d(kernel_size=2, stride=2)\n",
        "\n",
        "    self.conv2 = torch.nn.Conv2d(in_channels=8, out_channels=16, kernel_size=3,\n",
        "                                 padding=0)\n",
        "    self.act2 = torch.nn.Tanh()\n",
        "    self.pool2 = torch.nn.AvgPool2d(kernel_size=2, stride=2)\n",
        "\n",
        "    self.fc1 = torch.nn.Linear(6 * 6 * 16, 120)\n",
        "    self.act3 = torch.nn.Tanh()\n",
        "    self.fc2 = torch.nn.Linear(120, 84)\n",
        "    self.act4 = torch.nn.Tanh()\n",
        "    self.fc3 = torch.nn.Linear(84, 35)\n",
        "\n",
        "  def forward(self, x):\n",
        "    x = self.conv1(x)\n",
        "    x = self.act1(x)\n",
        "    x = self.pool1(x)\n",
        "\n",
        "    x = self.conv2(x)\n",
        "    x = self.act2(x)\n",
        "    x = self.pool2(x)\n",
        "\n",
        "    x = x.view(x.size(0), x.size(1) * x.size(2) * x.size(3))\n",
        "\n",
        "    x = self.fc1(x)\n",
        "    x = self.act3(x)\n",
        "    x = self.fc2(x)\n",
        "    x = self.act4(x)\n",
        "    x = self.fc3(x)\n",
        "\n",
        "    return x\n"
      ]
    },
    {
      "cell_type": "markdown",
      "source": [
        "##Тестовая архитектура 2"
      ],
      "metadata": {
        "id": "fJ1H4EHnNdSg"
      }
    },
    {
      "cell_type": "code",
      "execution_count": null,
      "metadata": {
        "id": "Ry-mwWXmKc-T"
      },
      "outputs": [],
      "source": [
        "class LeNet2(torch.nn.Module):\n",
        "  def __init__(self):\n",
        "    super(LeNet2, self).__init__()\n",
        "\n",
        "    self.conv1 = torch.nn.Conv2d(in_channels=1, out_channels=2,\n",
        "                                 kernel_size=3, padding=0)\n",
        "    self.act1 = torch.nn.Tanh()\n",
        "    self.conv2 = torch.nn.Conv2d(in_channels=2, out_channels=4,\n",
        "                                 kernel_size=3, padding=0)\n",
        "    self.act2 = torch.nn.Tanh()\n",
        "    self.pool1 = torch.nn.AvgPool2d(kernel_size=2, stride=2)\n",
        "    self.act3 = torch.nn.Tanh()\n",
        "\n",
        "\n",
        "    self.conv3 = torch.nn.Conv2d(in_channels=4, out_channels=8, kernel_size=3,\n",
        "                                 padding=1)\n",
        "    self.act4 = torch.nn.Tanh()\n",
        "    self.conv4 = torch.nn.Conv2d(in_channels=8, out_channels=16,\n",
        "                                 kernel_size=3, padding=0)\n",
        "    self.act5 = torch.nn.Tanh()\n",
        "    self.pool2 = torch.nn.AvgPool2d(kernel_size=2, stride=2)\n",
        "    self.act6 = torch.nn.Tanh()\n",
        "\n",
        "    self.fc1 = torch.nn.Linear(5 * 5 * 16, 120)\n",
        "    self.act7 = torch.nn.Tanh()\n",
        "    self.fc2 = torch.nn.Linear(120, 84)\n",
        "    self.act8 = torch.nn.Tanh()\n",
        "    self.fc3 = torch.nn.Linear(84, 35)\n",
        "\n",
        "  def forward(self, x):\n",
        "    x = self.conv1(x)\n",
        "    x = self.act1(x)\n",
        "    x = self.conv2(x)\n",
        "    x = self.act2(x)\n",
        "    x = self.pool1(x)\n",
        "    x = self.act3(x)\n",
        "\n",
        "    x = self.conv3(x)\n",
        "    x = self.act4(x)\n",
        "    x = self.conv4(x)\n",
        "    x = self.act5(x)\n",
        "    x = self.pool2(x)\n",
        "    x = self.act6(x)\n",
        "\n",
        "    x = x.view(x.size(0), x.size(1) * x.size(2) * x.size(3))\n",
        "\n",
        "    x = self.fc1(x)\n",
        "    x = self.act7(x)\n",
        "    x = self.fc2(x)\n",
        "    x = self.act8(x)\n",
        "    x = self.fc3(x)\n",
        "\n",
        "    return x\n"
      ]
    },
    {
      "cell_type": "markdown",
      "source": [
        "##3 тестовая архитектура\n"
      ],
      "metadata": {
        "id": "FhVaEzoNvcDE"
      }
    },
    {
      "cell_type": "code",
      "execution_count": null,
      "metadata": {
        "id": "rdPT7YpLva64"
      },
      "outputs": [],
      "source": [
        "class LeNet3(torch.nn.Module):\n",
        "  def __init__(self):\n",
        "    super(LeNet3, self).__init__()\n",
        "\n",
        "    self.conv1 = torch.nn.Conv2d(in_channels=1, out_channels=2,\n",
        "                                 kernel_size=3, padding=1)\n",
        "    self.act1 = torch.nn.Tanh()\n",
        "    self.conv2 = torch.nn.Conv2d(in_channels=2, out_channels=4,\n",
        "                                 kernel_size=3, padding=1)\n",
        "\n",
        "    self.act2 = torch.nn.Tanh()\n",
        "    self.conv3 = torch.nn.Conv2d(in_channels=4, out_channels=8,\n",
        "                                 kernel_size=3, padding=1)\n",
        "    self.act3 = torch.nn.Tanh()\n",
        "    self.pool1 = torch.nn.AvgPool2d(kernel_size=2, stride=2)\n",
        "    self.act4 = torch.nn.Tanh()\n",
        "\n",
        "\n",
        "    self.conv4 = torch.nn.Conv2d(in_channels=8, out_channels=16,\n",
        "                                 kernel_size=3, padding=1)\n",
        "    self.act5 = torch.nn.Tanh()\n",
        "    self.conv5 = torch.nn.Conv2d(in_channels=16, out_channels=16,\n",
        "                                 kernel_size=3, padding=0)\n",
        "    self.act6 = torch.nn.Tanh()\n",
        "    self.conv6 = torch.nn.Conv2d(in_channels=16, out_channels=16,\n",
        "                                 kernel_size=3, padding=0)\n",
        "    self.act7 = torch.nn.Tanh()\n",
        "    self.pool2 = torch.nn.AvgPool2d(kernel_size=2, stride=2)\n",
        "    self.act8 = torch.nn.Tanh()\n",
        "\n",
        "    self.fc1 = torch.nn.Linear(5 * 5 * 16, 120)\n",
        "    self.act9 = torch.nn.ReLU()\n",
        "    self.fc2 = torch.nn.Linear(120, 84)\n",
        "    self.act10 = torch.nn.ReLU()\n",
        "    self.fc3 = torch.nn.Linear(84, 35)\n",
        "\n",
        "  def forward(self, x):\n",
        "    x = self.conv1(x)\n",
        "    x = self.act1(x)\n",
        "    x = self.conv2(x)\n",
        "    x = self.act2(x)\n",
        "    x = self.conv3(x)\n",
        "    x = self.act3(x)\n",
        "    x = self.pool1(x)\n",
        "    x = self.act4(x)\n",
        "\n",
        "    x = self.conv4(x)\n",
        "    x = self.act5(x)\n",
        "    x = self.conv5(x)\n",
        "    x = self.act6(x)\n",
        "    x = self.conv6(x)\n",
        "    x = self.act7(x)\n",
        "    x = self.pool2(x)\n",
        "    x = self.act8(x)\n",
        "\n",
        "    x = x.view(x.size(0), x.size(1) * x.size(2) * x.size(3))\n",
        "\n",
        "    x = self.fc1(x)\n",
        "    x = self.act9(x)\n",
        "    x = self.fc2(x)\n",
        "    x = self.act10(x)\n",
        "    x = self.fc3(x)\n",
        "\n",
        "    return x\n"
      ]
    },
    {
      "cell_type": "markdown",
      "source": [
        "##4 тест"
      ],
      "metadata": {
        "id": "6FKdflpdNTYS"
      }
    },
    {
      "cell_type": "code",
      "execution_count": null,
      "metadata": {
        "id": "oNsZ01FVNQ9L"
      },
      "outputs": [],
      "source": [
        "class LeNet4(torch.nn.Module):\n",
        "  def __init__(self):\n",
        "    super(LeNet4, self).__init__()\n",
        "\n",
        "    self.conv1 = torch.nn.Conv2d(in_channels=1, out_channels=2,\n",
        "                                 kernel_size=3, padding=1)\n",
        "    self.act1 = torch.nn.Tanh()\n",
        "    self.conv2 = torch.nn.Conv2d(in_channels=2, out_channels=4,\n",
        "                                 kernel_size=3, padding=1)\n",
        "\n",
        "    self.act2 = torch.nn.Tanh()\n",
        "    self.conv3 = torch.nn.Conv2d(in_channels=4, out_channels=8,\n",
        "                                 kernel_size=3, padding=1)\n",
        "    self.act3 = torch.nn.Tanh()\n",
        "    self.conv4 = torch.nn.Conv2d(in_channels=8, out_channels=16,\n",
        "                                 kernel_size=3, padding=1)\n",
        "    self.act4 = torch.nn.Tanh()\n",
        "    self.pool1 = torch.nn.AvgPool2d(kernel_size=2, stride=2)\n",
        "    self.act5 = torch.nn.Tanh()\n",
        "\n",
        "\n",
        "    self.conv5 = torch.nn.Conv2d(in_channels=16, out_channels=16,\n",
        "                                 kernel_size=3, padding=1)\n",
        "    self.act6 = torch.nn.Tanh()\n",
        "    self.conv6 = torch.nn.Conv2d(in_channels=16, out_channels=16,\n",
        "                                 kernel_size=3, padding=1)\n",
        "    self.act7 = torch.nn.Tanh()\n",
        "    self.conv7 = torch.nn.Conv2d(in_channels=16, out_channels=16,\n",
        "                                 kernel_size=3, padding=0)\n",
        "    self.act8 = torch.nn.Tanh()\n",
        "    self.conv8 = torch.nn.Conv2d(in_channels=16, out_channels=16,\n",
        "                                 kernel_size=3, padding=0)\n",
        "    self.act9 = torch.nn.Tanh()\n",
        "    self.pool2 = torch.nn.AvgPool2d(kernel_size=2, stride=2)\n",
        "    self.act10 = torch.nn.Tanh()\n",
        "\n",
        "    self.fc1 = torch.nn.Linear(5 * 5 * 16, 120)\n",
        "    self.act11 = torch.nn.ReLU()\n",
        "    self.fc2 = torch.nn.Linear(120, 84)\n",
        "    self.act12 = torch.nn.ReLU()\n",
        "    self.fc3 = torch.nn.Linear(84, 35)\n",
        "\n",
        "  def forward(self, x):\n",
        "    x = self.conv1(x)\n",
        "    x = self.act1(x)\n",
        "    x = self.conv2(x)\n",
        "    x = self.act2(x)\n",
        "    x = self.conv3(x)\n",
        "    x = self.act3(x)\n",
        "    x = self.conv4(x)\n",
        "    x = self.act4(x)\n",
        "    x = self.pool1(x)\n",
        "    x = self.act5(x)\n",
        "\n",
        "    x = self.conv5(x)\n",
        "    x = self.act6(x)\n",
        "    x = self.conv6(x)\n",
        "    x = self.act7(x)\n",
        "    x = self.conv7(x)\n",
        "    x = self.act8(x)\n",
        "    x = self.conv8(x)\n",
        "    x = self.act9(x)\n",
        "    x = self.pool2(x)\n",
        "    x = self.act10(x)\n",
        "\n",
        "    x = x.view(x.size(0), x.size(1) * x.size(2) * x.size(3))\n",
        "\n",
        "    x = self.fc1(x)\n",
        "    x = self.act11(x)\n",
        "    x = self.fc2(x)\n",
        "    x = self.act12(x)\n",
        "    x = self.fc3(x)\n",
        "\n",
        "    return x\n"
      ]
    },
    {
      "cell_type": "markdown",
      "source": [
        "##Тест 5"
      ],
      "metadata": {
        "id": "ekwqWn22Q5rL"
      }
    },
    {
      "cell_type": "code",
      "execution_count": null,
      "metadata": {
        "id": "c9NOK6hVQ4zZ"
      },
      "outputs": [],
      "source": [
        "class LeNet5(torch.nn.Module):\n",
        "  def __init__(self):\n",
        "    super(LeNet5, self).__init__()\n",
        "\n",
        "    self.conv1 = torch.nn.Conv2d(in_channels=1, out_channels=2,\n",
        "                                 kernel_size=3, padding=1)\n",
        "    self.act1 = torch.nn.Tanh()\n",
        "    self.conv2 = torch.nn.Conv2d(in_channels=2, out_channels=4,\n",
        "                                 kernel_size=3, padding=1)\n",
        "\n",
        "    self.act2 = torch.nn.Tanh()\n",
        "    self.conv3 = torch.nn.Conv2d(in_channels=4, out_channels=8,\n",
        "                                 kernel_size=3, padding=1)\n",
        "    self.act3 = torch.nn.Tanh()\n",
        "    self.conv4 = torch.nn.Conv2d(in_channels=8, out_channels=16,\n",
        "                                 kernel_size=3, padding=1)\n",
        "    self.act4 = torch.nn.Tanh()\n",
        "    self.conv5 = torch.nn.Conv2d(in_channels=16, out_channels=16,\n",
        "                                 kernel_size=3, padding=1)\n",
        "    self.act5 = torch.nn.Tanh()\n",
        "    self.pool1 = torch.nn.AvgPool2d(kernel_size=2, stride=2)\n",
        "    self.act6 = torch.nn.Tanh()\n",
        "\n",
        "\n",
        "    self.conv6 = torch.nn.Conv2d(in_channels=16, out_channels=16,\n",
        "                                 kernel_size=3, padding=1)\n",
        "    self.act7 = torch.nn.Tanh()\n",
        "    self.conv7 = torch.nn.Conv2d(in_channels=16, out_channels=16,\n",
        "                                 kernel_size=3, padding=1)\n",
        "    self.act8 = torch.nn.Tanh()\n",
        "    self.conv8 = torch.nn.Conv2d(in_channels=16, out_channels=16,\n",
        "                                 kernel_size=3, padding=1)\n",
        "    self.act9 = torch.nn.Tanh()\n",
        "    self.conv9 = torch.nn.Conv2d(in_channels=16, out_channels=16,\n",
        "                                 kernel_size=3, padding=0)\n",
        "    self.act10 = torch.nn.Tanh()\n",
        "    self.conv10 = torch.nn.Conv2d(in_channels=16, out_channels=16,\n",
        "                                 kernel_size=3, padding=0)\n",
        "    self.act11 = torch.nn.Tanh()\n",
        "    self.pool2 = torch.nn.AvgPool2d(kernel_size=2, stride=2)\n",
        "    self.act12 = torch.nn.Tanh()\n",
        "\n",
        "    self.fc1 = torch.nn.Linear(5 * 5 * 16, 120)\n",
        "    self.act13 = torch.nn.ReLU()\n",
        "    self.fc2 = torch.nn.Linear(120, 84)\n",
        "    self.act14 = torch.nn.ReLU()\n",
        "    self.fc3 = torch.nn.Linear(84, 35)\n",
        "\n",
        "  def forward(self, x):\n",
        "    x = self.conv1(x)\n",
        "    x = self.act1(x)\n",
        "    x = self.conv2(x)\n",
        "    x = self.act2(x)\n",
        "    x = self.conv3(x)\n",
        "    x = self.act3(x)\n",
        "    x = self.conv4(x)\n",
        "    x = self.act4(x)\n",
        "    x = self.conv5(x)\n",
        "    x = self.act5(x)\n",
        "    x = self.pool1(x)\n",
        "    x = self.act6(x)\n",
        "\n",
        "    x = self.conv6(x)\n",
        "    x = self.act7(x)\n",
        "    x = self.conv7(x)\n",
        "    x = self.act8(x)\n",
        "    x = self.conv8(x)\n",
        "    x = self.act9(x)\n",
        "    x = self.conv9(x)\n",
        "    x = self.act10(x)\n",
        "    x = self.conv10(x)\n",
        "    x = self.act11(x)\n",
        "    x = self.pool2(x)\n",
        "    x = self.act12(x)\n",
        "\n",
        "    x = x.view(x.size(0), x.size(1) * x.size(2) * x.size(3))\n",
        "\n",
        "    x = self.fc1(x)\n",
        "    x = self.act13(x)\n",
        "    x = self.fc2(x)\n",
        "    x = self.act14(x)\n",
        "    x = self.fc3(x)\n",
        "\n",
        "    return x\n"
      ]
    },
    {
      "cell_type": "code",
      "execution_count": null,
      "metadata": {
        "id": "3aXEO3OJMiR4",
        "colab": {
          "base_uri": "https://localhost:8080/"
        },
        "outputId": "af4940f0-704a-4399-c70d-73842cf8ad48"
      },
      "outputs": [
        {
          "output_type": "stream",
          "name": "stdout",
          "text": [
            "Collecting progress\n",
            "  Downloading progress-1.6.tar.gz (7.8 kB)\n",
            "  Preparing metadata (setup.py) ... \u001b[?25l\u001b[?25hdone\n",
            "Building wheels for collected packages: progress\n",
            "  Building wheel for progress (setup.py) ... \u001b[?25l\u001b[?25hdone\n",
            "  Created wheel for progress: filename=progress-1.6-py3-none-any.whl size=9610 sha256=7ad2c405b146503cb0511e428ad73475dd32ccb602879559d0cd986056ecbd98\n",
            "  Stored in directory: /root/.cache/pip/wheels/a2/68/5f/c339b20a41659d856c93ccdce6a33095493eb82c3964aac5a1\n",
            "Successfully built progress\n",
            "Installing collected packages: progress\n",
            "Successfully installed progress-1.6\n"
          ]
        }
      ],
      "source": [
        "!pip install progress"
      ]
    },
    {
      "cell_type": "code",
      "source": [
        "from progress.bar import IncrementalBar\n",
        "bar = IncrementalBar('Countdown', max = 100)"
      ],
      "metadata": {
        "id": "c_rD2w4rTUOB"
      },
      "execution_count": null,
      "outputs": []
    },
    {
      "cell_type": "code",
      "execution_count": null,
      "metadata": {
        "colab": {
          "base_uri": "https://localhost:8080/",
          "height": 1000
        },
        "id": "IXvmbpnZNw5-",
        "outputId": "41743b84-686c-4dbd-b20b-f7116fe6d1f6"
      },
      "outputs": [
        {
          "output_type": "stream",
          "name": "stdout",
          "text": [
            "tensor(0.6829)\n",
            "-----\n",
            "tensor(0.6852)\n",
            "-----\n",
            "tensor(0.6738)\n",
            "-----\n",
            "tensor(0.6740)\n",
            "-----\n",
            "tensor(0.6873)\n",
            "-----\n",
            "tensor(0.6864)\n",
            "-----\n",
            "tensor(0.6791)\n",
            "-----\n",
            "tensor(0.6875)\n",
            "-----\n",
            "tensor(0.6724)\n",
            "-----\n",
            "tensor(0.6825)\n",
            "-----\n",
            "tensor(0.6790)\n",
            "-----\n",
            "tensor(0.6549)\n",
            "-----\n",
            "tensor(0.6657)\n",
            "-----\n",
            "tensor(0.6468)\n",
            "-----\n",
            "tensor(0.6777)\n",
            "-----\n",
            "tensor(0.6575)\n",
            "-----\n",
            "tensor(0.6680)\n",
            "-----\n",
            "tensor(0.6660)\n",
            "-----\n",
            "tensor(0.6677)\n",
            "-----\n",
            "tensor(0.6624)\n",
            "-----\n",
            "tensor(0.7099)\n",
            "-----\n",
            "tensor(0.7118)\n",
            "-----\n",
            "tensor(0.7233)\n",
            "-----\n",
            "tensor(0.7062)\n",
            "-----\n",
            "tensor(0.7241)\n",
            "-----\n",
            "tensor(0.7119)\n",
            "-----\n",
            "tensor(0.7076)\n",
            "-----\n",
            "tensor(0.7197)\n",
            "-----\n",
            "tensor(0.7089)\n",
            "-----\n",
            "tensor(0.7322)\n",
            "-----\n",
            "tensor(0.7082)\n",
            "-----\n",
            "tensor(0.7488)\n",
            "-----\n",
            "tensor(0.7336)\n",
            "-----\n",
            "tensor(0.7330)\n",
            "-----\n",
            "tensor(0.7268)\n",
            "-----\n",
            "tensor(0.7422)\n",
            "-----\n",
            "tensor(0.7370)\n",
            "-----\n",
            "tensor(0.7464)\n",
            "-----\n",
            "tensor(0.7409)\n",
            "-----\n",
            "tensor(0.7420)\n",
            "-----\n",
            "tensor(0.7486)\n",
            "-----\n",
            "tensor(0.7501)\n",
            "-----\n",
            "tensor(0.7237)\n",
            "-----\n",
            "tensor(0.7558)\n",
            "-----\n",
            "tensor(0.7489)\n",
            "-----\n",
            "tensor(0.7388)\n",
            "-----\n",
            "tensor(0.7412)\n",
            "-----\n",
            "tensor(0.7379)\n",
            "-----\n",
            "tensor(0.7570)\n",
            "-----\n"
          ]
        },
        {
          "output_type": "display_data",
          "data": {
            "text/plain": [
              "<Figure size 640x480 with 2 Axes>"
            ],
            "image/png": "[encoded data removed]"
          },
          "metadata": {}
        }
      ],
      "source": [
        "lenets = [LeNetClassic, LeNet2,  LeNet3, LeNet4, LeNet5]\n",
        "all_samples = [[], [], [], [], []]\n",
        "for i in range(len(lenets)):\n",
        "  for j in range(10):\n",
        "    device = torch.device('cuda:0' if torch.cuda.is_available() else 'cpu')\n",
        "    lenet5 = lenets[i]().to(device)\n",
        "    loss = torch.nn.CrossEntropyLoss()\n",
        "    optimizer = torch.optim.Adam(lenet5.parameters(), lr=1.0e-3)\n",
        "    batch_size = 1120 * 2\n",
        "    test_accuracy_history = []\n",
        "    test_loss_history = []\n",
        "\n",
        "    for epoch in range(100):\n",
        "      order = np.random.permutation(len(train_data))\n",
        "      for start_index in range(0, len(train_data), batch_size):\n",
        "        optimizer.zero_grad()\n",
        "\n",
        "        batch_indexes = order[start_index:start_index + batch_size]\n",
        "        train_batch = train_data[batch_indexes].to(device)\n",
        "        label_batch = train_labels[batch_indexes].to(device)\n",
        "\n",
        "        preds = lenet5.forward(train_batch)\n",
        "\n",
        "        loss_value = loss(preds, label_batch)\n",
        "        loss_value.backward()\n",
        "\n",
        "        optimizer.step()\n",
        "    test_preds = lenet5.forward(test_data)\n",
        "    test_loss_history.append(loss(test_preds, test_labels).data.cpu())\n",
        "\n",
        "    accuracy = (test_preds.argmax(dim=1) == test_labels).float().mean().data.cpu()\n",
        "    test_accuracy_history.append(accuracy)\n",
        "    print(accuracy)\n",
        "    print(\"-----\")\n",
        "    all_samples[i].extend(test_accuracy_history)\n",
        "    plt.subplot(2, 1, 1)\n",
        "    g1, = plt.plot(range(len(test_accuracy_history)), test_accuracy_history, c='b', label='Test accuracy history')\n",
        "    plt.subplot(2, 1, 2)\n",
        "    g2, = plt.plot(range(len(test_loss_history)), test_loss_history, c='r', label='Test loss history')\n",
        "    plt.legend(handles=[g1, g2])"
      ]
    },
    {
      "cell_type": "code",
      "source": [
        "x = [1, 2, 3, 4, 5]\n",
        "y = [u for u in x]\n",
        "y_1 = [u**0.5 for u in x]\n",
        "g1, = plt.plot(x, y, c='r', label='g1')\n",
        "g2, = plt.plot(x, y_1, c='b', label='g2')\n",
        "plt.legend(handles=[g1, g2])\n",
        "plt.show()"
      ],
      "metadata": {
        "id": "rK0bktpfWTaI"
      },
      "execution_count": null,
      "outputs": []
    },
    {
      "cell_type": "code",
      "source": [
        "all_samples = [[0.6829, 0.6852, 0.6738, 0.6740, 0.6873, 0.6864, 0.6791, 0.6875, 0.6724, 0.6825],\n",
        " [0.679, 0.6549, 0.6657, 0.6468, 0.6777, 0.6575, 0.668, 0.666, 0.6677, 0.6624],\n",
        "  [0.7099, 0.7118, 0.7233, 0.7062, 0.7241, 0.7119, 0.7076, 0.7197, 0.7089, 0.7322],\n",
        "   [0.7082, 0.7488, 0.7336, 0.733, 0.7268, 0.7422, 0.737, 0.7464, 0.7409, 0.742],\n",
        "    [0.7486, 0.7501, 0.7237, 0.7558, 0.7489, 0.7388, 0.7412, 0.7379, 0.757]]\n",
        "print(all_samples[0])"
      ],
      "metadata": {
        "id": "-H2szxiQsHts",
        "colab": {
          "base_uri": "https://localhost:8080/"
        },
        "outputId": "fe52a8b0-254b-4b5a-9eaf-fa3f586d2009"
      },
      "execution_count": null,
      "outputs": [
        {
          "output_type": "stream",
          "name": "stdout",
          "text": [
            "[0.6829, 0.6852, 0.6738, 0.674, 0.6873, 0.6864, 0.6791, 0.6875, 0.6724, 0.6825]\n"
          ]
        }
      ]
    },
    {
      "cell_type": "code",
      "source": [
        "plt.figure(figsize = (16.,6.))\n",
        "plt.boxplot(all_samples)"
      ],
      "metadata": {
        "colab": {
          "base_uri": "https://localhost:8080/",
          "height": 1000
        },
        "id": "DwOridf2bpI6",
        "outputId": "cab3c42d-d867-4507-d310-7d4cbc90a30d"
      },
      "execution_count": null,
      "outputs": [
        {
          "output_type": "execute_result",
          "data": {
            "text/plain": [
              "{'whiskers': [<matplotlib.lines.Line2D at 0x7a0b4830fa60>,\n",
              "  <matplotlib.lines.Line2D at 0x7a0b48314c10>,\n",
              "  <matplotlib.lines.Line2D at 0x7a0b48317a30>,\n",
              "  <matplotlib.lines.Line2D at 0x7a0b48317730>,\n",
              "  <matplotlib.lines.Line2D at 0x7a0b483164d0>,\n",
              "  <matplotlib.lines.Line2D at 0x7a0b483142b0>,\n",
              "  <matplotlib.lines.Line2D at 0x7a0b3be88fa0>,\n",
              "  <matplotlib.lines.Line2D at 0x7a0b3be89240>,\n",
              "  <matplotlib.lines.Line2D at 0x7a0b3be8a200>,\n",
              "  <matplotlib.lines.Line2D at 0x7a0b3be8a4a0>],\n",
              " 'caps': [<matplotlib.lines.Line2D at 0x7a0b48316800>,\n",
              "  <matplotlib.lines.Line2D at 0x7a0b48317f70>,\n",
              "  <matplotlib.lines.Line2D at 0x7a0b48314310>,\n",
              "  <matplotlib.lines.Line2D at 0x7a0b48314820>,\n",
              "  <matplotlib.lines.Line2D at 0x7a0b3be88280>,\n",
              "  <matplotlib.lines.Line2D at 0x7a0b3be88520>,\n",
              "  <matplotlib.lines.Line2D at 0x7a0b3be894e0>,\n",
              "  <matplotlib.lines.Line2D at 0x7a0b3be89780>,\n",
              "  <matplotlib.lines.Line2D at 0x7a0b3be8a740>,\n",
              "  <matplotlib.lines.Line2D at 0x7a0b3be8a9e0>],\n",
              " 'boxes': [<matplotlib.lines.Line2D at 0x7a0b48317f10>,\n",
              "  <matplotlib.lines.Line2D at 0x7a0b48316f20>,\n",
              "  <matplotlib.lines.Line2D at 0x7a0b48314f70>,\n",
              "  <matplotlib.lines.Line2D at 0x7a0b3be88d00>,\n",
              "  <matplotlib.lines.Line2D at 0x7a0b3be89f60>],\n",
              " 'medians': [<matplotlib.lines.Line2D at 0x7a0b48315960>,\n",
              "  <matplotlib.lines.Line2D at 0x7a0b48315570>,\n",
              "  <matplotlib.lines.Line2D at 0x7a0b3be887c0>,\n",
              "  <matplotlib.lines.Line2D at 0x7a0b3be89a20>,\n",
              "  <matplotlib.lines.Line2D at 0x7a0b3be8ac80>],\n",
              " 'fliers': [<matplotlib.lines.Line2D at 0x7a0b48314580>,\n",
              "  <matplotlib.lines.Line2D at 0x7a0b48316530>,\n",
              "  <matplotlib.lines.Line2D at 0x7a0b3be88a60>,\n",
              "  <matplotlib.lines.Line2D at 0x7a0b3be89cc0>,\n",
              "  <matplotlib.lines.Line2D at 0x7a0b3be8af20>],\n",
              " 'means': []}"
            ]
          },
          "metadata": {},
          "execution_count": 18
        },
        {
          "output_type": "display_data",
          "data": {
            "text/plain": [
              "<Figure size 1600x600 with 1 Axes>"
            ],
            "image/png": "[encoded data removed]"
          },
          "metadata": {}
        }
      ]
    },
    {
      "cell_type": "code",
      "source": [
        "import scipy.stats as stats\n",
        "t_stat, p_val = stats.ttest_ind(all_samples[0], all_samples[1])\n",
        "print(p_val)\n",
        "t_stat, p_val = stats.ttest_ind(all_samples[0], all_samples[2])\n",
        "print(p_val)\n",
        "t_stat, p_val = stats.ttest_ind(all_samples[2], all_samples[3])\n",
        "print(p_val)\n",
        "t_stat, p_val = stats.ttest_ind(all_samples[3], all_samples[4])\n",
        "print(p_val)\n"
      ],
      "metadata": {
        "colab": {
          "base_uri": "https://localhost:8080/"
        },
        "id": "PqYWK1oXLeuN",
        "outputId": "78296b82-e6dd-40ef-ca24-332739b3017f"
      },
      "execution_count": null,
      "outputs": [
        {
          "output_type": "stream",
          "name": "stdout",
          "text": [
            "0.00024093151800624134\n",
            "5.1469454624722e-09\n",
            "0.0003489395527802459\n",
            "0.1049255220170217\n"
          ]
        }
      ]
    }
  ],
  "metadata": {
    "colab": {
      "provenance": [],
      "gpuType": "T4",
      "authorship_tag": "ABX9TyOSb2lExBchtYBLGFpHpqJ6",
      "include_colab_link": true
    },
    "kernelspec": {
      "display_name": "Python 3",
      "name": "python3"
    },
    "language_info": {
      "name": "python"
    },
    "accelerator": "GPU"
  },
  "nbformat": 4,
  "nbformat_minor": 0
}