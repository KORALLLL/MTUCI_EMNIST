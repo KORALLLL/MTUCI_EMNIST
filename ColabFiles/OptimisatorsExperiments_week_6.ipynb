{
  "nbformat": 4,
  "nbformat_minor": 0,
  "metadata": {
    "colab": {
      "provenance": [],
      "authorship_tag": "ABX9TyPFC0rDAM77m8C/vSwuAbqK",
      "include_colab_link": true
    },
    "kernelspec": {
      "name": "python3",
      "display_name": "Python 3"
    },
    "language_info": {
      "name": "python"
    }
  },
  "cells": [
    {
      "cell_type": "markdown",
      "metadata": {
        "id": "view-in-github",
        "colab_type": "text"
      },
      "source": [
        "<a href=\"https://colab.research.google.com/github/KORALLLL/MTUCI_EMNIST/blob/Sasha/ColabFiles/OptimisatorsExperiments_week_6.ipynb\" target=\"_parent\"><img src=\"https://colab.research.google.com/assets/colab-badge.svg\" alt=\"Open In Colab\"/></a>"
      ]
    },
    {
      "cell_type": "markdown",
      "source": [
        "Эксперименты с оптимизаторами\n",
        "\n",
        "SGD\n",
        "\n",
        "Adam\n",
        "\n",
        "Adagrad\n",
        "\n",
        "RMSprop\n",
        "\n",
        "Rprop\n",
        "\n",
        "\n",
        "с различными скоростями обучения: 0.005, 0.001, 0.0005, 0.0001"
      ],
      "metadata": {
        "id": "EQ9FEe-DH1Tc"
      }
    },
    {
      "cell_type": "code",
      "execution_count": null,
      "metadata": {
        "id": "c5_ERi4vHa1E"
      },
      "outputs": [],
      "source": [
        "import torch\n",
        "import random\n",
        "import numpy as np\n",
        "import torchvision.datasets\n",
        "import torchvision.transforms as transforms\n",
        "from tqdm import tqdm_notebook as bar\n",
        "import pickle\n",
        "import torchvision.datasets\n",
        "\n",
        "random.seed(0)\n",
        "np.random.seed(0)\n",
        "torch.cuda.manual_seed(0)\n",
        "torch.backends.cudnn.deterministic = True"
      ]
    },
    {
      "cell_type": "code",
      "source": [
        "!git clone https://github.com/KORALLLL/MTUCI_EMNIST.git"
      ],
      "metadata": {
        "id": "_FR48C42IMFM"
      },
      "execution_count": null,
      "outputs": []
    },
    {
      "cell_type": "code",
      "source": [
        "emnist_train = torchvision.datasets.EMNIST('./', split='letters', download = True, train = True)\n",
        "mnist_train = torchvision.datasets.EMNIST('./', split='mnist', download = True, train = True)\n",
        "emnist_val = torchvision.datasets.EMNIST('./', split='letters', download = True, train = False)\n",
        "mnist_val = torchvision.datasets.EMNIST('./', split='mnist', download = True, train = False)\n",
        "\n",
        "device = torch.device('cuda:0' if torch.cuda.is_available() else 'cpu')\n",
        "\n",
        "emnist_train_data = emnist_train.data\n",
        "mnist_train_data = mnist_train.data\n",
        "train_data = torch.cat([emnist_train_data[:24960], mnist_train_data[:12000]], dim=0).float().unsqueeze(1).to(device) / 255\n",
        "\n",
        "emnist_val_data = emnist_val.data\n",
        "mnist_val_data = mnist_val.data\n",
        "val_data = torch.cat([emnist_val_data, mnist_val_data], dim=0).float().unsqueeze(1).to(device) / 255\n",
        "\n",
        "temp_emnist_train_labels = emnist_train.targets[:24960]\n",
        "emnist_train_labels = []\n",
        "\n",
        "temp_emnist_val_labels = emnist_val.targets\n",
        "emnist_val_labels = []\n",
        "\n",
        "for i in range(len(temp_emnist_train_labels)):\n",
        "  if temp_emnist_train_labels[i]==15:\n",
        "    emnist_train_labels.append(torch.tensor(0))\n",
        "  elif temp_emnist_train_labels[i]>15:\n",
        "    emnist_train_labels.append(temp_emnist_train_labels[i]+8)\n",
        "  else:\n",
        "    emnist_train_labels.append(temp_emnist_train_labels[i]+9)\n",
        "\n",
        "for i in range(len(temp_emnist_val_labels)):\n",
        "  if temp_emnist_val_labels[i]==15:\n",
        "    emnist_val_labels.append(torch.tensor(0))\n",
        "  elif temp_emnist_val_labels[i]>15:\n",
        "    emnist_val_labels.append(temp_emnist_val_labels[i] + 8)\n",
        "  else:\n",
        "    emnist_val_labels.append(temp_emnist_val_labels[i]+9)\n",
        "\n",
        "mnist_train_labels = mnist_train.targets\n",
        "train_labels = torch.cat([torch.stack(emnist_train_labels[:24960]), mnist_train_labels[:12000]], dim=0).to(device)\n",
        "\n",
        "mnist_val_labels = mnist_val.targets\n",
        "val_labels = torch.cat([torch.stack(emnist_val_labels), mnist_val_labels], dim=0).to(device)\n",
        "\n",
        "\n",
        "file = open('MTUCI_EMNIST/dataset.pkl', 'rb')\n",
        "test_dataset = pickle.load(file)\n",
        "file.close()\n",
        "\n",
        "test_data = test_dataset['data'].numpy()\n",
        "test_data = np.flip(test_data, axis = 3)\n",
        "test_data = np.rot90(test_data, k=1, axes=(2,3))\n",
        "test_data = 1 - test_data\n",
        "test_data = torch.from_numpy(test_data).float().to(device)\n",
        "test_labels = test_dataset['targets'].to(device)\n"
      ],
      "metadata": {
        "id": "h7pMXfzKINb8"
      },
      "execution_count": null,
      "outputs": []
    },
    {
      "cell_type": "markdown",
      "source": [
        "##Лучшая сеть: с дропаутом с шансом 0.1 64 эпохи обучения"
      ],
      "metadata": {
        "id": "nlLKCm_nISUU"
      }
    },
    {
      "cell_type": "code",
      "execution_count": null,
      "metadata": {
        "id": "TBVZDjAjgRqO"
      },
      "outputs": [],
      "source": [
        "class LeNetDropOut(torch.nn.Module):\n",
        "  def __init__(self, dropout_rate):\n",
        "    super(LeNetDropOut, self).__init__()\n",
        "\n",
        "    self.conv1 = torch.nn.Conv2d(in_channels=1, out_channels=2,\n",
        "                                 kernel_size=3, padding=1)\n",
        "    self.act1 = torch.nn.ReLU6()\n",
        "    self.dropout1 = torch.nn.Dropout(p=dropout_rate)\n",
        "    self.conv2 = torch.nn.Conv2d(in_channels=2, out_channels=4,\n",
        "                                 kernel_size=3, padding=1)\n",
        "\n",
        "    self.act2 = torch.nn.ReLU6()\n",
        "    self.dropout2 = torch.nn.Dropout(p=dropout_rate)\n",
        "    self.conv3 = torch.nn.Conv2d(in_channels=4, out_channels=8,\n",
        "                                 kernel_size=3, padding=1)\n",
        "    self.act3 = torch.nn.ReLU6()\n",
        "    self.dropout3 = torch.nn.Dropout(p=dropout_rate)\n",
        "    self.conv4 = torch.nn.Conv2d(in_channels=8, out_channels=16,\n",
        "                                 kernel_size=3, padding=1)\n",
        "    self.act4 = torch.nn.ReLU6()\n",
        "    self.dropout4 = torch.nn.Dropout(p=dropout_rate)\n",
        "    self.conv5 = torch.nn.Conv2d(in_channels=16, out_channels=16,\n",
        "                                 kernel_size=3, padding=1)\n",
        "    self.act5 = torch.nn.ReLU6()\n",
        "    self.dropout5 = torch.nn.Dropout(p=dropout_rate)\n",
        "    self.pool1 = torch.nn.MaxPool2d(kernel_size=2, stride=2)\n",
        "    self.act6 = torch.nn.ReLU6()\n",
        "\n",
        "\n",
        "    self.conv6 = torch.nn.Conv2d(in_channels=16, out_channels=16,\n",
        "                                 kernel_size=3, padding=1)\n",
        "    self.act7 = torch.nn.ReLU6()\n",
        "    self.dropout6 = torch.nn.Dropout(p=dropout_rate)\n",
        "    self.conv7 = torch.nn.Conv2d(in_channels=16, out_channels=16,\n",
        "                                 kernel_size=3, padding=1)\n",
        "    self.act8 = torch.nn.ReLU6()\n",
        "    self.dropout7 = torch.nn.Dropout(p=dropout_rate)\n",
        "    self.conv8 = torch.nn.Conv2d(in_channels=16, out_channels=16,\n",
        "                                 kernel_size=3, padding=1)\n",
        "    self.act9 = torch.nn.ReLU6()\n",
        "    self.dropout8 = torch.nn.Dropout(p=dropout_rate)\n",
        "    self.conv9 = torch.nn.Conv2d(in_channels=16, out_channels=16,\n",
        "                                 kernel_size=3, padding=0)\n",
        "    self.act10 = torch.nn.ReLU6()\n",
        "    self.dropout9 = torch.nn.Dropout(p=dropout_rate)\n",
        "    self.conv10 = torch.nn.Conv2d(in_channels=16, out_channels=16,\n",
        "                                 kernel_size=3, padding=0)\n",
        "    self.act11 = torch.nn.ReLU6()\n",
        "    self.dropout10 = torch.nn.Dropout(p=dropout_rate)\n",
        "    self.pool2 = torch.nn.AvgPool2d(kernel_size=2, stride=2)\n",
        "    self.act12 = torch.nn.ReLU6()\n",
        "\n",
        "    self.fc1 = torch.nn.Linear(5 * 5 * 16, 120)\n",
        "    self.act13 = torch.nn.ReLU6()\n",
        "    self.fc2 = torch.nn.Linear(120, 84)\n",
        "    self.act14 = torch.nn.ReLU6()\n",
        "    self.fc3 = torch.nn.Linear(84, 35)\n",
        "\n",
        "  def forward(self, x):\n",
        "    x = self.conv1(x)\n",
        "    x = self.act1(x)\n",
        "    x = self.conv2(x)\n",
        "    x = self.act2(x)\n",
        "    x = self.conv3(x)\n",
        "    x = self.act3(x)\n",
        "    x = self.conv4(x)\n",
        "    x = self.act4(x)\n",
        "    skip_connection_1 = x\n",
        "    x = self.conv5(x)\n",
        "    x = self.act5(x)\n",
        "    x = torch.add(x, skip_connection_1)\n",
        "    x = self.pool1(x)\n",
        "    x = self.act6(x)\n",
        "\n",
        "    x = self.conv6(x)\n",
        "    x = self.act7(x)\n",
        "    x = self.conv7(x)\n",
        "    x = self.act8(x)\n",
        "    x = self.conv8(x)\n",
        "    x = self.act9(x)\n",
        "    x = self.conv9(x)\n",
        "    x = self.act10(x)\n",
        "    x = self.conv10(x)\n",
        "    x = self.act11(x)\n",
        "    x = self.pool2(x)\n",
        "    x = self.act12(x)\n",
        "\n",
        "    x = x.view(x.size(0), x.size(1) * x.size(2) * x.size(3))\n",
        "\n",
        "    x = self.fc1(x)\n",
        "    x = self.act13(x)\n",
        "    x = self.fc2(x)\n",
        "    x = self.act14(x)\n",
        "    x = self.fc3(x)\n",
        "\n",
        "    return x\n"
      ]
    },
    {
      "cell_type": "code",
      "source": [
        "learning_rate = [0.005, 0.001, 0.0005, 0.0001]\n",
        "dropout_rate = 0.1\n",
        "epoch = 64"
      ],
      "metadata": {
        "id": "NX2bpY4ZJA1M"
      },
      "execution_count": null,
      "outputs": []
    },
    {
      "cell_type": "markdown",
      "source": [
        "##Цикл обучения для оптимизатора SGD"
      ],
      "metadata": {
        "id": "JVor5D_9I6nU"
      }
    },
    {
      "cell_type": "code",
      "source": [
        "test_accuracy = [[], [], [], []]\n",
        "for experimanets in range(1):\n",
        "  for i in range(len(learning_rate)):\n",
        "    device = torch.device('cuda:0' if torch.cuda.is_available() else 'cpu')\n",
        "    lenet5 = LeNetDropOut(coef).to(device)\n",
        "    loss = torch.nn.CrossEntropyLoss()\n",
        "    optimizer = torch.optim.SGD(lenet5.parameters(), lr=learning_rate[i])\n",
        "    batch_size = 1120\n",
        "\n",
        "    for epoch in range(epoch):\n",
        "      order = np.random.permutation(len(train_data))\n",
        "      for start_index in range(0, len(train_data), batch_size):\n",
        "        optimizer.zero_grad()\n",
        "\n",
        "        batch_indexes = order[start_index:start_index + batch_size]\n",
        "        train_batch = train_data[batch_indexes].to(device)\n",
        "        label_batch = train_labels[batch_indexes].to(device)\n",
        "\n",
        "        preds = lenet5.forward(train_batch)\n",
        "\n",
        "        loss_value = loss(preds, label_batch)\n",
        "        loss_value.backward()\n",
        "\n",
        "        optimizer.step()\n",
        "\n",
        "        lenet.eval()\n",
        "        with torch.no_grad():\n",
        "\n",
        "          preds = lenet.forward(test_data)\n",
        "          accuracy = (preds.argmax(dim=1) == test_labels).float().mean().data.cpu()\n",
        "          test_accuracy[i].append(accuracy)\n",
        "          print(accuracy)\n",
        "\n",
        "        lenet.train()"
      ],
      "metadata": {
        "id": "CilZQWlVI6Vc"
      },
      "execution_count": null,
      "outputs": []
    }
  ]
}