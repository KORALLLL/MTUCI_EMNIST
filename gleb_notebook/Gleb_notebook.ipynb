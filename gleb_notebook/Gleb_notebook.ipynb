{
  "nbformat": 4,
  "nbformat_minor": 0,
  "metadata": {
    "colab": {
      "provenance": [],
      "gpuType": "T4",
      "authorship_tag": "ABX9TyNH+y0wXe4sNWjMF/bhqgiG",
      "include_colab_link": true
    },
    "kernelspec": {
      "name": "python3",
      "display_name": "Python 3"
    },
    "language_info": {
      "name": "python"
    },
    "accelerator": "GPU",
    "widgets": {
      "application/vnd.jupyter.widget-state+json": {
        "8ecb88df24014e5589e9d78c1379fcbe": {
          "model_module": "@jupyter-widgets/controls",
          "model_name": "HBoxModel",
          "model_module_version": "1.5.0",
          "state": {
            "_dom_classes": [],
            "_model_module": "@jupyter-widgets/controls",
            "_model_module_version": "1.5.0",
            "_model_name": "HBoxModel",
            "_view_count": null,
            "_view_module": "@jupyter-widgets/controls",
            "_view_module_version": "1.5.0",
            "_view_name": "HBoxView",
            "box_style": "",
            "children": [
              "IPY_MODEL_4b119331a1d04d6c947d10c9ee04315f",
              "IPY_MODEL_602ab515d17c4015908b81dc5116d7e5",
              "IPY_MODEL_fc34531641e44e44831da43026dd179e"
            ],
            "layout": "IPY_MODEL_995bf4c4e3274f499a84c207d6824f45"
          }
        },
        "4b119331a1d04d6c947d10c9ee04315f": {
          "model_module": "@jupyter-widgets/controls",
          "model_name": "HTMLModel",
          "model_module_version": "1.5.0",
          "state": {
            "_dom_classes": [],
            "_model_module": "@jupyter-widgets/controls",
            "_model_module_version": "1.5.0",
            "_model_name": "HTMLModel",
            "_view_count": null,
            "_view_module": "@jupyter-widgets/controls",
            "_view_module_version": "1.5.0",
            "_view_name": "HTMLView",
            "description": "",
            "description_tooltip": null,
            "layout": "IPY_MODEL_c4c148b4cb6543a8be78fcb8bfefc998",
            "placeholder": "​",
            "style": "IPY_MODEL_c0231aae2f4040f8b0a47174d1059e58",
            "value": "learning: 100%"
          }
        },
        "602ab515d17c4015908b81dc5116d7e5": {
          "model_module": "@jupyter-widgets/controls",
          "model_name": "FloatProgressModel",
          "model_module_version": "1.5.0",
          "state": {
            "_dom_classes": [],
            "_model_module": "@jupyter-widgets/controls",
            "_model_module_version": "1.5.0",
            "_model_name": "FloatProgressModel",
            "_view_count": null,
            "_view_module": "@jupyter-widgets/controls",
            "_view_module_version": "1.5.0",
            "_view_name": "ProgressView",
            "bar_style": "success",
            "description": "",
            "description_tooltip": null,
            "layout": "IPY_MODEL_3a4033a3d0ff4d7f88c00c0a953f327e",
            "max": 100,
            "min": 0,
            "orientation": "horizontal",
            "style": "IPY_MODEL_c45223178db2489c950dafbc4a0a4d31",
            "value": 100
          }
        },
        "fc34531641e44e44831da43026dd179e": {
          "model_module": "@jupyter-widgets/controls",
          "model_name": "HTMLModel",
          "model_module_version": "1.5.0",
          "state": {
            "_dom_classes": [],
            "_model_module": "@jupyter-widgets/controls",
            "_model_module_version": "1.5.0",
            "_model_name": "HTMLModel",
            "_view_count": null,
            "_view_module": "@jupyter-widgets/controls",
            "_view_module_version": "1.5.0",
            "_view_name": "HTMLView",
            "description": "",
            "description_tooltip": null,
            "layout": "IPY_MODEL_5a6fd40d7b894df98fedbedfe847da1e",
            "placeholder": "​",
            "style": "IPY_MODEL_96523cdc46d0464eb1294101affe0564",
            "value": " 100/100 [00:31&lt;00:00,  3.15it/s]"
          }
        },
        "995bf4c4e3274f499a84c207d6824f45": {
          "model_module": "@jupyter-widgets/base",
          "model_name": "LayoutModel",
          "model_module_version": "1.2.0",
          "state": {
            "_model_module": "@jupyter-widgets/base",
            "_model_module_version": "1.2.0",
            "_model_name": "LayoutModel",
            "_view_count": null,
            "_view_module": "@jupyter-widgets/base",
            "_view_module_version": "1.2.0",
            "_view_name": "LayoutView",
            "align_content": null,
            "align_items": null,
            "align_self": null,
            "border": null,
            "bottom": null,
            "display": null,
            "flex": null,
            "flex_flow": null,
            "grid_area": null,
            "grid_auto_columns": null,
            "grid_auto_flow": null,
            "grid_auto_rows": null,
            "grid_column": null,
            "grid_gap": null,
            "grid_row": null,
            "grid_template_areas": null,
            "grid_template_columns": null,
            "grid_template_rows": null,
            "height": null,
            "justify_content": null,
            "justify_items": null,
            "left": null,
            "margin": null,
            "max_height": null,
            "max_width": null,
            "min_height": null,
            "min_width": null,
            "object_fit": null,
            "object_position": null,
            "order": null,
            "overflow": null,
            "overflow_x": null,
            "overflow_y": null,
            "padding": null,
            "right": null,
            "top": null,
            "visibility": null,
            "width": null
          }
        },
        "c4c148b4cb6543a8be78fcb8bfefc998": {
          "model_module": "@jupyter-widgets/base",
          "model_name": "LayoutModel",
          "model_module_version": "1.2.0",
          "state": {
            "_model_module": "@jupyter-widgets/base",
            "_model_module_version": "1.2.0",
            "_model_name": "LayoutModel",
            "_view_count": null,
            "_view_module": "@jupyter-widgets/base",
            "_view_module_version": "1.2.0",
            "_view_name": "LayoutView",
            "align_content": null,
            "align_items": null,
            "align_self": null,
            "border": null,
            "bottom": null,
            "display": null,
            "flex": null,
            "flex_flow": null,
            "grid_area": null,
            "grid_auto_columns": null,
            "grid_auto_flow": null,
            "grid_auto_rows": null,
            "grid_column": null,
            "grid_gap": null,
            "grid_row": null,
            "grid_template_areas": null,
            "grid_template_columns": null,
            "grid_template_rows": null,
            "height": null,
            "justify_content": null,
            "justify_items": null,
            "left": null,
            "margin": null,
            "max_height": null,
            "max_width": null,
            "min_height": null,
            "min_width": null,
            "object_fit": null,
            "object_position": null,
            "order": null,
            "overflow": null,
            "overflow_x": null,
            "overflow_y": null,
            "padding": null,
            "right": null,
            "top": null,
            "visibility": null,
            "width": null
          }
        },
        "c0231aae2f4040f8b0a47174d1059e58": {
          "model_module": "@jupyter-widgets/controls",
          "model_name": "DescriptionStyleModel",
          "model_module_version": "1.5.0",
          "state": {
            "_model_module": "@jupyter-widgets/controls",
            "_model_module_version": "1.5.0",
            "_model_name": "DescriptionStyleModel",
            "_view_count": null,
            "_view_module": "@jupyter-widgets/base",
            "_view_module_version": "1.2.0",
            "_view_name": "StyleView",
            "description_width": ""
          }
        },
        "3a4033a3d0ff4d7f88c00c0a953f327e": {
          "model_module": "@jupyter-widgets/base",
          "model_name": "LayoutModel",
          "model_module_version": "1.2.0",
          "state": {
            "_model_module": "@jupyter-widgets/base",
            "_model_module_version": "1.2.0",
            "_model_name": "LayoutModel",
            "_view_count": null,
            "_view_module": "@jupyter-widgets/base",
            "_view_module_version": "1.2.0",
            "_view_name": "LayoutView",
            "align_content": null,
            "align_items": null,
            "align_self": null,
            "border": null,
            "bottom": null,
            "display": null,
            "flex": null,
            "flex_flow": null,
            "grid_area": null,
            "grid_auto_columns": null,
            "grid_auto_flow": null,
            "grid_auto_rows": null,
            "grid_column": null,
            "grid_gap": null,
            "grid_row": null,
            "grid_template_areas": null,
            "grid_template_columns": null,
            "grid_template_rows": null,
            "height": null,
            "justify_content": null,
            "justify_items": null,
            "left": null,
            "margin": null,
            "max_height": null,
            "max_width": null,
            "min_height": null,
            "min_width": null,
            "object_fit": null,
            "object_position": null,
            "order": null,
            "overflow": null,
            "overflow_x": null,
            "overflow_y": null,
            "padding": null,
            "right": null,
            "top": null,
            "visibility": null,
            "width": null
          }
        },
        "c45223178db2489c950dafbc4a0a4d31": {
          "model_module": "@jupyter-widgets/controls",
          "model_name": "ProgressStyleModel",
          "model_module_version": "1.5.0",
          "state": {
            "_model_module": "@jupyter-widgets/controls",
            "_model_module_version": "1.5.0",
            "_model_name": "ProgressStyleModel",
            "_view_count": null,
            "_view_module": "@jupyter-widgets/base",
            "_view_module_version": "1.2.0",
            "_view_name": "StyleView",
            "bar_color": null,
            "description_width": ""
          }
        },
        "5a6fd40d7b894df98fedbedfe847da1e": {
          "model_module": "@jupyter-widgets/base",
          "model_name": "LayoutModel",
          "model_module_version": "1.2.0",
          "state": {
            "_model_module": "@jupyter-widgets/base",
            "_model_module_version": "1.2.0",
            "_model_name": "LayoutModel",
            "_view_count": null,
            "_view_module": "@jupyter-widgets/base",
            "_view_module_version": "1.2.0",
            "_view_name": "LayoutView",
            "align_content": null,
            "align_items": null,
            "align_self": null,
            "border": null,
            "bottom": null,
            "display": null,
            "flex": null,
            "flex_flow": null,
            "grid_area": null,
            "grid_auto_columns": null,
            "grid_auto_flow": null,
            "grid_auto_rows": null,
            "grid_column": null,
            "grid_gap": null,
            "grid_row": null,
            "grid_template_areas": null,
            "grid_template_columns": null,
            "grid_template_rows": null,
            "height": null,
            "justify_content": null,
            "justify_items": null,
            "left": null,
            "margin": null,
            "max_height": null,
            "max_width": null,
            "min_height": null,
            "min_width": null,
            "object_fit": null,
            "object_position": null,
            "order": null,
            "overflow": null,
            "overflow_x": null,
            "overflow_y": null,
            "padding": null,
            "right": null,
            "top": null,
            "visibility": null,
            "width": null
          }
        },
        "96523cdc46d0464eb1294101affe0564": {
          "model_module": "@jupyter-widgets/controls",
          "model_name": "DescriptionStyleModel",
          "model_module_version": "1.5.0",
          "state": {
            "_model_module": "@jupyter-widgets/controls",
            "_model_module_version": "1.5.0",
            "_model_name": "DescriptionStyleModel",
            "_view_count": null,
            "_view_module": "@jupyter-widgets/base",
            "_view_module_version": "1.2.0",
            "_view_name": "StyleView",
            "description_width": ""
          }
        }
      }
    }
  },
  "cells": [
    {
      "cell_type": "markdown",
      "metadata": {
        "id": "view-in-github",
        "colab_type": "text"
      },
      "source": [
        "<a href=\"https://colab.research.google.com/github/KORALLLL/MTUCI_EMNIST/blob/Gleb/gleb_notebook/Gleb_notebook.ipynb\" target=\"_parent\"><img src=\"https://colab.research.google.com/assets/colab-badge.svg\" alt=\"Open In Colab\"/></a>"
      ]
    },
    {
      "cell_type": "markdown",
      "source": [
        "<table>\n",
        "  <tr>\n",
        "    <th>layer</th>\n",
        "    <th>layer type2</th>\n",
        "    <th>feature maps</th>\n",
        "    <th>size</th>\n",
        "    <th>kernel size</th>\n",
        "    <th>stride</th>\n",
        "    <th>activation</th>\n",
        "  </tr>\n",
        "  <tr>\n",
        "    <th>input</th>\n",
        "    <th>image</th>\n",
        "    <th>1</th>\n",
        "    <th>28*28</th>\n",
        "    <th>-</th>\n",
        "    <th>-</th>\n",
        "    <th>-</th>\n",
        "  </tr>\n",
        "  <tr>\n",
        "    <th>1</th>\n",
        "    <th>convoluation</th>\n",
        "    <th>6</th>\n",
        "    <th>28*28</th>\n",
        "    <th>5*5</th>\n",
        "    <th>1</th>\n",
        "    <th>tanh</th>\n",
        "  </tr>\n",
        "  <tr>\n",
        "    <th>2</th>\n",
        "    <th>average pooling</th>\n",
        "    <th>6</th>\n",
        "    <th>14*14</th>\n",
        "    <th>2*2</th>\n",
        "    <th>2</th>\n",
        "    <th>tanh</th>\n",
        "  </tr>\n",
        "  <tr>\n",
        "    <th>3</th>\n",
        "    <th>convoluation</th>\n",
        "    <th>16</th>\n",
        "    <th>10*10</th>\n",
        "    <th>5*5</th>\n",
        "    <th>1</th>\n",
        "    <th>tanh</th>\n",
        "  </tr>\n",
        "  <tr>\n",
        "    <th>4</th>\n",
        "    <th>average pooling</th>\n",
        "    <th>16</th>\n",
        "    <th>5*5</th>\n",
        "    <th>2*2</th>\n",
        "    <th>2</th>\n",
        "    <th>tanh</th>\n",
        "  </tr>\n",
        "  <tr>\n",
        "    <th>5</th>\n",
        "    <th>fully connected</th>\n",
        "    <th>-</th>\n",
        "    <th>120</th>\n",
        "    <th>-</th>\n",
        "    <th>-</th>\n",
        "    <th>tanh</th>\n",
        "  </tr>\n",
        "  <tr>\n",
        "    <th>6</th>\n",
        "    <th>fully connected</th>\n",
        "    <th>-</th>\n",
        "    <th>84</th>\n",
        "    <th>-</th>\n",
        "    <th>-</th>\n",
        "    <th>tanh</th>\n",
        "  </tr>\n",
        "  <tr>\n",
        "    <th>output</th>\n",
        "    <th>fully connected</th>\n",
        "    <th>-</th>\n",
        "    <th>10</th>\n",
        "    <th>-</th>\n",
        "    <th>-</th>\n",
        "    <th>-</th>\n",
        "  </tr>\n",
        "</table>"
      ],
      "metadata": {
        "id": "gpoA2Efdy7J-"
      }
    },
    {
      "cell_type": "markdown",
      "source": [
        "train dataset: MNIST + EMNIST letters\n",
        "\n",
        "test dataset: dataset of DreamTeam\n",
        "\n",
        "training sample size: 36960\n",
        "\n",
        "testing sample size: 16784\n",
        "\n",
        "loss finction: Cross Entropy Loss\n",
        "\n",
        "optimizer: adam\n",
        "\n",
        "learning rate: 0.001\n",
        "\n",
        "batch size: 560\n",
        "\n",
        "epoch number: 100"
      ],
      "metadata": {
        "id": "gJtXO26Uy8vA"
      }
    },
    {
      "cell_type": "code",
      "source": [
        "import torch\n",
        "import torchvision.datasets\n",
        "import torchvision.transforms as transforms\n",
        "import matplotlib\n",
        "import matplotlib.pyplot as plt\n",
        "from tqdm import tqdm_notebook as bar\n",
        "import pickle\n",
        "import numpy as np"
      ],
      "metadata": {
        "id": "mriMcKJqzPtP"
      },
      "execution_count": 4,
      "outputs": []
    },
    {
      "cell_type": "code",
      "source": [
        "!git clone https://github.com/KORALLLL/MTUCI_EMNIST.git"
      ],
      "metadata": {
        "colab": {
          "base_uri": "https://localhost:8080/"
        },
        "id": "pNkRz8y6z1dG",
        "outputId": "7e956d4a-1113-4a2c-e34c-78224f3e9510"
      },
      "execution_count": 5,
      "outputs": [
        {
          "output_type": "stream",
          "name": "stdout",
          "text": [
            "Cloning into 'MTUCI_EMNIST'...\n",
            "remote: Enumerating objects: 36413, done.\u001b[K\n",
            "remote: Counting objects: 100% (12773/12773), done.\u001b[K\n",
            "remote: Compressing objects: 100% (12656/12656), done.\u001b[K\n",
            "remote: Total 36413 (delta 144), reused 12685 (delta 113), pack-reused 23640\u001b[K\n",
            "Receiving objects: 100% (36413/36413), 128.74 MiB | 30.98 MiB/s, done.\n",
            "Resolving deltas: 100% (429/429), done.\n"
          ]
        }
      ]
    },
    {
      "cell_type": "code",
      "source": [
        "emnist_train = torchvision.datasets.EMNIST('./', split='letters', download = True, train = True)\n",
        "mnist_train = torchvision.datasets.EMNIST('./', split='mnist', download = True, train = True)\n",
        "emnist_val = torchvision.datasets.EMNIST('./', split='letters', download = True, train = False)\n",
        "mnist_val = torchvision.datasets.EMNIST('./', split='mnist', download = True, train = False)\n",
        "\n",
        "device = torch.device('cuda:0' if torch.cuda.is_available() else 'cpu')\n",
        "\n",
        "emnist_train_data = emnist_train.data\n",
        "mnist_train_data = mnist_train.data\n",
        "train_data = torch.cat([emnist_train_data[:24960], mnist_train_data[:12000]], dim=0).float().unsqueeze(1).to(device) / 255\n",
        "\n",
        "emnist_val_data = emnist_val.data\n",
        "mnist_val_data = mnist_val.data\n",
        "val_data = torch.cat([emnist_val_data, mnist_val_data], dim=0).float().unsqueeze(1).to(device) / 255\n",
        "\n",
        "temp_emnist_train_labels = emnist_train.targets[:24960]\n",
        "emnist_train_labels = []\n",
        "\n",
        "temp_emnist_val_labels = emnist_val.targets\n",
        "emnist_val_labels = []\n",
        "\n",
        "for i in range(len(temp_emnist_train_labels)):\n",
        "  if temp_emnist_train_labels[i]==15:\n",
        "    emnist_train_labels.append(torch.tensor(0))\n",
        "  elif temp_emnist_train_labels[i]>15:\n",
        "    emnist_train_labels.append(temp_emnist_train_labels[i]+8)\n",
        "  else:\n",
        "    emnist_train_labels.append(temp_emnist_train_labels[i]+9)\n",
        "\n",
        "for i in range(len(temp_emnist_val_labels)):\n",
        "  if temp_emnist_val_labels[i]==15:\n",
        "    emnist_val_labels.append(torch.tensor(0))\n",
        "  elif temp_emnist_val_labels[i]>15:\n",
        "    emnist_val_labels.append(temp_emnist_val_labels[i] + 8)\n",
        "  else:\n",
        "    emnist_val_labels.append(temp_emnist_val_labels[i]+9)\n",
        "\n",
        "mnist_train_labels = mnist_train.targets\n",
        "train_labels = torch.cat([torch.stack(emnist_train_labels[:24960]), mnist_train_labels[:12000]], dim=0).to(device)\n",
        "\n",
        "mnist_val_labels = mnist_val.targets\n",
        "val_labels = torch.cat([torch.stack(emnist_val_labels), mnist_val_labels], dim=0).to(device)\n",
        "\n",
        "\n",
        "file = open('MTUCI_EMNIST/dataset.pkl', 'rb')\n",
        "test_dataset = pickle.load(file)\n",
        "file.close()\n",
        "\n",
        "test_data = test_dataset['data'].numpy()\n",
        "test_data = np.flip(test_data, axis = 3)\n",
        "test_data = np.rot90(test_data, k=1, axes=(2,3))\n",
        "test_data = 1 - test_data\n",
        "test_data = torch.from_numpy(test_data).float().to(device)\n",
        "test_labels = test_dataset['targets'].to(device)"
      ],
      "metadata": {
        "colab": {
          "base_uri": "https://localhost:8080/"
        },
        "id": "pAHd5pb_0CiU",
        "outputId": "4fac8ba9-dc74-4883-933c-0448c748d045"
      },
      "execution_count": 6,
      "outputs": [
        {
          "output_type": "stream",
          "name": "stdout",
          "text": [
            "Downloading https://www.itl.nist.gov/iaui/vip/cs_links/EMNIST/gzip.zip to ./EMNIST/raw/gzip.zip\n"
          ]
        },
        {
          "output_type": "stream",
          "name": "stderr",
          "text": [
            "100%|██████████| 561753746/561753746 [00:10<00:00, 54858893.21it/s]\n"
          ]
        },
        {
          "output_type": "stream",
          "name": "stdout",
          "text": [
            "Extracting ./EMNIST/raw/gzip.zip to ./EMNIST/raw\n"
          ]
        }
      ]
    },
    {
      "cell_type": "code",
      "source": [
        "plt.imshow(val_data[0][0].cpu())"
      ],
      "metadata": {
        "colab": {
          "base_uri": "https://localhost:8080/",
          "height": 447
        },
        "id": "pHAC4UhL0MuC",
        "outputId": "9765d098-8390-4b32-c767-a6db816e2c67"
      },
      "execution_count": 7,
      "outputs": [
        {
          "output_type": "execute_result",
          "data": {
            "text/plain": [
              "<matplotlib.image.AxesImage at 0x7e04c46768f0>"
            ]
          },
          "metadata": {},
          "execution_count": 7
        },
        {
          "output_type": "display_data",
          "data": {
            "text/plain": [
              "<Figure size 640x480 with 1 Axes>"
            ],
            "image/png": "[encoded data removed]"
          },
          "metadata": {}
        }
      ]
    },
    {
      "cell_type": "code",
      "source": [
        "class LeNet(torch.nn.Module):\n",
        "  def __init__(self):\n",
        "    super(LeNet, self).__init__()\n",
        "    self.conv1 = torch.nn.Conv2d(in_channels = 1, out_channels = 6, kernel_size = 5, padding = 2)\n",
        "    self.act1 = torch.nn.Tanh()\n",
        "    self.pool1 = torch.nn.AvgPool2d(kernel_size = 2, stride = 2)\n",
        "    self.act2 = torch.nn.Tanh()\n",
        "    self.conv2 = torch.nn.Conv2d(in_channels = 6, out_channels = 16, kernel_size = 5, padding = 0)\n",
        "    self.act3 = torch.nn.Tanh()\n",
        "    self.pool2 = torch.nn.AvgPool2d(kernel_size = 2, stride = 2)\n",
        "    self.act4 = torch.nn.Tanh()\n",
        "    self.fc1 = torch.nn.Linear(400, 120)\n",
        "    self.act5 = torch.nn.Tanh()\n",
        "    self.fc2 = torch.nn.Linear(120, 84)\n",
        "    self.act6 = torch.nn.Tanh()\n",
        "    self.fc3 = torch.nn.Linear(84, 35)\n",
        "\n",
        "  def forward(self, x):\n",
        "    x = self.conv1(x)\n",
        "    x = self.act1(x)\n",
        "    x = self.pool1(x)\n",
        "    x = self.act2(x)\n",
        "    x = self.conv2(x)\n",
        "    x = self.act3(x)\n",
        "    x = self.pool2(x)\n",
        "    x = self.act4(x)\n",
        "    x = x.view(x.size(0), x.size(1) * x.size(2) * x.size(3))\n",
        "    x = self.fc1(x)\n",
        "    x = self.act5(x)\n",
        "    x = self.fc2(x)\n",
        "    x = self.act6(x)\n",
        "    x = self.fc3(x)\n",
        "\n",
        "    return x"
      ],
      "metadata": {
        "id": "-LdUOoz20Y0V"
      },
      "execution_count": 8,
      "outputs": []
    },
    {
      "cell_type": "code",
      "source": [
        "lenet = LeNet().to(device)"
      ],
      "metadata": {
        "id": "HMgg9YFM3ziy"
      },
      "execution_count": 14,
      "outputs": []
    },
    {
      "cell_type": "code",
      "source": [
        "loss = torch.nn.CrossEntropyLoss()\n",
        "optimizer = torch.optim.Adam(lenet.parameters(), lr = 0.001)"
      ],
      "metadata": {
        "id": "yaC9CJwi4oqz"
      },
      "execution_count": 15,
      "outputs": []
    },
    {
      "cell_type": "code",
      "source": [
        "train_accuracy = []\n",
        "validation_accuracy = []\n",
        "test_accuracy = []\n",
        "train_loss = []\n",
        "validation_loss = []\n",
        "test_loss = []"
      ],
      "metadata": {
        "id": "jLKpR4OP5E_x"
      },
      "execution_count": 16,
      "outputs": []
    },
    {
      "cell_type": "code",
      "source": [
        "batch_size = 560\n",
        "for epoch in bar(range(100), desc = 'learning'):\n",
        "  indexs = np.random.permutation(len(train_data))\n",
        "  for start_index in range(0, len(train_data), batch_size):\n",
        "    optimizer.zero_grad()\n",
        "    batch_index = indexs[start_index: start_index + batch_size]\n",
        "    labels_batch = train_labels[batch_index].to(device)\n",
        "\n",
        "    images_batch = train_data[batch_index].to(device)\n",
        "    prediction = lenet.forward(images_batch)\n",
        "    loss_value = loss(prediction, labels_batch)\n",
        "    loss_value.backward()\n",
        "    optimizer.step()\n",
        "\n",
        "  prediction_train = lenet.forward(train_data)\n",
        "  prediction_validation = lenet.forward(val_data)\n",
        "  prediction_test = lenet.forward(test_data)\n",
        "  train_loss.append(loss(prediction_train, train_labels).data.cpu())\n",
        "  validation_loss.append(loss(prediction_validation, val_labels).data.cpu())\n",
        "  test_loss.append(loss(prediction_test, test_labels).data.cpu())\n",
        "\n",
        "  train_acc = (prediction_train.argmax(dim = 1) == train_labels).float().mean().data.cpu()\n",
        "  validation_acc = (prediction_validation.argmax(dim = 1) == val_labels).float().mean().data.cpu()\n",
        "  test_acc = (prediction_test.argmax(dim = 1) == test_labels).float().mean().data.cpu()\n",
        "\n",
        "  train_accuracy.append(train_acc)\n",
        "  validation_accuracy.append(validation_acc)\n",
        "  test_accuracy.append(test_acc)\n",
        "\n",
        "\n"
      ],
      "metadata": {
        "colab": {
          "base_uri": "https://localhost:8080/",
          "height": 101,
          "referenced_widgets": [
            "8ecb88df24014e5589e9d78c1379fcbe",
            "4b119331a1d04d6c947d10c9ee04315f",
            "602ab515d17c4015908b81dc5116d7e5",
            "fc34531641e44e44831da43026dd179e",
            "995bf4c4e3274f499a84c207d6824f45",
            "c4c148b4cb6543a8be78fcb8bfefc998",
            "c0231aae2f4040f8b0a47174d1059e58",
            "3a4033a3d0ff4d7f88c00c0a953f327e",
            "c45223178db2489c950dafbc4a0a4d31",
            "5a6fd40d7b894df98fedbedfe847da1e",
            "96523cdc46d0464eb1294101affe0564"
          ]
        },
        "id": "9U81ntTC5go0",
        "outputId": "b1185d4c-81d4-4838-ad02-4fec950bddc6"
      },
      "execution_count": 17,
      "outputs": [
        {
          "output_type": "stream",
          "name": "stderr",
          "text": [
            "<ipython-input-17-d8dbedc808d4>:2: TqdmDeprecationWarning: This function will be removed in tqdm==5.0.0\n",
            "Please use `tqdm.notebook.tqdm` instead of `tqdm.tqdm_notebook`\n",
            "  for epoch in bar(range(100), desc = 'learning'):\n"
          ]
        },
        {
          "output_type": "display_data",
          "data": {
            "text/plain": [
              "learning:   0%|          | 0/100 [00:00<?, ?it/s]"
            ],
            "application/vnd.jupyter.widget-view+json": {
              "version_major": 2,
              "version_minor": 0,
              "model_id": "8ecb88df24014e5589e9d78c1379fcbe"
            }
          },
          "metadata": {}
        }
      ]
    },
    {
      "cell_type": "code",
      "source": [
        "plt.figure(figsize= (16.0, 6.0))\n",
        "plt.plot(range(100), train_accuracy, c = 'blue', label = 'train accuracy history')\n",
        "plt.plot(range(100), validation_accuracy, c = 'yellow', label = 'validation accuracy history')\n",
        "plt.plot(range(100), test_accuracy, c = 'red', label = 'test accuracy history')\n",
        "plt.legend(loc = 'lower right')\n",
        "plt.title('accuracy history')\n",
        "plt.ylabel('accuracy')\n",
        "plt.xlabel('epoch')\n"
      ],
      "metadata": {
        "colab": {
          "base_uri": "https://localhost:8080/",
          "height": 581
        },
        "id": "_5YXndGKBZ0m",
        "outputId": "0f08b11c-528d-4f18-a441-8d1d7b4d1c1b"
      },
      "execution_count": 24,
      "outputs": [
        {
          "output_type": "execute_result",
          "data": {
            "text/plain": [
              "Text(0.5, 0, 'epoch')"
            ]
          },
          "metadata": {},
          "execution_count": 24
        },
        {
          "output_type": "display_data",
          "data": {
            "text/plain": [
              "<Figure size 1600x600 with 1 Axes>"
            ],
            "image/png": "[encoded data removed]"
          },
          "metadata": {}
        }
      ]
    },
    {
      "cell_type": "code",
      "source": [
        "plt.figure(figsize= (16.0, 6.0))\n",
        "plt.plot(range(100), train_loss, c = 'blue', label = 'train loss history')\n",
        "plt.plot(range(100), validation_loss, c = 'yellow', label = 'validation loss history')\n",
        "plt.plot(range(100), test_loss, c = 'red', label = 'test loss history')\n",
        "plt.legend(loc = 'lower right')\n",
        "plt.title('loss history')\n",
        "plt.ylabel('loss')\n",
        "plt.xlabel('epoch')"
      ],
      "metadata": {
        "colab": {
          "base_uri": "https://localhost:8080/",
          "height": 581
        },
        "id": "R8d-6UBpDrDz",
        "outputId": "8e67c32d-8bdc-4acf-896c-86973fb2aec1"
      },
      "execution_count": 22,
      "outputs": [
        {
          "output_type": "execute_result",
          "data": {
            "text/plain": [
              "Text(0.5, 0, 'epoch')"
            ]
          },
          "metadata": {},
          "execution_count": 22
        },
        {
          "output_type": "display_data",
          "data": {
            "text/plain": [
              "<Figure size 1600x600 with 1 Axes>"
            ],
            "image/png": "[encoded data removed]"
          },
          "metadata": {}
        }
      ]
    }
  ]
}