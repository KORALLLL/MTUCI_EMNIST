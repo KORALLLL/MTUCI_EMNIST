{
  "cells": [
    {
      "cell_type": "markdown",
      "metadata": {
        "id": "view-in-github",
        "colab_type": "text"
      },
      "source": [
        "<a href=\"https://colab.research.google.com/github/KORALLLL/MTUCI_EMNIST/blob/Sasha/LeNet.ipynb\" target=\"_parent\"><img src=\"https://colab.research.google.com/assets/colab-badge.svg\" alt=\"Open In Colab\"/></a>"
      ]
    },
    {
      "cell_type": "markdown",
      "source": [
        "## **Сверточная нейронная сеть архитектуры LeNet**\n",
        "Тренировочный датасет: MNIST + EMNIST letters\n",
        "\n",
        "Датасет для теста: dataset of DreamTeam\n",
        "\n",
        "Кол-во изображения для тренировки: 36960\n",
        "\n",
        "Кол-во изображения для теста: 16784\n",
        "\n",
        "Функция потерь: Cross Entropy Loss\n",
        "\n",
        "Оптимизатор: adam\n",
        "\n",
        "Величина градиентного шага: 0.001\n",
        "\n",
        "Размер батча: 1120\n",
        "\n",
        "Кол-во эпох: 100"
      ],
      "metadata": {
        "id": "uXkFZ-bXTkqL"
      }
    },
    {
      "cell_type": "code",
      "execution_count": 1,
      "metadata": {
        "id": "tEK2t6nvzARb"
      },
      "outputs": [],
      "source": [
        "import torch\n",
        "import random\n",
        "import numpy as np\n",
        "import torchvision.datasets\n",
        "import torchvision.transforms as transforms\n",
        "import matplotlib\n",
        "import matplotlib.pyplot as plt\n",
        "from tqdm import tqdm_notebook as bar\n",
        "import pickle\n",
        "\n",
        "random.seed(0)\n",
        "np.random.seed(0)\n",
        "torch.cuda.manual_seed(0)\n",
        "torch.backends.cudnn.deterministic = True"
      ]
    },
    {
      "cell_type": "code",
      "execution_count": 2,
      "metadata": {
        "id": "3VRIKfWg85iz"
      },
      "outputs": [],
      "source": [
        "import torchvision.datasets"
      ]
    },
    {
      "cell_type": "code",
      "source": [
        "\n",
        "!git clone https://github.com/KORALLLL/MTUCI_EMNIST.git"
      ],
      "metadata": {
        "colab": {
          "base_uri": "https://localhost:8080/"
        },
        "id": "Ur9AxLgteSoV",
        "outputId": "3ab42017-e024-4070-e1eb-062dd28c63e7"
      },
      "execution_count": 3,
      "outputs": [
        {
          "output_type": "stream",
          "name": "stdout",
          "text": [
            "Cloning into 'MTUCI_EMNIST'...\n",
            "remote: Enumerating objects: 36437, done.\u001b[K\n",
            "remote: Counting objects: 100% (12797/12797), done.\u001b[K\n",
            "remote: Compressing objects: 100% (12680/12680), done.\u001b[K\n",
            "remote: Total 36437 (delta 150), reused 12689 (delta 112), pack-reused 23640\u001b[K\n",
            "Receiving objects: 100% (36437/36437), 128.33 MiB | 31.73 MiB/s, done.\n",
            "Resolving deltas: 100% (435/435), done.\n"
          ]
        }
      ]
    },
    {
      "cell_type": "code",
      "execution_count": 4,
      "metadata": {
        "id": "S1DDMJs18-hI",
        "colab": {
          "base_uri": "https://localhost:8080/"
        },
        "outputId": "7971da54-3cbe-4061-bfbf-349b34214f3b"
      },
      "outputs": [
        {
          "output_type": "stream",
          "name": "stdout",
          "text": [
            "Downloading https://www.itl.nist.gov/iaui/vip/cs_links/EMNIST/gzip.zip to ./EMNIST/raw/gzip.zip\n"
          ]
        },
        {
          "output_type": "stream",
          "name": "stderr",
          "text": [
            "100%|██████████| 561753746/561753746 [00:10<00:00, 51343767.06it/s]\n"
          ]
        },
        {
          "output_type": "stream",
          "name": "stdout",
          "text": [
            "Extracting ./EMNIST/raw/gzip.zip to ./EMNIST/raw\n"
          ]
        }
      ],
      "source": [
        "emnist_train = torchvision.datasets.EMNIST('./', split='letters', download = True, train = True)\n",
        "mnist_train = torchvision.datasets.EMNIST('./', split='mnist', download = True, train = True)\n",
        "emnist_val = torchvision.datasets.EMNIST('./', split='letters', download = True, train = False)\n",
        "mnist_val = torchvision.datasets.EMNIST('./', split='mnist', download = True, train = False)\n",
        "\n",
        "device = torch.device('cuda:0' if torch.cuda.is_available() else 'cpu')\n",
        "\n",
        "emnist_train_data = emnist_train.data\n",
        "mnist_train_data = mnist_train.data\n",
        "train_data = torch.cat([emnist_train_data[:24960], mnist_train_data[:12000]], dim=0).float().unsqueeze(1).to(device) / 255\n",
        "\n",
        "emnist_val_data = emnist_val.data\n",
        "mnist_val_data = mnist_val.data\n",
        "val_data = torch.cat([emnist_val_data, mnist_val_data], dim=0).float().unsqueeze(1).to(device) / 255\n",
        "\n",
        "temp_emnist_train_labels = emnist_train.targets[:24960]\n",
        "emnist_train_labels = []\n",
        "\n",
        "temp_emnist_val_labels = emnist_val.targets\n",
        "emnist_val_labels = []\n",
        "\n",
        "for i in range(len(temp_emnist_train_labels)):\n",
        "  if temp_emnist_train_labels[i]==15:\n",
        "    emnist_train_labels.append(torch.tensor(0))\n",
        "  elif temp_emnist_train_labels[i]>15:\n",
        "    emnist_train_labels.append(temp_emnist_train_labels[i]+8)\n",
        "  else:\n",
        "    emnist_train_labels.append(temp_emnist_train_labels[i]+9)\n",
        "\n",
        "for i in range(len(temp_emnist_val_labels)):\n",
        "  if temp_emnist_val_labels[i]==15:\n",
        "    emnist_val_labels.append(torch.tensor(0))\n",
        "  elif temp_emnist_val_labels[i]>15:\n",
        "    emnist_val_labels.append(temp_emnist_val_labels[i] + 8)\n",
        "  else:\n",
        "    emnist_val_labels.append(temp_emnist_val_labels[i]+9)\n",
        "\n",
        "mnist_train_labels = mnist_train.targets\n",
        "train_labels = torch.cat([torch.stack(emnist_train_labels[:24960]), mnist_train_labels[:12000]], dim=0).to(device)\n",
        "\n",
        "mnist_val_labels = mnist_val.targets\n",
        "val_labels = torch.cat([torch.stack(emnist_val_labels), mnist_val_labels], dim=0).to(device)\n",
        "\n",
        "\n",
        "file = open('MTUCI_EMNIST/dataset.pkl', 'rb')\n",
        "test_dataset = pickle.load(file)\n",
        "file.close()\n",
        "\n",
        "test_data = test_dataset['data'].numpy()\n",
        "test_data = np.flip(test_data, axis = 3)\n",
        "test_data = np.rot90(test_data, k=1, axes=(2,3))\n",
        "test_data = 1 - test_data\n",
        "test_data = torch.from_numpy(test_data).float().to(device)\n",
        "test_labels = test_dataset['targets'].to(device)\n"
      ]
    },
    {
      "cell_type": "code",
      "execution_count": null,
      "metadata": {
        "id": "Phman5JZ9VbS"
      },
      "outputs": [],
      "source": [
        "#x_train = mnist_train.train_data\n",
        "#y_train = mnist_train.targets\n",
        "#x_test = mnist_test.test_data\n",
        "#y_test = mnist_test.targets"
      ]
    },
    {
      "cell_type": "code",
      "execution_count": 5,
      "metadata": {
        "colab": {
          "base_uri": "https://localhost:8080/",
          "height": 430
        },
        "id": "Xcwm05Ei9q0c",
        "outputId": "4f892889-59ae-4914-bc77-8ad5e127feab"
      },
      "outputs": [
        {
          "output_type": "display_data",
          "data": {
            "text/plain": [
              "<Figure size 640x480 with 1 Axes>"
            ],
            "image/png": "[encoded data removed]"
          },
          "metadata": {}
        }
      ],
      "source": [
        "import matplotlib.pyplot as plt\n",
        "plt.imshow(val_data.cpu()[10][0])\n",
        "plt.show()"
      ]
    },
    {
      "cell_type": "code",
      "execution_count": null,
      "metadata": {
        "colab": {
          "base_uri": "https://localhost:8080/"
        },
        "id": "SEkHTH4h-ze2",
        "outputId": "a2fe8e0d-c8d4-41a0-e05d-a1a767dec73f"
      },
      "outputs": [
        {
          "name": "stdout",
          "output_type": "stream",
          "text": [
            "torch.Size([60000, 28, 28])\n",
            "ekdmekd\n"
          ]
        },
        {
          "data": {
            "text/plain": [
              "torch.Size([60000, 1, 28, 28])"
            ]
          },
          "execution_count": 53,
          "metadata": {},
          "output_type": "execute_result"
        }
      ],
      "source": [
        "#x_train = x_train.unsqueeze(1).float()\n",
        "#x_test = x_test.unsqueeze(1).float()\n",
        "#x_train.shape"
      ]
    },
    {
      "cell_type": "markdown",
      "source": [
        "##Первая версия архитектуры после экспериментов (0.68-0.7)"
      ],
      "metadata": {
        "id": "iOONPypW8cvU"
      }
    },
    {
      "cell_type": "code",
      "execution_count": 116,
      "metadata": {
        "id": "XdB4rfEC_kuf"
      },
      "outputs": [],
      "source": [
        "class LeNet5(torch.nn.Module):\n",
        "  def __init__(self):\n",
        "    super(LeNet5, self).__init__()\n",
        "\n",
        "    self.conv1 = torch.nn.Conv2d(in_channels=1, out_channels=2,\n",
        "                                 kernel_size=3, padding=0)\n",
        "    self.conv2 = torch.nn.Conv2d(in_channels=2, out_channels=4,\n",
        "                                 kernel_size=3, padding=0)\n",
        "    self.conv3 = torch.nn.Conv2d(in_channels=4, out_channels=8,\n",
        "                                 kernel_size=3, padding=1)\n",
        "    self.conv4 = torch.nn.Conv2d(in_channels=8, out_channels=8,\n",
        "                                 kernel_size=3, padding=1)\n",
        "    #длина/ширина -> 2d\n",
        "    self.act1 = torch.nn.Tanh()\n",
        "    self.pool1 = torch.nn.AvgPool2d(kernel_size=2, stride=2)\n",
        "\n",
        "    self.conv5 = torch.nn.Conv2d(in_channels=8, out_channels=16,\n",
        "                                 kernel_size=3, padding=1)\n",
        "\n",
        "    self.conv6 = torch.nn.Conv2d(in_channels=16, out_channels=16,\n",
        "                                 kernel_size=3, padding=1)\n",
        "    self.conv7 = torch.nn.Conv2d(in_channels=16, out_channels=16,\n",
        "                                 kernel_size=3, padding=0)\n",
        "\n",
        "    self.act2 = torch.nn.Tanh()\n",
        "    self.pool2 = torch.nn.AvgPool2d(kernel_size=2, stride=2)\n",
        "\n",
        "    self.fc1 = torch.nn.Linear(5 * 5 * 16, 120)\n",
        "    self.act3 = torch.nn.Tanh()\n",
        "    self.fc2 = torch.nn.Linear(120, 84)\n",
        "    self.act4 = torch.nn.Tanh()\n",
        "    self.fc3 = torch.nn.Linear(84, 35)\n",
        "\n",
        "  def forward(self, x):\n",
        "    x = self.conv1(x)\n",
        "    x = self.conv2(x)\n",
        "    x = self.conv3(x)\n",
        "    x = self.conv4(x)\n",
        "    x = self.act1(x)\n",
        "    x = self.pool1(x)\n",
        "\n",
        "    x = self.conv5(x)\n",
        "    x = self.conv6(x)\n",
        "    x = self.conv7(x)\n",
        "    #x = self.conv8(x)\n",
        "    #x = self.conv9(x)\n",
        "    x = self.act2(x)\n",
        "    x = self.pool2(x)\n",
        "\n",
        "    x = x.view(x.size(0), x.size(1) * x.size(2) * x.size(3))\n",
        "\n",
        "    x = self.fc1(x)\n",
        "    x = self.act3(x)\n",
        "    x = self.fc2(x)\n",
        "    x = self.act4(x)\n",
        "    x = self.fc3(x)\n",
        "\n",
        "    return x\n",
        "\n",
        "lenet5 = LeNet5()\n",
        "\n",
        "\n",
        "\n",
        "\n",
        "\n"
      ]
    },
    {
      "cell_type": "markdown",
      "source": [
        "##Тестовая архитектура 2"
      ],
      "metadata": {
        "id": "aivw4wNB9Ypx"
      }
    },
    {
      "cell_type": "code",
      "execution_count": 117,
      "metadata": {
        "id": "4bs_2tX69U92"
      },
      "outputs": [],
      "source": [
        "class LeNet52(torch.nn.Module):\n",
        "  def __init__(self):\n",
        "    super(LeNet52, self).__init__()\n",
        "\n",
        "    self.conv1 = torch.nn.Conv2d(in_channels=1, out_channels=2,\n",
        "                                 kernel_size=3, padding=0)\n",
        "    self.conv2 = torch.nn.Conv2d(in_channels=2, out_channels=4,\n",
        "                                 kernel_size=3, padding=0)\n",
        "    self.conv3 = torch.nn.Conv2d(in_channels=4, out_channels=8,\n",
        "                                 kernel_size=3, padding=1)\n",
        "    #self.conv4 = torch.nn.Conv2d(in_channels=8, out_channels=8,\n",
        "          #                       kernel_size=3, padding=1)\n",
        "    #длина/ширина -> 2d\n",
        "    self.act1 = torch.nn.Tanh()\n",
        "    self.pool1 = torch.nn.AvgPool2d(kernel_size=2, stride=2)\n",
        "\n",
        "    self.conv5 = torch.nn.Conv2d(in_channels=8, out_channels=16,\n",
        "                                 kernel_size=3, padding=1)\n",
        "\n",
        "    self.conv6 = torch.nn.Conv2d(in_channels=16, out_channels=16,\n",
        "                                 kernel_size=3, padding=1)\n",
        "    self.conv7 = torch.nn.Conv2d(in_channels=16, out_channels=16,\n",
        "                                 kernel_size=3, padding=0)\n",
        "\n",
        "    self.act2 = torch.nn.Tanh()\n",
        "    self.pool2 = torch.nn.AvgPool2d(kernel_size=2, stride=2)\n",
        "\n",
        "    self.fc1 = torch.nn.Linear(5 * 5 * 16, 120)\n",
        "    self.act3 = torch.nn.Tanh()\n",
        "    self.fc2 = torch.nn.Linear(120, 84)\n",
        "    self.act4 = torch.nn.Tanh()\n",
        "    self.fc3 = torch.nn.Linear(84, 35)\n",
        "\n",
        "  def forward(self, x):\n",
        "    x = self.conv1(x)\n",
        "    x = self.conv2(x)\n",
        "    x = self.conv3(x)\n",
        "    #x = self.conv4(x)\n",
        "    x = self.act1(x)\n",
        "    x = self.pool1(x)\n",
        "\n",
        "    x = self.conv5(x)\n",
        "    x = self.conv6(x)\n",
        "    x = self.conv7(x)\n",
        "    #x = self.conv8(x)\n",
        "    #x = self.conv9(x)\n",
        "    x = self.act2(x)\n",
        "    x = self.pool2(x)\n",
        "\n",
        "    x = x.view(x.size(0), x.size(1) * x.size(2) * x.size(3))\n",
        "\n",
        "    x = self.fc1(x)\n",
        "    x = self.act3(x)\n",
        "    x = self.fc2(x)\n",
        "    x = self.act4(x)\n",
        "    x = self.fc3(x)\n",
        "\n",
        "    return x\n",
        "\n",
        "lenet5 = LeNet52()\n",
        "\n",
        "\n",
        "\n",
        "\n",
        "\n"
      ]
    },
    {
      "cell_type": "code",
      "execution_count": 118,
      "metadata": {
        "id": "6tBgppfELwXq"
      },
      "outputs": [],
      "source": [
        "device = torch.device('cuda:0' if torch.cuda.is_available() else 'cpu')\n",
        "lenet5 = lenet5.to(device)"
      ]
    },
    {
      "cell_type": "code",
      "execution_count": 119,
      "metadata": {
        "id": "3aXEO3OJMiR4"
      },
      "outputs": [],
      "source": [
        "loss = torch.nn.CrossEntropyLoss()\n",
        "optimizer = torch.optim.Adam(lenet5.parameters(), lr=1.0e-3)"
      ]
    },
    {
      "cell_type": "code",
      "execution_count": 120,
      "metadata": {
        "colab": {
          "base_uri": "https://localhost:8080/",
          "height": 1000
        },
        "id": "IXvmbpnZNw5-",
        "outputId": "c734ac29-40d5-4b08-e8f3-102ae66575ca"
      },
      "outputs": [
        {
          "output_type": "stream",
          "name": "stdout",
          "text": [
            "tensor(0.2015)\n",
            "tensor(0.3489)\n",
            "tensor(0.3963)\n",
            "tensor(0.4503)\n",
            "tensor(0.4831)\n",
            "tensor(0.5353)\n",
            "tensor(0.5703)\n",
            "tensor(0.5888)\n",
            "tensor(0.5923)\n",
            "tensor(0.6200)\n",
            "tensor(0.6337)\n",
            "tensor(0.6194)\n",
            "tensor(0.6481)\n",
            "tensor(0.6523)\n",
            "tensor(0.6533)\n",
            "tensor(0.6558)\n",
            "tensor(0.6566)\n",
            "tensor(0.6541)\n",
            "tensor(0.6713)\n",
            "tensor(0.6716)\n",
            "tensor(0.6808)\n",
            "tensor(0.6661)\n",
            "tensor(0.6723)\n",
            "tensor(0.6903)\n",
            "tensor(0.6686)\n",
            "tensor(0.6789)\n",
            "tensor(0.6808)\n",
            "tensor(0.6738)\n",
            "tensor(0.6784)\n",
            "tensor(0.6867)\n",
            "tensor(0.6883)\n",
            "tensor(0.6839)\n",
            "tensor(0.6917)\n",
            "tensor(0.6973)\n",
            "tensor(0.6887)\n",
            "tensor(0.6918)\n",
            "tensor(0.6884)\n",
            "tensor(0.6907)\n",
            "tensor(0.6867)\n",
            "tensor(0.6845)\n",
            "tensor(0.6822)\n",
            "tensor(0.6872)\n",
            "tensor(0.6878)\n",
            "tensor(0.6907)\n",
            "tensor(0.6923)\n",
            "tensor(0.6830)\n",
            "tensor(0.6904)\n",
            "tensor(0.6858)\n",
            "tensor(0.6819)\n",
            "tensor(0.6854)\n",
            "tensor(0.6960)\n",
            "tensor(0.6897)\n",
            "tensor(0.6911)\n",
            "tensor(0.6741)\n",
            "tensor(0.6791)\n",
            "tensor(0.6890)\n",
            "tensor(0.6753)\n",
            "tensor(0.6915)\n",
            "tensor(0.6809)\n",
            "tensor(0.6788)\n",
            "tensor(0.6842)\n",
            "tensor(0.6792)\n",
            "tensor(0.6814)\n",
            "tensor(0.6795)\n",
            "tensor(0.6789)\n",
            "tensor(0.6773)\n",
            "tensor(0.6761)\n",
            "tensor(0.6803)\n",
            "tensor(0.6863)\n",
            "tensor(0.6714)\n",
            "tensor(0.6848)\n",
            "tensor(0.6814)\n",
            "tensor(0.6824)\n",
            "tensor(0.6714)\n",
            "tensor(0.6822)\n",
            "tensor(0.6739)\n",
            "tensor(0.6810)\n",
            "tensor(0.6816)\n",
            "tensor(0.6754)\n",
            "tensor(0.6757)\n",
            "tensor(0.6867)\n",
            "tensor(0.6671)\n",
            "tensor(0.6720)\n",
            "tensor(0.6730)\n",
            "tensor(0.6837)\n",
            "tensor(0.6712)\n",
            "tensor(0.6780)\n",
            "tensor(0.6699)\n",
            "tensor(0.6768)\n",
            "tensor(0.6867)\n",
            "tensor(0.6798)\n",
            "tensor(0.6645)\n",
            "tensor(0.6753)\n",
            "tensor(0.6792)\n",
            "tensor(0.6689)\n",
            "tensor(0.6719)\n",
            "tensor(0.6758)\n",
            "tensor(0.6812)\n",
            "tensor(0.6736)\n",
            "tensor(0.6698)\n"
          ]
        },
        {
          "output_type": "execute_result",
          "data": {
            "text/plain": [
              "<matplotlib.legend.Legend at 0x77fd06e20b20>"
            ]
          },
          "metadata": {},
          "execution_count": 120
        },
        {
          "output_type": "display_data",
          "data": {
            "text/plain": [
              "<Figure size 640x480 with 2 Axes>"
            ],
            "image/png": "[encoded data removed]"
          },
          "metadata": {}
        }
      ],
      "source": [
        "batch_size = 1120\n",
        "test_accuracy_history = []\n",
        "test_loss_history = []\n",
        "train_accuracy_history = []\n",
        "#x_test = x_test.to(device)\n",
        "#y_test = y_test.to(device)\n",
        "for epoch in range(100):\n",
        "  order = np.random.permutation(len(train_data))\n",
        "  for start_index in range(0, len(train_data), batch_size):\n",
        "    optimizer.zero_grad()\n",
        "\n",
        "    batch_indexes = order[start_index:start_index + batch_size]\n",
        "    train_batch = train_data[batch_indexes].to(device)\n",
        "    label_batch = train_labels[batch_indexes].to(device)\n",
        "\n",
        "    preds = lenet5.forward(train_batch)\n",
        "\n",
        "    loss_value = loss(preds, label_batch)\n",
        "    loss_value.backward()\n",
        "\n",
        "    optimizer.step()\n",
        "  test_preds = lenet5.forward(test_data)\n",
        "  test_loss_history.append(loss(test_preds, test_labels).data.cpu())\n",
        "\n",
        "  accuracy = (test_preds.argmax(dim=1) == test_labels).float().mean().data.cpu()\n",
        "  test_accuracy_history.append(accuracy)\n",
        "  print(accuracy)\n",
        "\n",
        "plt.subplot(2, 1, 1)\n",
        "g1, = plt.plot(range(len(test_accuracy_history)), test_accuracy_history, c='b', label='Test accuracy history')\n",
        "plt.subplot(2, 1, 2)\n",
        "g2, = plt.plot(range(len(test_loss_history)), test_loss_history, c='r', label='Test loss history')\n",
        "plt.legend(handles=[g1, g2])\n",
        "\n",
        "\n"
      ]
    },
    {
      "cell_type": "code",
      "source": [
        "x = [1, 2, 3, 4, 5]\n",
        "y = [u for u in x]\n",
        "y_1 = [u**0.5 for u in x]\n",
        "g1, = plt.plot(x, y, c='r', label='g1')\n",
        "g2, = plt.plot(x, y_1, c='b', label='g2')\n",
        "plt.legend(handles=[g1, g2])\n",
        "plt.show()"
      ],
      "metadata": {
        "id": "rK0bktpfWTaI"
      },
      "execution_count": null,
      "outputs": []
    },
    {
      "cell_type": "code",
      "source": [
        "plt.plot(range(len(test_accuracy_history)), test_accuracy_history, c='blue', label='Train accuracy history')"
      ],
      "metadata": {
        "id": "-H2szxiQsHts"
      },
      "execution_count": null,
      "outputs": []
    }
  ],
  "metadata": {
    "colab": {
      "provenance": [],
      "gpuType": "T4",
      "authorship_tag": "ABX9TyO9WU+0P7eWzG0hN+Wxh0wY",
      "include_colab_link": true
    },
    "kernelspec": {
      "display_name": "Python 3",
      "name": "python3"
    },
    "language_info": {
      "name": "python"
    },
    "accelerator": "GPU"
  },
  "nbformat": 4,
  "nbformat_minor": 0
}