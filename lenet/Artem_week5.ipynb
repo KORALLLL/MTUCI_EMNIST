{
  "nbformat": 4,
  "nbformat_minor": 0,
  "metadata": {
    "colab": {
      "provenance": [],
      "gpuType": "T4",
      "include_colab_link": true
    },
    "kernelspec": {
      "name": "python3",
      "display_name": "Python 3"
    },
    "language_info": {
      "name": "python"
    },
    "accelerator": "GPU",
    "widgets": {
      "application/vnd.jupyter.widget-state+json": {
        "5edad8ecc1f34bb291266abb5508ab20": {
          "model_module": "@jupyter-widgets/controls",
          "model_name": "HBoxModel",
          "model_module_version": "1.5.0",
          "state": {
            "_dom_classes": [],
            "_model_module": "@jupyter-widgets/controls",
            "_model_module_version": "1.5.0",
            "_model_name": "HBoxModel",
            "_view_count": null,
            "_view_module": "@jupyter-widgets/controls",
            "_view_module_version": "1.5.0",
            "_view_name": "HBoxView",
            "box_style": "",
            "children": [
              "IPY_MODEL_21935de307414138b5775f5914ef2559",
              "IPY_MODEL_9145b78580124ce5b3839e0bd52c3d30",
              "IPY_MODEL_48647bdbf6844631b42011ae21325a38"
            ],
            "layout": "IPY_MODEL_e432d8389a0449debaad0490fb8cc4ec"
          }
        },
        "21935de307414138b5775f5914ef2559": {
          "model_module": "@jupyter-widgets/controls",
          "model_name": "HTMLModel",
          "model_module_version": "1.5.0",
          "state": {
            "_dom_classes": [],
            "_model_module": "@jupyter-widgets/controls",
            "_model_module_version": "1.5.0",
            "_model_name": "HTMLModel",
            "_view_count": null,
            "_view_module": "@jupyter-widgets/controls",
            "_view_module_version": "1.5.0",
            "_view_name": "HTMLView",
            "description": "",
            "description_tooltip": null,
            "layout": "IPY_MODEL_50d64c510c634ffb92e23205b99f28ff",
            "placeholder": "​",
            "style": "IPY_MODEL_0e5c0322e4a04b3896ae33c3cd39ee28",
            "value": "DROPOUT RATE: 100%"
          }
        },
        "9145b78580124ce5b3839e0bd52c3d30": {
          "model_module": "@jupyter-widgets/controls",
          "model_name": "FloatProgressModel",
          "model_module_version": "1.5.0",
          "state": {
            "_dom_classes": [],
            "_model_module": "@jupyter-widgets/controls",
            "_model_module_version": "1.5.0",
            "_model_name": "FloatProgressModel",
            "_view_count": null,
            "_view_module": "@jupyter-widgets/controls",
            "_view_module_version": "1.5.0",
            "_view_name": "ProgressView",
            "bar_style": "",
            "description": "",
            "description_tooltip": null,
            "layout": "IPY_MODEL_69cabfc229af427a89755bc5909fd97b",
            "max": 6,
            "min": 0,
            "orientation": "horizontal",
            "style": "IPY_MODEL_ac6ca08fd07f4048ae8a14fabf220d98",
            "value": 6
          }
        },
        "48647bdbf6844631b42011ae21325a38": {
          "model_module": "@jupyter-widgets/controls",
          "model_name": "HTMLModel",
          "model_module_version": "1.5.0",
          "state": {
            "_dom_classes": [],
            "_model_module": "@jupyter-widgets/controls",
            "_model_module_version": "1.5.0",
            "_model_name": "HTMLModel",
            "_view_count": null,
            "_view_module": "@jupyter-widgets/controls",
            "_view_module_version": "1.5.0",
            "_view_name": "HTMLView",
            "description": "",
            "description_tooltip": null,
            "layout": "IPY_MODEL_3931e116c3e24bc4ba2cd946c6a99a57",
            "placeholder": "​",
            "style": "IPY_MODEL_72a02e9d27dd479c8fc08e2553d65cf8",
            "value": " 6/6 [29:32&lt;00:00, 296.18s/it]"
          }
        },
        "e432d8389a0449debaad0490fb8cc4ec": {
          "model_module": "@jupyter-widgets/base",
          "model_name": "LayoutModel",
          "model_module_version": "1.2.0",
          "state": {
            "_model_module": "@jupyter-widgets/base",
            "_model_module_version": "1.2.0",
            "_model_name": "LayoutModel",
            "_view_count": null,
            "_view_module": "@jupyter-widgets/base",
            "_view_module_version": "1.2.0",
            "_view_name": "LayoutView",
            "align_content": null,
            "align_items": null,
            "align_self": null,
            "border": null,
            "bottom": null,
            "display": null,
            "flex": null,
            "flex_flow": null,
            "grid_area": null,
            "grid_auto_columns": null,
            "grid_auto_flow": null,
            "grid_auto_rows": null,
            "grid_column": null,
            "grid_gap": null,
            "grid_row": null,
            "grid_template_areas": null,
            "grid_template_columns": null,
            "grid_template_rows": null,
            "height": null,
            "justify_content": null,
            "justify_items": null,
            "left": null,
            "margin": null,
            "max_height": null,
            "max_width": null,
            "min_height": null,
            "min_width": null,
            "object_fit": null,
            "object_position": null,
            "order": null,
            "overflow": null,
            "overflow_x": null,
            "overflow_y": null,
            "padding": null,
            "right": null,
            "top": null,
            "visibility": "hidden",
            "width": null
          }
        },
        "50d64c510c634ffb92e23205b99f28ff": {
          "model_module": "@jupyter-widgets/base",
          "model_name": "LayoutModel",
          "model_module_version": "1.2.0",
          "state": {
            "_model_module": "@jupyter-widgets/base",
            "_model_module_version": "1.2.0",
            "_model_name": "LayoutModel",
            "_view_count": null,
            "_view_module": "@jupyter-widgets/base",
            "_view_module_version": "1.2.0",
            "_view_name": "LayoutView",
            "align_content": null,
            "align_items": null,
            "align_self": null,
            "border": null,
            "bottom": null,
            "display": null,
            "flex": null,
            "flex_flow": null,
            "grid_area": null,
            "grid_auto_columns": null,
            "grid_auto_flow": null,
            "grid_auto_rows": null,
            "grid_column": null,
            "grid_gap": null,
            "grid_row": null,
            "grid_template_areas": null,
            "grid_template_columns": null,
            "grid_template_rows": null,
            "height": null,
            "justify_content": null,
            "justify_items": null,
            "left": null,
            "margin": null,
            "max_height": null,
            "max_width": null,
            "min_height": null,
            "min_width": null,
            "object_fit": null,
            "object_position": null,
            "order": null,
            "overflow": null,
            "overflow_x": null,
            "overflow_y": null,
            "padding": null,
            "right": null,
            "top": null,
            "visibility": null,
            "width": null
          }
        },
        "0e5c0322e4a04b3896ae33c3cd39ee28": {
          "model_module": "@jupyter-widgets/controls",
          "model_name": "DescriptionStyleModel",
          "model_module_version": "1.5.0",
          "state": {
            "_model_module": "@jupyter-widgets/controls",
            "_model_module_version": "1.5.0",
            "_model_name": "DescriptionStyleModel",
            "_view_count": null,
            "_view_module": "@jupyter-widgets/base",
            "_view_module_version": "1.2.0",
            "_view_name": "StyleView",
            "description_width": ""
          }
        },
        "69cabfc229af427a89755bc5909fd97b": {
          "model_module": "@jupyter-widgets/base",
          "model_name": "LayoutModel",
          "model_module_version": "1.2.0",
          "state": {
            "_model_module": "@jupyter-widgets/base",
            "_model_module_version": "1.2.0",
            "_model_name": "LayoutModel",
            "_view_count": null,
            "_view_module": "@jupyter-widgets/base",
            "_view_module_version": "1.2.0",
            "_view_name": "LayoutView",
            "align_content": null,
            "align_items": null,
            "align_self": null,
            "border": null,
            "bottom": null,
            "display": null,
            "flex": null,
            "flex_flow": null,
            "grid_area": null,
            "grid_auto_columns": null,
            "grid_auto_flow": null,
            "grid_auto_rows": null,
            "grid_column": null,
            "grid_gap": null,
            "grid_row": null,
            "grid_template_areas": null,
            "grid_template_columns": null,
            "grid_template_rows": null,
            "height": null,
            "justify_content": null,
            "justify_items": null,
            "left": null,
            "margin": null,
            "max_height": null,
            "max_width": null,
            "min_height": null,
            "min_width": null,
            "object_fit": null,
            "object_position": null,
            "order": null,
            "overflow": null,
            "overflow_x": null,
            "overflow_y": null,
            "padding": null,
            "right": null,
            "top": null,
            "visibility": null,
            "width": null
          }
        },
        "ac6ca08fd07f4048ae8a14fabf220d98": {
          "model_module": "@jupyter-widgets/controls",
          "model_name": "ProgressStyleModel",
          "model_module_version": "1.5.0",
          "state": {
            "_model_module": "@jupyter-widgets/controls",
            "_model_module_version": "1.5.0",
            "_model_name": "ProgressStyleModel",
            "_view_count": null,
            "_view_module": "@jupyter-widgets/base",
            "_view_module_version": "1.2.0",
            "_view_name": "StyleView",
            "bar_color": null,
            "description_width": ""
          }
        },
        "3931e116c3e24bc4ba2cd946c6a99a57": {
          "model_module": "@jupyter-widgets/base",
          "model_name": "LayoutModel",
          "model_module_version": "1.2.0",
          "state": {
            "_model_module": "@jupyter-widgets/base",
            "_model_module_version": "1.2.0",
            "_model_name": "LayoutModel",
            "_view_count": null,
            "_view_module": "@jupyter-widgets/base",
            "_view_module_version": "1.2.0",
            "_view_name": "LayoutView",
            "align_content": null,
            "align_items": null,
            "align_self": null,
            "border": null,
            "bottom": null,
            "display": null,
            "flex": null,
            "flex_flow": null,
            "grid_area": null,
            "grid_auto_columns": null,
            "grid_auto_flow": null,
            "grid_auto_rows": null,
            "grid_column": null,
            "grid_gap": null,
            "grid_row": null,
            "grid_template_areas": null,
            "grid_template_columns": null,
            "grid_template_rows": null,
            "height": null,
            "justify_content": null,
            "justify_items": null,
            "left": null,
            "margin": null,
            "max_height": null,
            "max_width": null,
            "min_height": null,
            "min_width": null,
            "object_fit": null,
            "object_position": null,
            "order": null,
            "overflow": null,
            "overflow_x": null,
            "overflow_y": null,
            "padding": null,
            "right": null,
            "top": null,
            "visibility": null,
            "width": null
          }
        },
        "72a02e9d27dd479c8fc08e2553d65cf8": {
          "model_module": "@jupyter-widgets/controls",
          "model_name": "DescriptionStyleModel",
          "model_module_version": "1.5.0",
          "state": {
            "_model_module": "@jupyter-widgets/controls",
            "_model_module_version": "1.5.0",
            "_model_name": "DescriptionStyleModel",
            "_view_count": null,
            "_view_module": "@jupyter-widgets/base",
            "_view_module_version": "1.2.0",
            "_view_name": "StyleView",
            "description_width": ""
          }
        },
        "cf9a23f896bf49df9648c3cb5024b187": {
          "model_module": "@jupyter-widgets/controls",
          "model_name": "HBoxModel",
          "model_module_version": "1.5.0",
          "state": {
            "_dom_classes": [],
            "_model_module": "@jupyter-widgets/controls",
            "_model_module_version": "1.5.0",
            "_model_name": "HBoxModel",
            "_view_count": null,
            "_view_module": "@jupyter-widgets/controls",
            "_view_module_version": "1.5.0",
            "_view_name": "HBoxView",
            "box_style": "",
            "children": [
              "IPY_MODEL_3f1012ef6ad1406181b1b9129f246eb3",
              "IPY_MODEL_e2bceb387df44f9a824fecf434a747ac",
              "IPY_MODEL_671706afa6fe427d86993e48eeb90b19"
            ],
            "layout": "IPY_MODEL_1651ebb076af45b08aff3aede18b2e39"
          }
        },
        "3f1012ef6ad1406181b1b9129f246eb3": {
          "model_module": "@jupyter-widgets/controls",
          "model_name": "HTMLModel",
          "model_module_version": "1.5.0",
          "state": {
            "_dom_classes": [],
            "_model_module": "@jupyter-widgets/controls",
            "_model_module_version": "1.5.0",
            "_model_name": "HTMLModel",
            "_view_count": null,
            "_view_module": "@jupyter-widgets/controls",
            "_view_module_version": "1.5.0",
            "_view_name": "HTMLView",
            "description": "",
            "description_tooltip": null,
            "layout": "IPY_MODEL_25829998c812429cb1eca3029a0e1f6b",
            "placeholder": "​",
            "style": "IPY_MODEL_6899c502e7714e88ab20df4ad3377946",
            "value": "LEARNING: 100%"
          }
        },
        "e2bceb387df44f9a824fecf434a747ac": {
          "model_module": "@jupyter-widgets/controls",
          "model_name": "FloatProgressModel",
          "model_module_version": "1.5.0",
          "state": {
            "_dom_classes": [],
            "_model_module": "@jupyter-widgets/controls",
            "_model_module_version": "1.5.0",
            "_model_name": "FloatProgressModel",
            "_view_count": null,
            "_view_module": "@jupyter-widgets/controls",
            "_view_module_version": "1.5.0",
            "_view_name": "ProgressView",
            "bar_style": "",
            "description": "",
            "description_tooltip": null,
            "layout": "IPY_MODEL_860360be3a5440348c04bb1267c14d11",
            "max": 200,
            "min": 0,
            "orientation": "horizontal",
            "style": "IPY_MODEL_9936d172973a450aa026cb753a8994e0",
            "value": 200
          }
        },
        "671706afa6fe427d86993e48eeb90b19": {
          "model_module": "@jupyter-widgets/controls",
          "model_name": "HTMLModel",
          "model_module_version": "1.5.0",
          "state": {
            "_dom_classes": [],
            "_model_module": "@jupyter-widgets/controls",
            "_model_module_version": "1.5.0",
            "_model_name": "HTMLModel",
            "_view_count": null,
            "_view_module": "@jupyter-widgets/controls",
            "_view_module_version": "1.5.0",
            "_view_name": "HTMLView",
            "description": "",
            "description_tooltip": null,
            "layout": "IPY_MODEL_6bd52c523c074ccb9dcac7db015d0124",
            "placeholder": "​",
            "style": "IPY_MODEL_0209a51bcc1044c7ba6512c52a8ce10b",
            "value": " 200/200 [04:49&lt;00:00,  1.48s/it]"
          }
        },
        "1651ebb076af45b08aff3aede18b2e39": {
          "model_module": "@jupyter-widgets/base",
          "model_name": "LayoutModel",
          "model_module_version": "1.2.0",
          "state": {
            "_model_module": "@jupyter-widgets/base",
            "_model_module_version": "1.2.0",
            "_model_name": "LayoutModel",
            "_view_count": null,
            "_view_module": "@jupyter-widgets/base",
            "_view_module_version": "1.2.0",
            "_view_name": "LayoutView",
            "align_content": null,
            "align_items": null,
            "align_self": null,
            "border": null,
            "bottom": null,
            "display": null,
            "flex": null,
            "flex_flow": null,
            "grid_area": null,
            "grid_auto_columns": null,
            "grid_auto_flow": null,
            "grid_auto_rows": null,
            "grid_column": null,
            "grid_gap": null,
            "grid_row": null,
            "grid_template_areas": null,
            "grid_template_columns": null,
            "grid_template_rows": null,
            "height": null,
            "justify_content": null,
            "justify_items": null,
            "left": null,
            "margin": null,
            "max_height": null,
            "max_width": null,
            "min_height": null,
            "min_width": null,
            "object_fit": null,
            "object_position": null,
            "order": null,
            "overflow": null,
            "overflow_x": null,
            "overflow_y": null,
            "padding": null,
            "right": null,
            "top": null,
            "visibility": "hidden",
            "width": null
          }
        },
        "25829998c812429cb1eca3029a0e1f6b": {
          "model_module": "@jupyter-widgets/base",
          "model_name": "LayoutModel",
          "model_module_version": "1.2.0",
          "state": {
            "_model_module": "@jupyter-widgets/base",
            "_model_module_version": "1.2.0",
            "_model_name": "LayoutModel",
            "_view_count": null,
            "_view_module": "@jupyter-widgets/base",
            "_view_module_version": "1.2.0",
            "_view_name": "LayoutView",
            "align_content": null,
            "align_items": null,
            "align_self": null,
            "border": null,
            "bottom": null,
            "display": null,
            "flex": null,
            "flex_flow": null,
            "grid_area": null,
            "grid_auto_columns": null,
            "grid_auto_flow": null,
            "grid_auto_rows": null,
            "grid_column": null,
            "grid_gap": null,
            "grid_row": null,
            "grid_template_areas": null,
            "grid_template_columns": null,
            "grid_template_rows": null,
            "height": null,
            "justify_content": null,
            "justify_items": null,
            "left": null,
            "margin": null,
            "max_height": null,
            "max_width": null,
            "min_height": null,
            "min_width": null,
            "object_fit": null,
            "object_position": null,
            "order": null,
            "overflow": null,
            "overflow_x": null,
            "overflow_y": null,
            "padding": null,
            "right": null,
            "top": null,
            "visibility": null,
            "width": null
          }
        },
        "6899c502e7714e88ab20df4ad3377946": {
          "model_module": "@jupyter-widgets/controls",
          "model_name": "DescriptionStyleModel",
          "model_module_version": "1.5.0",
          "state": {
            "_model_module": "@jupyter-widgets/controls",
            "_model_module_version": "1.5.0",
            "_model_name": "DescriptionStyleModel",
            "_view_count": null,
            "_view_module": "@jupyter-widgets/base",
            "_view_module_version": "1.2.0",
            "_view_name": "StyleView",
            "description_width": ""
          }
        },
        "860360be3a5440348c04bb1267c14d11": {
          "model_module": "@jupyter-widgets/base",
          "model_name": "LayoutModel",
          "model_module_version": "1.2.0",
          "state": {
            "_model_module": "@jupyter-widgets/base",
            "_model_module_version": "1.2.0",
            "_model_name": "LayoutModel",
            "_view_count": null,
            "_view_module": "@jupyter-widgets/base",
            "_view_module_version": "1.2.0",
            "_view_name": "LayoutView",
            "align_content": null,
            "align_items": null,
            "align_self": null,
            "border": null,
            "bottom": null,
            "display": null,
            "flex": null,
            "flex_flow": null,
            "grid_area": null,
            "grid_auto_columns": null,
            "grid_auto_flow": null,
            "grid_auto_rows": null,
            "grid_column": null,
            "grid_gap": null,
            "grid_row": null,
            "grid_template_areas": null,
            "grid_template_columns": null,
            "grid_template_rows": null,
            "height": null,
            "justify_content": null,
            "justify_items": null,
            "left": null,
            "margin": null,
            "max_height": null,
            "max_width": null,
            "min_height": null,
            "min_width": null,
            "object_fit": null,
            "object_position": null,
            "order": null,
            "overflow": null,
            "overflow_x": null,
            "overflow_y": null,
            "padding": null,
            "right": null,
            "top": null,
            "visibility": null,
            "width": null
          }
        },
        "9936d172973a450aa026cb753a8994e0": {
          "model_module": "@jupyter-widgets/controls",
          "model_name": "ProgressStyleModel",
          "model_module_version": "1.5.0",
          "state": {
            "_model_module": "@jupyter-widgets/controls",
            "_model_module_version": "1.5.0",
            "_model_name": "ProgressStyleModel",
            "_view_count": null,
            "_view_module": "@jupyter-widgets/base",
            "_view_module_version": "1.2.0",
            "_view_name": "StyleView",
            "bar_color": null,
            "description_width": ""
          }
        },
        "6bd52c523c074ccb9dcac7db015d0124": {
          "model_module": "@jupyter-widgets/base",
          "model_name": "LayoutModel",
          "model_module_version": "1.2.0",
          "state": {
            "_model_module": "@jupyter-widgets/base",
            "_model_module_version": "1.2.0",
            "_model_name": "LayoutModel",
            "_view_count": null,
            "_view_module": "@jupyter-widgets/base",
            "_view_module_version": "1.2.0",
            "_view_name": "LayoutView",
            "align_content": null,
            "align_items": null,
            "align_self": null,
            "border": null,
            "bottom": null,
            "display": null,
            "flex": null,
            "flex_flow": null,
            "grid_area": null,
            "grid_auto_columns": null,
            "grid_auto_flow": null,
            "grid_auto_rows": null,
            "grid_column": null,
            "grid_gap": null,
            "grid_row": null,
            "grid_template_areas": null,
            "grid_template_columns": null,
            "grid_template_rows": null,
            "height": null,
            "justify_content": null,
            "justify_items": null,
            "left": null,
            "margin": null,
            "max_height": null,
            "max_width": null,
            "min_height": null,
            "min_width": null,
            "object_fit": null,
            "object_position": null,
            "order": null,
            "overflow": null,
            "overflow_x": null,
            "overflow_y": null,
            "padding": null,
            "right": null,
            "top": null,
            "visibility": null,
            "width": null
          }
        },
        "0209a51bcc1044c7ba6512c52a8ce10b": {
          "model_module": "@jupyter-widgets/controls",
          "model_name": "DescriptionStyleModel",
          "model_module_version": "1.5.0",
          "state": {
            "_model_module": "@jupyter-widgets/controls",
            "_model_module_version": "1.5.0",
            "_model_name": "DescriptionStyleModel",
            "_view_count": null,
            "_view_module": "@jupyter-widgets/base",
            "_view_module_version": "1.2.0",
            "_view_name": "StyleView",
            "description_width": ""
          }
        },
        "a72472d4f4c5447cbf262f32523de750": {
          "model_module": "@jupyter-widgets/controls",
          "model_name": "HBoxModel",
          "model_module_version": "1.5.0",
          "state": {
            "_dom_classes": [],
            "_model_module": "@jupyter-widgets/controls",
            "_model_module_version": "1.5.0",
            "_model_name": "HBoxModel",
            "_view_count": null,
            "_view_module": "@jupyter-widgets/controls",
            "_view_module_version": "1.5.0",
            "_view_name": "HBoxView",
            "box_style": "",
            "children": [
              "IPY_MODEL_1aed145a95ab4190a9b0de6986077185",
              "IPY_MODEL_71c8abbbae254997bca4999874ed674c",
              "IPY_MODEL_db15163842af44e3bd021a089de527b5"
            ],
            "layout": "IPY_MODEL_4d7fd68890a54b279a9367fb2e8c3137"
          }
        },
        "1aed145a95ab4190a9b0de6986077185": {
          "model_module": "@jupyter-widgets/controls",
          "model_name": "HTMLModel",
          "model_module_version": "1.5.0",
          "state": {
            "_dom_classes": [],
            "_model_module": "@jupyter-widgets/controls",
            "_model_module_version": "1.5.0",
            "_model_name": "HTMLModel",
            "_view_count": null,
            "_view_module": "@jupyter-widgets/controls",
            "_view_module_version": "1.5.0",
            "_view_name": "HTMLView",
            "description": "",
            "description_tooltip": null,
            "layout": "IPY_MODEL_65924d4fad384785949218b92bdfe39a",
            "placeholder": "​",
            "style": "IPY_MODEL_cbe32374f72e4c0a987e8c8070faa1ab",
            "value": "LEARNING: 100%"
          }
        },
        "71c8abbbae254997bca4999874ed674c": {
          "model_module": "@jupyter-widgets/controls",
          "model_name": "FloatProgressModel",
          "model_module_version": "1.5.0",
          "state": {
            "_dom_classes": [],
            "_model_module": "@jupyter-widgets/controls",
            "_model_module_version": "1.5.0",
            "_model_name": "FloatProgressModel",
            "_view_count": null,
            "_view_module": "@jupyter-widgets/controls",
            "_view_module_version": "1.5.0",
            "_view_name": "ProgressView",
            "bar_style": "",
            "description": "",
            "description_tooltip": null,
            "layout": "IPY_MODEL_959707f7ded943bf98a8d814dcc477c7",
            "max": 200,
            "min": 0,
            "orientation": "horizontal",
            "style": "IPY_MODEL_cba18248a08f47139062b674506f6f1b",
            "value": 200
          }
        },
        "db15163842af44e3bd021a089de527b5": {
          "model_module": "@jupyter-widgets/controls",
          "model_name": "HTMLModel",
          "model_module_version": "1.5.0",
          "state": {
            "_dom_classes": [],
            "_model_module": "@jupyter-widgets/controls",
            "_model_module_version": "1.5.0",
            "_model_name": "HTMLModel",
            "_view_count": null,
            "_view_module": "@jupyter-widgets/controls",
            "_view_module_version": "1.5.0",
            "_view_name": "HTMLView",
            "description": "",
            "description_tooltip": null,
            "layout": "IPY_MODEL_cdd0f723765c49ba9996c52d17695097",
            "placeholder": "​",
            "style": "IPY_MODEL_746002fd69244c51a7df59e3a801cdd9",
            "value": " 200/200 [04:56&lt;00:00,  1.48s/it]"
          }
        },
        "4d7fd68890a54b279a9367fb2e8c3137": {
          "model_module": "@jupyter-widgets/base",
          "model_name": "LayoutModel",
          "model_module_version": "1.2.0",
          "state": {
            "_model_module": "@jupyter-widgets/base",
            "_model_module_version": "1.2.0",
            "_model_name": "LayoutModel",
            "_view_count": null,
            "_view_module": "@jupyter-widgets/base",
            "_view_module_version": "1.2.0",
            "_view_name": "LayoutView",
            "align_content": null,
            "align_items": null,
            "align_self": null,
            "border": null,
            "bottom": null,
            "display": null,
            "flex": null,
            "flex_flow": null,
            "grid_area": null,
            "grid_auto_columns": null,
            "grid_auto_flow": null,
            "grid_auto_rows": null,
            "grid_column": null,
            "grid_gap": null,
            "grid_row": null,
            "grid_template_areas": null,
            "grid_template_columns": null,
            "grid_template_rows": null,
            "height": null,
            "justify_content": null,
            "justify_items": null,
            "left": null,
            "margin": null,
            "max_height": null,
            "max_width": null,
            "min_height": null,
            "min_width": null,
            "object_fit": null,
            "object_position": null,
            "order": null,
            "overflow": null,
            "overflow_x": null,
            "overflow_y": null,
            "padding": null,
            "right": null,
            "top": null,
            "visibility": "hidden",
            "width": null
          }
        },
        "65924d4fad384785949218b92bdfe39a": {
          "model_module": "@jupyter-widgets/base",
          "model_name": "LayoutModel",
          "model_module_version": "1.2.0",
          "state": {
            "_model_module": "@jupyter-widgets/base",
            "_model_module_version": "1.2.0",
            "_model_name": "LayoutModel",
            "_view_count": null,
            "_view_module": "@jupyter-widgets/base",
            "_view_module_version": "1.2.0",
            "_view_name": "LayoutView",
            "align_content": null,
            "align_items": null,
            "align_self": null,
            "border": null,
            "bottom": null,
            "display": null,
            "flex": null,
            "flex_flow": null,
            "grid_area": null,
            "grid_auto_columns": null,
            "grid_auto_flow": null,
            "grid_auto_rows": null,
            "grid_column": null,
            "grid_gap": null,
            "grid_row": null,
            "grid_template_areas": null,
            "grid_template_columns": null,
            "grid_template_rows": null,
            "height": null,
            "justify_content": null,
            "justify_items": null,
            "left": null,
            "margin": null,
            "max_height": null,
            "max_width": null,
            "min_height": null,
            "min_width": null,
            "object_fit": null,
            "object_position": null,
            "order": null,
            "overflow": null,
            "overflow_x": null,
            "overflow_y": null,
            "padding": null,
            "right": null,
            "top": null,
            "visibility": null,
            "width": null
          }
        },
        "cbe32374f72e4c0a987e8c8070faa1ab": {
          "model_module": "@jupyter-widgets/controls",
          "model_name": "DescriptionStyleModel",
          "model_module_version": "1.5.0",
          "state": {
            "_model_module": "@jupyter-widgets/controls",
            "_model_module_version": "1.5.0",
            "_model_name": "DescriptionStyleModel",
            "_view_count": null,
            "_view_module": "@jupyter-widgets/base",
            "_view_module_version": "1.2.0",
            "_view_name": "StyleView",
            "description_width": ""
          }
        },
        "959707f7ded943bf98a8d814dcc477c7": {
          "model_module": "@jupyter-widgets/base",
          "model_name": "LayoutModel",
          "model_module_version": "1.2.0",
          "state": {
            "_model_module": "@jupyter-widgets/base",
            "_model_module_version": "1.2.0",
            "_model_name": "LayoutModel",
            "_view_count": null,
            "_view_module": "@jupyter-widgets/base",
            "_view_module_version": "1.2.0",
            "_view_name": "LayoutView",
            "align_content": null,
            "align_items": null,
            "align_self": null,
            "border": null,
            "bottom": null,
            "display": null,
            "flex": null,
            "flex_flow": null,
            "grid_area": null,
            "grid_auto_columns": null,
            "grid_auto_flow": null,
            "grid_auto_rows": null,
            "grid_column": null,
            "grid_gap": null,
            "grid_row": null,
            "grid_template_areas": null,
            "grid_template_columns": null,
            "grid_template_rows": null,
            "height": null,
            "justify_content": null,
            "justify_items": null,
            "left": null,
            "margin": null,
            "max_height": null,
            "max_width": null,
            "min_height": null,
            "min_width": null,
            "object_fit": null,
            "object_position": null,
            "order": null,
            "overflow": null,
            "overflow_x": null,
            "overflow_y": null,
            "padding": null,
            "right": null,
            "top": null,
            "visibility": null,
            "width": null
          }
        },
        "cba18248a08f47139062b674506f6f1b": {
          "model_module": "@jupyter-widgets/controls",
          "model_name": "ProgressStyleModel",
          "model_module_version": "1.5.0",
          "state": {
            "_model_module": "@jupyter-widgets/controls",
            "_model_module_version": "1.5.0",
            "_model_name": "ProgressStyleModel",
            "_view_count": null,
            "_view_module": "@jupyter-widgets/base",
            "_view_module_version": "1.2.0",
            "_view_name": "StyleView",
            "bar_color": null,
            "description_width": ""
          }
        },
        "cdd0f723765c49ba9996c52d17695097": {
          "model_module": "@jupyter-widgets/base",
          "model_name": "LayoutModel",
          "model_module_version": "1.2.0",
          "state": {
            "_model_module": "@jupyter-widgets/base",
            "_model_module_version": "1.2.0",
            "_model_name": "LayoutModel",
            "_view_count": null,
            "_view_module": "@jupyter-widgets/base",
            "_view_module_version": "1.2.0",
            "_view_name": "LayoutView",
            "align_content": null,
            "align_items": null,
            "align_self": null,
            "border": null,
            "bottom": null,
            "display": null,
            "flex": null,
            "flex_flow": null,
            "grid_area": null,
            "grid_auto_columns": null,
            "grid_auto_flow": null,
            "grid_auto_rows": null,
            "grid_column": null,
            "grid_gap": null,
            "grid_row": null,
            "grid_template_areas": null,
            "grid_template_columns": null,
            "grid_template_rows": null,
            "height": null,
            "justify_content": null,
            "justify_items": null,
            "left": null,
            "margin": null,
            "max_height": null,
            "max_width": null,
            "min_height": null,
            "min_width": null,
            "object_fit": null,
            "object_position": null,
            "order": null,
            "overflow": null,
            "overflow_x": null,
            "overflow_y": null,
            "padding": null,
            "right": null,
            "top": null,
            "visibility": null,
            "width": null
          }
        },
        "746002fd69244c51a7df59e3a801cdd9": {
          "model_module": "@jupyter-widgets/controls",
          "model_name": "DescriptionStyleModel",
          "model_module_version": "1.5.0",
          "state": {
            "_model_module": "@jupyter-widgets/controls",
            "_model_module_version": "1.5.0",
            "_model_name": "DescriptionStyleModel",
            "_view_count": null,
            "_view_module": "@jupyter-widgets/base",
            "_view_module_version": "1.2.0",
            "_view_name": "StyleView",
            "description_width": ""
          }
        },
        "7c352736499f49dbbcc00608c3055818": {
          "model_module": "@jupyter-widgets/controls",
          "model_name": "HBoxModel",
          "model_module_version": "1.5.0",
          "state": {
            "_dom_classes": [],
            "_model_module": "@jupyter-widgets/controls",
            "_model_module_version": "1.5.0",
            "_model_name": "HBoxModel",
            "_view_count": null,
            "_view_module": "@jupyter-widgets/controls",
            "_view_module_version": "1.5.0",
            "_view_name": "HBoxView",
            "box_style": "",
            "children": [
              "IPY_MODEL_bdd97e2373df45688f10bb649725f47e",
              "IPY_MODEL_832629c512794ae78fa7ab17495c2422",
              "IPY_MODEL_9d11f64bbb184121944fa69ee4ea6d31"
            ],
            "layout": "IPY_MODEL_ebcb0fe429e14b89b979aab2fba60e76"
          }
        },
        "bdd97e2373df45688f10bb649725f47e": {
          "model_module": "@jupyter-widgets/controls",
          "model_name": "HTMLModel",
          "model_module_version": "1.5.0",
          "state": {
            "_dom_classes": [],
            "_model_module": "@jupyter-widgets/controls",
            "_model_module_version": "1.5.0",
            "_model_name": "HTMLModel",
            "_view_count": null,
            "_view_module": "@jupyter-widgets/controls",
            "_view_module_version": "1.5.0",
            "_view_name": "HTMLView",
            "description": "",
            "description_tooltip": null,
            "layout": "IPY_MODEL_500f51414ed944b496f48591de44f2a5",
            "placeholder": "​",
            "style": "IPY_MODEL_80665ae8df6d48c08d0ef2a88e098142",
            "value": "LEARNING: 100%"
          }
        },
        "832629c512794ae78fa7ab17495c2422": {
          "model_module": "@jupyter-widgets/controls",
          "model_name": "FloatProgressModel",
          "model_module_version": "1.5.0",
          "state": {
            "_dom_classes": [],
            "_model_module": "@jupyter-widgets/controls",
            "_model_module_version": "1.5.0",
            "_model_name": "FloatProgressModel",
            "_view_count": null,
            "_view_module": "@jupyter-widgets/controls",
            "_view_module_version": "1.5.0",
            "_view_name": "ProgressView",
            "bar_style": "",
            "description": "",
            "description_tooltip": null,
            "layout": "IPY_MODEL_982180be00c6435a9dd09426c8837ccf",
            "max": 200,
            "min": 0,
            "orientation": "horizontal",
            "style": "IPY_MODEL_623e3d3c4006466091a86a5f4456a369",
            "value": 200
          }
        },
        "9d11f64bbb184121944fa69ee4ea6d31": {
          "model_module": "@jupyter-widgets/controls",
          "model_name": "HTMLModel",
          "model_module_version": "1.5.0",
          "state": {
            "_dom_classes": [],
            "_model_module": "@jupyter-widgets/controls",
            "_model_module_version": "1.5.0",
            "_model_name": "HTMLModel",
            "_view_count": null,
            "_view_module": "@jupyter-widgets/controls",
            "_view_module_version": "1.5.0",
            "_view_name": "HTMLView",
            "description": "",
            "description_tooltip": null,
            "layout": "IPY_MODEL_1843681ef8da4b18a7e98f849108b843",
            "placeholder": "​",
            "style": "IPY_MODEL_4aaa161ab575425dbf45efd8cea5c06f",
            "value": " 200/200 [04:56&lt;00:00,  1.48s/it]"
          }
        },
        "ebcb0fe429e14b89b979aab2fba60e76": {
          "model_module": "@jupyter-widgets/base",
          "model_name": "LayoutModel",
          "model_module_version": "1.2.0",
          "state": {
            "_model_module": "@jupyter-widgets/base",
            "_model_module_version": "1.2.0",
            "_model_name": "LayoutModel",
            "_view_count": null,
            "_view_module": "@jupyter-widgets/base",
            "_view_module_version": "1.2.0",
            "_view_name": "LayoutView",
            "align_content": null,
            "align_items": null,
            "align_self": null,
            "border": null,
            "bottom": null,
            "display": null,
            "flex": null,
            "flex_flow": null,
            "grid_area": null,
            "grid_auto_columns": null,
            "grid_auto_flow": null,
            "grid_auto_rows": null,
            "grid_column": null,
            "grid_gap": null,
            "grid_row": null,
            "grid_template_areas": null,
            "grid_template_columns": null,
            "grid_template_rows": null,
            "height": null,
            "justify_content": null,
            "justify_items": null,
            "left": null,
            "margin": null,
            "max_height": null,
            "max_width": null,
            "min_height": null,
            "min_width": null,
            "object_fit": null,
            "object_position": null,
            "order": null,
            "overflow": null,
            "overflow_x": null,
            "overflow_y": null,
            "padding": null,
            "right": null,
            "top": null,
            "visibility": "hidden",
            "width": null
          }
        },
        "500f51414ed944b496f48591de44f2a5": {
          "model_module": "@jupyter-widgets/base",
          "model_name": "LayoutModel",
          "model_module_version": "1.2.0",
          "state": {
            "_model_module": "@jupyter-widgets/base",
            "_model_module_version": "1.2.0",
            "_model_name": "LayoutModel",
            "_view_count": null,
            "_view_module": "@jupyter-widgets/base",
            "_view_module_version": "1.2.0",
            "_view_name": "LayoutView",
            "align_content": null,
            "align_items": null,
            "align_self": null,
            "border": null,
            "bottom": null,
            "display": null,
            "flex": null,
            "flex_flow": null,
            "grid_area": null,
            "grid_auto_columns": null,
            "grid_auto_flow": null,
            "grid_auto_rows": null,
            "grid_column": null,
            "grid_gap": null,
            "grid_row": null,
            "grid_template_areas": null,
            "grid_template_columns": null,
            "grid_template_rows": null,
            "height": null,
            "justify_content": null,
            "justify_items": null,
            "left": null,
            "margin": null,
            "max_height": null,
            "max_width": null,
            "min_height": null,
            "min_width": null,
            "object_fit": null,
            "object_position": null,
            "order": null,
            "overflow": null,
            "overflow_x": null,
            "overflow_y": null,
            "padding": null,
            "right": null,
            "top": null,
            "visibility": null,
            "width": null
          }
        },
        "80665ae8df6d48c08d0ef2a88e098142": {
          "model_module": "@jupyter-widgets/controls",
          "model_name": "DescriptionStyleModel",
          "model_module_version": "1.5.0",
          "state": {
            "_model_module": "@jupyter-widgets/controls",
            "_model_module_version": "1.5.0",
            "_model_name": "DescriptionStyleModel",
            "_view_count": null,
            "_view_module": "@jupyter-widgets/base",
            "_view_module_version": "1.2.0",
            "_view_name": "StyleView",
            "description_width": ""
          }
        },
        "982180be00c6435a9dd09426c8837ccf": {
          "model_module": "@jupyter-widgets/base",
          "model_name": "LayoutModel",
          "model_module_version": "1.2.0",
          "state": {
            "_model_module": "@jupyter-widgets/base",
            "_model_module_version": "1.2.0",
            "_model_name": "LayoutModel",
            "_view_count": null,
            "_view_module": "@jupyter-widgets/base",
            "_view_module_version": "1.2.0",
            "_view_name": "LayoutView",
            "align_content": null,
            "align_items": null,
            "align_self": null,
            "border": null,
            "bottom": null,
            "display": null,
            "flex": null,
            "flex_flow": null,
            "grid_area": null,
            "grid_auto_columns": null,
            "grid_auto_flow": null,
            "grid_auto_rows": null,
            "grid_column": null,
            "grid_gap": null,
            "grid_row": null,
            "grid_template_areas": null,
            "grid_template_columns": null,
            "grid_template_rows": null,
            "height": null,
            "justify_content": null,
            "justify_items": null,
            "left": null,
            "margin": null,
            "max_height": null,
            "max_width": null,
            "min_height": null,
            "min_width": null,
            "object_fit": null,
            "object_position": null,
            "order": null,
            "overflow": null,
            "overflow_x": null,
            "overflow_y": null,
            "padding": null,
            "right": null,
            "top": null,
            "visibility": null,
            "width": null
          }
        },
        "623e3d3c4006466091a86a5f4456a369": {
          "model_module": "@jupyter-widgets/controls",
          "model_name": "ProgressStyleModel",
          "model_module_version": "1.5.0",
          "state": {
            "_model_module": "@jupyter-widgets/controls",
            "_model_module_version": "1.5.0",
            "_model_name": "ProgressStyleModel",
            "_view_count": null,
            "_view_module": "@jupyter-widgets/base",
            "_view_module_version": "1.2.0",
            "_view_name": "StyleView",
            "bar_color": null,
            "description_width": ""
          }
        },
        "1843681ef8da4b18a7e98f849108b843": {
          "model_module": "@jupyter-widgets/base",
          "model_name": "LayoutModel",
          "model_module_version": "1.2.0",
          "state": {
            "_model_module": "@jupyter-widgets/base",
            "_model_module_version": "1.2.0",
            "_model_name": "LayoutModel",
            "_view_count": null,
            "_view_module": "@jupyter-widgets/base",
            "_view_module_version": "1.2.0",
            "_view_name": "LayoutView",
            "align_content": null,
            "align_items": null,
            "align_self": null,
            "border": null,
            "bottom": null,
            "display": null,
            "flex": null,
            "flex_flow": null,
            "grid_area": null,
            "grid_auto_columns": null,
            "grid_auto_flow": null,
            "grid_auto_rows": null,
            "grid_column": null,
            "grid_gap": null,
            "grid_row": null,
            "grid_template_areas": null,
            "grid_template_columns": null,
            "grid_template_rows": null,
            "height": null,
            "justify_content": null,
            "justify_items": null,
            "left": null,
            "margin": null,
            "max_height": null,
            "max_width": null,
            "min_height": null,
            "min_width": null,
            "object_fit": null,
            "object_position": null,
            "order": null,
            "overflow": null,
            "overflow_x": null,
            "overflow_y": null,
            "padding": null,
            "right": null,
            "top": null,
            "visibility": null,
            "width": null
          }
        },
        "4aaa161ab575425dbf45efd8cea5c06f": {
          "model_module": "@jupyter-widgets/controls",
          "model_name": "DescriptionStyleModel",
          "model_module_version": "1.5.0",
          "state": {
            "_model_module": "@jupyter-widgets/controls",
            "_model_module_version": "1.5.0",
            "_model_name": "DescriptionStyleModel",
            "_view_count": null,
            "_view_module": "@jupyter-widgets/base",
            "_view_module_version": "1.2.0",
            "_view_name": "StyleView",
            "description_width": ""
          }
        },
        "9b72bf07120f4ecca2303054cd2bb28f": {
          "model_module": "@jupyter-widgets/controls",
          "model_name": "HBoxModel",
          "model_module_version": "1.5.0",
          "state": {
            "_dom_classes": [],
            "_model_module": "@jupyter-widgets/controls",
            "_model_module_version": "1.5.0",
            "_model_name": "HBoxModel",
            "_view_count": null,
            "_view_module": "@jupyter-widgets/controls",
            "_view_module_version": "1.5.0",
            "_view_name": "HBoxView",
            "box_style": "",
            "children": [
              "IPY_MODEL_d5e015af24ad48338090072d5509afe5",
              "IPY_MODEL_d9fbbfc23f29457f9fd811f235493c66",
              "IPY_MODEL_f869b4aa00a542dd9b0d7bd44e21afad"
            ],
            "layout": "IPY_MODEL_d1de38c276f949aca90f549c46d9aa96"
          }
        },
        "d5e015af24ad48338090072d5509afe5": {
          "model_module": "@jupyter-widgets/controls",
          "model_name": "HTMLModel",
          "model_module_version": "1.5.0",
          "state": {
            "_dom_classes": [],
            "_model_module": "@jupyter-widgets/controls",
            "_model_module_version": "1.5.0",
            "_model_name": "HTMLModel",
            "_view_count": null,
            "_view_module": "@jupyter-widgets/controls",
            "_view_module_version": "1.5.0",
            "_view_name": "HTMLView",
            "description": "",
            "description_tooltip": null,
            "layout": "IPY_MODEL_a83d5d28458145f3ac9a8ccc4c9bbb9a",
            "placeholder": "​",
            "style": "IPY_MODEL_16f3d320d9294761a72431889f0a8905",
            "value": "LEARNING: 100%"
          }
        },
        "d9fbbfc23f29457f9fd811f235493c66": {
          "model_module": "@jupyter-widgets/controls",
          "model_name": "FloatProgressModel",
          "model_module_version": "1.5.0",
          "state": {
            "_dom_classes": [],
            "_model_module": "@jupyter-widgets/controls",
            "_model_module_version": "1.5.0",
            "_model_name": "FloatProgressModel",
            "_view_count": null,
            "_view_module": "@jupyter-widgets/controls",
            "_view_module_version": "1.5.0",
            "_view_name": "ProgressView",
            "bar_style": "",
            "description": "",
            "description_tooltip": null,
            "layout": "IPY_MODEL_7d739514dea94b4bb87cb1f1d40b5a96",
            "max": 200,
            "min": 0,
            "orientation": "horizontal",
            "style": "IPY_MODEL_3a084600f0924418b2050d419899964c",
            "value": 200
          }
        },
        "f869b4aa00a542dd9b0d7bd44e21afad": {
          "model_module": "@jupyter-widgets/controls",
          "model_name": "HTMLModel",
          "model_module_version": "1.5.0",
          "state": {
            "_dom_classes": [],
            "_model_module": "@jupyter-widgets/controls",
            "_model_module_version": "1.5.0",
            "_model_name": "HTMLModel",
            "_view_count": null,
            "_view_module": "@jupyter-widgets/controls",
            "_view_module_version": "1.5.0",
            "_view_name": "HTMLView",
            "description": "",
            "description_tooltip": null,
            "layout": "IPY_MODEL_4b1cfe9d036a42bf9f79e53a71c1da14",
            "placeholder": "​",
            "style": "IPY_MODEL_1ba0c4c1199249558cd35ececd816574",
            "value": " 200/200 [04:56&lt;00:00,  1.48s/it]"
          }
        },
        "d1de38c276f949aca90f549c46d9aa96": {
          "model_module": "@jupyter-widgets/base",
          "model_name": "LayoutModel",
          "model_module_version": "1.2.0",
          "state": {
            "_model_module": "@jupyter-widgets/base",
            "_model_module_version": "1.2.0",
            "_model_name": "LayoutModel",
            "_view_count": null,
            "_view_module": "@jupyter-widgets/base",
            "_view_module_version": "1.2.0",
            "_view_name": "LayoutView",
            "align_content": null,
            "align_items": null,
            "align_self": null,
            "border": null,
            "bottom": null,
            "display": null,
            "flex": null,
            "flex_flow": null,
            "grid_area": null,
            "grid_auto_columns": null,
            "grid_auto_flow": null,
            "grid_auto_rows": null,
            "grid_column": null,
            "grid_gap": null,
            "grid_row": null,
            "grid_template_areas": null,
            "grid_template_columns": null,
            "grid_template_rows": null,
            "height": null,
            "justify_content": null,
            "justify_items": null,
            "left": null,
            "margin": null,
            "max_height": null,
            "max_width": null,
            "min_height": null,
            "min_width": null,
            "object_fit": null,
            "object_position": null,
            "order": null,
            "overflow": null,
            "overflow_x": null,
            "overflow_y": null,
            "padding": null,
            "right": null,
            "top": null,
            "visibility": "hidden",
            "width": null
          }
        },
        "a83d5d28458145f3ac9a8ccc4c9bbb9a": {
          "model_module": "@jupyter-widgets/base",
          "model_name": "LayoutModel",
          "model_module_version": "1.2.0",
          "state": {
            "_model_module": "@jupyter-widgets/base",
            "_model_module_version": "1.2.0",
            "_model_name": "LayoutModel",
            "_view_count": null,
            "_view_module": "@jupyter-widgets/base",
            "_view_module_version": "1.2.0",
            "_view_name": "LayoutView",
            "align_content": null,
            "align_items": null,
            "align_self": null,
            "border": null,
            "bottom": null,
            "display": null,
            "flex": null,
            "flex_flow": null,
            "grid_area": null,
            "grid_auto_columns": null,
            "grid_auto_flow": null,
            "grid_auto_rows": null,
            "grid_column": null,
            "grid_gap": null,
            "grid_row": null,
            "grid_template_areas": null,
            "grid_template_columns": null,
            "grid_template_rows": null,
            "height": null,
            "justify_content": null,
            "justify_items": null,
            "left": null,
            "margin": null,
            "max_height": null,
            "max_width": null,
            "min_height": null,
            "min_width": null,
            "object_fit": null,
            "object_position": null,
            "order": null,
            "overflow": null,
            "overflow_x": null,
            "overflow_y": null,
            "padding": null,
            "right": null,
            "top": null,
            "visibility": null,
            "width": null
          }
        },
        "16f3d320d9294761a72431889f0a8905": {
          "model_module": "@jupyter-widgets/controls",
          "model_name": "DescriptionStyleModel",
          "model_module_version": "1.5.0",
          "state": {
            "_model_module": "@jupyter-widgets/controls",
            "_model_module_version": "1.5.0",
            "_model_name": "DescriptionStyleModel",
            "_view_count": null,
            "_view_module": "@jupyter-widgets/base",
            "_view_module_version": "1.2.0",
            "_view_name": "StyleView",
            "description_width": ""
          }
        },
        "7d739514dea94b4bb87cb1f1d40b5a96": {
          "model_module": "@jupyter-widgets/base",
          "model_name": "LayoutModel",
          "model_module_version": "1.2.0",
          "state": {
            "_model_module": "@jupyter-widgets/base",
            "_model_module_version": "1.2.0",
            "_model_name": "LayoutModel",
            "_view_count": null,
            "_view_module": "@jupyter-widgets/base",
            "_view_module_version": "1.2.0",
            "_view_name": "LayoutView",
            "align_content": null,
            "align_items": null,
            "align_self": null,
            "border": null,
            "bottom": null,
            "display": null,
            "flex": null,
            "flex_flow": null,
            "grid_area": null,
            "grid_auto_columns": null,
            "grid_auto_flow": null,
            "grid_auto_rows": null,
            "grid_column": null,
            "grid_gap": null,
            "grid_row": null,
            "grid_template_areas": null,
            "grid_template_columns": null,
            "grid_template_rows": null,
            "height": null,
            "justify_content": null,
            "justify_items": null,
            "left": null,
            "margin": null,
            "max_height": null,
            "max_width": null,
            "min_height": null,
            "min_width": null,
            "object_fit": null,
            "object_position": null,
            "order": null,
            "overflow": null,
            "overflow_x": null,
            "overflow_y": null,
            "padding": null,
            "right": null,
            "top": null,
            "visibility": null,
            "width": null
          }
        },
        "3a084600f0924418b2050d419899964c": {
          "model_module": "@jupyter-widgets/controls",
          "model_name": "ProgressStyleModel",
          "model_module_version": "1.5.0",
          "state": {
            "_model_module": "@jupyter-widgets/controls",
            "_model_module_version": "1.5.0",
            "_model_name": "ProgressStyleModel",
            "_view_count": null,
            "_view_module": "@jupyter-widgets/base",
            "_view_module_version": "1.2.0",
            "_view_name": "StyleView",
            "bar_color": null,
            "description_width": ""
          }
        },
        "4b1cfe9d036a42bf9f79e53a71c1da14": {
          "model_module": "@jupyter-widgets/base",
          "model_name": "LayoutModel",
          "model_module_version": "1.2.0",
          "state": {
            "_model_module": "@jupyter-widgets/base",
            "_model_module_version": "1.2.0",
            "_model_name": "LayoutModel",
            "_view_count": null,
            "_view_module": "@jupyter-widgets/base",
            "_view_module_version": "1.2.0",
            "_view_name": "LayoutView",
            "align_content": null,
            "align_items": null,
            "align_self": null,
            "border": null,
            "bottom": null,
            "display": null,
            "flex": null,
            "flex_flow": null,
            "grid_area": null,
            "grid_auto_columns": null,
            "grid_auto_flow": null,
            "grid_auto_rows": null,
            "grid_column": null,
            "grid_gap": null,
            "grid_row": null,
            "grid_template_areas": null,
            "grid_template_columns": null,
            "grid_template_rows": null,
            "height": null,
            "justify_content": null,
            "justify_items": null,
            "left": null,
            "margin": null,
            "max_height": null,
            "max_width": null,
            "min_height": null,
            "min_width": null,
            "object_fit": null,
            "object_position": null,
            "order": null,
            "overflow": null,
            "overflow_x": null,
            "overflow_y": null,
            "padding": null,
            "right": null,
            "top": null,
            "visibility": null,
            "width": null
          }
        },
        "1ba0c4c1199249558cd35ececd816574": {
          "model_module": "@jupyter-widgets/controls",
          "model_name": "DescriptionStyleModel",
          "model_module_version": "1.5.0",
          "state": {
            "_model_module": "@jupyter-widgets/controls",
            "_model_module_version": "1.5.0",
            "_model_name": "DescriptionStyleModel",
            "_view_count": null,
            "_view_module": "@jupyter-widgets/base",
            "_view_module_version": "1.2.0",
            "_view_name": "StyleView",
            "description_width": ""
          }
        },
        "f08f31db300b48028f771ef90cbdb84e": {
          "model_module": "@jupyter-widgets/controls",
          "model_name": "HBoxModel",
          "model_module_version": "1.5.0",
          "state": {
            "_dom_classes": [],
            "_model_module": "@jupyter-widgets/controls",
            "_model_module_version": "1.5.0",
            "_model_name": "HBoxModel",
            "_view_count": null,
            "_view_module": "@jupyter-widgets/controls",
            "_view_module_version": "1.5.0",
            "_view_name": "HBoxView",
            "box_style": "",
            "children": [
              "IPY_MODEL_4c551d7b955c4adea98068452052dd45",
              "IPY_MODEL_95e58d7f409c4e74b07ac21cb6a41dfc",
              "IPY_MODEL_e3fd456aa11f499c920a2c0b714a9c6c"
            ],
            "layout": "IPY_MODEL_b69061c1d68244eb9ea5bc62e8b8162f"
          }
        },
        "4c551d7b955c4adea98068452052dd45": {
          "model_module": "@jupyter-widgets/controls",
          "model_name": "HTMLModel",
          "model_module_version": "1.5.0",
          "state": {
            "_dom_classes": [],
            "_model_module": "@jupyter-widgets/controls",
            "_model_module_version": "1.5.0",
            "_model_name": "HTMLModel",
            "_view_count": null,
            "_view_module": "@jupyter-widgets/controls",
            "_view_module_version": "1.5.0",
            "_view_name": "HTMLView",
            "description": "",
            "description_tooltip": null,
            "layout": "IPY_MODEL_a31f00e2e39c4c5dbf2d972b08e8177f",
            "placeholder": "​",
            "style": "IPY_MODEL_34ab71b30a074ca38e52b3c3aa4980e3",
            "value": "LEARNING: 100%"
          }
        },
        "95e58d7f409c4e74b07ac21cb6a41dfc": {
          "model_module": "@jupyter-widgets/controls",
          "model_name": "FloatProgressModel",
          "model_module_version": "1.5.0",
          "state": {
            "_dom_classes": [],
            "_model_module": "@jupyter-widgets/controls",
            "_model_module_version": "1.5.0",
            "_model_name": "FloatProgressModel",
            "_view_count": null,
            "_view_module": "@jupyter-widgets/controls",
            "_view_module_version": "1.5.0",
            "_view_name": "ProgressView",
            "bar_style": "",
            "description": "",
            "description_tooltip": null,
            "layout": "IPY_MODEL_da875e1aee0d49fbbe573418b1aaa9be",
            "max": 200,
            "min": 0,
            "orientation": "horizontal",
            "style": "IPY_MODEL_44e88752cc5241f5b20cb78a252ac190",
            "value": 200
          }
        },
        "e3fd456aa11f499c920a2c0b714a9c6c": {
          "model_module": "@jupyter-widgets/controls",
          "model_name": "HTMLModel",
          "model_module_version": "1.5.0",
          "state": {
            "_dom_classes": [],
            "_model_module": "@jupyter-widgets/controls",
            "_model_module_version": "1.5.0",
            "_model_name": "HTMLModel",
            "_view_count": null,
            "_view_module": "@jupyter-widgets/controls",
            "_view_module_version": "1.5.0",
            "_view_name": "HTMLView",
            "description": "",
            "description_tooltip": null,
            "layout": "IPY_MODEL_87487bf2ec23438a8806cc30f8524f1e",
            "placeholder": "​",
            "style": "IPY_MODEL_ef119feb07fd448bbad22002f3c37fa9",
            "value": " 200/200 [04:56&lt;00:00,  1.48s/it]"
          }
        },
        "b69061c1d68244eb9ea5bc62e8b8162f": {
          "model_module": "@jupyter-widgets/base",
          "model_name": "LayoutModel",
          "model_module_version": "1.2.0",
          "state": {
            "_model_module": "@jupyter-widgets/base",
            "_model_module_version": "1.2.0",
            "_model_name": "LayoutModel",
            "_view_count": null,
            "_view_module": "@jupyter-widgets/base",
            "_view_module_version": "1.2.0",
            "_view_name": "LayoutView",
            "align_content": null,
            "align_items": null,
            "align_self": null,
            "border": null,
            "bottom": null,
            "display": null,
            "flex": null,
            "flex_flow": null,
            "grid_area": null,
            "grid_auto_columns": null,
            "grid_auto_flow": null,
            "grid_auto_rows": null,
            "grid_column": null,
            "grid_gap": null,
            "grid_row": null,
            "grid_template_areas": null,
            "grid_template_columns": null,
            "grid_template_rows": null,
            "height": null,
            "justify_content": null,
            "justify_items": null,
            "left": null,
            "margin": null,
            "max_height": null,
            "max_width": null,
            "min_height": null,
            "min_width": null,
            "object_fit": null,
            "object_position": null,
            "order": null,
            "overflow": null,
            "overflow_x": null,
            "overflow_y": null,
            "padding": null,
            "right": null,
            "top": null,
            "visibility": "hidden",
            "width": null
          }
        },
        "a31f00e2e39c4c5dbf2d972b08e8177f": {
          "model_module": "@jupyter-widgets/base",
          "model_name": "LayoutModel",
          "model_module_version": "1.2.0",
          "state": {
            "_model_module": "@jupyter-widgets/base",
            "_model_module_version": "1.2.0",
            "_model_name": "LayoutModel",
            "_view_count": null,
            "_view_module": "@jupyter-widgets/base",
            "_view_module_version": "1.2.0",
            "_view_name": "LayoutView",
            "align_content": null,
            "align_items": null,
            "align_self": null,
            "border": null,
            "bottom": null,
            "display": null,
            "flex": null,
            "flex_flow": null,
            "grid_area": null,
            "grid_auto_columns": null,
            "grid_auto_flow": null,
            "grid_auto_rows": null,
            "grid_column": null,
            "grid_gap": null,
            "grid_row": null,
            "grid_template_areas": null,
            "grid_template_columns": null,
            "grid_template_rows": null,
            "height": null,
            "justify_content": null,
            "justify_items": null,
            "left": null,
            "margin": null,
            "max_height": null,
            "max_width": null,
            "min_height": null,
            "min_width": null,
            "object_fit": null,
            "object_position": null,
            "order": null,
            "overflow": null,
            "overflow_x": null,
            "overflow_y": null,
            "padding": null,
            "right": null,
            "top": null,
            "visibility": null,
            "width": null
          }
        },
        "34ab71b30a074ca38e52b3c3aa4980e3": {
          "model_module": "@jupyter-widgets/controls",
          "model_name": "DescriptionStyleModel",
          "model_module_version": "1.5.0",
          "state": {
            "_model_module": "@jupyter-widgets/controls",
            "_model_module_version": "1.5.0",
            "_model_name": "DescriptionStyleModel",
            "_view_count": null,
            "_view_module": "@jupyter-widgets/base",
            "_view_module_version": "1.2.0",
            "_view_name": "StyleView",
            "description_width": ""
          }
        },
        "da875e1aee0d49fbbe573418b1aaa9be": {
          "model_module": "@jupyter-widgets/base",
          "model_name": "LayoutModel",
          "model_module_version": "1.2.0",
          "state": {
            "_model_module": "@jupyter-widgets/base",
            "_model_module_version": "1.2.0",
            "_model_name": "LayoutModel",
            "_view_count": null,
            "_view_module": "@jupyter-widgets/base",
            "_view_module_version": "1.2.0",
            "_view_name": "LayoutView",
            "align_content": null,
            "align_items": null,
            "align_self": null,
            "border": null,
            "bottom": null,
            "display": null,
            "flex": null,
            "flex_flow": null,
            "grid_area": null,
            "grid_auto_columns": null,
            "grid_auto_flow": null,
            "grid_auto_rows": null,
            "grid_column": null,
            "grid_gap": null,
            "grid_row": null,
            "grid_template_areas": null,
            "grid_template_columns": null,
            "grid_template_rows": null,
            "height": null,
            "justify_content": null,
            "justify_items": null,
            "left": null,
            "margin": null,
            "max_height": null,
            "max_width": null,
            "min_height": null,
            "min_width": null,
            "object_fit": null,
            "object_position": null,
            "order": null,
            "overflow": null,
            "overflow_x": null,
            "overflow_y": null,
            "padding": null,
            "right": null,
            "top": null,
            "visibility": null,
            "width": null
          }
        },
        "44e88752cc5241f5b20cb78a252ac190": {
          "model_module": "@jupyter-widgets/controls",
          "model_name": "ProgressStyleModel",
          "model_module_version": "1.5.0",
          "state": {
            "_model_module": "@jupyter-widgets/controls",
            "_model_module_version": "1.5.0",
            "_model_name": "ProgressStyleModel",
            "_view_count": null,
            "_view_module": "@jupyter-widgets/base",
            "_view_module_version": "1.2.0",
            "_view_name": "StyleView",
            "bar_color": null,
            "description_width": ""
          }
        },
        "87487bf2ec23438a8806cc30f8524f1e": {
          "model_module": "@jupyter-widgets/base",
          "model_name": "LayoutModel",
          "model_module_version": "1.2.0",
          "state": {
            "_model_module": "@jupyter-widgets/base",
            "_model_module_version": "1.2.0",
            "_model_name": "LayoutModel",
            "_view_count": null,
            "_view_module": "@jupyter-widgets/base",
            "_view_module_version": "1.2.0",
            "_view_name": "LayoutView",
            "align_content": null,
            "align_items": null,
            "align_self": null,
            "border": null,
            "bottom": null,
            "display": null,
            "flex": null,
            "flex_flow": null,
            "grid_area": null,
            "grid_auto_columns": null,
            "grid_auto_flow": null,
            "grid_auto_rows": null,
            "grid_column": null,
            "grid_gap": null,
            "grid_row": null,
            "grid_template_areas": null,
            "grid_template_columns": null,
            "grid_template_rows": null,
            "height": null,
            "justify_content": null,
            "justify_items": null,
            "left": null,
            "margin": null,
            "max_height": null,
            "max_width": null,
            "min_height": null,
            "min_width": null,
            "object_fit": null,
            "object_position": null,
            "order": null,
            "overflow": null,
            "overflow_x": null,
            "overflow_y": null,
            "padding": null,
            "right": null,
            "top": null,
            "visibility": null,
            "width": null
          }
        },
        "ef119feb07fd448bbad22002f3c37fa9": {
          "model_module": "@jupyter-widgets/controls",
          "model_name": "DescriptionStyleModel",
          "model_module_version": "1.5.0",
          "state": {
            "_model_module": "@jupyter-widgets/controls",
            "_model_module_version": "1.5.0",
            "_model_name": "DescriptionStyleModel",
            "_view_count": null,
            "_view_module": "@jupyter-widgets/base",
            "_view_module_version": "1.2.0",
            "_view_name": "StyleView",
            "description_width": ""
          }
        },
        "1d16810010da4693b3216de899047056": {
          "model_module": "@jupyter-widgets/controls",
          "model_name": "HBoxModel",
          "model_module_version": "1.5.0",
          "state": {
            "_dom_classes": [],
            "_model_module": "@jupyter-widgets/controls",
            "_model_module_version": "1.5.0",
            "_model_name": "HBoxModel",
            "_view_count": null,
            "_view_module": "@jupyter-widgets/controls",
            "_view_module_version": "1.5.0",
            "_view_name": "HBoxView",
            "box_style": "",
            "children": [
              "IPY_MODEL_5c1f3a72d649457785c04c198730a9e9",
              "IPY_MODEL_31f4234381104ea0bb8b983e1be86f1d",
              "IPY_MODEL_8224fc617c424156abbcc90d5eb05c86"
            ],
            "layout": "IPY_MODEL_eb2d635394ca4140af7bc8f8493a0eb3"
          }
        },
        "5c1f3a72d649457785c04c198730a9e9": {
          "model_module": "@jupyter-widgets/controls",
          "model_name": "HTMLModel",
          "model_module_version": "1.5.0",
          "state": {
            "_dom_classes": [],
            "_model_module": "@jupyter-widgets/controls",
            "_model_module_version": "1.5.0",
            "_model_name": "HTMLModel",
            "_view_count": null,
            "_view_module": "@jupyter-widgets/controls",
            "_view_module_version": "1.5.0",
            "_view_name": "HTMLView",
            "description": "",
            "description_tooltip": null,
            "layout": "IPY_MODEL_e993ca7a0fc949938443927b7b60a6f3",
            "placeholder": "​",
            "style": "IPY_MODEL_7a10c1bb2e9645bb90ce738963de0971",
            "value": "LEARNING: 100%"
          }
        },
        "31f4234381104ea0bb8b983e1be86f1d": {
          "model_module": "@jupyter-widgets/controls",
          "model_name": "FloatProgressModel",
          "model_module_version": "1.5.0",
          "state": {
            "_dom_classes": [],
            "_model_module": "@jupyter-widgets/controls",
            "_model_module_version": "1.5.0",
            "_model_name": "FloatProgressModel",
            "_view_count": null,
            "_view_module": "@jupyter-widgets/controls",
            "_view_module_version": "1.5.0",
            "_view_name": "ProgressView",
            "bar_style": "",
            "description": "",
            "description_tooltip": null,
            "layout": "IPY_MODEL_86eb5a0b876244f78e572beed1aa93a2",
            "max": 200,
            "min": 0,
            "orientation": "horizontal",
            "style": "IPY_MODEL_02b1acba27bb4f11b2e457ed3792182d",
            "value": 200
          }
        },
        "8224fc617c424156abbcc90d5eb05c86": {
          "model_module": "@jupyter-widgets/controls",
          "model_name": "HTMLModel",
          "model_module_version": "1.5.0",
          "state": {
            "_dom_classes": [],
            "_model_module": "@jupyter-widgets/controls",
            "_model_module_version": "1.5.0",
            "_model_name": "HTMLModel",
            "_view_count": null,
            "_view_module": "@jupyter-widgets/controls",
            "_view_module_version": "1.5.0",
            "_view_name": "HTMLView",
            "description": "",
            "description_tooltip": null,
            "layout": "IPY_MODEL_c8b0c3cdf66849e58115b90b0c55a946",
            "placeholder": "​",
            "style": "IPY_MODEL_4fdb9f05a58b4fe19fe4fa2540d25b50",
            "value": " 200/200 [04:56&lt;00:00,  1.48s/it]"
          }
        },
        "eb2d635394ca4140af7bc8f8493a0eb3": {
          "model_module": "@jupyter-widgets/base",
          "model_name": "LayoutModel",
          "model_module_version": "1.2.0",
          "state": {
            "_model_module": "@jupyter-widgets/base",
            "_model_module_version": "1.2.0",
            "_model_name": "LayoutModel",
            "_view_count": null,
            "_view_module": "@jupyter-widgets/base",
            "_view_module_version": "1.2.0",
            "_view_name": "LayoutView",
            "align_content": null,
            "align_items": null,
            "align_self": null,
            "border": null,
            "bottom": null,
            "display": null,
            "flex": null,
            "flex_flow": null,
            "grid_area": null,
            "grid_auto_columns": null,
            "grid_auto_flow": null,
            "grid_auto_rows": null,
            "grid_column": null,
            "grid_gap": null,
            "grid_row": null,
            "grid_template_areas": null,
            "grid_template_columns": null,
            "grid_template_rows": null,
            "height": null,
            "justify_content": null,
            "justify_items": null,
            "left": null,
            "margin": null,
            "max_height": null,
            "max_width": null,
            "min_height": null,
            "min_width": null,
            "object_fit": null,
            "object_position": null,
            "order": null,
            "overflow": null,
            "overflow_x": null,
            "overflow_y": null,
            "padding": null,
            "right": null,
            "top": null,
            "visibility": "hidden",
            "width": null
          }
        },
        "e993ca7a0fc949938443927b7b60a6f3": {
          "model_module": "@jupyter-widgets/base",
          "model_name": "LayoutModel",
          "model_module_version": "1.2.0",
          "state": {
            "_model_module": "@jupyter-widgets/base",
            "_model_module_version": "1.2.0",
            "_model_name": "LayoutModel",
            "_view_count": null,
            "_view_module": "@jupyter-widgets/base",
            "_view_module_version": "1.2.0",
            "_view_name": "LayoutView",
            "align_content": null,
            "align_items": null,
            "align_self": null,
            "border": null,
            "bottom": null,
            "display": null,
            "flex": null,
            "flex_flow": null,
            "grid_area": null,
            "grid_auto_columns": null,
            "grid_auto_flow": null,
            "grid_auto_rows": null,
            "grid_column": null,
            "grid_gap": null,
            "grid_row": null,
            "grid_template_areas": null,
            "grid_template_columns": null,
            "grid_template_rows": null,
            "height": null,
            "justify_content": null,
            "justify_items": null,
            "left": null,
            "margin": null,
            "max_height": null,
            "max_width": null,
            "min_height": null,
            "min_width": null,
            "object_fit": null,
            "object_position": null,
            "order": null,
            "overflow": null,
            "overflow_x": null,
            "overflow_y": null,
            "padding": null,
            "right": null,
            "top": null,
            "visibility": null,
            "width": null
          }
        },
        "7a10c1bb2e9645bb90ce738963de0971": {
          "model_module": "@jupyter-widgets/controls",
          "model_name": "DescriptionStyleModel",
          "model_module_version": "1.5.0",
          "state": {
            "_model_module": "@jupyter-widgets/controls",
            "_model_module_version": "1.5.0",
            "_model_name": "DescriptionStyleModel",
            "_view_count": null,
            "_view_module": "@jupyter-widgets/base",
            "_view_module_version": "1.2.0",
            "_view_name": "StyleView",
            "description_width": ""
          }
        },
        "86eb5a0b876244f78e572beed1aa93a2": {
          "model_module": "@jupyter-widgets/base",
          "model_name": "LayoutModel",
          "model_module_version": "1.2.0",
          "state": {
            "_model_module": "@jupyter-widgets/base",
            "_model_module_version": "1.2.0",
            "_model_name": "LayoutModel",
            "_view_count": null,
            "_view_module": "@jupyter-widgets/base",
            "_view_module_version": "1.2.0",
            "_view_name": "LayoutView",
            "align_content": null,
            "align_items": null,
            "align_self": null,
            "border": null,
            "bottom": null,
            "display": null,
            "flex": null,
            "flex_flow": null,
            "grid_area": null,
            "grid_auto_columns": null,
            "grid_auto_flow": null,
            "grid_auto_rows": null,
            "grid_column": null,
            "grid_gap": null,
            "grid_row": null,
            "grid_template_areas": null,
            "grid_template_columns": null,
            "grid_template_rows": null,
            "height": null,
            "justify_content": null,
            "justify_items": null,
            "left": null,
            "margin": null,
            "max_height": null,
            "max_width": null,
            "min_height": null,
            "min_width": null,
            "object_fit": null,
            "object_position": null,
            "order": null,
            "overflow": null,
            "overflow_x": null,
            "overflow_y": null,
            "padding": null,
            "right": null,
            "top": null,
            "visibility": null,
            "width": null
          }
        },
        "02b1acba27bb4f11b2e457ed3792182d": {
          "model_module": "@jupyter-widgets/controls",
          "model_name": "ProgressStyleModel",
          "model_module_version": "1.5.0",
          "state": {
            "_model_module": "@jupyter-widgets/controls",
            "_model_module_version": "1.5.0",
            "_model_name": "ProgressStyleModel",
            "_view_count": null,
            "_view_module": "@jupyter-widgets/base",
            "_view_module_version": "1.2.0",
            "_view_name": "StyleView",
            "bar_color": null,
            "description_width": ""
          }
        },
        "c8b0c3cdf66849e58115b90b0c55a946": {
          "model_module": "@jupyter-widgets/base",
          "model_name": "LayoutModel",
          "model_module_version": "1.2.0",
          "state": {
            "_model_module": "@jupyter-widgets/base",
            "_model_module_version": "1.2.0",
            "_model_name": "LayoutModel",
            "_view_count": null,
            "_view_module": "@jupyter-widgets/base",
            "_view_module_version": "1.2.0",
            "_view_name": "LayoutView",
            "align_content": null,
            "align_items": null,
            "align_self": null,
            "border": null,
            "bottom": null,
            "display": null,
            "flex": null,
            "flex_flow": null,
            "grid_area": null,
            "grid_auto_columns": null,
            "grid_auto_flow": null,
            "grid_auto_rows": null,
            "grid_column": null,
            "grid_gap": null,
            "grid_row": null,
            "grid_template_areas": null,
            "grid_template_columns": null,
            "grid_template_rows": null,
            "height": null,
            "justify_content": null,
            "justify_items": null,
            "left": null,
            "margin": null,
            "max_height": null,
            "max_width": null,
            "min_height": null,
            "min_width": null,
            "object_fit": null,
            "object_position": null,
            "order": null,
            "overflow": null,
            "overflow_x": null,
            "overflow_y": null,
            "padding": null,
            "right": null,
            "top": null,
            "visibility": null,
            "width": null
          }
        },
        "4fdb9f05a58b4fe19fe4fa2540d25b50": {
          "model_module": "@jupyter-widgets/controls",
          "model_name": "DescriptionStyleModel",
          "model_module_version": "1.5.0",
          "state": {
            "_model_module": "@jupyter-widgets/controls",
            "_model_module_version": "1.5.0",
            "_model_name": "DescriptionStyleModel",
            "_view_count": null,
            "_view_module": "@jupyter-widgets/base",
            "_view_module_version": "1.2.0",
            "_view_name": "StyleView",
            "description_width": ""
          }
        }
      }
    }
  },
  "cells": [
    {
      "cell_type": "markdown",
      "metadata": {
        "id": "view-in-github",
        "colab_type": "text"
      },
      "source": [
        "<a href=\"https://colab.research.google.com/github/KORALLLL/MTUCI_EMNIST/blob/Artem/lenet/Artem_week5.ipynb\" target=\"_parent\"><img src=\"https://colab.research.google.com/assets/colab-badge.svg\" alt=\"Open In Colab\"/></a>"
      ]
    },
    {
      "cell_type": "markdown",
      "source": [
        "***MODEL FROM PREVIOUS EXPERIMENT***"
      ],
      "metadata": {
        "id": "AZ3IKF3K0I_9"
      }
    },
    {
      "cell_type": "markdown",
      "source": [
        "<table>\n",
        "  <tr>\n",
        "    <th>Layer</th>\n",
        "    <th>Layer type2</th>\n",
        "    <th>Feature maps</th>\n",
        "    <th>Size</th>\n",
        "    <th>Kernel size</th>\n",
        "    <th>Stride</th>\n",
        "    <th>Padding</th>\n",
        "    <th>Activation</th>\n",
        "  </tr>\n",
        "  <tr>\n",
        "    <th>input</th>\n",
        "    <th>image</th>\n",
        "    <th>1</th>\n",
        "    <th>28*28</th>\n",
        "    <th>-</th>\n",
        "    <th>-</th>\n",
        "    <th>-</th>\n",
        "    <th>-</th>\n",
        "  </tr>\n",
        "  <tr>\n",
        "    <th>1</th>\n",
        "    <th>convolution</th>\n",
        "    <th>2</th>\n",
        "    <th>28*28</th>\n",
        "    <th>3*3</th>\n",
        "    <th>1</th>\n",
        "    <th>1</th>\n",
        "    <th>ReLU6</th>\n",
        "  </tr>\n",
        "  <tr>\n",
        "    <th>2</th>\n",
        "    <th>convolution</th>\n",
        "    <th>2</th>\n",
        "    <th>28*28</th>\n",
        "    <th>3*3</th>\n",
        "    <th>1</th>\n",
        "    <th>1</th>\n",
        "    <th>ReLU6</th>\n",
        "  </tr>\n",
        "  <tr>\n",
        "    <th>3</th>\n",
        "    <th>convolution</th>\n",
        "    <th>2</th>\n",
        "    <th>28*28</th>\n",
        "    <th>3*3</th>\n",
        "    <th>1</th>\n",
        "    <th>1</th>\n",
        "    <th>ReLU6</th>\n",
        "  </tr>\n",
        "  <tr>\n",
        "    <th>4</th>\n",
        "    <th>convolution</th>\n",
        "    <th>4</th>\n",
        "    <th>28*28</th>\n",
        "    <th>3*3</th>\n",
        "    <th>1</th>\n",
        "    <th>1</th>\n",
        "    <th>ReLU6</th>\n",
        "  </tr>\n",
        "  <tr>\n",
        "    <th>5</th>\n",
        "    <th>convolution</th>\n",
        "    <th>4</th>\n",
        "    <th>28*28</th>\n",
        "    <th>3*3</th>\n",
        "    <th>1</th>\n",
        "    <th>1</th>\n",
        "    <th>ReLU6</th>\n",
        "  </tr>\n",
        "  <tr>\n",
        "    <th>6</th>\n",
        "    <th>avg pooling</th>\n",
        "    <th>4</th>\n",
        "    <th>14*14</th>\n",
        "    <th>2*2</th>\n",
        "    <th>2</th>\n",
        "    <th>-</th>\n",
        "    <th>ReLU6</th>\n",
        "  </tr>\n",
        "  <tr>\n",
        "    <th>7</th>\n",
        "    <th>convolution</th>\n",
        "    <th>8</th>\n",
        "    <th>12*12</th>\n",
        "    <th>3*3</th>\n",
        "    <th>1</th>\n",
        "    <th>-</th>\n",
        "    <th>ReLU6</th>\n",
        "  </tr>\n",
        "  <tr>\n",
        "    <th>8</th>\n",
        "    <th>convolution</th>\n",
        "    <th>8</th>\n",
        "    <th>12*12</th>\n",
        "    <th>3*3</th>\n",
        "    <th>1</th>\n",
        "    <th>1</th>\n",
        "    <th>ReLU6</th>\n",
        "  </tr>\n",
        "  <tr>\n",
        "    <th>9</th>\n",
        "    <th>convolution</th>\n",
        "    <th>8</th>\n",
        "    <th>12*12</th>\n",
        "    <th>3*3</th>\n",
        "    <th>1</th>\n",
        "    <th>1</th>\n",
        "    <th>ReLU6</th>\n",
        "  </tr>\n",
        "  <tr>\n",
        "    <th>10</th>\n",
        "    <th>convolution</th>\n",
        "    <th>16</th>\n",
        "    <th>10*10</th>\n",
        "    <th>3*3</th>\n",
        "    <th>1</th>\n",
        "    <th>-</th>\n",
        "    <th>ReLU6</th>\n",
        "  </tr>\n",
        "  <tr>\n",
        "    <th>11</th>\n",
        "    <th>convolution</th>\n",
        "    <th>16</th>\n",
        "    <th>10*10</th>\n",
        "    <th>3*3</th>\n",
        "    <th>1</th>\n",
        "    <th>1</th>\n",
        "    <th>ReLU6</th>\n",
        "  </tr>\n",
        "  <tr>\n",
        "    <th>12</th>\n",
        "    <th>max pooling</th>\n",
        "    <th>16</th>\n",
        "    <th>5*5</th>\n",
        "    <th>2*2</th>\n",
        "    <th>2</th>\n",
        "    <th>-</th>\n",
        "    <th>ReLU6</th>\n",
        "  </tr>\n",
        "  <tr>\n",
        "    <th>13</th>\n",
        "    <th>fully connected</th>\n",
        "    <th>-</th>\n",
        "    <th>120</th>\n",
        "    <th>-</th>\n",
        "    <th>-</th>\n",
        "    <th>-</th>\n",
        "    <th>ReLU6</th>\n",
        "  </tr>\n",
        "  <tr>\n",
        "    <th>14</th>\n",
        "    <th>fully connected</th>\n",
        "    <th>-</th>\n",
        "    <th>84</th>\n",
        "    <th>-</th>\n",
        "    <th>-</th>\n",
        "    <th>-</th>\n",
        "    <th>ReLU6</th>\n",
        "  </tr>\n",
        "  <tr>\n",
        "    <th>output</th>\n",
        "    <th>fully connected</th>\n",
        "    <th>-</th>\n",
        "    <th>35</th>\n",
        "    <th>-</th>\n",
        "    <th>-</th>\n",
        "    <th>-</th>\n",
        "    <th>-</th>\n",
        "  </tr>\n",
        "</table>"
      ],
      "metadata": {
        "id": "aTeqzF9a58mi"
      }
    },
    {
      "cell_type": "markdown",
      "source": [
        "Train dataset: MNIST + EMNIST letters\n",
        "\n",
        "Test dataset: dataset of DreamTeam\n",
        "\n",
        "Training sample size: 36960\n",
        "\n",
        "Testing sample size: 16784\n",
        "\n",
        "Loss function: Cross Entropy Loss\n",
        "\n",
        "Optimizer: Adam\n",
        "\n",
        "Learning rate: 1.0e-3\n",
        "\n",
        "Batch size: 1120"
      ],
      "metadata": {
        "id": "N5V2riLPuxOJ"
      }
    },
    {
      "cell_type": "markdown",
      "source": [
        "***IMPORT***\n",
        "\n",
        "---"
      ],
      "metadata": {
        "id": "kAHQg0W4vM6t"
      }
    },
    {
      "cell_type": "code",
      "execution_count": 1,
      "metadata": {
        "id": "6Y4kP-x9VXGe"
      },
      "outputs": [],
      "source": [
        "import torch\n",
        "import torchvision.datasets\n",
        "import random\n",
        "import numpy as np\n",
        "import matplotlib.pyplot as plt\n",
        "import pickle\n",
        "from tqdm import tqdm_notebook as bar\n",
        "import plotly.graph_objects as go\n"
      ]
    },
    {
      "cell_type": "code",
      "source": [
        "import plotly.graph_objs as go\n",
        "from plotly.subplots import make_subplots"
      ],
      "metadata": {
        "id": "WDmxm3xs-4Np"
      },
      "execution_count": 19,
      "outputs": []
    },
    {
      "cell_type": "code",
      "source": [
        "import scipy.stats as stats"
      ],
      "metadata": {
        "id": "H8ImmYczBqFs"
      },
      "execution_count": 29,
      "outputs": []
    },
    {
      "cell_type": "markdown",
      "source": [
        "***REPO***\n",
        "\n",
        "---\n",
        "\n"
      ],
      "metadata": {
        "id": "KfolF0wwvS5H"
      }
    },
    {
      "cell_type": "code",
      "source": [
        "!git clone https://github.com/KORALLLL/MTUCI_EMNIST.git"
      ],
      "metadata": {
        "id": "dz5_QntkVZN4",
        "colab": {
          "base_uri": "https://localhost:8080/"
        },
        "outputId": "50516379-3dc9-4270-bf27-0f48c2e7f78a"
      },
      "execution_count": 2,
      "outputs": [
        {
          "output_type": "stream",
          "name": "stdout",
          "text": [
            "Cloning into 'MTUCI_EMNIST'...\n",
            "remote: Enumerating objects: 36536, done.\u001b[K\n",
            "remote: Counting objects: 100% (12896/12896), done.\u001b[K\n",
            "remote: Compressing objects: 100% (12728/12728), done.\u001b[K\n",
            "remote: Total 36536 (delta 211), reused 12804 (delta 159), pack-reused 23640\u001b[K\n",
            "Receiving objects: 100% (36536/36536), 129.65 MiB | 14.92 MiB/s, done.\n",
            "Resolving deltas: 100% (496/496), done.\n"
          ]
        }
      ]
    },
    {
      "cell_type": "markdown",
      "source": [
        "***TORCH.DEVICE***\n",
        "\n",
        "---\n",
        "\n"
      ],
      "metadata": {
        "id": "WcvLTdxOvWV6"
      }
    },
    {
      "cell_type": "code",
      "source": [
        "device = torch.device('cuda:0' if torch.cuda.is_available() else 'cpu')"
      ],
      "metadata": {
        "id": "wcYVOOeAskZd"
      },
      "execution_count": 3,
      "outputs": []
    },
    {
      "cell_type": "markdown",
      "source": [
        "***DATASET***\n",
        "\n",
        "---\n",
        "\n"
      ],
      "metadata": {
        "id": "puLy2BIkvHHQ"
      }
    },
    {
      "cell_type": "code",
      "source": [
        "emnist_train = torchvision.datasets.EMNIST('./', split='letters', download = True, train = True)\n",
        "mnist_train = torchvision.datasets.EMNIST('./', split='mnist', download = True, train = True)\n",
        "emnist_val = torchvision.datasets.EMNIST('./', split='letters', download = True, train = False)\n",
        "mnist_val = torchvision.datasets.EMNIST('./', split='mnist', download = True, train = False)\n",
        "\n",
        "emnist_train_data = emnist_train.data\n",
        "mnist_train_data = mnist_train.data\n",
        "train_data = torch.cat([emnist_train_data[:24960], mnist_train_data[:12000]], dim=0).float().unsqueeze(1).to(device) / 255\n",
        "\n",
        "emnist_val_data = emnist_val.data\n",
        "mnist_val_data = mnist_val.data\n",
        "val_data = torch.cat([emnist_val_data, mnist_val_data], dim=0).float().unsqueeze(1).to(device) / 255\n",
        "\n",
        "temp_emnist_train_labels = emnist_train.targets[:24960]\n",
        "emnist_train_labels = []\n",
        "\n",
        "temp_emnist_val_labels = emnist_val.targets\n",
        "emnist_val_labels = []\n",
        "\n",
        "for i in range(len(temp_emnist_train_labels)):\n",
        "  if temp_emnist_train_labels[i]==15:\n",
        "    emnist_train_labels.append(torch.tensor(0))\n",
        "  elif temp_emnist_train_labels[i]>15:\n",
        "    emnist_train_labels.append(temp_emnist_train_labels[i]+8)\n",
        "  else:\n",
        "    emnist_train_labels.append(temp_emnist_train_labels[i]+9)\n",
        "\n",
        "for i in range(len(temp_emnist_val_labels)):\n",
        "  if temp_emnist_val_labels[i]==15:\n",
        "    emnist_val_labels.append(torch.tensor(0))\n",
        "  elif temp_emnist_val_labels[i]>15:\n",
        "    emnist_val_labels.append(temp_emnist_val_labels[i] + 8)\n",
        "  else:\n",
        "    emnist_val_labels.append(temp_emnist_val_labels[i]+9)\n",
        "\n",
        "mnist_train_labels = mnist_train.targets\n",
        "train_labels = torch.cat([torch.stack(emnist_train_labels[:24960]), mnist_train_labels[:12000]], dim=0).to(device)\n",
        "\n",
        "mnist_val_labels = mnist_val.targets\n",
        "val_labels = torch.cat([torch.stack(emnist_val_labels), mnist_val_labels], dim=0).to(device)\n",
        "\n",
        "\n",
        "file = open('MTUCI_EMNIST/dataset.pkl', 'rb')\n",
        "test_dataset = pickle.load(file)\n",
        "file.close()\n",
        "\n",
        "test_data = test_dataset['data'].numpy()\n",
        "test_data = np.flip(test_data, axis = 3)\n",
        "test_data = np.rot90(test_data, k=1, axes=(2,3))\n",
        "test_data = 1 - test_data\n",
        "test_data = torch.from_numpy(test_data).float().to(device)\n",
        "test_labels = test_dataset['targets'].to(device)"
      ],
      "metadata": {
        "id": "FzgtKxL7VZcQ",
        "colab": {
          "base_uri": "https://localhost:8080/"
        },
        "outputId": "3a21f949-9d86-425a-b335-4be4b184311e"
      },
      "execution_count": 4,
      "outputs": [
        {
          "output_type": "stream",
          "name": "stdout",
          "text": [
            "Downloading https://www.itl.nist.gov/iaui/vip/cs_links/EMNIST/gzip.zip to ./EMNIST/raw/gzip.zip\n"
          ]
        },
        {
          "output_type": "stream",
          "name": "stderr",
          "text": [
            "100%|██████████| 561753746/561753746 [00:33<00:00, 16726112.95it/s]\n"
          ]
        },
        {
          "output_type": "stream",
          "name": "stdout",
          "text": [
            "Extracting ./EMNIST/raw/gzip.zip to ./EMNIST/raw\n"
          ]
        }
      ]
    },
    {
      "cell_type": "markdown",
      "source": [
        "***DEFAULT NET***"
      ],
      "metadata": {
        "id": "ZKkpR-f57xzu"
      }
    },
    {
      "cell_type": "code",
      "source": [
        "class LeNet1(torch.nn.Module):\n",
        "  def __init__(self):\n",
        "    super(LeNet1, self).__init__()\n",
        "    self.conv1 = torch.nn.Conv2d(in_channels=1, out_channels=2, kernel_size=3, padding=1)\n",
        "    self.act1 = torch.nn.ReLU6()\n",
        "    self.conv2 = torch.nn.Conv2d(in_channels=2, out_channels=2, kernel_size=3, padding=1)\n",
        "    self.act2 = torch.nn.ReLU6()\n",
        "    self.conv3 = torch.nn.Conv2d(in_channels=2, out_channels=4, kernel_size=3, padding=1)\n",
        "    self.act3 = torch.nn.ReLU6()\n",
        "    self.conv4 = torch.nn.Conv2d(in_channels=4, out_channels=4, kernel_size=3, padding=1)\n",
        "    self.act4 = torch.nn.ReLU6()\n",
        "    self.pool1 = torch.nn.AvgPool2d(kernel_size=2, stride=2)\n",
        "    self.act5 = torch.nn.ReLU6()\n",
        "    self.conv5 = torch.nn.Conv2d(in_channels=4, out_channels=8, kernel_size=3, padding=0)\n",
        "    self.act6 = torch.nn.ReLU6()\n",
        "    self.conv6 = torch.nn.Conv2d(in_channels=8, out_channels=8, kernel_size=3, padding=1)\n",
        "    self.act7 = torch.nn.ReLU6()\n",
        "    self.conv7 = torch.nn.Conv2d(in_channels=8, out_channels=16, kernel_size=3, padding=0)\n",
        "    self.act8 = torch.nn.ReLU6()\n",
        "    self.conv8 = torch.nn.Conv2d(in_channels=16, out_channels=16, kernel_size=3, padding=1)\n",
        "    self.act9 = torch.nn.ReLU6()\n",
        "    self.pool2 = torch.nn.MaxPool2d(kernel_size=2, stride=2)\n",
        "    self.act10 = torch.nn.ReLU6()\n",
        "    self.fc1 = torch.nn.Linear(16*5*5, 120)\n",
        "    self.act11 = torch.nn.ReLU6()\n",
        "    self.fc2 = torch.nn.Linear(120, 84)\n",
        "    self.act12 = torch.nn.ReLU6()\n",
        "    self.fc3 = torch.nn.Linear(84, 35)\n",
        "\n",
        "  def forward(self, x):\n",
        "    x = self.conv1(x)\n",
        "    x = self.act1(x)\n",
        "    skip_conn1 = x\n",
        "\n",
        "    x = self.conv2(x)\n",
        "    x = self.act2(x)\n",
        "    x = torch.add(x, skip_conn1)\n",
        "\n",
        "    x = self.conv3(x)\n",
        "    x = self.act3(x)\n",
        "    skip_conn2 = x\n",
        "\n",
        "    x = self.conv4(x)\n",
        "    x = self.act4(x)\n",
        "    x = torch.add(x, skip_conn2)\n",
        "\n",
        "    x = self.pool1(x)\n",
        "    x = self.act5(x)\n",
        "\n",
        "    x = self.conv5(x)\n",
        "    x = self.act6(x)\n",
        "    skip_conn3 = x\n",
        "\n",
        "    x = self.conv6(x)\n",
        "    x = self.act7(x)\n",
        "    x = torch.add(x, skip_conn3)\n",
        "\n",
        "    x = self.conv7(x)\n",
        "    x = self.act8(x)\n",
        "    skip_conn4 = x\n",
        "\n",
        "    x = self.conv8(x)\n",
        "    x = self.act9(x)\n",
        "    x = torch.add(x, skip_conn4)\n",
        "\n",
        "    x = self.pool2(x)\n",
        "    x = self.act10(x)\n",
        "    x = x.view(x.size(0), x.size(1)*x.size(2)*x.size(3))\n",
        "    x = self.fc1(x)\n",
        "    x = self.act11(x)\n",
        "    x = self.fc2(x)\n",
        "    x = self.act12(x)\n",
        "    x = self.fc3(x)\n",
        "    return x"
      ],
      "metadata": {
        "id": "YZLA_RrkjkQK"
      },
      "execution_count": 5,
      "outputs": []
    },
    {
      "cell_type": "markdown",
      "source": [
        "***NET WITH BATCH***"
      ],
      "metadata": {
        "id": "3DgWJsp475-9"
      }
    },
    {
      "cell_type": "code",
      "source": [
        "class LeNet2(torch.nn.Module):\n",
        "  def __init__(self):\n",
        "    super(LeNet2, self).__init__()\n",
        "\n",
        "    self.conv1 = torch.nn.Conv2d(in_channels=1, out_channels=2, kernel_size=3, padding=1)\n",
        "    self.batch1 = torch.nn.BatchNorm2d(2)\n",
        "    self.act1 = torch.nn.ReLU6()\n",
        "\n",
        "    self.conv2 = torch.nn.Conv2d(in_channels=2, out_channels=2, kernel_size=3, padding=1)\n",
        "    self.batch2 = torch.nn.BatchNorm2d(2)\n",
        "    self.act2 = torch.nn.ReLU6()\n",
        "\n",
        "    self.conv3 = torch.nn.Conv2d(in_channels=2, out_channels=4, kernel_size=3, padding=1)\n",
        "    self.batch3 = torch.nn.BatchNorm2d(4)\n",
        "    self.act3 = torch.nn.ReLU6()\n",
        "\n",
        "    self.conv4 = torch.nn.Conv2d(in_channels=4, out_channels=4, kernel_size=3, padding=1)\n",
        "    self.batch4 = torch.nn.BatchNorm2d(4)\n",
        "    self.act4 = torch.nn.ReLU6()\n",
        "\n",
        "    self.pool1 = torch.nn.AvgPool2d(kernel_size=2, stride=2)\n",
        "    self.act5 = torch.nn.ReLU6()\n",
        "\n",
        "    self.conv5 = torch.nn.Conv2d(in_channels=4, out_channels=8, kernel_size=3, padding=0)\n",
        "    self.batch5 = torch.nn.BatchNorm2d(8)\n",
        "    self.act6 = torch.nn.ReLU6()\n",
        "\n",
        "    self.conv6 = torch.nn.Conv2d(in_channels=8, out_channels=8, kernel_size=3, padding=1)\n",
        "    self.batch6 = torch.nn.BatchNorm2d(8)\n",
        "    self.act7 = torch.nn.ReLU6()\n",
        "\n",
        "    self.conv7 = torch.nn.Conv2d(in_channels=8, out_channels=16, kernel_size=3, padding=0)\n",
        "    self.batch7 = torch.nn.BatchNorm2d(16)\n",
        "    self.act8 = torch.nn.ReLU6()\n",
        "\n",
        "    self.conv8 = torch.nn.Conv2d(in_channels=16, out_channels=16, kernel_size=3, padding=1)\n",
        "    self.batch8 = torch.nn.BatchNorm2d(16)\n",
        "    self.act9 = torch.nn.ReLU6()\n",
        "\n",
        "    self.pool2 = torch.nn.MaxPool2d(kernel_size=2, stride=2)\n",
        "    self.act10 = torch.nn.ReLU6()\n",
        "\n",
        "    self.fc1 = torch.nn.Linear(16*5*5, 120)\n",
        "    self.act11 = torch.nn.ReLU6()\n",
        "\n",
        "    self.fc2 = torch.nn.Linear(120, 84)\n",
        "    self.act12 = torch.nn.ReLU6()\n",
        "\n",
        "    self.fc3 = torch.nn.Linear(84, 35)\n",
        "\n",
        "  def forward(self, x):\n",
        "    x = self.conv1(x)\n",
        "    x = self.batch1(x)\n",
        "    x = self.act1(x)\n",
        "    skip_conn1 = x\n",
        "\n",
        "    x = self.conv2(x)\n",
        "    x = self.batch2(x)\n",
        "    x = self.act2(x)\n",
        "    x = torch.add(x, skip_conn1)\n",
        "\n",
        "    x = self.conv3(x)\n",
        "    x = self.batch3(x)\n",
        "    x = self.act3(x)\n",
        "    skip_conn2 = x\n",
        "\n",
        "    x = self.conv4(x)\n",
        "    x = self.batch4(x)\n",
        "    x = self.act4(x)\n",
        "    x = torch.add(x, skip_conn2)\n",
        "\n",
        "    x = self.pool1(x)\n",
        "    x = self.act5(x)\n",
        "\n",
        "    x = self.conv5(x)\n",
        "    x = self.batch5(x)\n",
        "    x = self.act6(x)\n",
        "    skip_conn3 = x\n",
        "\n",
        "    x = self.conv6(x)\n",
        "    x = self.batch6(x)\n",
        "    x = self.act7(x)\n",
        "    x = torch.add(x, skip_conn3)\n",
        "\n",
        "    x = self.conv7(x)\n",
        "    x = self.batch7(x)\n",
        "    x = self.act8(x)\n",
        "    skip_conn4 = x\n",
        "\n",
        "    x = self.conv8(x)\n",
        "    x = self.batch8(x)\n",
        "    x = self.act9(x)\n",
        "    x = torch.add(x, skip_conn4)\n",
        "\n",
        "    x = self.pool2(x)\n",
        "    x = self.act10(x)\n",
        "    x = x.view(x.size(0), x.size(1)*x.size(2)*x.size(3))\n",
        "    x = self.fc1(x)\n",
        "    x = self.act11(x)\n",
        "    x = self.fc2(x)\n",
        "    x = self.act12(x)\n",
        "    x = self.fc3(x)\n",
        "    return x"
      ],
      "metadata": {
        "id": "ZIfOR67b75-9"
      },
      "execution_count": 6,
      "outputs": []
    },
    {
      "cell_type": "markdown",
      "source": [
        "***NET WITH DROPOUTS***"
      ],
      "metadata": {
        "id": "XGv1lF-Y76Zy"
      }
    },
    {
      "cell_type": "code",
      "source": [
        "class LeNet3(torch.nn.Module):\n",
        "  def __init__(self, dropout_rate):\n",
        "    super(LeNet3, self).__init__()\n",
        "\n",
        "    self.conv1 = torch.nn.Conv2d(in_channels=1, out_channels=2, kernel_size=3, padding=1)\n",
        "    self.act1 = torch.nn.ReLU6()\n",
        "    self.dp1 = torch.nn.Dropout(p=dropout_rate)\n",
        "\n",
        "    self.conv2 = torch.nn.Conv2d(in_channels=2, out_channels=2, kernel_size=3, padding=1)\n",
        "    self.act2 = torch.nn.ReLU6()\n",
        "    self.dp2 = torch.nn.Dropout(p=dropout_rate)\n",
        "\n",
        "    self.conv3 = torch.nn.Conv2d(in_channels=2, out_channels=4, kernel_size=3, padding=1)\n",
        "    self.act3 = torch.nn.ReLU6()\n",
        "    self.dp3 = torch.nn.Dropout(p=dropout_rate)\n",
        "\n",
        "    self.conv4 = torch.nn.Conv2d(in_channels=4, out_channels=4, kernel_size=3, padding=1)\n",
        "    self.act4 = torch.nn.ReLU6()\n",
        "    self.dp4 = torch.nn.Dropout(p=dropout_rate)\n",
        "\n",
        "    self.pool1 = torch.nn.AvgPool2d(kernel_size=2, stride=2)\n",
        "    self.act5 = torch.nn.ReLU6()\n",
        "\n",
        "    self.conv5 = torch.nn.Conv2d(in_channels=4, out_channels=8, kernel_size=3, padding=0)\n",
        "    self.act6 = torch.nn.ReLU6()\n",
        "    self.dp5 = torch.nn.Dropout(p=dropout_rate)\n",
        "\n",
        "    self.conv6 = torch.nn.Conv2d(in_channels=8, out_channels=8, kernel_size=3, padding=1)\n",
        "    self.act7 = torch.nn.ReLU6()\n",
        "    self.dp6 = torch.nn.Dropout(p=dropout_rate)\n",
        "\n",
        "    self.conv7 = torch.nn.Conv2d(in_channels=8, out_channels=16, kernel_size=3, padding=0)\n",
        "    self.act8 = torch.nn.ReLU6()\n",
        "    self.dp7 = torch.nn.Dropout(p=dropout_rate)\n",
        "\n",
        "    self.conv8 = torch.nn.Conv2d(in_channels=16, out_channels=16, kernel_size=3, padding=1)\n",
        "    self.act9 = torch.nn.ReLU6()\n",
        "    self.dp8 = torch.nn.Dropout(p=dropout_rate)\n",
        "\n",
        "    self.pool2 = torch.nn.MaxPool2d(kernel_size=2, stride=2)\n",
        "    self.act10 = torch.nn.ReLU6()\n",
        "\n",
        "    self.fc1 = torch.nn.Linear(16*5*5, 120)\n",
        "    self.act11 = torch.nn.ReLU6()\n",
        "\n",
        "    self.fc2 = torch.nn.Linear(120, 84)\n",
        "    self.act12 = torch.nn.ReLU6()\n",
        "\n",
        "    self.fc3 = torch.nn.Linear(84, 35)\n",
        "\n",
        "  def forward(self, x):\n",
        "    x = self.conv1(x)\n",
        "    x = self.act1(x)\n",
        "    x = self.dp1(x)\n",
        "    skip_conn1 = x\n",
        "\n",
        "    x = self.conv2(x)\n",
        "    x = self.act2(x)\n",
        "    x = self.dp2(x)\n",
        "    x = torch.add(x, skip_conn1)\n",
        "\n",
        "    x = self.conv3(x)\n",
        "    x = self.act3(x)\n",
        "    x = self.dp3(x)\n",
        "    skip_conn2 = x\n",
        "\n",
        "    x = self.conv4(x)\n",
        "    x = self.act4(x)\n",
        "    x = self.dp4(x)\n",
        "    x = torch.add(x, skip_conn2)\n",
        "\n",
        "    x = self.pool1(x)\n",
        "    x = self.act5(x)\n",
        "\n",
        "    x = self.conv5(x)\n",
        "    x = self.act6(x)\n",
        "    x = self.dp5(x)\n",
        "    skip_conn3 = x\n",
        "\n",
        "    x = self.conv6(x)\n",
        "    x = self.act7(x)\n",
        "    x = self.dp6(x)\n",
        "    x = torch.add(x, skip_conn3)\n",
        "\n",
        "    x = self.conv7(x)\n",
        "    x = self.act8(x)\n",
        "    x = self.dp7(x)\n",
        "    skip_conn4 = x\n",
        "\n",
        "    x = self.conv8(x)\n",
        "    x = self.act9(x)\n",
        "    x = self.dp8(x)\n",
        "    x = torch.add(x, skip_conn4)\n",
        "\n",
        "    x = self.pool2(x)\n",
        "    x = self.act10(x)\n",
        "    x = x.view(x.size(0), x.size(1)*x.size(2)*x.size(3))\n",
        "    x = self.fc1(x)\n",
        "    x = self.act11(x)\n",
        "    x = self.fc2(x)\n",
        "    x = self.act12(x)\n",
        "    x = self.fc3(x)\n",
        "    return x"
      ],
      "metadata": {
        "id": "BFV0Lfuj76Zy"
      },
      "execution_count": 7,
      "outputs": []
    },
    {
      "cell_type": "markdown",
      "source": [
        "***NET WITH BATCH AND DROPOUTS***"
      ],
      "metadata": {
        "id": "l0hS7QLV76mz"
      }
    },
    {
      "cell_type": "code",
      "source": [
        "class LeNet4(torch.nn.Module):\n",
        "  def __init__(self, dropout_rate):\n",
        "    super(LeNet4, self).__init__()\n",
        "\n",
        "    self.conv1 = torch.nn.Conv2d(in_channels=1, out_channels=2, kernel_size=3, padding=1)\n",
        "    self.batch1 = torch.nn.BatchNorm2d(2)\n",
        "    self.act1 = torch.nn.ReLU6()\n",
        "    self.dp1 = torch.nn.Dropout(p=dropout_rate)\n",
        "\n",
        "    self.conv2 = torch.nn.Conv2d(in_channels=2, out_channels=2, kernel_size=3, padding=1)\n",
        "    self.batch2 = torch.nn.BatchNorm2d(2)\n",
        "    self.act2 = torch.nn.ReLU6()\n",
        "    self.dp2 = torch.nn.Dropout(p=dropout_rate)\n",
        "\n",
        "    self.conv3 = torch.nn.Conv2d(in_channels=2, out_channels=4, kernel_size=3, padding=1)\n",
        "    self.batch3 = torch.nn.BatchNorm2d(4)\n",
        "    self.act3 = torch.nn.ReLU6()\n",
        "    self.dp3 = torch.nn.Dropout(p=dropout_rate)\n",
        "\n",
        "    self.conv4 = torch.nn.Conv2d(in_channels=4, out_channels=4, kernel_size=3, padding=1)\n",
        "    self.batch4 = torch.nn.BatchNorm2d(4)\n",
        "    self.act4 = torch.nn.ReLU6()\n",
        "    self.dp4 = torch.nn.Dropout(p=dropout_rate)\n",
        "\n",
        "    self.pool1 = torch.nn.AvgPool2d(kernel_size=2, stride=2)\n",
        "    self.act5 = torch.nn.ReLU6()\n",
        "\n",
        "    self.conv5 = torch.nn.Conv2d(in_channels=4, out_channels=8, kernel_size=3, padding=0)\n",
        "    self.batch5 = torch.nn.BatchNorm2d(8)\n",
        "    self.act6 = torch.nn.ReLU6()\n",
        "    self.dp5 = torch.nn.Dropout(p=dropout_rate)\n",
        "\n",
        "    self.conv6 = torch.nn.Conv2d(in_channels=8, out_channels=8, kernel_size=3, padding=1)\n",
        "    self.batch6 = torch.nn.BatchNorm2d(8)\n",
        "    self.act7 = torch.nn.ReLU6()\n",
        "    self.dp6 = torch.nn.Dropout(p=dropout_rate)\n",
        "\n",
        "    self.conv7 = torch.nn.Conv2d(in_channels=8, out_channels=16, kernel_size=3, padding=0)\n",
        "    self.batch7 = torch.nn.BatchNorm2d(16)\n",
        "    self.act8 = torch.nn.ReLU6()\n",
        "    self.dp7 = torch.nn.Dropout(p=dropout_rate)\n",
        "\n",
        "    self.conv8 = torch.nn.Conv2d(in_channels=16, out_channels=16, kernel_size=3, padding=1)\n",
        "    self.batch8 = torch.nn.BatchNorm2d(16)\n",
        "    self.act9 = torch.nn.ReLU6()\n",
        "    self.dp8 = torch.nn.Dropout(p=dropout_rate)\n",
        "\n",
        "    self.pool2 = torch.nn.MaxPool2d(kernel_size=2, stride=2)\n",
        "    self.act10 = torch.nn.ReLU6()\n",
        "\n",
        "    self.fc1 = torch.nn.Linear(16*5*5, 120)\n",
        "    self.act11 = torch.nn.ReLU6()\n",
        "\n",
        "    self.fc2 = torch.nn.Linear(120, 84)\n",
        "    self.act12 = torch.nn.ReLU6()\n",
        "\n",
        "    self.fc3 = torch.nn.Linear(84, 35)\n",
        "\n",
        "  def forward(self, x):\n",
        "    x = self.conv1(x)\n",
        "    x = self.batch1(x)\n",
        "    x = self.act1(x)\n",
        "    x = self.dp1(x)\n",
        "    skip_conn1 = x\n",
        "\n",
        "    x = self.conv2(x)\n",
        "    x = self.batch2(x)\n",
        "    x = self.act2(x)\n",
        "    x = self.dp2(x)\n",
        "    x = torch.add(x, skip_conn1)\n",
        "\n",
        "    x = self.conv3(x)\n",
        "    x = self.batch3(x)\n",
        "    x = self.act3(x)\n",
        "    x = self.dp3(x)\n",
        "    skip_conn2 = x\n",
        "\n",
        "    x = self.conv4(x)\n",
        "    x = self.batch4(x)\n",
        "    x = self.act4(x)\n",
        "    x = self.dp4(x)\n",
        "    x = torch.add(x, skip_conn2)\n",
        "\n",
        "    x = self.pool1(x)\n",
        "    x = self.act5(x)\n",
        "\n",
        "    x = self.conv5(x)\n",
        "    x = self.batch5(x)\n",
        "    x = self.act6(x)\n",
        "    x = self.dp5(x)\n",
        "    skip_conn3 = x\n",
        "\n",
        "    x = self.conv6(x)\n",
        "    x = self.batch6(x)\n",
        "    x = self.act7(x)\n",
        "    x = self.dp6(x)\n",
        "    x = torch.add(x, skip_conn3)\n",
        "\n",
        "    x = self.conv7(x)\n",
        "    x = self.batch7(x)\n",
        "    x = self.act8(x)\n",
        "    x = self.dp7(x)\n",
        "    skip_conn4 = x\n",
        "\n",
        "    x = self.conv8(x)\n",
        "    x = self.batch8(x)\n",
        "    x = self.act9(x)\n",
        "    x = self.dp8(x)\n",
        "    x = torch.add(x, skip_conn4)\n",
        "\n",
        "    x = self.pool2(x)\n",
        "    x = self.act10(x)\n",
        "    x = x.view(x.size(0), x.size(1)*x.size(2)*x.size(3))\n",
        "    x = self.fc1(x)\n",
        "    x = self.act11(x)\n",
        "    x = self.fc2(x)\n",
        "    x = self.act12(x)\n",
        "    x = self.fc3(x)\n",
        "    return x"
      ],
      "metadata": {
        "id": "ebz8J7V976mz"
      },
      "execution_count": 8,
      "outputs": []
    },
    {
      "cell_type": "markdown",
      "source": [
        "***LEARNING***"
      ],
      "metadata": {
        "id": "og8DUhLtCUkx"
      }
    },
    {
      "cell_type": "markdown",
      "source": [
        "1) 118 epoches"
      ],
      "metadata": {
        "id": "nKKrU_PumCcQ"
      }
    },
    {
      "cell_type": "code",
      "source": [
        "batch_size = 1120\n",
        "loss = torch.nn.CrossEntropyLoss()\n",
        "lenet = LeNet1().to(device)\n",
        "optimizer = torch.optim.Adam(lenet.parameters(), lr=0.001)\n",
        "test_accuracy_history = []\n",
        "\n",
        "for epoch in bar(range(200), desc = 'LEARNING'):\n",
        "  order = np.random.permutation(len(train_data))\n",
        "\n",
        "  for start_index in range(0, len(train_data), batch_size):\n",
        "    optimizer.zero_grad()\n",
        "\n",
        "    batch_indexes = order[start_index:start_index+batch_size]\n",
        "\n",
        "    data_batch = train_data[batch_indexes].to(device)\n",
        "    label_batch = train_labels[batch_indexes].to(device)\n",
        "\n",
        "    preds = lenet.forward(data_batch)\n",
        "\n",
        "    loss_val = loss(preds, label_batch)\n",
        "    loss_val.backward()\n",
        "\n",
        "    optimizer.step()\n",
        "\n",
        "  with torch.no_grad():\n",
        "    test_preds = lenet.forward(test_data)\n",
        "    test_accuracy = (test_preds.argmax(dim=1)==test_labels).float().mean().data.cpu()\n",
        "    test_accuracy_history.append(test_accuracy)\n",
        "    print(test_accuracy)\n",
        "print('ACCURACY OF 1st MODEL:\\n', *test_accuracy_history)"
      ],
      "metadata": {
        "id": "SXP_FNxQB7hY"
      },
      "execution_count": null,
      "outputs": []
    },
    {
      "cell_type": "code",
      "source": [
        "fig = go.Figure(data=go.Scatter(x=[i for i in range(200)], y=test_accuracy_history, mode =\"lines+markers\"))\n",
        "fig.update_layout(title=\"DEFAULT NET\", xaxis_title = \"EPOCH\", yaxis_title = \"ACCURACY\")\n",
        "fig.show()"
      ],
      "metadata": {
        "colab": {
          "base_uri": "https://localhost:8080/",
          "height": 542
        },
        "id": "lOWCKpAfD0Ea",
        "outputId": "fcae029e-dc4c-4cd8-f242-856862df0cfc"
      },
      "execution_count": null,
      "outputs": [
        {
          "output_type": "display_data",
          "data": {
            "text/html": [
              "<html>\n",
              "<head><meta charset=\"utf-8\" /></head>\n",
              "<body>\n",
              "    <div>            <script src=\"https://cdnjs.cloudflare.com/ajax/libs/mathjax/2.7.5/MathJax.js?config=TeX-AMS-MML_SVG\"></script><script type=\"text/javascript\">if (window.MathJax && window.MathJax.Hub && window.MathJax.Hub.Config) {window.MathJax.Hub.Config({SVG: {font: \"STIX-Web\"}});}</script>                <script type=\"text/javascript\">window.PlotlyConfig = {MathJaxConfig: 'local'};</script>\n",
              "        <script charset=\"utf-8\" src=\"https://cdn.plot.ly/plotly-2.24.1.min.js\"></script>                <div id=\"bd29fc55-22bc-47ee-b565-05534dab9193\" class=\"plotly-graph-div\" style=\"height:525px; width:100%;\"></div>            <script type=\"text/javascript\">                                    window.PLOTLYENV=window.PLOTLYENV || {};                                    if (document.getElementById(\"bd29fc55-22bc-47ee-b565-05534dab9193\")) {                    Plotly.newPlot(                        \"bd29fc55-22bc-47ee-b565-05534dab9193\",                        [{\"mode\":\"lines+markers\",\"x\":[0,1,2,3,4,5,6,7,8,9,10,11,12,13,14,15,16,17,18,19,20,21,22,23,24,25,26,27,28,29,30,31,32,33,34,35,36,37,38,39,40,41,42,43,44,45,46,47,48,49,50,51,52,53,54,55,56,57,58,59,60,61,62,63,64,65,66,67,68,69,70,71,72,73,74,75,76,77,78,79,80,81,82,83,84,85,86,87,88,89,90,91,92,93,94,95,96,97,98,99,100,101,102,103,104,105,106,107,108,109,110,111,112,113,114,115,116,117,118,119,120,121,122,123,124,125,126,127,128,129,130,131,132,133,134,135,136,137,138,139,140,141,142,143,144,145,146,147,148,149,150,151,152,153,154,155,156,157,158,159,160,161,162,163,164,165,166,167,168,169,170,171,172,173,174,175,176,177,178,179,180,181,182,183,184,185,186,187,188,189,190,191,192,193,194,195,196,197,198,199],\"y\":[0.04988731071352959,0.04988731071352959,0.04988731071352959,0.1724431961774826,0.28287750482559204,0.3489675223827362,0.39111897349357605,0.4229152798652649,0.4508131742477417,0.4628738462924957,0.49369555711746216,0.5024060606956482,0.5131266117095947,0.5276238322257996,0.5397453904151917,0.5499177575111389,0.5376743674278259,0.5455929636955261,0.5736127495765686,0.5602119565010071,0.5824450254440308,0.5610647797584534,0.589998185634613,0.5672778487205505,0.5923128724098206,0.5862215757369995,0.5891454219818115,0.6048608422279358,0.5931047201156616,0.5996832847595215,0.5988913774490356,0.5956020951271057,0.6093683242797852,0.6213071942329407,0.6108911633491516,0.6004142165184021,0.6234391331672668,0.6122921109199524,0.6198452711105347,0.6194798350334167,0.619236171245575,0.6239873170852661,0.6181397438049316,0.6167387366294861,0.6350125074386597,0.6363525390625,0.6449412107467651,0.6308095455169678,0.633185088634491,0.6303222179412842,0.6353170275688171,0.6398854851722717,0.6358043551445007,0.6441493630409241,0.6358043551445007,0.6381190419197083,0.6475604772567749,0.6347688436508179,0.6445757746696472,0.6529207825660706,0.6403728127479553,0.633733332157135,0.6572455167770386,0.6591947674751282,0.647438645362854,0.635438859462738,0.6522507071495056,0.6540780663490295,0.6534689664840698,0.650971531867981,0.6671133637428284,0.6503624320030212,0.6446366310119629,0.6485959887504578,0.650971531867981,0.6471340656280518,0.6561490893363953,0.6588901877403259,0.6460376381874084,0.6556618213653564,0.6574891805648804,0.6523116230964661,0.6573673486709595,0.6629713177680969,0.6566364169120789,0.6644940972328186,0.6518243551254272,0.6443930268287659,0.6485350728034973,0.6481086611747742,0.6588901877403259,0.6549308896064758,0.6566973328590393,0.6663215160369873,0.6650423407554626,0.6632758975028992,0.6574282646179199,0.6512151956558228,0.6486569046974182,0.6423829197883606,0.6644332408905029,0.6660169363021851,0.6624839901924133,0.6586465239524841,0.6511542797088623,0.6574891805648804,0.6649814248085022,0.6558445692062378,0.674849271774292,0.6550527215003967,0.6524943709373474,0.6505451798439026,0.6615703105926514,0.6533471345901489,0.6586465239524841,0.668392539024353,0.6567582488059998,0.6603520512580872,0.6539562940597534,0.6512761116027832,0.6638240814208984,0.6649205088615417,0.6502406001091003,0.6566973328590393,0.6464640498161316,0.6665042638778687,0.6615703105926514,0.6582810282707214,0.660230278968811,0.6582810282707214,0.6607784628868103,0.6685752868652344,0.6610830426216125,0.6534689664840698,0.6669915318489075,0.6545044779777527,0.6591338515281677,0.6650423407554626,0.6643723249435425,0.6577328443527222,0.6489005088806152,0.6643723249435425,0.6605347990989685,0.6579155921936035,0.6543826460838318,0.6586465239524841,0.6541998982429504,0.6568800806999207,0.6588901877403259,0.6604738831520081,0.6501796841621399,0.6568191647529602,0.6489614248275757,0.6590729355812073,0.659682035446167,0.6657732725143433,0.6650423407554626,0.6577937602996826,0.6634585857391357,0.6562709212303162,0.6544435620307922,0.6597429513931274,0.6479868292808533,0.6563927531242371,0.6644940972328186,0.6574891805648804,0.6557227373123169,0.6557836532592773,0.6626667380332947,0.6682097911834717,0.6617530584335327,0.6579155921936035,0.6535907983779907,0.6531643867492676,0.6507279276847839,0.6612048745155334,0.6584028601646423,0.6577937602996826,0.6533471345901489,0.6551744937896729,0.6534080505371094,0.6529207825660706,0.6625449061393738,0.6585856080055237,0.6525552868843079,0.6590120196342468,0.654687225818634,0.6630931496620178,0.6547481417655945,0.6560273170471191,0.6572455167770386,0.6621794700622559,0.6552963256835938,0.6541998982429504,0.6593774557113647,0.6609612107276917,0.653225302696228,0.6727173328399658,0.6616312265396118,0.653895378112793],\"type\":\"scatter\"}],                        {\"template\":{\"data\":{\"histogram2dcontour\":[{\"type\":\"histogram2dcontour\",\"colorbar\":{\"outlinewidth\":0,\"ticks\":\"\"},\"colorscale\":[[0.0,\"#0d0887\"],[0.1111111111111111,\"#46039f\"],[0.2222222222222222,\"#7201a8\"],[0.3333333333333333,\"#9c179e\"],[0.4444444444444444,\"#bd3786\"],[0.5555555555555556,\"#d8576b\"],[0.6666666666666666,\"#ed7953\"],[0.7777777777777778,\"#fb9f3a\"],[0.8888888888888888,\"#fdca26\"],[1.0,\"#f0f921\"]]}],\"choropleth\":[{\"type\":\"choropleth\",\"colorbar\":{\"outlinewidth\":0,\"ticks\":\"\"}}],\"histogram2d\":[{\"type\":\"histogram2d\",\"colorbar\":{\"outlinewidth\":0,\"ticks\":\"\"},\"colorscale\":[[0.0,\"#0d0887\"],[0.1111111111111111,\"#46039f\"],[0.2222222222222222,\"#7201a8\"],[0.3333333333333333,\"#9c179e\"],[0.4444444444444444,\"#bd3786\"],[0.5555555555555556,\"#d8576b\"],[0.6666666666666666,\"#ed7953\"],[0.7777777777777778,\"#fb9f3a\"],[0.8888888888888888,\"#fdca26\"],[1.0,\"#f0f921\"]]}],\"heatmap\":[{\"type\":\"heatmap\",\"colorbar\":{\"outlinewidth\":0,\"ticks\":\"\"},\"colorscale\":[[0.0,\"#0d0887\"],[0.1111111111111111,\"#46039f\"],[0.2222222222222222,\"#7201a8\"],[0.3333333333333333,\"#9c179e\"],[0.4444444444444444,\"#bd3786\"],[0.5555555555555556,\"#d8576b\"],[0.6666666666666666,\"#ed7953\"],[0.7777777777777778,\"#fb9f3a\"],[0.8888888888888888,\"#fdca26\"],[1.0,\"#f0f921\"]]}],\"heatmapgl\":[{\"type\":\"heatmapgl\",\"colorbar\":{\"outlinewidth\":0,\"ticks\":\"\"},\"colorscale\":[[0.0,\"#0d0887\"],[0.1111111111111111,\"#46039f\"],[0.2222222222222222,\"#7201a8\"],[0.3333333333333333,\"#9c179e\"],[0.4444444444444444,\"#bd3786\"],[0.5555555555555556,\"#d8576b\"],[0.6666666666666666,\"#ed7953\"],[0.7777777777777778,\"#fb9f3a\"],[0.8888888888888888,\"#fdca26\"],[1.0,\"#f0f921\"]]}],\"contourcarpet\":[{\"type\":\"contourcarpet\",\"colorbar\":{\"outlinewidth\":0,\"ticks\":\"\"}}],\"contour\":[{\"type\":\"contour\",\"colorbar\":{\"outlinewidth\":0,\"ticks\":\"\"},\"colorscale\":[[0.0,\"#0d0887\"],[0.1111111111111111,\"#46039f\"],[0.2222222222222222,\"#7201a8\"],[0.3333333333333333,\"#9c179e\"],[0.4444444444444444,\"#bd3786\"],[0.5555555555555556,\"#d8576b\"],[0.6666666666666666,\"#ed7953\"],[0.7777777777777778,\"#fb9f3a\"],[0.8888888888888888,\"#fdca26\"],[1.0,\"#f0f921\"]]}],\"surface\":[{\"type\":\"surface\",\"colorbar\":{\"outlinewidth\":0,\"ticks\":\"\"},\"colorscale\":[[0.0,\"#0d0887\"],[0.1111111111111111,\"#46039f\"],[0.2222222222222222,\"#7201a8\"],[0.3333333333333333,\"#9c179e\"],[0.4444444444444444,\"#bd3786\"],[0.5555555555555556,\"#d8576b\"],[0.6666666666666666,\"#ed7953\"],[0.7777777777777778,\"#fb9f3a\"],[0.8888888888888888,\"#fdca26\"],[1.0,\"#f0f921\"]]}],\"mesh3d\":[{\"type\":\"mesh3d\",\"colorbar\":{\"outlinewidth\":0,\"ticks\":\"\"}}],\"scatter\":[{\"fillpattern\":{\"fillmode\":\"overlay\",\"size\":10,\"solidity\":0.2},\"type\":\"scatter\"}],\"parcoords\":[{\"type\":\"parcoords\",\"line\":{\"colorbar\":{\"outlinewidth\":0,\"ticks\":\"\"}}}],\"scatterpolargl\":[{\"type\":\"scatterpolargl\",\"marker\":{\"colorbar\":{\"outlinewidth\":0,\"ticks\":\"\"}}}],\"bar\":[{\"error_x\":{\"color\":\"#2a3f5f\"},\"error_y\":{\"color\":\"#2a3f5f\"},\"marker\":{\"line\":{\"color\":\"#E5ECF6\",\"width\":0.5},\"pattern\":{\"fillmode\":\"overlay\",\"size\":10,\"solidity\":0.2}},\"type\":\"bar\"}],\"scattergeo\":[{\"type\":\"scattergeo\",\"marker\":{\"colorbar\":{\"outlinewidth\":0,\"ticks\":\"\"}}}],\"scatterpolar\":[{\"type\":\"scatterpolar\",\"marker\":{\"colorbar\":{\"outlinewidth\":0,\"ticks\":\"\"}}}],\"histogram\":[{\"marker\":{\"pattern\":{\"fillmode\":\"overlay\",\"size\":10,\"solidity\":0.2}},\"type\":\"histogram\"}],\"scattergl\":[{\"type\":\"scattergl\",\"marker\":{\"colorbar\":{\"outlinewidth\":0,\"ticks\":\"\"}}}],\"scatter3d\":[{\"type\":\"scatter3d\",\"line\":{\"colorbar\":{\"outlinewidth\":0,\"ticks\":\"\"}},\"marker\":{\"colorbar\":{\"outlinewidth\":0,\"ticks\":\"\"}}}],\"scattermapbox\":[{\"type\":\"scattermapbox\",\"marker\":{\"colorbar\":{\"outlinewidth\":0,\"ticks\":\"\"}}}],\"scatterternary\":[{\"type\":\"scatterternary\",\"marker\":{\"colorbar\":{\"outlinewidth\":0,\"ticks\":\"\"}}}],\"scattercarpet\":[{\"type\":\"scattercarpet\",\"marker\":{\"colorbar\":{\"outlinewidth\":0,\"ticks\":\"\"}}}],\"carpet\":[{\"aaxis\":{\"endlinecolor\":\"#2a3f5f\",\"gridcolor\":\"white\",\"linecolor\":\"white\",\"minorgridcolor\":\"white\",\"startlinecolor\":\"#2a3f5f\"},\"baxis\":{\"endlinecolor\":\"#2a3f5f\",\"gridcolor\":\"white\",\"linecolor\":\"white\",\"minorgridcolor\":\"white\",\"startlinecolor\":\"#2a3f5f\"},\"type\":\"carpet\"}],\"table\":[{\"cells\":{\"fill\":{\"color\":\"#EBF0F8\"},\"line\":{\"color\":\"white\"}},\"header\":{\"fill\":{\"color\":\"#C8D4E3\"},\"line\":{\"color\":\"white\"}},\"type\":\"table\"}],\"barpolar\":[{\"marker\":{\"line\":{\"color\":\"#E5ECF6\",\"width\":0.5},\"pattern\":{\"fillmode\":\"overlay\",\"size\":10,\"solidity\":0.2}},\"type\":\"barpolar\"}],\"pie\":[{\"automargin\":true,\"type\":\"pie\"}]},\"layout\":{\"autotypenumbers\":\"strict\",\"colorway\":[\"#636efa\",\"#EF553B\",\"#00cc96\",\"#ab63fa\",\"#FFA15A\",\"#19d3f3\",\"#FF6692\",\"#B6E880\",\"#FF97FF\",\"#FECB52\"],\"font\":{\"color\":\"#2a3f5f\"},\"hovermode\":\"closest\",\"hoverlabel\":{\"align\":\"left\"},\"paper_bgcolor\":\"white\",\"plot_bgcolor\":\"#E5ECF6\",\"polar\":{\"bgcolor\":\"#E5ECF6\",\"angularaxis\":{\"gridcolor\":\"white\",\"linecolor\":\"white\",\"ticks\":\"\"},\"radialaxis\":{\"gridcolor\":\"white\",\"linecolor\":\"white\",\"ticks\":\"\"}},\"ternary\":{\"bgcolor\":\"#E5ECF6\",\"aaxis\":{\"gridcolor\":\"white\",\"linecolor\":\"white\",\"ticks\":\"\"},\"baxis\":{\"gridcolor\":\"white\",\"linecolor\":\"white\",\"ticks\":\"\"},\"caxis\":{\"gridcolor\":\"white\",\"linecolor\":\"white\",\"ticks\":\"\"}},\"coloraxis\":{\"colorbar\":{\"outlinewidth\":0,\"ticks\":\"\"}},\"colorscale\":{\"sequential\":[[0.0,\"#0d0887\"],[0.1111111111111111,\"#46039f\"],[0.2222222222222222,\"#7201a8\"],[0.3333333333333333,\"#9c179e\"],[0.4444444444444444,\"#bd3786\"],[0.5555555555555556,\"#d8576b\"],[0.6666666666666666,\"#ed7953\"],[0.7777777777777778,\"#fb9f3a\"],[0.8888888888888888,\"#fdca26\"],[1.0,\"#f0f921\"]],\"sequentialminus\":[[0.0,\"#0d0887\"],[0.1111111111111111,\"#46039f\"],[0.2222222222222222,\"#7201a8\"],[0.3333333333333333,\"#9c179e\"],[0.4444444444444444,\"#bd3786\"],[0.5555555555555556,\"#d8576b\"],[0.6666666666666666,\"#ed7953\"],[0.7777777777777778,\"#fb9f3a\"],[0.8888888888888888,\"#fdca26\"],[1.0,\"#f0f921\"]],\"diverging\":[[0,\"#8e0152\"],[0.1,\"#c51b7d\"],[0.2,\"#de77ae\"],[0.3,\"#f1b6da\"],[0.4,\"#fde0ef\"],[0.5,\"#f7f7f7\"],[0.6,\"#e6f5d0\"],[0.7,\"#b8e186\"],[0.8,\"#7fbc41\"],[0.9,\"#4d9221\"],[1,\"#276419\"]]},\"xaxis\":{\"gridcolor\":\"white\",\"linecolor\":\"white\",\"ticks\":\"\",\"title\":{\"standoff\":15},\"zerolinecolor\":\"white\",\"automargin\":true,\"zerolinewidth\":2},\"yaxis\":{\"gridcolor\":\"white\",\"linecolor\":\"white\",\"ticks\":\"\",\"title\":{\"standoff\":15},\"zerolinecolor\":\"white\",\"automargin\":true,\"zerolinewidth\":2},\"scene\":{\"xaxis\":{\"backgroundcolor\":\"#E5ECF6\",\"gridcolor\":\"white\",\"linecolor\":\"white\",\"showbackground\":true,\"ticks\":\"\",\"zerolinecolor\":\"white\",\"gridwidth\":2},\"yaxis\":{\"backgroundcolor\":\"#E5ECF6\",\"gridcolor\":\"white\",\"linecolor\":\"white\",\"showbackground\":true,\"ticks\":\"\",\"zerolinecolor\":\"white\",\"gridwidth\":2},\"zaxis\":{\"backgroundcolor\":\"#E5ECF6\",\"gridcolor\":\"white\",\"linecolor\":\"white\",\"showbackground\":true,\"ticks\":\"\",\"zerolinecolor\":\"white\",\"gridwidth\":2}},\"shapedefaults\":{\"line\":{\"color\":\"#2a3f5f\"}},\"annotationdefaults\":{\"arrowcolor\":\"#2a3f5f\",\"arrowhead\":0,\"arrowwidth\":1},\"geo\":{\"bgcolor\":\"white\",\"landcolor\":\"#E5ECF6\",\"subunitcolor\":\"white\",\"showland\":true,\"showlakes\":true,\"lakecolor\":\"white\"},\"title\":{\"x\":0.05},\"mapbox\":{\"style\":\"light\"}}},\"title\":{\"text\":\"DEFAULT NET\"},\"xaxis\":{\"title\":{\"text\":\"EPOCH\"}},\"yaxis\":{\"title\":{\"text\":\"ACCURACY\"}}},                        {\"responsive\": true}                    ).then(function(){\n",
              "                            \n",
              "var gd = document.getElementById('bd29fc55-22bc-47ee-b565-05534dab9193');\n",
              "var x = new MutationObserver(function (mutations, observer) {{\n",
              "        var display = window.getComputedStyle(gd).display;\n",
              "        if (!display || display === 'none') {{\n",
              "            console.log([gd, 'removed!']);\n",
              "            Plotly.purge(gd);\n",
              "            observer.disconnect();\n",
              "        }}\n",
              "}});\n",
              "\n",
              "// Listen for the removal of the full notebook cells\n",
              "var notebookContainer = gd.closest('#notebook-container');\n",
              "if (notebookContainer) {{\n",
              "    x.observe(notebookContainer, {childList: true});\n",
              "}}\n",
              "\n",
              "// Listen for the clearing of the current output cell\n",
              "var outputEl = gd.closest('.output');\n",
              "if (outputEl) {{\n",
              "    x.observe(outputEl, {childList: true});\n",
              "}}\n",
              "\n",
              "                        })                };                            </script>        </div>\n",
              "</body>\n",
              "</html>"
            ]
          },
          "metadata": {}
        }
      ]
    },
    {
      "cell_type": "markdown",
      "source": [
        "2) 35 epoches"
      ],
      "metadata": {
        "id": "UjcMI_wFmUff"
      }
    },
    {
      "cell_type": "code",
      "source": [
        "batch_size = 1120\n",
        "loss = torch.nn.CrossEntropyLoss()\n",
        "lenet = LeNet2().to(device)\n",
        "optimizer = torch.optim.Adam(lenet.parameters(), lr=0.001)\n",
        "test_accuracy_history = []\n",
        "\n",
        "for epoch in bar(range(200), desc = 'LEARNING'):\n",
        "  order = np.random.permutation(len(train_data))\n",
        "\n",
        "  for start_index in range(0, len(train_data), batch_size):\n",
        "    optimizer.zero_grad()\n",
        "\n",
        "    batch_indexes = order[start_index:start_index+batch_size]\n",
        "\n",
        "    data_batch = train_data[batch_indexes].to(device)\n",
        "    label_batch = train_labels[batch_indexes].to(device)\n",
        "\n",
        "    preds = lenet.forward(data_batch)\n",
        "\n",
        "    loss_val = loss(preds, label_batch)\n",
        "    loss_val.backward()\n",
        "\n",
        "    optimizer.step()\n",
        "\n",
        "  with torch.no_grad():\n",
        "    test_preds = lenet.forward(test_data)\n",
        "    test_accuracy = (test_preds.argmax(dim=1)==test_labels).float().mean().data.cpu()\n",
        "    test_accuracy_history.append(test_accuracy)\n",
        "    print(test_accuracy)\n",
        "print('ACCURACY OF 2nd MODEL:\\n', *test_accuracy_history)"
      ],
      "metadata": {
        "id": "nvfXTQzwEODZ"
      },
      "execution_count": null,
      "outputs": []
    },
    {
      "cell_type": "code",
      "source": [
        "fig = go.Figure(data=go.Scatter(x=[i for i in range(200)], y=test_accuracy_history, mode =\"lines+markers\"))\n",
        "fig.update_layout(title=\"NET WITH BATCH\", xaxis_title = \"EPOCH\", yaxis_title = \"ACCURACY\")\n",
        "fig.show()"
      ],
      "metadata": {
        "colab": {
          "base_uri": "https://localhost:8080/",
          "height": 542
        },
        "id": "9n8h306PEiFb",
        "outputId": "727589f2-6e7c-42ba-aeeb-3bd02fc219c3"
      },
      "execution_count": null,
      "outputs": [
        {
          "output_type": "display_data",
          "data": {
            "text/html": [
              "<html>\n",
              "<head><meta charset=\"utf-8\" /></head>\n",
              "<body>\n",
              "    <div>            <script src=\"https://cdnjs.cloudflare.com/ajax/libs/mathjax/2.7.5/MathJax.js?config=TeX-AMS-MML_SVG\"></script><script type=\"text/javascript\">if (window.MathJax && window.MathJax.Hub && window.MathJax.Hub.Config) {window.MathJax.Hub.Config({SVG: {font: \"STIX-Web\"}});}</script>                <script type=\"text/javascript\">window.PlotlyConfig = {MathJaxConfig: 'local'};</script>\n",
              "        <script charset=\"utf-8\" src=\"https://cdn.plot.ly/plotly-2.24.1.min.js\"></script>                <div id=\"64266e6d-6b19-46c4-a872-2909e57f7304\" class=\"plotly-graph-div\" style=\"height:525px; width:100%;\"></div>            <script type=\"text/javascript\">                                    window.PLOTLYENV=window.PLOTLYENV || {};                                    if (document.getElementById(\"64266e6d-6b19-46c4-a872-2909e57f7304\")) {                    Plotly.newPlot(                        \"64266e6d-6b19-46c4-a872-2909e57f7304\",                        [{\"mode\":\"lines+markers\",\"x\":[0,1,2,3,4,5,6,7,8,9,10,11,12,13,14,15,16,17,18,19,20,21,22,23,24,25,26,27,28,29,30,31,32,33,34,35,36,37,38,39,40,41,42,43,44,45,46,47,48,49,50,51,52,53,54,55,56,57,58,59,60,61,62,63,64,65,66,67,68,69,70,71,72,73,74,75,76,77,78,79,80,81,82,83,84,85,86,87,88,89,90,91,92,93,94,95,96,97,98,99,100,101,102,103,104,105,106,107,108,109,110,111,112,113,114,115,116,117,118,119,120,121,122,123,124,125,126,127,128,129,130,131,132,133,134,135,136,137,138,139,140,141,142,143,144,145,146,147,148,149,150,151,152,153,154,155,156,157,158,159,160,161,162,163,164,165,166,167,168,169,170,171,172,173,174,175,176,177,178,179,180,181,182,183,184,185,186,187,188,189,190,191,192,193,194,195,196,197,198,199],\"y\":[0.3199732005596161,0.49308642745018005,0.5666077733039856,0.6208807826042175,0.6379362940788269,0.6585856080055237,0.6788694858551025,0.6763720512390137,0.6805750131607056,0.7029299139976501,0.7068282961845398,0.7040263414382935,0.7106048464775085,0.7077419757843018,0.7143814563751221,0.7120058536529541,0.7227873802185059,0.7194980978965759,0.7108485102653503,0.7222391366958618,0.7155997157096863,0.7254065871238708,0.7306450605392456,0.7277212738990784,0.7274166941642761,0.7348480224609375,0.7084729075431824,0.7244319915771484,0.7312542200088501,0.7286349534988403,0.7224218845367432,0.7314369082450867,0.7261375188827515,0.7257720828056335,0.7315587401390076,0.715295135974884,0.7183407545089722,0.7183407545089722,0.7266248464584351,0.7250410914421082,0.7249802350997925,0.7323505878448486,0.7260157465934753,0.7249802350997925,0.7317414879798889,0.7281476259231567,0.7297313809394836,0.7236401438713074,0.7229700684547424,0.718828022480011,0.7222391366958618,0.7191326022148132,0.723457396030426,0.7266857624053955,0.7260157465934753,0.714503288269043,0.7232746481895447,0.7253456711769104,0.717914342880249,0.7204726934432983,0.7232746481895447,0.7149905562400818,0.7050009369850159,0.7219345569610596,0.7169397473335266,0.7204117774963379,0.7183407545089722,0.7224218845367432,0.7020162343978882,0.7088384032249451,0.7192544341087341,0.7137113809585571,0.7143205404281616,0.7166352272033691,0.7099957466125488,0.7070719599723816,0.7121886014938354,0.7102394104003906,0.7146859765052795,0.7101784944534302,0.7091429829597473,0.7078028917312622,0.7128586173057556,0.7054272890090942,0.7073764801025391,0.7103612422943115,0.7138941287994385,0.7086556553840637,0.7165133953094482,0.7106048464775085,0.7146250605583191,0.7053663730621338,0.703051745891571,0.7091429829597473,0.7073764801025391,0.7018334865570068,0.7109703421592712,0.703051745891571,0.7011634111404419,0.6993969678878784,0.7085947394371033,0.7124322652816772,0.7037217617034912,0.6947675943374634,0.7025644183158875,0.6955595016479492,0.6977523565292358,0.7031126022338867,0.7000669836997986,0.7014070749282837,0.6951330900192261,0.696716845035553,0.6992142200469971,0.6938539147377014,0.7026862502098083,0.702503502368927,0.6990923881530762,0.7001888155937195,0.6963513493537903,0.7009807229042053,0.7008588910102844,0.7026253342628479,0.6950112581253052,0.6981787085533142,0.7024425864219666,0.6917828917503357,0.6939757466316223,0.6999452114105225,0.6962904334068298,0.6961076855659485,0.700127899646759,0.6993969678878784,0.6942803263664246,0.6999452114105225,0.6996406316757202,0.6979350447654724,0.6958031058311462,0.6938539147377014,0.6961076855659485,0.6763111352920532,0.698422372341156,0.697874128818512,0.6958640217781067,0.6966559290885925,0.6956204175949097,0.699884295463562,0.6923311352729797,0.6946458220481873,0.696716845035553,0.6956813335418701,0.6895291209220886,0.6895900368690491,0.6928184032440186,0.6884327530860901,0.6850216388702393,0.6905037760734558,0.6816105246543884,0.6939148306846619,0.6881890892982483,0.6954376697540283,0.6904428601264954,0.6850216388702393,0.6886154413223267,0.6967777609825134,0.6945239901542664,0.6959249377250671,0.6983614563941956,0.695254921913147,0.6955595016479492,0.6886154413223267,0.6914783716201782,0.6925747990608215,0.6932448148727417,0.6886763572692871,0.692635715007782,0.6875799298286438,0.6896509528160095,0.6898946166038513,0.683925211429596,0.6873363256454468,0.6834378838539124,0.690260112285614,0.6663215160369873,0.6835597157478333,0.6953158378601074,0.6909301280975342,0.689468264579773,0.6950721740722656,0.6924529671669006,0.6925138831138611,0.6939757466316223,0.6927574872970581,0.6914783716201782,0.693427562713623,0.6886763572692871,0.6903819441795349,0.6911128759384155,0.6887372732162476,0.6890418529510498,0.6889809370040894],\"type\":\"scatter\"}],                        {\"template\":{\"data\":{\"histogram2dcontour\":[{\"type\":\"histogram2dcontour\",\"colorbar\":{\"outlinewidth\":0,\"ticks\":\"\"},\"colorscale\":[[0.0,\"#0d0887\"],[0.1111111111111111,\"#46039f\"],[0.2222222222222222,\"#7201a8\"],[0.3333333333333333,\"#9c179e\"],[0.4444444444444444,\"#bd3786\"],[0.5555555555555556,\"#d8576b\"],[0.6666666666666666,\"#ed7953\"],[0.7777777777777778,\"#fb9f3a\"],[0.8888888888888888,\"#fdca26\"],[1.0,\"#f0f921\"]]}],\"choropleth\":[{\"type\":\"choropleth\",\"colorbar\":{\"outlinewidth\":0,\"ticks\":\"\"}}],\"histogram2d\":[{\"type\":\"histogram2d\",\"colorbar\":{\"outlinewidth\":0,\"ticks\":\"\"},\"colorscale\":[[0.0,\"#0d0887\"],[0.1111111111111111,\"#46039f\"],[0.2222222222222222,\"#7201a8\"],[0.3333333333333333,\"#9c179e\"],[0.4444444444444444,\"#bd3786\"],[0.5555555555555556,\"#d8576b\"],[0.6666666666666666,\"#ed7953\"],[0.7777777777777778,\"#fb9f3a\"],[0.8888888888888888,\"#fdca26\"],[1.0,\"#f0f921\"]]}],\"heatmap\":[{\"type\":\"heatmap\",\"colorbar\":{\"outlinewidth\":0,\"ticks\":\"\"},\"colorscale\":[[0.0,\"#0d0887\"],[0.1111111111111111,\"#46039f\"],[0.2222222222222222,\"#7201a8\"],[0.3333333333333333,\"#9c179e\"],[0.4444444444444444,\"#bd3786\"],[0.5555555555555556,\"#d8576b\"],[0.6666666666666666,\"#ed7953\"],[0.7777777777777778,\"#fb9f3a\"],[0.8888888888888888,\"#fdca26\"],[1.0,\"#f0f921\"]]}],\"heatmapgl\":[{\"type\":\"heatmapgl\",\"colorbar\":{\"outlinewidth\":0,\"ticks\":\"\"},\"colorscale\":[[0.0,\"#0d0887\"],[0.1111111111111111,\"#46039f\"],[0.2222222222222222,\"#7201a8\"],[0.3333333333333333,\"#9c179e\"],[0.4444444444444444,\"#bd3786\"],[0.5555555555555556,\"#d8576b\"],[0.6666666666666666,\"#ed7953\"],[0.7777777777777778,\"#fb9f3a\"],[0.8888888888888888,\"#fdca26\"],[1.0,\"#f0f921\"]]}],\"contourcarpet\":[{\"type\":\"contourcarpet\",\"colorbar\":{\"outlinewidth\":0,\"ticks\":\"\"}}],\"contour\":[{\"type\":\"contour\",\"colorbar\":{\"outlinewidth\":0,\"ticks\":\"\"},\"colorscale\":[[0.0,\"#0d0887\"],[0.1111111111111111,\"#46039f\"],[0.2222222222222222,\"#7201a8\"],[0.3333333333333333,\"#9c179e\"],[0.4444444444444444,\"#bd3786\"],[0.5555555555555556,\"#d8576b\"],[0.6666666666666666,\"#ed7953\"],[0.7777777777777778,\"#fb9f3a\"],[0.8888888888888888,\"#fdca26\"],[1.0,\"#f0f921\"]]}],\"surface\":[{\"type\":\"surface\",\"colorbar\":{\"outlinewidth\":0,\"ticks\":\"\"},\"colorscale\":[[0.0,\"#0d0887\"],[0.1111111111111111,\"#46039f\"],[0.2222222222222222,\"#7201a8\"],[0.3333333333333333,\"#9c179e\"],[0.4444444444444444,\"#bd3786\"],[0.5555555555555556,\"#d8576b\"],[0.6666666666666666,\"#ed7953\"],[0.7777777777777778,\"#fb9f3a\"],[0.8888888888888888,\"#fdca26\"],[1.0,\"#f0f921\"]]}],\"mesh3d\":[{\"type\":\"mesh3d\",\"colorbar\":{\"outlinewidth\":0,\"ticks\":\"\"}}],\"scatter\":[{\"fillpattern\":{\"fillmode\":\"overlay\",\"size\":10,\"solidity\":0.2},\"type\":\"scatter\"}],\"parcoords\":[{\"type\":\"parcoords\",\"line\":{\"colorbar\":{\"outlinewidth\":0,\"ticks\":\"\"}}}],\"scatterpolargl\":[{\"type\":\"scatterpolargl\",\"marker\":{\"colorbar\":{\"outlinewidth\":0,\"ticks\":\"\"}}}],\"bar\":[{\"error_x\":{\"color\":\"#2a3f5f\"},\"error_y\":{\"color\":\"#2a3f5f\"},\"marker\":{\"line\":{\"color\":\"#E5ECF6\",\"width\":0.5},\"pattern\":{\"fillmode\":\"overlay\",\"size\":10,\"solidity\":0.2}},\"type\":\"bar\"}],\"scattergeo\":[{\"type\":\"scattergeo\",\"marker\":{\"colorbar\":{\"outlinewidth\":0,\"ticks\":\"\"}}}],\"scatterpolar\":[{\"type\":\"scatterpolar\",\"marker\":{\"colorbar\":{\"outlinewidth\":0,\"ticks\":\"\"}}}],\"histogram\":[{\"marker\":{\"pattern\":{\"fillmode\":\"overlay\",\"size\":10,\"solidity\":0.2}},\"type\":\"histogram\"}],\"scattergl\":[{\"type\":\"scattergl\",\"marker\":{\"colorbar\":{\"outlinewidth\":0,\"ticks\":\"\"}}}],\"scatter3d\":[{\"type\":\"scatter3d\",\"line\":{\"colorbar\":{\"outlinewidth\":0,\"ticks\":\"\"}},\"marker\":{\"colorbar\":{\"outlinewidth\":0,\"ticks\":\"\"}}}],\"scattermapbox\":[{\"type\":\"scattermapbox\",\"marker\":{\"colorbar\":{\"outlinewidth\":0,\"ticks\":\"\"}}}],\"scatterternary\":[{\"type\":\"scatterternary\",\"marker\":{\"colorbar\":{\"outlinewidth\":0,\"ticks\":\"\"}}}],\"scattercarpet\":[{\"type\":\"scattercarpet\",\"marker\":{\"colorbar\":{\"outlinewidth\":0,\"ticks\":\"\"}}}],\"carpet\":[{\"aaxis\":{\"endlinecolor\":\"#2a3f5f\",\"gridcolor\":\"white\",\"linecolor\":\"white\",\"minorgridcolor\":\"white\",\"startlinecolor\":\"#2a3f5f\"},\"baxis\":{\"endlinecolor\":\"#2a3f5f\",\"gridcolor\":\"white\",\"linecolor\":\"white\",\"minorgridcolor\":\"white\",\"startlinecolor\":\"#2a3f5f\"},\"type\":\"carpet\"}],\"table\":[{\"cells\":{\"fill\":{\"color\":\"#EBF0F8\"},\"line\":{\"color\":\"white\"}},\"header\":{\"fill\":{\"color\":\"#C8D4E3\"},\"line\":{\"color\":\"white\"}},\"type\":\"table\"}],\"barpolar\":[{\"marker\":{\"line\":{\"color\":\"#E5ECF6\",\"width\":0.5},\"pattern\":{\"fillmode\":\"overlay\",\"size\":10,\"solidity\":0.2}},\"type\":\"barpolar\"}],\"pie\":[{\"automargin\":true,\"type\":\"pie\"}]},\"layout\":{\"autotypenumbers\":\"strict\",\"colorway\":[\"#636efa\",\"#EF553B\",\"#00cc96\",\"#ab63fa\",\"#FFA15A\",\"#19d3f3\",\"#FF6692\",\"#B6E880\",\"#FF97FF\",\"#FECB52\"],\"font\":{\"color\":\"#2a3f5f\"},\"hovermode\":\"closest\",\"hoverlabel\":{\"align\":\"left\"},\"paper_bgcolor\":\"white\",\"plot_bgcolor\":\"#E5ECF6\",\"polar\":{\"bgcolor\":\"#E5ECF6\",\"angularaxis\":{\"gridcolor\":\"white\",\"linecolor\":\"white\",\"ticks\":\"\"},\"radialaxis\":{\"gridcolor\":\"white\",\"linecolor\":\"white\",\"ticks\":\"\"}},\"ternary\":{\"bgcolor\":\"#E5ECF6\",\"aaxis\":{\"gridcolor\":\"white\",\"linecolor\":\"white\",\"ticks\":\"\"},\"baxis\":{\"gridcolor\":\"white\",\"linecolor\":\"white\",\"ticks\":\"\"},\"caxis\":{\"gridcolor\":\"white\",\"linecolor\":\"white\",\"ticks\":\"\"}},\"coloraxis\":{\"colorbar\":{\"outlinewidth\":0,\"ticks\":\"\"}},\"colorscale\":{\"sequential\":[[0.0,\"#0d0887\"],[0.1111111111111111,\"#46039f\"],[0.2222222222222222,\"#7201a8\"],[0.3333333333333333,\"#9c179e\"],[0.4444444444444444,\"#bd3786\"],[0.5555555555555556,\"#d8576b\"],[0.6666666666666666,\"#ed7953\"],[0.7777777777777778,\"#fb9f3a\"],[0.8888888888888888,\"#fdca26\"],[1.0,\"#f0f921\"]],\"sequentialminus\":[[0.0,\"#0d0887\"],[0.1111111111111111,\"#46039f\"],[0.2222222222222222,\"#7201a8\"],[0.3333333333333333,\"#9c179e\"],[0.4444444444444444,\"#bd3786\"],[0.5555555555555556,\"#d8576b\"],[0.6666666666666666,\"#ed7953\"],[0.7777777777777778,\"#fb9f3a\"],[0.8888888888888888,\"#fdca26\"],[1.0,\"#f0f921\"]],\"diverging\":[[0,\"#8e0152\"],[0.1,\"#c51b7d\"],[0.2,\"#de77ae\"],[0.3,\"#f1b6da\"],[0.4,\"#fde0ef\"],[0.5,\"#f7f7f7\"],[0.6,\"#e6f5d0\"],[0.7,\"#b8e186\"],[0.8,\"#7fbc41\"],[0.9,\"#4d9221\"],[1,\"#276419\"]]},\"xaxis\":{\"gridcolor\":\"white\",\"linecolor\":\"white\",\"ticks\":\"\",\"title\":{\"standoff\":15},\"zerolinecolor\":\"white\",\"automargin\":true,\"zerolinewidth\":2},\"yaxis\":{\"gridcolor\":\"white\",\"linecolor\":\"white\",\"ticks\":\"\",\"title\":{\"standoff\":15},\"zerolinecolor\":\"white\",\"automargin\":true,\"zerolinewidth\":2},\"scene\":{\"xaxis\":{\"backgroundcolor\":\"#E5ECF6\",\"gridcolor\":\"white\",\"linecolor\":\"white\",\"showbackground\":true,\"ticks\":\"\",\"zerolinecolor\":\"white\",\"gridwidth\":2},\"yaxis\":{\"backgroundcolor\":\"#E5ECF6\",\"gridcolor\":\"white\",\"linecolor\":\"white\",\"showbackground\":true,\"ticks\":\"\",\"zerolinecolor\":\"white\",\"gridwidth\":2},\"zaxis\":{\"backgroundcolor\":\"#E5ECF6\",\"gridcolor\":\"white\",\"linecolor\":\"white\",\"showbackground\":true,\"ticks\":\"\",\"zerolinecolor\":\"white\",\"gridwidth\":2}},\"shapedefaults\":{\"line\":{\"color\":\"#2a3f5f\"}},\"annotationdefaults\":{\"arrowcolor\":\"#2a3f5f\",\"arrowhead\":0,\"arrowwidth\":1},\"geo\":{\"bgcolor\":\"white\",\"landcolor\":\"#E5ECF6\",\"subunitcolor\":\"white\",\"showland\":true,\"showlakes\":true,\"lakecolor\":\"white\"},\"title\":{\"x\":0.05},\"mapbox\":{\"style\":\"light\"}}},\"title\":{\"text\":\"NET WITH BATCH\"},\"xaxis\":{\"title\":{\"text\":\"EPOCH\"}},\"yaxis\":{\"title\":{\"text\":\"ACCURACY\"}}},                        {\"responsive\": true}                    ).then(function(){\n",
              "                            \n",
              "var gd = document.getElementById('64266e6d-6b19-46c4-a872-2909e57f7304');\n",
              "var x = new MutationObserver(function (mutations, observer) {{\n",
              "        var display = window.getComputedStyle(gd).display;\n",
              "        if (!display || display === 'none') {{\n",
              "            console.log([gd, 'removed!']);\n",
              "            Plotly.purge(gd);\n",
              "            observer.disconnect();\n",
              "        }}\n",
              "}});\n",
              "\n",
              "// Listen for the removal of the full notebook cells\n",
              "var notebookContainer = gd.closest('#notebook-container');\n",
              "if (notebookContainer) {{\n",
              "    x.observe(notebookContainer, {childList: true});\n",
              "}}\n",
              "\n",
              "// Listen for the clearing of the current output cell\n",
              "var outputEl = gd.closest('.output');\n",
              "if (outputEl) {{\n",
              "    x.observe(outputEl, {childList: true});\n",
              "}}\n",
              "\n",
              "                        })                };                            </script>        </div>\n",
              "</body>\n",
              "</html>"
            ]
          },
          "metadata": {}
        }
      ]
    },
    {
      "cell_type": "markdown",
      "source": [
        "3) [205,104,147,69,110,104]"
      ],
      "metadata": {
        "id": "EkjpJQthn99e"
      }
    },
    {
      "cell_type": "code",
      "source": [
        "dropout_rate = [0.5, 0.1, 0.05, 0.01, 0.005, 0.001]\n",
        "batch_size = 1120\n",
        "loss = torch.nn.CrossEntropyLoss()\n",
        "test_accuracy_history = [[], [], [], [], [], []]\n",
        "\n",
        "for rate in bar(range(6), desc='DROPOUT RATE', leave=False):\n",
        "  lenet = LeNet3(dropout_rate[rate]).to(device)\n",
        "  optimizer = torch.optim.Adam(lenet.parameters(), lr=0.001)\n",
        "  for epoch in bar(range(200), desc = 'LEARNING', leave=False):\n",
        "    order = np.random.permutation(len(train_data))\n",
        "\n",
        "    for start_index in range(0, len(train_data), batch_size):\n",
        "      optimizer.zero_grad()\n",
        "\n",
        "      batch_indexes = order[start_index:start_index+batch_size]\n",
        "\n",
        "      data_batch = train_data[batch_indexes].to(device)\n",
        "      label_batch = train_labels[batch_indexes].to(device)\n",
        "\n",
        "      preds = lenet.forward(data_batch)\n",
        "\n",
        "      loss_val = loss(preds, label_batch)\n",
        "      loss_val.backward()\n",
        "\n",
        "      optimizer.step()\n",
        "\n",
        "    with torch.no_grad():\n",
        "      test_preds = lenet.forward(test_data)\n",
        "      test_accuracy = (test_preds.argmax(dim=1)==test_labels).float().mean().data.cpu()\n",
        "      test_accuracy_history[rate].append(test_accuracy)\n",
        "      print(test_accuracy)\n",
        "print(f'ACCURACY OF 3.{rate+1} MODEL:\\n', *test_accuracy_history[rate])"
      ],
      "metadata": {
        "id": "mkGbqiYwFNc4"
      },
      "execution_count": null,
      "outputs": []
    },
    {
      "cell_type": "code",
      "source": [
        "fig = go.Figure(data=go.Scatter(x=[i for i in range(200)], y=test_accuracy_history[0], mode =\"lines+markers\"))\n",
        "fig.update_layout(title=\"DROPOUT_RATE = 0.5\", xaxis_title = \"EPOCH\", yaxis_title = \"ACCURACY\")\n",
        "fig.show()"
      ],
      "metadata": {
        "colab": {
          "base_uri": "https://localhost:8080/",
          "height": 542
        },
        "id": "pVZRFC_AGs0M",
        "outputId": "cb78d575-5907-48a6-b948-7425fbdd8a7a"
      },
      "execution_count": null,
      "outputs": [
        {
          "output_type": "display_data",
          "data": {
            "text/html": [
              "<html>\n",
              "<head><meta charset=\"utf-8\" /></head>\n",
              "<body>\n",
              "    <div>            <script src=\"https://cdnjs.cloudflare.com/ajax/libs/mathjax/2.7.5/MathJax.js?config=TeX-AMS-MML_SVG\"></script><script type=\"text/javascript\">if (window.MathJax && window.MathJax.Hub && window.MathJax.Hub.Config) {window.MathJax.Hub.Config({SVG: {font: \"STIX-Web\"}});}</script>                <script type=\"text/javascript\">window.PlotlyConfig = {MathJaxConfig: 'local'};</script>\n",
              "        <script charset=\"utf-8\" src=\"https://cdn.plot.ly/plotly-2.24.1.min.js\"></script>                <div id=\"eae26786-2e9e-4128-93ff-11c024b610b3\" class=\"plotly-graph-div\" style=\"height:525px; width:100%;\"></div>            <script type=\"text/javascript\">                                    window.PLOTLYENV=window.PLOTLYENV || {};                                    if (document.getElementById(\"eae26786-2e9e-4128-93ff-11c024b610b3\")) {                    Plotly.newPlot(                        \"eae26786-2e9e-4128-93ff-11c024b610b3\",                        [{\"mode\":\"lines+markers\",\"x\":[0,1,2,3,4,5,6,7,8,9,10,11,12,13,14,15,16,17,18,19,20,21,22,23,24,25,26,27,28,29,30,31,32,33,34,35,36,37,38,39,40,41,42,43,44,45,46,47,48,49,50,51,52,53,54,55,56,57,58,59,60,61,62,63,64,65,66,67,68,69,70,71,72,73,74,75,76,77,78,79,80,81,82,83,84,85,86,87,88,89,90,91,92,93,94,95,96,97,98,99,100,101,102,103,104,105,106,107,108,109,110,111,112,113,114,115,116,117,118,119,120,121,122,123,124,125,126,127,128,129,130,131,132,133,134,135,136,137,138,139,140,141,142,143,144,145,146,147,148,149,150,151,152,153,154,155,156,157,158,159,160,161,162,163,164,165,166,167,168,169,170,171,172,173,174,175,176,177,178,179,180,181,182,183,184,185,186,187,188,189,190,191,192,193,194,195,196,197,198,199],\"y\":[0.10641408711671829,0.231589213013649,0.2850094437599182,0.322531521320343,0.3546324074268341,0.3898397982120514,0.40518975257873535,0.4095754325389862,0.4076262414455414,0.4456356167793274,0.44752392172813416,0.45641714334487915,0.46866053342819214,0.4631175100803375,0.4951574504375458,0.49418285489082336,0.5087409615516663,0.5056344270706177,0.5105074048042297,0.5170250535011292,0.5378571152687073,0.5271974205970764,0.5452275276184082,0.5348724126815796,0.5524151921272278,0.5521106123924255,0.5548516511917114,0.5432783365249634,0.5417554974555969,0.5686787962913513,0.5593591928482056,0.5712980628013611,0.5677042007446289,0.5697752237319946,0.580374002456665,0.5918864607810974,0.5768410563468933,0.5801912546157837,0.5714808106422424,0.5800694227218628,0.5881708264350891,0.5835414528846741,0.5847597122192383,0.5860388875007629,0.5871962308883667,0.5876225829124451,0.5914600491523743,0.5909727811813354,0.5939574837684631,0.5811658501625061,0.6105256676673889,0.5958457589149475,0.6025461554527283,0.6002314686775208,0.5816531777381897,0.608698308467865,0.6090028882026672,0.60406893491745,0.574039101600647,0.6228299736976624,0.609611988067627,0.6021806597709656,0.6053481101989746,0.604617178440094,0.598160445690155,0.633733332157135,0.6162514686584473,0.592617392539978,0.620941698551178,0.6205762624740601,0.61856609582901,0.607784628868103,0.6066272854804993,0.6198452711105347,0.6135103702545166,0.6186270117759705,0.6238045692443848,0.6167387366294861,0.6187488436698914,0.6140586137771606,0.6180179119110107,0.6152159571647644,0.61856609582901,0.6071754693984985,0.6264238357543945,0.6211244463920593,0.6132667660713196,0.6265456676483154,0.6328805685043335,0.6194189190864563,0.6280075311660767,0.6398245692253113,0.6266674995422363,0.6342815160751343,0.6174697279930115,0.6350125074386597,0.6103429198265076,0.6293476223945618,0.6335505843162537,0.6169214844703674,0.6317841410636902,0.6316623091697693,0.6440884470939636,0.6258755922317505,0.6339769959449768,0.6365962028503418,0.6325759887695312,0.6381190419197083,0.6321495771408081,0.6478649973869324,0.6303222179412842,0.636108934879303,0.6429920196533203,0.6344642639160156,0.6278248429298401,0.632027804851532,0.6283730268478394,0.6348906755447388,0.6481695771217346,0.6305049657821655,0.6295303702354431,0.6286166906356812,0.6169214844703674,0.6383626461029053,0.6253883242607117,0.6428701877593994,0.642809271812439,0.6507888436317444,0.6256319880485535,0.6251446604728699,0.6434184312820435,0.6353779435157776,0.6256929039955139,0.6398854851722717,0.6364743709564209,0.6319668889045715,0.6541998982429504,0.6305049657821655,0.6387890577316284,0.6400682330131531,0.625571072101593,0.6451848745346069,0.6464640498161316,0.6415910124778748,0.6488395929336548,0.6350125074386597,0.6368398666381836,0.6471340656280518,0.648352324962616,0.6453067064285278,0.6476823091506958,0.647438645362854,0.6364134550094604,0.6359261870384216,0.642809271812439,0.6492660045623779,0.6362916231155396,0.6392154693603516,0.623317301273346,0.6416519284248352,0.6353170275688171,0.6470731496810913,0.6501187682151794,0.6467077136039734,0.6437229514122009,0.6305049657821655,0.6271547675132751,0.6339769959449768,0.646524965763092,0.6584028601646423,0.6552354097366333,0.6327587366104126,0.649814248085022,0.6516416072845459,0.6503624320030212,0.6356216073036194,0.650606095790863,0.6438447833061218,0.6440275311470032,0.6408600807189941,0.6472558975219727,0.6405555009841919,0.6472558975219727,0.6444539427757263,0.6540172100067139,0.6523725390434265,0.6382408738136292,0.646524965763092,0.6356825232505798,0.6625449061393738,0.6384235620498657,0.6528598666191101,0.6547481417655945,0.6372662782669067,0.65413898229599,0.664311408996582,0.6595602035522461,0.6425047516822815,0.6468294858932495,0.6497533321380615],\"type\":\"scatter\"}],                        {\"template\":{\"data\":{\"histogram2dcontour\":[{\"type\":\"histogram2dcontour\",\"colorbar\":{\"outlinewidth\":0,\"ticks\":\"\"},\"colorscale\":[[0.0,\"#0d0887\"],[0.1111111111111111,\"#46039f\"],[0.2222222222222222,\"#7201a8\"],[0.3333333333333333,\"#9c179e\"],[0.4444444444444444,\"#bd3786\"],[0.5555555555555556,\"#d8576b\"],[0.6666666666666666,\"#ed7953\"],[0.7777777777777778,\"#fb9f3a\"],[0.8888888888888888,\"#fdca26\"],[1.0,\"#f0f921\"]]}],\"choropleth\":[{\"type\":\"choropleth\",\"colorbar\":{\"outlinewidth\":0,\"ticks\":\"\"}}],\"histogram2d\":[{\"type\":\"histogram2d\",\"colorbar\":{\"outlinewidth\":0,\"ticks\":\"\"},\"colorscale\":[[0.0,\"#0d0887\"],[0.1111111111111111,\"#46039f\"],[0.2222222222222222,\"#7201a8\"],[0.3333333333333333,\"#9c179e\"],[0.4444444444444444,\"#bd3786\"],[0.5555555555555556,\"#d8576b\"],[0.6666666666666666,\"#ed7953\"],[0.7777777777777778,\"#fb9f3a\"],[0.8888888888888888,\"#fdca26\"],[1.0,\"#f0f921\"]]}],\"heatmap\":[{\"type\":\"heatmap\",\"colorbar\":{\"outlinewidth\":0,\"ticks\":\"\"},\"colorscale\":[[0.0,\"#0d0887\"],[0.1111111111111111,\"#46039f\"],[0.2222222222222222,\"#7201a8\"],[0.3333333333333333,\"#9c179e\"],[0.4444444444444444,\"#bd3786\"],[0.5555555555555556,\"#d8576b\"],[0.6666666666666666,\"#ed7953\"],[0.7777777777777778,\"#fb9f3a\"],[0.8888888888888888,\"#fdca26\"],[1.0,\"#f0f921\"]]}],\"heatmapgl\":[{\"type\":\"heatmapgl\",\"colorbar\":{\"outlinewidth\":0,\"ticks\":\"\"},\"colorscale\":[[0.0,\"#0d0887\"],[0.1111111111111111,\"#46039f\"],[0.2222222222222222,\"#7201a8\"],[0.3333333333333333,\"#9c179e\"],[0.4444444444444444,\"#bd3786\"],[0.5555555555555556,\"#d8576b\"],[0.6666666666666666,\"#ed7953\"],[0.7777777777777778,\"#fb9f3a\"],[0.8888888888888888,\"#fdca26\"],[1.0,\"#f0f921\"]]}],\"contourcarpet\":[{\"type\":\"contourcarpet\",\"colorbar\":{\"outlinewidth\":0,\"ticks\":\"\"}}],\"contour\":[{\"type\":\"contour\",\"colorbar\":{\"outlinewidth\":0,\"ticks\":\"\"},\"colorscale\":[[0.0,\"#0d0887\"],[0.1111111111111111,\"#46039f\"],[0.2222222222222222,\"#7201a8\"],[0.3333333333333333,\"#9c179e\"],[0.4444444444444444,\"#bd3786\"],[0.5555555555555556,\"#d8576b\"],[0.6666666666666666,\"#ed7953\"],[0.7777777777777778,\"#fb9f3a\"],[0.8888888888888888,\"#fdca26\"],[1.0,\"#f0f921\"]]}],\"surface\":[{\"type\":\"surface\",\"colorbar\":{\"outlinewidth\":0,\"ticks\":\"\"},\"colorscale\":[[0.0,\"#0d0887\"],[0.1111111111111111,\"#46039f\"],[0.2222222222222222,\"#7201a8\"],[0.3333333333333333,\"#9c179e\"],[0.4444444444444444,\"#bd3786\"],[0.5555555555555556,\"#d8576b\"],[0.6666666666666666,\"#ed7953\"],[0.7777777777777778,\"#fb9f3a\"],[0.8888888888888888,\"#fdca26\"],[1.0,\"#f0f921\"]]}],\"mesh3d\":[{\"type\":\"mesh3d\",\"colorbar\":{\"outlinewidth\":0,\"ticks\":\"\"}}],\"scatter\":[{\"fillpattern\":{\"fillmode\":\"overlay\",\"size\":10,\"solidity\":0.2},\"type\":\"scatter\"}],\"parcoords\":[{\"type\":\"parcoords\",\"line\":{\"colorbar\":{\"outlinewidth\":0,\"ticks\":\"\"}}}],\"scatterpolargl\":[{\"type\":\"scatterpolargl\",\"marker\":{\"colorbar\":{\"outlinewidth\":0,\"ticks\":\"\"}}}],\"bar\":[{\"error_x\":{\"color\":\"#2a3f5f\"},\"error_y\":{\"color\":\"#2a3f5f\"},\"marker\":{\"line\":{\"color\":\"#E5ECF6\",\"width\":0.5},\"pattern\":{\"fillmode\":\"overlay\",\"size\":10,\"solidity\":0.2}},\"type\":\"bar\"}],\"scattergeo\":[{\"type\":\"scattergeo\",\"marker\":{\"colorbar\":{\"outlinewidth\":0,\"ticks\":\"\"}}}],\"scatterpolar\":[{\"type\":\"scatterpolar\",\"marker\":{\"colorbar\":{\"outlinewidth\":0,\"ticks\":\"\"}}}],\"histogram\":[{\"marker\":{\"pattern\":{\"fillmode\":\"overlay\",\"size\":10,\"solidity\":0.2}},\"type\":\"histogram\"}],\"scattergl\":[{\"type\":\"scattergl\",\"marker\":{\"colorbar\":{\"outlinewidth\":0,\"ticks\":\"\"}}}],\"scatter3d\":[{\"type\":\"scatter3d\",\"line\":{\"colorbar\":{\"outlinewidth\":0,\"ticks\":\"\"}},\"marker\":{\"colorbar\":{\"outlinewidth\":0,\"ticks\":\"\"}}}],\"scattermapbox\":[{\"type\":\"scattermapbox\",\"marker\":{\"colorbar\":{\"outlinewidth\":0,\"ticks\":\"\"}}}],\"scatterternary\":[{\"type\":\"scatterternary\",\"marker\":{\"colorbar\":{\"outlinewidth\":0,\"ticks\":\"\"}}}],\"scattercarpet\":[{\"type\":\"scattercarpet\",\"marker\":{\"colorbar\":{\"outlinewidth\":0,\"ticks\":\"\"}}}],\"carpet\":[{\"aaxis\":{\"endlinecolor\":\"#2a3f5f\",\"gridcolor\":\"white\",\"linecolor\":\"white\",\"minorgridcolor\":\"white\",\"startlinecolor\":\"#2a3f5f\"},\"baxis\":{\"endlinecolor\":\"#2a3f5f\",\"gridcolor\":\"white\",\"linecolor\":\"white\",\"minorgridcolor\":\"white\",\"startlinecolor\":\"#2a3f5f\"},\"type\":\"carpet\"}],\"table\":[{\"cells\":{\"fill\":{\"color\":\"#EBF0F8\"},\"line\":{\"color\":\"white\"}},\"header\":{\"fill\":{\"color\":\"#C8D4E3\"},\"line\":{\"color\":\"white\"}},\"type\":\"table\"}],\"barpolar\":[{\"marker\":{\"line\":{\"color\":\"#E5ECF6\",\"width\":0.5},\"pattern\":{\"fillmode\":\"overlay\",\"size\":10,\"solidity\":0.2}},\"type\":\"barpolar\"}],\"pie\":[{\"automargin\":true,\"type\":\"pie\"}]},\"layout\":{\"autotypenumbers\":\"strict\",\"colorway\":[\"#636efa\",\"#EF553B\",\"#00cc96\",\"#ab63fa\",\"#FFA15A\",\"#19d3f3\",\"#FF6692\",\"#B6E880\",\"#FF97FF\",\"#FECB52\"],\"font\":{\"color\":\"#2a3f5f\"},\"hovermode\":\"closest\",\"hoverlabel\":{\"align\":\"left\"},\"paper_bgcolor\":\"white\",\"plot_bgcolor\":\"#E5ECF6\",\"polar\":{\"bgcolor\":\"#E5ECF6\",\"angularaxis\":{\"gridcolor\":\"white\",\"linecolor\":\"white\",\"ticks\":\"\"},\"radialaxis\":{\"gridcolor\":\"white\",\"linecolor\":\"white\",\"ticks\":\"\"}},\"ternary\":{\"bgcolor\":\"#E5ECF6\",\"aaxis\":{\"gridcolor\":\"white\",\"linecolor\":\"white\",\"ticks\":\"\"},\"baxis\":{\"gridcolor\":\"white\",\"linecolor\":\"white\",\"ticks\":\"\"},\"caxis\":{\"gridcolor\":\"white\",\"linecolor\":\"white\",\"ticks\":\"\"}},\"coloraxis\":{\"colorbar\":{\"outlinewidth\":0,\"ticks\":\"\"}},\"colorscale\":{\"sequential\":[[0.0,\"#0d0887\"],[0.1111111111111111,\"#46039f\"],[0.2222222222222222,\"#7201a8\"],[0.3333333333333333,\"#9c179e\"],[0.4444444444444444,\"#bd3786\"],[0.5555555555555556,\"#d8576b\"],[0.6666666666666666,\"#ed7953\"],[0.7777777777777778,\"#fb9f3a\"],[0.8888888888888888,\"#fdca26\"],[1.0,\"#f0f921\"]],\"sequentialminus\":[[0.0,\"#0d0887\"],[0.1111111111111111,\"#46039f\"],[0.2222222222222222,\"#7201a8\"],[0.3333333333333333,\"#9c179e\"],[0.4444444444444444,\"#bd3786\"],[0.5555555555555556,\"#d8576b\"],[0.6666666666666666,\"#ed7953\"],[0.7777777777777778,\"#fb9f3a\"],[0.8888888888888888,\"#fdca26\"],[1.0,\"#f0f921\"]],\"diverging\":[[0,\"#8e0152\"],[0.1,\"#c51b7d\"],[0.2,\"#de77ae\"],[0.3,\"#f1b6da\"],[0.4,\"#fde0ef\"],[0.5,\"#f7f7f7\"],[0.6,\"#e6f5d0\"],[0.7,\"#b8e186\"],[0.8,\"#7fbc41\"],[0.9,\"#4d9221\"],[1,\"#276419\"]]},\"xaxis\":{\"gridcolor\":\"white\",\"linecolor\":\"white\",\"ticks\":\"\",\"title\":{\"standoff\":15},\"zerolinecolor\":\"white\",\"automargin\":true,\"zerolinewidth\":2},\"yaxis\":{\"gridcolor\":\"white\",\"linecolor\":\"white\",\"ticks\":\"\",\"title\":{\"standoff\":15},\"zerolinecolor\":\"white\",\"automargin\":true,\"zerolinewidth\":2},\"scene\":{\"xaxis\":{\"backgroundcolor\":\"#E5ECF6\",\"gridcolor\":\"white\",\"linecolor\":\"white\",\"showbackground\":true,\"ticks\":\"\",\"zerolinecolor\":\"white\",\"gridwidth\":2},\"yaxis\":{\"backgroundcolor\":\"#E5ECF6\",\"gridcolor\":\"white\",\"linecolor\":\"white\",\"showbackground\":true,\"ticks\":\"\",\"zerolinecolor\":\"white\",\"gridwidth\":2},\"zaxis\":{\"backgroundcolor\":\"#E5ECF6\",\"gridcolor\":\"white\",\"linecolor\":\"white\",\"showbackground\":true,\"ticks\":\"\",\"zerolinecolor\":\"white\",\"gridwidth\":2}},\"shapedefaults\":{\"line\":{\"color\":\"#2a3f5f\"}},\"annotationdefaults\":{\"arrowcolor\":\"#2a3f5f\",\"arrowhead\":0,\"arrowwidth\":1},\"geo\":{\"bgcolor\":\"white\",\"landcolor\":\"#E5ECF6\",\"subunitcolor\":\"white\",\"showland\":true,\"showlakes\":true,\"lakecolor\":\"white\"},\"title\":{\"x\":0.05},\"mapbox\":{\"style\":\"light\"}}},\"title\":{\"text\":\"DROPOUT_RATE = 0.5\"},\"xaxis\":{\"title\":{\"text\":\"EPOCH\"}},\"yaxis\":{\"title\":{\"text\":\"ACCURACY\"}}},                        {\"responsive\": true}                    ).then(function(){\n",
              "                            \n",
              "var gd = document.getElementById('eae26786-2e9e-4128-93ff-11c024b610b3');\n",
              "var x = new MutationObserver(function (mutations, observer) {{\n",
              "        var display = window.getComputedStyle(gd).display;\n",
              "        if (!display || display === 'none') {{\n",
              "            console.log([gd, 'removed!']);\n",
              "            Plotly.purge(gd);\n",
              "            observer.disconnect();\n",
              "        }}\n",
              "}});\n",
              "\n",
              "// Listen for the removal of the full notebook cells\n",
              "var notebookContainer = gd.closest('#notebook-container');\n",
              "if (notebookContainer) {{\n",
              "    x.observe(notebookContainer, {childList: true});\n",
              "}}\n",
              "\n",
              "// Listen for the clearing of the current output cell\n",
              "var outputEl = gd.closest('.output');\n",
              "if (outputEl) {{\n",
              "    x.observe(outputEl, {childList: true});\n",
              "}}\n",
              "\n",
              "                        })                };                            </script>        </div>\n",
              "</body>\n",
              "</html>"
            ]
          },
          "metadata": {}
        }
      ]
    },
    {
      "cell_type": "code",
      "source": [
        "fig = go.Figure(data=go.Scatter(x=[i for i in range(200)], y=test_accuracy_history[1], mode =\"lines+markers\"))\n",
        "fig.update_layout(title=\"DROPOUT_RATE = 0.1\", xaxis_title = \"EPOCH\", yaxis_title = \"ACCURACY\")\n",
        "fig.show()"
      ],
      "metadata": {
        "colab": {
          "base_uri": "https://localhost:8080/",
          "height": 542
        },
        "id": "OGQPcO-iG2XF",
        "outputId": "b0ce9ca1-c8ec-43ca-d0bf-3d096a640a80"
      },
      "execution_count": null,
      "outputs": [
        {
          "output_type": "display_data",
          "data": {
            "text/html": [
              "<html>\n",
              "<head><meta charset=\"utf-8\" /></head>\n",
              "<body>\n",
              "    <div>            <script src=\"https://cdnjs.cloudflare.com/ajax/libs/mathjax/2.7.5/MathJax.js?config=TeX-AMS-MML_SVG\"></script><script type=\"text/javascript\">if (window.MathJax && window.MathJax.Hub && window.MathJax.Hub.Config) {window.MathJax.Hub.Config({SVG: {font: \"STIX-Web\"}});}</script>                <script type=\"text/javascript\">window.PlotlyConfig = {MathJaxConfig: 'local'};</script>\n",
              "        <script charset=\"utf-8\" src=\"https://cdn.plot.ly/plotly-2.24.1.min.js\"></script>                <div id=\"512b0ee9-8997-414f-809e-441ea4c5579c\" class=\"plotly-graph-div\" style=\"height:525px; width:100%;\"></div>            <script type=\"text/javascript\">                                    window.PLOTLYENV=window.PLOTLYENV || {};                                    if (document.getElementById(\"512b0ee9-8997-414f-809e-441ea4c5579c\")) {                    Plotly.newPlot(                        \"512b0ee9-8997-414f-809e-441ea4c5579c\",                        [{\"mode\":\"lines+markers\",\"x\":[0,1,2,3,4,5,6,7,8,9,10,11,12,13,14,15,16,17,18,19,20,21,22,23,24,25,26,27,28,29,30,31,32,33,34,35,36,37,38,39,40,41,42,43,44,45,46,47,48,49,50,51,52,53,54,55,56,57,58,59,60,61,62,63,64,65,66,67,68,69,70,71,72,73,74,75,76,77,78,79,80,81,82,83,84,85,86,87,88,89,90,91,92,93,94,95,96,97,98,99,100,101,102,103,104,105,106,107,108,109,110,111,112,113,114,115,116,117,118,119,120,121,122,123,124,125,126,127,128,129,130,131,132,133,134,135,136,137,138,139,140,141,142,143,144,145,146,147,148,149,150,151,152,153,154,155,156,157,158,159,160,161,162,163,164,165,166,167,168,169,170,171,172,173,174,175,176,177,178,179,180,181,182,183,184,185,186,187,188,189,190,191,192,193,194,195,196,197,198,199],\"y\":[0.04988731071352959,0.04988731071352959,0.24876652657985687,0.3415362238883972,0.37991106510162354,0.4297983944416046,0.447097510099411,0.5141012668609619,0.5374307036399841,0.5583236813545227,0.5762319564819336,0.5896326899528503,0.5982213616371155,0.5992568731307983,0.5873789191246033,0.6325759887695312,0.6375098824501038,0.6374489665031433,0.6397636532783508,0.6362916231155396,0.654687225818634,0.6604129672050476,0.6467685699462891,0.662057638168335,0.678016722202301,0.6721081733703613,0.6736310124397278,0.6735700964927673,0.6799659132957458,0.6707680821418762,0.6877017617225647,0.6948285102844238,0.6576719284057617,0.6801486015319824,0.6872754096984863,0.6917219758033752,0.6866662502288818,0.70420902967453,0.6723518371582031,0.6733264327049255,0.6824632883071899,0.6920874714851379,0.69696044921875,0.6858134865760803,0.6968995332717896,0.6884327530860901,0.69696044921875,0.697874128818512,0.7015289068222046,0.6922702193260193,0.6965340971946716,0.7026253342628479,0.7004324793815613,0.7050009369850159,0.6975696086883545,0.717670738697052,0.6930011510848999,0.7216909527778625,0.7018944025039673,0.7090820670127869,0.6958031058311462,0.7115185260772705,0.7026862502098083,0.701589822769165,0.6818541884422302,0.7045745253562927,0.7058537006378174,0.7001888155937195,0.7161478996276855,0.6997015476226807,0.7148078083992004,0.7064018845558167,0.6915392875671387,0.7165133953094482,0.7174879908561707,0.7131022810935974,0.7014070749282837,0.7102394104003906,0.707132875919342,0.7197417616844177,0.7065237164497375,0.7204117774963379,0.7070110440254211,0.717670738697052,0.6796004176139832,0.6992751359939575,0.7018944025039673,0.7019553184509277,0.6917219758033752,0.6990314722061157,0.7135286331176758,0.7105439305305481,0.7119449377059937,0.7043917775154114,0.7289395332336426,0.7165133953094482,0.7166960835456848,0.6998233795166016,0.7146859765052795,0.7049400210380554,0.6985442042350769,0.7209599614143372,0.716208815574646,0.7286349534988403,0.7154778838157654,0.7184625864028931,0.7153560519218445,0.7202290296554565,0.7221173048019409,0.716208815574646,0.7094475030899048,0.7213863730430603,0.7206554412841797,0.7113967537879944,0.7208381295204163,0.7121886014938354,0.7237010598182678,0.7219345569610596,0.7195590138435364,0.7281476259231567,0.7102394104003906,0.7098739147186279,0.7179752588272095,0.7057318687438965,0.7212645411491394,0.7148078083992004,0.7117012739181519,0.7203508615493774,0.711579442024231,0.7054882049560547,0.7085947394371033,0.7074373960494995,0.7203508615493774,0.7192544341087341,0.7173661589622498,0.7134677767753601,0.7119449377059937,0.7207163572311401,0.7150514721870422,0.7085947394371033,0.7099957466125488,0.7084729075431824,0.711579442024231,0.7109094262123108,0.7053054571151733,0.7213254570960999,0.7216300368309021,0.7190107703208923,0.7215082049369812,0.7066455483436584,0.7229092121124268,0.7176098227500916,0.7118231058120728,0.7045136094093323,0.7196199297904968,0.713041365146637,0.7165743112564087,0.7137722969055176,0.7286958694458008,0.7209599614143372,0.7210208773612976,0.7082293033599854,0.7126758694648743,0.7159651517868042,0.6956813335418701,0.7143205404281616,0.7165743112564087,0.7207772731781006,0.7227873802185059,0.7170006632804871,0.7064628005027771,0.7136504650115967,0.7266248464584351,0.7195590138435364,0.7164524793624878,0.7253456711769104,0.7123713493347168,0.712127685546875,0.7194371819496155,0.7241883277893066,0.7169397473335266,0.7138941287994385,0.7003106474876404,0.7127977013587952,0.7134677767753601,0.7268075942993164,0.7188889384269714,0.7252238392829895,0.7163915634155273,0.7220563888549805,0.7239447236061096,0.7232137322425842,0.7203508615493774,0.7179752588272095,0.7173052430152893,0.7176098227500916,0.7129195332527161,0.715660572052002,0.6992751359939575,0.7066455483436584],\"type\":\"scatter\"}],                        {\"template\":{\"data\":{\"histogram2dcontour\":[{\"type\":\"histogram2dcontour\",\"colorbar\":{\"outlinewidth\":0,\"ticks\":\"\"},\"colorscale\":[[0.0,\"#0d0887\"],[0.1111111111111111,\"#46039f\"],[0.2222222222222222,\"#7201a8\"],[0.3333333333333333,\"#9c179e\"],[0.4444444444444444,\"#bd3786\"],[0.5555555555555556,\"#d8576b\"],[0.6666666666666666,\"#ed7953\"],[0.7777777777777778,\"#fb9f3a\"],[0.8888888888888888,\"#fdca26\"],[1.0,\"#f0f921\"]]}],\"choropleth\":[{\"type\":\"choropleth\",\"colorbar\":{\"outlinewidth\":0,\"ticks\":\"\"}}],\"histogram2d\":[{\"type\":\"histogram2d\",\"colorbar\":{\"outlinewidth\":0,\"ticks\":\"\"},\"colorscale\":[[0.0,\"#0d0887\"],[0.1111111111111111,\"#46039f\"],[0.2222222222222222,\"#7201a8\"],[0.3333333333333333,\"#9c179e\"],[0.4444444444444444,\"#bd3786\"],[0.5555555555555556,\"#d8576b\"],[0.6666666666666666,\"#ed7953\"],[0.7777777777777778,\"#fb9f3a\"],[0.8888888888888888,\"#fdca26\"],[1.0,\"#f0f921\"]]}],\"heatmap\":[{\"type\":\"heatmap\",\"colorbar\":{\"outlinewidth\":0,\"ticks\":\"\"},\"colorscale\":[[0.0,\"#0d0887\"],[0.1111111111111111,\"#46039f\"],[0.2222222222222222,\"#7201a8\"],[0.3333333333333333,\"#9c179e\"],[0.4444444444444444,\"#bd3786\"],[0.5555555555555556,\"#d8576b\"],[0.6666666666666666,\"#ed7953\"],[0.7777777777777778,\"#fb9f3a\"],[0.8888888888888888,\"#fdca26\"],[1.0,\"#f0f921\"]]}],\"heatmapgl\":[{\"type\":\"heatmapgl\",\"colorbar\":{\"outlinewidth\":0,\"ticks\":\"\"},\"colorscale\":[[0.0,\"#0d0887\"],[0.1111111111111111,\"#46039f\"],[0.2222222222222222,\"#7201a8\"],[0.3333333333333333,\"#9c179e\"],[0.4444444444444444,\"#bd3786\"],[0.5555555555555556,\"#d8576b\"],[0.6666666666666666,\"#ed7953\"],[0.7777777777777778,\"#fb9f3a\"],[0.8888888888888888,\"#fdca26\"],[1.0,\"#f0f921\"]]}],\"contourcarpet\":[{\"type\":\"contourcarpet\",\"colorbar\":{\"outlinewidth\":0,\"ticks\":\"\"}}],\"contour\":[{\"type\":\"contour\",\"colorbar\":{\"outlinewidth\":0,\"ticks\":\"\"},\"colorscale\":[[0.0,\"#0d0887\"],[0.1111111111111111,\"#46039f\"],[0.2222222222222222,\"#7201a8\"],[0.3333333333333333,\"#9c179e\"],[0.4444444444444444,\"#bd3786\"],[0.5555555555555556,\"#d8576b\"],[0.6666666666666666,\"#ed7953\"],[0.7777777777777778,\"#fb9f3a\"],[0.8888888888888888,\"#fdca26\"],[1.0,\"#f0f921\"]]}],\"surface\":[{\"type\":\"surface\",\"colorbar\":{\"outlinewidth\":0,\"ticks\":\"\"},\"colorscale\":[[0.0,\"#0d0887\"],[0.1111111111111111,\"#46039f\"],[0.2222222222222222,\"#7201a8\"],[0.3333333333333333,\"#9c179e\"],[0.4444444444444444,\"#bd3786\"],[0.5555555555555556,\"#d8576b\"],[0.6666666666666666,\"#ed7953\"],[0.7777777777777778,\"#fb9f3a\"],[0.8888888888888888,\"#fdca26\"],[1.0,\"#f0f921\"]]}],\"mesh3d\":[{\"type\":\"mesh3d\",\"colorbar\":{\"outlinewidth\":0,\"ticks\":\"\"}}],\"scatter\":[{\"fillpattern\":{\"fillmode\":\"overlay\",\"size\":10,\"solidity\":0.2},\"type\":\"scatter\"}],\"parcoords\":[{\"type\":\"parcoords\",\"line\":{\"colorbar\":{\"outlinewidth\":0,\"ticks\":\"\"}}}],\"scatterpolargl\":[{\"type\":\"scatterpolargl\",\"marker\":{\"colorbar\":{\"outlinewidth\":0,\"ticks\":\"\"}}}],\"bar\":[{\"error_x\":{\"color\":\"#2a3f5f\"},\"error_y\":{\"color\":\"#2a3f5f\"},\"marker\":{\"line\":{\"color\":\"#E5ECF6\",\"width\":0.5},\"pattern\":{\"fillmode\":\"overlay\",\"size\":10,\"solidity\":0.2}},\"type\":\"bar\"}],\"scattergeo\":[{\"type\":\"scattergeo\",\"marker\":{\"colorbar\":{\"outlinewidth\":0,\"ticks\":\"\"}}}],\"scatterpolar\":[{\"type\":\"scatterpolar\",\"marker\":{\"colorbar\":{\"outlinewidth\":0,\"ticks\":\"\"}}}],\"histogram\":[{\"marker\":{\"pattern\":{\"fillmode\":\"overlay\",\"size\":10,\"solidity\":0.2}},\"type\":\"histogram\"}],\"scattergl\":[{\"type\":\"scattergl\",\"marker\":{\"colorbar\":{\"outlinewidth\":0,\"ticks\":\"\"}}}],\"scatter3d\":[{\"type\":\"scatter3d\",\"line\":{\"colorbar\":{\"outlinewidth\":0,\"ticks\":\"\"}},\"marker\":{\"colorbar\":{\"outlinewidth\":0,\"ticks\":\"\"}}}],\"scattermapbox\":[{\"type\":\"scattermapbox\",\"marker\":{\"colorbar\":{\"outlinewidth\":0,\"ticks\":\"\"}}}],\"scatterternary\":[{\"type\":\"scatterternary\",\"marker\":{\"colorbar\":{\"outlinewidth\":0,\"ticks\":\"\"}}}],\"scattercarpet\":[{\"type\":\"scattercarpet\",\"marker\":{\"colorbar\":{\"outlinewidth\":0,\"ticks\":\"\"}}}],\"carpet\":[{\"aaxis\":{\"endlinecolor\":\"#2a3f5f\",\"gridcolor\":\"white\",\"linecolor\":\"white\",\"minorgridcolor\":\"white\",\"startlinecolor\":\"#2a3f5f\"},\"baxis\":{\"endlinecolor\":\"#2a3f5f\",\"gridcolor\":\"white\",\"linecolor\":\"white\",\"minorgridcolor\":\"white\",\"startlinecolor\":\"#2a3f5f\"},\"type\":\"carpet\"}],\"table\":[{\"cells\":{\"fill\":{\"color\":\"#EBF0F8\"},\"line\":{\"color\":\"white\"}},\"header\":{\"fill\":{\"color\":\"#C8D4E3\"},\"line\":{\"color\":\"white\"}},\"type\":\"table\"}],\"barpolar\":[{\"marker\":{\"line\":{\"color\":\"#E5ECF6\",\"width\":0.5},\"pattern\":{\"fillmode\":\"overlay\",\"size\":10,\"solidity\":0.2}},\"type\":\"barpolar\"}],\"pie\":[{\"automargin\":true,\"type\":\"pie\"}]},\"layout\":{\"autotypenumbers\":\"strict\",\"colorway\":[\"#636efa\",\"#EF553B\",\"#00cc96\",\"#ab63fa\",\"#FFA15A\",\"#19d3f3\",\"#FF6692\",\"#B6E880\",\"#FF97FF\",\"#FECB52\"],\"font\":{\"color\":\"#2a3f5f\"},\"hovermode\":\"closest\",\"hoverlabel\":{\"align\":\"left\"},\"paper_bgcolor\":\"white\",\"plot_bgcolor\":\"#E5ECF6\",\"polar\":{\"bgcolor\":\"#E5ECF6\",\"angularaxis\":{\"gridcolor\":\"white\",\"linecolor\":\"white\",\"ticks\":\"\"},\"radialaxis\":{\"gridcolor\":\"white\",\"linecolor\":\"white\",\"ticks\":\"\"}},\"ternary\":{\"bgcolor\":\"#E5ECF6\",\"aaxis\":{\"gridcolor\":\"white\",\"linecolor\":\"white\",\"ticks\":\"\"},\"baxis\":{\"gridcolor\":\"white\",\"linecolor\":\"white\",\"ticks\":\"\"},\"caxis\":{\"gridcolor\":\"white\",\"linecolor\":\"white\",\"ticks\":\"\"}},\"coloraxis\":{\"colorbar\":{\"outlinewidth\":0,\"ticks\":\"\"}},\"colorscale\":{\"sequential\":[[0.0,\"#0d0887\"],[0.1111111111111111,\"#46039f\"],[0.2222222222222222,\"#7201a8\"],[0.3333333333333333,\"#9c179e\"],[0.4444444444444444,\"#bd3786\"],[0.5555555555555556,\"#d8576b\"],[0.6666666666666666,\"#ed7953\"],[0.7777777777777778,\"#fb9f3a\"],[0.8888888888888888,\"#fdca26\"],[1.0,\"#f0f921\"]],\"sequentialminus\":[[0.0,\"#0d0887\"],[0.1111111111111111,\"#46039f\"],[0.2222222222222222,\"#7201a8\"],[0.3333333333333333,\"#9c179e\"],[0.4444444444444444,\"#bd3786\"],[0.5555555555555556,\"#d8576b\"],[0.6666666666666666,\"#ed7953\"],[0.7777777777777778,\"#fb9f3a\"],[0.8888888888888888,\"#fdca26\"],[1.0,\"#f0f921\"]],\"diverging\":[[0,\"#8e0152\"],[0.1,\"#c51b7d\"],[0.2,\"#de77ae\"],[0.3,\"#f1b6da\"],[0.4,\"#fde0ef\"],[0.5,\"#f7f7f7\"],[0.6,\"#e6f5d0\"],[0.7,\"#b8e186\"],[0.8,\"#7fbc41\"],[0.9,\"#4d9221\"],[1,\"#276419\"]]},\"xaxis\":{\"gridcolor\":\"white\",\"linecolor\":\"white\",\"ticks\":\"\",\"title\":{\"standoff\":15},\"zerolinecolor\":\"white\",\"automargin\":true,\"zerolinewidth\":2},\"yaxis\":{\"gridcolor\":\"white\",\"linecolor\":\"white\",\"ticks\":\"\",\"title\":{\"standoff\":15},\"zerolinecolor\":\"white\",\"automargin\":true,\"zerolinewidth\":2},\"scene\":{\"xaxis\":{\"backgroundcolor\":\"#E5ECF6\",\"gridcolor\":\"white\",\"linecolor\":\"white\",\"showbackground\":true,\"ticks\":\"\",\"zerolinecolor\":\"white\",\"gridwidth\":2},\"yaxis\":{\"backgroundcolor\":\"#E5ECF6\",\"gridcolor\":\"white\",\"linecolor\":\"white\",\"showbackground\":true,\"ticks\":\"\",\"zerolinecolor\":\"white\",\"gridwidth\":2},\"zaxis\":{\"backgroundcolor\":\"#E5ECF6\",\"gridcolor\":\"white\",\"linecolor\":\"white\",\"showbackground\":true,\"ticks\":\"\",\"zerolinecolor\":\"white\",\"gridwidth\":2}},\"shapedefaults\":{\"line\":{\"color\":\"#2a3f5f\"}},\"annotationdefaults\":{\"arrowcolor\":\"#2a3f5f\",\"arrowhead\":0,\"arrowwidth\":1},\"geo\":{\"bgcolor\":\"white\",\"landcolor\":\"#E5ECF6\",\"subunitcolor\":\"white\",\"showland\":true,\"showlakes\":true,\"lakecolor\":\"white\"},\"title\":{\"x\":0.05},\"mapbox\":{\"style\":\"light\"}}},\"title\":{\"text\":\"DROPOUT_RATE = 0.1\"},\"xaxis\":{\"title\":{\"text\":\"EPOCH\"}},\"yaxis\":{\"title\":{\"text\":\"ACCURACY\"}}},                        {\"responsive\": true}                    ).then(function(){\n",
              "                            \n",
              "var gd = document.getElementById('512b0ee9-8997-414f-809e-441ea4c5579c');\n",
              "var x = new MutationObserver(function (mutations, observer) {{\n",
              "        var display = window.getComputedStyle(gd).display;\n",
              "        if (!display || display === 'none') {{\n",
              "            console.log([gd, 'removed!']);\n",
              "            Plotly.purge(gd);\n",
              "            observer.disconnect();\n",
              "        }}\n",
              "}});\n",
              "\n",
              "// Listen for the removal of the full notebook cells\n",
              "var notebookContainer = gd.closest('#notebook-container');\n",
              "if (notebookContainer) {{\n",
              "    x.observe(notebookContainer, {childList: true});\n",
              "}}\n",
              "\n",
              "// Listen for the clearing of the current output cell\n",
              "var outputEl = gd.closest('.output');\n",
              "if (outputEl) {{\n",
              "    x.observe(outputEl, {childList: true});\n",
              "}}\n",
              "\n",
              "                        })                };                            </script>        </div>\n",
              "</body>\n",
              "</html>"
            ]
          },
          "metadata": {}
        }
      ]
    },
    {
      "cell_type": "code",
      "source": [
        "fig = go.Figure(data=go.Scatter(x=[i for i in range(200)], y=test_accuracy_history[2], mode =\"lines+markers\"))\n",
        "fig.update_layout(title=\"DROPOUT_RATE = 0.05\", xaxis_title = \"EPOCH\", yaxis_title = \"ACCURACY\")\n",
        "fig.show()"
      ],
      "metadata": {
        "colab": {
          "base_uri": "https://localhost:8080/",
          "height": 542
        },
        "id": "n3X1fq0bG3Yu",
        "outputId": "46ef57cd-392a-4ed8-f402-d88eac9e1b7a"
      },
      "execution_count": null,
      "outputs": [
        {
          "output_type": "display_data",
          "data": {
            "text/html": [
              "<html>\n",
              "<head><meta charset=\"utf-8\" /></head>\n",
              "<body>\n",
              "    <div>            <script src=\"https://cdnjs.cloudflare.com/ajax/libs/mathjax/2.7.5/MathJax.js?config=TeX-AMS-MML_SVG\"></script><script type=\"text/javascript\">if (window.MathJax && window.MathJax.Hub && window.MathJax.Hub.Config) {window.MathJax.Hub.Config({SVG: {font: \"STIX-Web\"}});}</script>                <script type=\"text/javascript\">window.PlotlyConfig = {MathJaxConfig: 'local'};</script>\n",
              "        <script charset=\"utf-8\" src=\"https://cdn.plot.ly/plotly-2.24.1.min.js\"></script>                <div id=\"c8f249b6-579c-401c-a55e-791194a95388\" class=\"plotly-graph-div\" style=\"height:525px; width:100%;\"></div>            <script type=\"text/javascript\">                                    window.PLOTLYENV=window.PLOTLYENV || {};                                    if (document.getElementById(\"c8f249b6-579c-401c-a55e-791194a95388\")) {                    Plotly.newPlot(                        \"c8f249b6-579c-401c-a55e-791194a95388\",                        [{\"mode\":\"lines+markers\",\"x\":[0,1,2,3,4,5,6,7,8,9,10,11,12,13,14,15,16,17,18,19,20,21,22,23,24,25,26,27,28,29,30,31,32,33,34,35,36,37,38,39,40,41,42,43,44,45,46,47,48,49,50,51,52,53,54,55,56,57,58,59,60,61,62,63,64,65,66,67,68,69,70,71,72,73,74,75,76,77,78,79,80,81,82,83,84,85,86,87,88,89,90,91,92,93,94,95,96,97,98,99,100,101,102,103,104,105,106,107,108,109,110,111,112,113,114,115,116,117,118,119,120,121,122,123,124,125,126,127,128,129,130,131,132,133,134,135,136,137,138,139,140,141,142,143,144,145,146,147,148,149,150,151,152,153,154,155,156,157,158,159,160,161,162,163,164,165,166,167,168,169,170,171,172,173,174,175,176,177,178,179,180,181,182,183,184,185,186,187,188,189,190,191,192,193,194,195,196,197,198,199],\"y\":[0.04988731071352959,0.15940792858600616,0.33745506405830383,0.40914905071258545,0.447097510099411,0.4684777855873108,0.5227507948875427,0.5373088717460632,0.5387098789215088,0.5744045972824097,0.5909727811813354,0.6035207509994507,0.6009624004364014,0.6181397438049316,0.6241700649261475,0.617774248123169,0.6389108896255493,0.6431138515472412,0.6429311037063599,0.6469513177871704,0.6530425548553467,0.650606095790863,0.6697325706481934,0.6577328443527222,0.6621185541152954,0.6707072257995605,0.6722909212112427,0.6671742796897888,0.6717427372932434,0.6903210282325745,0.6875799298286438,0.6837424635887146,0.7003715634346008,0.6786867380142212,0.6909301280975342,0.6820369362831116,0.6954376697540283,0.6906255483627319,0.6900773644447327,0.7054272890090942,0.6959249377250671,0.6992751359939575,0.7061582803726196,0.7041481137275696,0.6964731812477112,0.7114576101303101,0.7113967537879944,0.690260112285614,0.703965425491333,0.6926965713500977,0.699884295463562,0.7079247236251831,0.6987269520759583,0.6993969678878784,0.6974477767944336,0.7052445411682129,0.7140159606933594,0.7192544341087341,0.7017725706100464,0.6953767538070679,0.7178534269332886,0.7104220986366272,0.7129195332527161,0.7068892121315002,0.7075592279434204,0.7157824039459229,0.7211427092552185,0.7194371819496155,0.7225437164306641,0.7174879908561707,0.7246147394180298,0.713833212852478,0.7148078083992004,0.71474689245224,0.7148687243461609,0.7149296402931213,0.7186453342437744,0.7175489068031311,0.7152342200279236,0.7160260677337646,0.7004324793815613,0.7221173048019409,0.7059146165847778,0.7220563888549805,0.7140768766403198,0.7115185260772705,0.7170006632804871,0.7141377925872803,0.7093257308006287,0.7245538234710693,0.724919319152832,0.7090820670127869,0.7119449377059937,0.722665548324585,0.7157214879989624,0.7122495174407959,0.7235792279243469,0.7044526934623718,0.7288177013397217,0.7221782207489014,0.727538526058197,0.7185235023498535,0.7285740375518799,0.7165133953094482,0.7206554412841797,0.7154169678688049,0.7304013967514038,0.7219345569610596,0.718828022480011,0.7321069836616516,0.7199853658676147,0.7266857624053955,0.7165743112564087,0.7103003263473511,0.7224218845367432,0.7119449377059937,0.7213863730430603,0.7109094262123108,0.7319242358207703,0.7221173048019409,0.7227873802185059,0.7198026180267334,0.7187062501907349,0.7148687243461609,0.7158433198928833,0.7177925109863281,0.7187671065330505,0.7149905562400818,0.732289731502533,0.728452205657959,0.717670738697052,0.7166960835456848,0.7187062501907349,0.7207163572311401,0.7321678996086121,0.7343607544898987,0.7268075942993164,0.7366753816604614,0.7194371819496155,0.720289945602417,0.713833212852478,0.7112749218940735,0.7173661589622498,0.7152342200279236,0.7238838076591492,0.7128586173057556,0.7261984348297119,0.7232137322425842,0.7098129987716675,0.7170615792274475,0.7223609685897827,0.7321069836616516,0.7136504650115967,0.7141377925872803,0.726076602935791,0.7256502509117126,0.7131631970405579,0.7204117774963379,0.7107875943183899,0.7144423723220825,0.7191935181617737,0.7135895490646362,0.7168788313865662,0.7209599614143372,0.7249802350997925,0.7165743112564087,0.7248584032058716,0.7237010598182678,0.7027471661567688,0.724919319152832,0.6995187997817993,0.7117012739181519,0.7187062501907349,0.7209599614143372,0.7143205404281616,0.729365885257721,0.7153560519218445,0.7169397473335266,0.7090820670127869,0.7161478996276855,0.7257111668586731,0.7232746481895447,0.7199853658676147,0.7170006632804871,0.7279649376869202,0.7082902193069458,0.715660572052002,0.7190107703208923,0.7195590138435364,0.7292440533638,0.7296704649925232,0.7199853658676147,0.7202290296554565,0.7168179154396057,0.715660572052002,0.7243101596832275,0.7106048464775085,0.7252238392829895,0.7346043586730957,0.7287567853927612],\"type\":\"scatter\"}],                        {\"template\":{\"data\":{\"histogram2dcontour\":[{\"type\":\"histogram2dcontour\",\"colorbar\":{\"outlinewidth\":0,\"ticks\":\"\"},\"colorscale\":[[0.0,\"#0d0887\"],[0.1111111111111111,\"#46039f\"],[0.2222222222222222,\"#7201a8\"],[0.3333333333333333,\"#9c179e\"],[0.4444444444444444,\"#bd3786\"],[0.5555555555555556,\"#d8576b\"],[0.6666666666666666,\"#ed7953\"],[0.7777777777777778,\"#fb9f3a\"],[0.8888888888888888,\"#fdca26\"],[1.0,\"#f0f921\"]]}],\"choropleth\":[{\"type\":\"choropleth\",\"colorbar\":{\"outlinewidth\":0,\"ticks\":\"\"}}],\"histogram2d\":[{\"type\":\"histogram2d\",\"colorbar\":{\"outlinewidth\":0,\"ticks\":\"\"},\"colorscale\":[[0.0,\"#0d0887\"],[0.1111111111111111,\"#46039f\"],[0.2222222222222222,\"#7201a8\"],[0.3333333333333333,\"#9c179e\"],[0.4444444444444444,\"#bd3786\"],[0.5555555555555556,\"#d8576b\"],[0.6666666666666666,\"#ed7953\"],[0.7777777777777778,\"#fb9f3a\"],[0.8888888888888888,\"#fdca26\"],[1.0,\"#f0f921\"]]}],\"heatmap\":[{\"type\":\"heatmap\",\"colorbar\":{\"outlinewidth\":0,\"ticks\":\"\"},\"colorscale\":[[0.0,\"#0d0887\"],[0.1111111111111111,\"#46039f\"],[0.2222222222222222,\"#7201a8\"],[0.3333333333333333,\"#9c179e\"],[0.4444444444444444,\"#bd3786\"],[0.5555555555555556,\"#d8576b\"],[0.6666666666666666,\"#ed7953\"],[0.7777777777777778,\"#fb9f3a\"],[0.8888888888888888,\"#fdca26\"],[1.0,\"#f0f921\"]]}],\"heatmapgl\":[{\"type\":\"heatmapgl\",\"colorbar\":{\"outlinewidth\":0,\"ticks\":\"\"},\"colorscale\":[[0.0,\"#0d0887\"],[0.1111111111111111,\"#46039f\"],[0.2222222222222222,\"#7201a8\"],[0.3333333333333333,\"#9c179e\"],[0.4444444444444444,\"#bd3786\"],[0.5555555555555556,\"#d8576b\"],[0.6666666666666666,\"#ed7953\"],[0.7777777777777778,\"#fb9f3a\"],[0.8888888888888888,\"#fdca26\"],[1.0,\"#f0f921\"]]}],\"contourcarpet\":[{\"type\":\"contourcarpet\",\"colorbar\":{\"outlinewidth\":0,\"ticks\":\"\"}}],\"contour\":[{\"type\":\"contour\",\"colorbar\":{\"outlinewidth\":0,\"ticks\":\"\"},\"colorscale\":[[0.0,\"#0d0887\"],[0.1111111111111111,\"#46039f\"],[0.2222222222222222,\"#7201a8\"],[0.3333333333333333,\"#9c179e\"],[0.4444444444444444,\"#bd3786\"],[0.5555555555555556,\"#d8576b\"],[0.6666666666666666,\"#ed7953\"],[0.7777777777777778,\"#fb9f3a\"],[0.8888888888888888,\"#fdca26\"],[1.0,\"#f0f921\"]]}],\"surface\":[{\"type\":\"surface\",\"colorbar\":{\"outlinewidth\":0,\"ticks\":\"\"},\"colorscale\":[[0.0,\"#0d0887\"],[0.1111111111111111,\"#46039f\"],[0.2222222222222222,\"#7201a8\"],[0.3333333333333333,\"#9c179e\"],[0.4444444444444444,\"#bd3786\"],[0.5555555555555556,\"#d8576b\"],[0.6666666666666666,\"#ed7953\"],[0.7777777777777778,\"#fb9f3a\"],[0.8888888888888888,\"#fdca26\"],[1.0,\"#f0f921\"]]}],\"mesh3d\":[{\"type\":\"mesh3d\",\"colorbar\":{\"outlinewidth\":0,\"ticks\":\"\"}}],\"scatter\":[{\"fillpattern\":{\"fillmode\":\"overlay\",\"size\":10,\"solidity\":0.2},\"type\":\"scatter\"}],\"parcoords\":[{\"type\":\"parcoords\",\"line\":{\"colorbar\":{\"outlinewidth\":0,\"ticks\":\"\"}}}],\"scatterpolargl\":[{\"type\":\"scatterpolargl\",\"marker\":{\"colorbar\":{\"outlinewidth\":0,\"ticks\":\"\"}}}],\"bar\":[{\"error_x\":{\"color\":\"#2a3f5f\"},\"error_y\":{\"color\":\"#2a3f5f\"},\"marker\":{\"line\":{\"color\":\"#E5ECF6\",\"width\":0.5},\"pattern\":{\"fillmode\":\"overlay\",\"size\":10,\"solidity\":0.2}},\"type\":\"bar\"}],\"scattergeo\":[{\"type\":\"scattergeo\",\"marker\":{\"colorbar\":{\"outlinewidth\":0,\"ticks\":\"\"}}}],\"scatterpolar\":[{\"type\":\"scatterpolar\",\"marker\":{\"colorbar\":{\"outlinewidth\":0,\"ticks\":\"\"}}}],\"histogram\":[{\"marker\":{\"pattern\":{\"fillmode\":\"overlay\",\"size\":10,\"solidity\":0.2}},\"type\":\"histogram\"}],\"scattergl\":[{\"type\":\"scattergl\",\"marker\":{\"colorbar\":{\"outlinewidth\":0,\"ticks\":\"\"}}}],\"scatter3d\":[{\"type\":\"scatter3d\",\"line\":{\"colorbar\":{\"outlinewidth\":0,\"ticks\":\"\"}},\"marker\":{\"colorbar\":{\"outlinewidth\":0,\"ticks\":\"\"}}}],\"scattermapbox\":[{\"type\":\"scattermapbox\",\"marker\":{\"colorbar\":{\"outlinewidth\":0,\"ticks\":\"\"}}}],\"scatterternary\":[{\"type\":\"scatterternary\",\"marker\":{\"colorbar\":{\"outlinewidth\":0,\"ticks\":\"\"}}}],\"scattercarpet\":[{\"type\":\"scattercarpet\",\"marker\":{\"colorbar\":{\"outlinewidth\":0,\"ticks\":\"\"}}}],\"carpet\":[{\"aaxis\":{\"endlinecolor\":\"#2a3f5f\",\"gridcolor\":\"white\",\"linecolor\":\"white\",\"minorgridcolor\":\"white\",\"startlinecolor\":\"#2a3f5f\"},\"baxis\":{\"endlinecolor\":\"#2a3f5f\",\"gridcolor\":\"white\",\"linecolor\":\"white\",\"minorgridcolor\":\"white\",\"startlinecolor\":\"#2a3f5f\"},\"type\":\"carpet\"}],\"table\":[{\"cells\":{\"fill\":{\"color\":\"#EBF0F8\"},\"line\":{\"color\":\"white\"}},\"header\":{\"fill\":{\"color\":\"#C8D4E3\"},\"line\":{\"color\":\"white\"}},\"type\":\"table\"}],\"barpolar\":[{\"marker\":{\"line\":{\"color\":\"#E5ECF6\",\"width\":0.5},\"pattern\":{\"fillmode\":\"overlay\",\"size\":10,\"solidity\":0.2}},\"type\":\"barpolar\"}],\"pie\":[{\"automargin\":true,\"type\":\"pie\"}]},\"layout\":{\"autotypenumbers\":\"strict\",\"colorway\":[\"#636efa\",\"#EF553B\",\"#00cc96\",\"#ab63fa\",\"#FFA15A\",\"#19d3f3\",\"#FF6692\",\"#B6E880\",\"#FF97FF\",\"#FECB52\"],\"font\":{\"color\":\"#2a3f5f\"},\"hovermode\":\"closest\",\"hoverlabel\":{\"align\":\"left\"},\"paper_bgcolor\":\"white\",\"plot_bgcolor\":\"#E5ECF6\",\"polar\":{\"bgcolor\":\"#E5ECF6\",\"angularaxis\":{\"gridcolor\":\"white\",\"linecolor\":\"white\",\"ticks\":\"\"},\"radialaxis\":{\"gridcolor\":\"white\",\"linecolor\":\"white\",\"ticks\":\"\"}},\"ternary\":{\"bgcolor\":\"#E5ECF6\",\"aaxis\":{\"gridcolor\":\"white\",\"linecolor\":\"white\",\"ticks\":\"\"},\"baxis\":{\"gridcolor\":\"white\",\"linecolor\":\"white\",\"ticks\":\"\"},\"caxis\":{\"gridcolor\":\"white\",\"linecolor\":\"white\",\"ticks\":\"\"}},\"coloraxis\":{\"colorbar\":{\"outlinewidth\":0,\"ticks\":\"\"}},\"colorscale\":{\"sequential\":[[0.0,\"#0d0887\"],[0.1111111111111111,\"#46039f\"],[0.2222222222222222,\"#7201a8\"],[0.3333333333333333,\"#9c179e\"],[0.4444444444444444,\"#bd3786\"],[0.5555555555555556,\"#d8576b\"],[0.6666666666666666,\"#ed7953\"],[0.7777777777777778,\"#fb9f3a\"],[0.8888888888888888,\"#fdca26\"],[1.0,\"#f0f921\"]],\"sequentialminus\":[[0.0,\"#0d0887\"],[0.1111111111111111,\"#46039f\"],[0.2222222222222222,\"#7201a8\"],[0.3333333333333333,\"#9c179e\"],[0.4444444444444444,\"#bd3786\"],[0.5555555555555556,\"#d8576b\"],[0.6666666666666666,\"#ed7953\"],[0.7777777777777778,\"#fb9f3a\"],[0.8888888888888888,\"#fdca26\"],[1.0,\"#f0f921\"]],\"diverging\":[[0,\"#8e0152\"],[0.1,\"#c51b7d\"],[0.2,\"#de77ae\"],[0.3,\"#f1b6da\"],[0.4,\"#fde0ef\"],[0.5,\"#f7f7f7\"],[0.6,\"#e6f5d0\"],[0.7,\"#b8e186\"],[0.8,\"#7fbc41\"],[0.9,\"#4d9221\"],[1,\"#276419\"]]},\"xaxis\":{\"gridcolor\":\"white\",\"linecolor\":\"white\",\"ticks\":\"\",\"title\":{\"standoff\":15},\"zerolinecolor\":\"white\",\"automargin\":true,\"zerolinewidth\":2},\"yaxis\":{\"gridcolor\":\"white\",\"linecolor\":\"white\",\"ticks\":\"\",\"title\":{\"standoff\":15},\"zerolinecolor\":\"white\",\"automargin\":true,\"zerolinewidth\":2},\"scene\":{\"xaxis\":{\"backgroundcolor\":\"#E5ECF6\",\"gridcolor\":\"white\",\"linecolor\":\"white\",\"showbackground\":true,\"ticks\":\"\",\"zerolinecolor\":\"white\",\"gridwidth\":2},\"yaxis\":{\"backgroundcolor\":\"#E5ECF6\",\"gridcolor\":\"white\",\"linecolor\":\"white\",\"showbackground\":true,\"ticks\":\"\",\"zerolinecolor\":\"white\",\"gridwidth\":2},\"zaxis\":{\"backgroundcolor\":\"#E5ECF6\",\"gridcolor\":\"white\",\"linecolor\":\"white\",\"showbackground\":true,\"ticks\":\"\",\"zerolinecolor\":\"white\",\"gridwidth\":2}},\"shapedefaults\":{\"line\":{\"color\":\"#2a3f5f\"}},\"annotationdefaults\":{\"arrowcolor\":\"#2a3f5f\",\"arrowhead\":0,\"arrowwidth\":1},\"geo\":{\"bgcolor\":\"white\",\"landcolor\":\"#E5ECF6\",\"subunitcolor\":\"white\",\"showland\":true,\"showlakes\":true,\"lakecolor\":\"white\"},\"title\":{\"x\":0.05},\"mapbox\":{\"style\":\"light\"}}},\"title\":{\"text\":\"DROPOUT_RATE = 0.05\"},\"xaxis\":{\"title\":{\"text\":\"EPOCH\"}},\"yaxis\":{\"title\":{\"text\":\"ACCURACY\"}}},                        {\"responsive\": true}                    ).then(function(){\n",
              "                            \n",
              "var gd = document.getElementById('c8f249b6-579c-401c-a55e-791194a95388');\n",
              "var x = new MutationObserver(function (mutations, observer) {{\n",
              "        var display = window.getComputedStyle(gd).display;\n",
              "        if (!display || display === 'none') {{\n",
              "            console.log([gd, 'removed!']);\n",
              "            Plotly.purge(gd);\n",
              "            observer.disconnect();\n",
              "        }}\n",
              "}});\n",
              "\n",
              "// Listen for the removal of the full notebook cells\n",
              "var notebookContainer = gd.closest('#notebook-container');\n",
              "if (notebookContainer) {{\n",
              "    x.observe(notebookContainer, {childList: true});\n",
              "}}\n",
              "\n",
              "// Listen for the clearing of the current output cell\n",
              "var outputEl = gd.closest('.output');\n",
              "if (outputEl) {{\n",
              "    x.observe(outputEl, {childList: true});\n",
              "}}\n",
              "\n",
              "                        })                };                            </script>        </div>\n",
              "</body>\n",
              "</html>"
            ]
          },
          "metadata": {}
        }
      ]
    },
    {
      "cell_type": "code",
      "source": [
        "fig = go.Figure(data=go.Scatter(x=[i for i in range(200)], y=test_accuracy_history[3], mode =\"lines+markers\"))\n",
        "fig.update_layout(title=\"DROPOUT_RATE = 0.01\", xaxis_title = \"EPOCH\", yaxis_title = \"ACCURACY\")\n",
        "fig.show()"
      ],
      "metadata": {
        "colab": {
          "base_uri": "https://localhost:8080/",
          "height": 542
        },
        "id": "ITMwcRItG4jM",
        "outputId": "fdaf5e64-437d-4648-91da-ea8ed7c31d83"
      },
      "execution_count": null,
      "outputs": [
        {
          "output_type": "display_data",
          "data": {
            "text/html": [
              "<html>\n",
              "<head><meta charset=\"utf-8\" /></head>\n",
              "<body>\n",
              "    <div>            <script src=\"https://cdnjs.cloudflare.com/ajax/libs/mathjax/2.7.5/MathJax.js?config=TeX-AMS-MML_SVG\"></script><script type=\"text/javascript\">if (window.MathJax && window.MathJax.Hub && window.MathJax.Hub.Config) {window.MathJax.Hub.Config({SVG: {font: \"STIX-Web\"}});}</script>                <script type=\"text/javascript\">window.PlotlyConfig = {MathJaxConfig: 'local'};</script>\n",
              "        <script charset=\"utf-8\" src=\"https://cdn.plot.ly/plotly-2.24.1.min.js\"></script>                <div id=\"8959b54f-6a9f-4338-8bb5-aa1d97375d15\" class=\"plotly-graph-div\" style=\"height:525px; width:100%;\"></div>            <script type=\"text/javascript\">                                    window.PLOTLYENV=window.PLOTLYENV || {};                                    if (document.getElementById(\"8959b54f-6a9f-4338-8bb5-aa1d97375d15\")) {                    Plotly.newPlot(                        \"8959b54f-6a9f-4338-8bb5-aa1d97375d15\",                        [{\"mode\":\"lines+markers\",\"x\":[0,1,2,3,4,5,6,7,8,9,10,11,12,13,14,15,16,17,18,19,20,21,22,23,24,25,26,27,28,29,30,31,32,33,34,35,36,37,38,39,40,41,42,43,44,45,46,47,48,49,50,51,52,53,54,55,56,57,58,59,60,61,62,63,64,65,66,67,68,69,70,71,72,73,74,75,76,77,78,79,80,81,82,83,84,85,86,87,88,89,90,91,92,93,94,95,96,97,98,99,100,101,102,103,104,105,106,107,108,109,110,111,112,113,114,115,116,117,118,119,120,121,122,123,124,125,126,127,128,129,130,131,132,133,134,135,136,137,138,139,140,141,142,143,144,145,146,147,148,149,150,151,152,153,154,155,156,157,158,159,160,161,162,163,164,165,166,167,168,169,170,171,172,173,174,175,176,177,178,179,180,181,182,183,184,185,186,187,188,189,190,191,192,193,194,195,196,197,198,199],\"y\":[0.04988731071352959,0.19364073872566223,0.2720350921154022,0.3372114300727844,0.41603216528892517,0.44210270047187805,0.4681123197078705,0.491563618183136,0.491563618183136,0.5393189787864685,0.5660595893859863,0.5675214529037476,0.6006578803062439,0.6261192560195923,0.6202107667922974,0.6419565081596375,0.6576110124588013,0.645976722240448,0.6632758975028992,0.6422610878944397,0.6742401123046875,0.6726564168930054,0.6696717143058777,0.6810014247894287,0.6703417301177979,0.6870317459106445,0.6939148306846619,0.6873972415924072,0.6707680821418762,0.6918438076972961,0.7068282961845398,0.7053663730621338,0.6983614563941956,0.6933057308197021,0.7065237164497375,0.6945849061012268,0.6938539147377014,0.7078028917312622,0.6991533041000366,0.7054272890090942,0.7049400210380554,0.7029908299446106,0.7148687243461609,0.7061582803726196,0.7196199297904968,0.6998233795166016,0.7048181891441345,0.7038435935974121,0.7083510756492615,0.7012243270874023,0.7107875943183899,0.7086556553840637,0.7126149535179138,0.7221173048019409,0.7207163572311401,0.7173052430152893,0.7160869836807251,0.7034780979156494,0.7185235023498535,0.72528475522995,0.7071937918663025,0.7110921740531921,0.7240055799484253,0.7068282961845398,0.7126149535179138,0.7129195332527161,0.7206554412841797,0.7100566625595093,0.7105439305305481,0.7236401438713074,0.7108485102653503,0.7190107703208923,0.7131022810935974,0.7095693349838257,0.7213254570960999,0.7177925109863281,0.7139550447463989,0.7168788313865662,0.712127685546875,0.7166352272033691,0.7086556553840637,0.7164524793624878,0.7150514721870422,0.7137113809585571,0.7223609685897827,0.7098129987716675,0.7151733040809631,0.7199244499206543,0.7104830145835876,0.7121886014938354,0.7033562660217285,0.7086556553840637,0.7185235023498535,0.7175489068031311,0.7140159606933594,0.7023816704750061,0.7127977013587952,0.7122495174407959,0.7085338234901428,0.7051836252212524,0.7192544341087341,0.7115185260772705,0.7087774872779846,0.7051227688789368,0.7187671065330505,0.7133459448814392,0.7123104333877563,0.7009198069572449,0.7227264642715454,0.7120667695999146,0.7092648148536682,0.7172443270683289,0.7117012739181519,0.7017725706100464,0.7050009369850159,0.7022598385810852,0.7040872573852539,0.7091429829597473,0.7124322652816772,0.7014070749282837,0.7018944025039673,0.7054272890090942,0.7081683874130249,0.6986660361289978,0.7112749218940735,0.7074373960494995,0.7067673802375793,0.6973868608474731,0.7024425864219666,0.6886154413223267,0.7135286331176758,0.7049400210380554,0.70749831199646,0.7101175785064697,0.713041365146637,0.7038435935974121,0.7065237164497375,0.7054882049560547,0.7031126022338867,0.7085947394371033,0.7078028917312622,0.7131022810935974,0.712127685546875,0.6931229829788208,0.7103003263473511,0.7021380066871643,0.6964122653007507,0.7131022810935974,0.7078638076782227,0.70749831199646,0.7069501280784607,0.7054272890090942,0.7005543112754822,0.701589822769165,0.7021989226341248,0.6993969678878784,0.7077419757843018,0.708960235118866,0.7037826776504517,0.7011634111404419,0.6986660361289978,0.7106048464775085,0.7079856395721436,0.6956204175949097,0.7032344341278076,0.6962904334068298,0.7095693349838257,0.694341242313385,0.7093257308006287,0.7051227688789368,0.6925747990608215,0.7036608457565308,0.6900164484977722,0.699884295463562,0.6948894262313843,0.701041579246521,0.6958640217781067,0.7100566625595093,0.7095084190368652,0.6961076855659485,0.6970822811126709,0.6992751359939575,0.7017116546630859,0.693427562713623,0.6965340971946716,0.7026862502098083,0.6945239901542664,0.7009807229042053,0.6981177926063538,0.7060973644256592,0.6970822811126709,0.6947067379951477,0.6989096403121948,0.6973868608474731,0.7024425864219666,0.7029299139976501,0.6997015476226807,0.6942803263664246,0.6989096403121948,0.6962295174598694],\"type\":\"scatter\"}],                        {\"template\":{\"data\":{\"histogram2dcontour\":[{\"type\":\"histogram2dcontour\",\"colorbar\":{\"outlinewidth\":0,\"ticks\":\"\"},\"colorscale\":[[0.0,\"#0d0887\"],[0.1111111111111111,\"#46039f\"],[0.2222222222222222,\"#7201a8\"],[0.3333333333333333,\"#9c179e\"],[0.4444444444444444,\"#bd3786\"],[0.5555555555555556,\"#d8576b\"],[0.6666666666666666,\"#ed7953\"],[0.7777777777777778,\"#fb9f3a\"],[0.8888888888888888,\"#fdca26\"],[1.0,\"#f0f921\"]]}],\"choropleth\":[{\"type\":\"choropleth\",\"colorbar\":{\"outlinewidth\":0,\"ticks\":\"\"}}],\"histogram2d\":[{\"type\":\"histogram2d\",\"colorbar\":{\"outlinewidth\":0,\"ticks\":\"\"},\"colorscale\":[[0.0,\"#0d0887\"],[0.1111111111111111,\"#46039f\"],[0.2222222222222222,\"#7201a8\"],[0.3333333333333333,\"#9c179e\"],[0.4444444444444444,\"#bd3786\"],[0.5555555555555556,\"#d8576b\"],[0.6666666666666666,\"#ed7953\"],[0.7777777777777778,\"#fb9f3a\"],[0.8888888888888888,\"#fdca26\"],[1.0,\"#f0f921\"]]}],\"heatmap\":[{\"type\":\"heatmap\",\"colorbar\":{\"outlinewidth\":0,\"ticks\":\"\"},\"colorscale\":[[0.0,\"#0d0887\"],[0.1111111111111111,\"#46039f\"],[0.2222222222222222,\"#7201a8\"],[0.3333333333333333,\"#9c179e\"],[0.4444444444444444,\"#bd3786\"],[0.5555555555555556,\"#d8576b\"],[0.6666666666666666,\"#ed7953\"],[0.7777777777777778,\"#fb9f3a\"],[0.8888888888888888,\"#fdca26\"],[1.0,\"#f0f921\"]]}],\"heatmapgl\":[{\"type\":\"heatmapgl\",\"colorbar\":{\"outlinewidth\":0,\"ticks\":\"\"},\"colorscale\":[[0.0,\"#0d0887\"],[0.1111111111111111,\"#46039f\"],[0.2222222222222222,\"#7201a8\"],[0.3333333333333333,\"#9c179e\"],[0.4444444444444444,\"#bd3786\"],[0.5555555555555556,\"#d8576b\"],[0.6666666666666666,\"#ed7953\"],[0.7777777777777778,\"#fb9f3a\"],[0.8888888888888888,\"#fdca26\"],[1.0,\"#f0f921\"]]}],\"contourcarpet\":[{\"type\":\"contourcarpet\",\"colorbar\":{\"outlinewidth\":0,\"ticks\":\"\"}}],\"contour\":[{\"type\":\"contour\",\"colorbar\":{\"outlinewidth\":0,\"ticks\":\"\"},\"colorscale\":[[0.0,\"#0d0887\"],[0.1111111111111111,\"#46039f\"],[0.2222222222222222,\"#7201a8\"],[0.3333333333333333,\"#9c179e\"],[0.4444444444444444,\"#bd3786\"],[0.5555555555555556,\"#d8576b\"],[0.6666666666666666,\"#ed7953\"],[0.7777777777777778,\"#fb9f3a\"],[0.8888888888888888,\"#fdca26\"],[1.0,\"#f0f921\"]]}],\"surface\":[{\"type\":\"surface\",\"colorbar\":{\"outlinewidth\":0,\"ticks\":\"\"},\"colorscale\":[[0.0,\"#0d0887\"],[0.1111111111111111,\"#46039f\"],[0.2222222222222222,\"#7201a8\"],[0.3333333333333333,\"#9c179e\"],[0.4444444444444444,\"#bd3786\"],[0.5555555555555556,\"#d8576b\"],[0.6666666666666666,\"#ed7953\"],[0.7777777777777778,\"#fb9f3a\"],[0.8888888888888888,\"#fdca26\"],[1.0,\"#f0f921\"]]}],\"mesh3d\":[{\"type\":\"mesh3d\",\"colorbar\":{\"outlinewidth\":0,\"ticks\":\"\"}}],\"scatter\":[{\"fillpattern\":{\"fillmode\":\"overlay\",\"size\":10,\"solidity\":0.2},\"type\":\"scatter\"}],\"parcoords\":[{\"type\":\"parcoords\",\"line\":{\"colorbar\":{\"outlinewidth\":0,\"ticks\":\"\"}}}],\"scatterpolargl\":[{\"type\":\"scatterpolargl\",\"marker\":{\"colorbar\":{\"outlinewidth\":0,\"ticks\":\"\"}}}],\"bar\":[{\"error_x\":{\"color\":\"#2a3f5f\"},\"error_y\":{\"color\":\"#2a3f5f\"},\"marker\":{\"line\":{\"color\":\"#E5ECF6\",\"width\":0.5},\"pattern\":{\"fillmode\":\"overlay\",\"size\":10,\"solidity\":0.2}},\"type\":\"bar\"}],\"scattergeo\":[{\"type\":\"scattergeo\",\"marker\":{\"colorbar\":{\"outlinewidth\":0,\"ticks\":\"\"}}}],\"scatterpolar\":[{\"type\":\"scatterpolar\",\"marker\":{\"colorbar\":{\"outlinewidth\":0,\"ticks\":\"\"}}}],\"histogram\":[{\"marker\":{\"pattern\":{\"fillmode\":\"overlay\",\"size\":10,\"solidity\":0.2}},\"type\":\"histogram\"}],\"scattergl\":[{\"type\":\"scattergl\",\"marker\":{\"colorbar\":{\"outlinewidth\":0,\"ticks\":\"\"}}}],\"scatter3d\":[{\"type\":\"scatter3d\",\"line\":{\"colorbar\":{\"outlinewidth\":0,\"ticks\":\"\"}},\"marker\":{\"colorbar\":{\"outlinewidth\":0,\"ticks\":\"\"}}}],\"scattermapbox\":[{\"type\":\"scattermapbox\",\"marker\":{\"colorbar\":{\"outlinewidth\":0,\"ticks\":\"\"}}}],\"scatterternary\":[{\"type\":\"scatterternary\",\"marker\":{\"colorbar\":{\"outlinewidth\":0,\"ticks\":\"\"}}}],\"scattercarpet\":[{\"type\":\"scattercarpet\",\"marker\":{\"colorbar\":{\"outlinewidth\":0,\"ticks\":\"\"}}}],\"carpet\":[{\"aaxis\":{\"endlinecolor\":\"#2a3f5f\",\"gridcolor\":\"white\",\"linecolor\":\"white\",\"minorgridcolor\":\"white\",\"startlinecolor\":\"#2a3f5f\"},\"baxis\":{\"endlinecolor\":\"#2a3f5f\",\"gridcolor\":\"white\",\"linecolor\":\"white\",\"minorgridcolor\":\"white\",\"startlinecolor\":\"#2a3f5f\"},\"type\":\"carpet\"}],\"table\":[{\"cells\":{\"fill\":{\"color\":\"#EBF0F8\"},\"line\":{\"color\":\"white\"}},\"header\":{\"fill\":{\"color\":\"#C8D4E3\"},\"line\":{\"color\":\"white\"}},\"type\":\"table\"}],\"barpolar\":[{\"marker\":{\"line\":{\"color\":\"#E5ECF6\",\"width\":0.5},\"pattern\":{\"fillmode\":\"overlay\",\"size\":10,\"solidity\":0.2}},\"type\":\"barpolar\"}],\"pie\":[{\"automargin\":true,\"type\":\"pie\"}]},\"layout\":{\"autotypenumbers\":\"strict\",\"colorway\":[\"#636efa\",\"#EF553B\",\"#00cc96\",\"#ab63fa\",\"#FFA15A\",\"#19d3f3\",\"#FF6692\",\"#B6E880\",\"#FF97FF\",\"#FECB52\"],\"font\":{\"color\":\"#2a3f5f\"},\"hovermode\":\"closest\",\"hoverlabel\":{\"align\":\"left\"},\"paper_bgcolor\":\"white\",\"plot_bgcolor\":\"#E5ECF6\",\"polar\":{\"bgcolor\":\"#E5ECF6\",\"angularaxis\":{\"gridcolor\":\"white\",\"linecolor\":\"white\",\"ticks\":\"\"},\"radialaxis\":{\"gridcolor\":\"white\",\"linecolor\":\"white\",\"ticks\":\"\"}},\"ternary\":{\"bgcolor\":\"#E5ECF6\",\"aaxis\":{\"gridcolor\":\"white\",\"linecolor\":\"white\",\"ticks\":\"\"},\"baxis\":{\"gridcolor\":\"white\",\"linecolor\":\"white\",\"ticks\":\"\"},\"caxis\":{\"gridcolor\":\"white\",\"linecolor\":\"white\",\"ticks\":\"\"}},\"coloraxis\":{\"colorbar\":{\"outlinewidth\":0,\"ticks\":\"\"}},\"colorscale\":{\"sequential\":[[0.0,\"#0d0887\"],[0.1111111111111111,\"#46039f\"],[0.2222222222222222,\"#7201a8\"],[0.3333333333333333,\"#9c179e\"],[0.4444444444444444,\"#bd3786\"],[0.5555555555555556,\"#d8576b\"],[0.6666666666666666,\"#ed7953\"],[0.7777777777777778,\"#fb9f3a\"],[0.8888888888888888,\"#fdca26\"],[1.0,\"#f0f921\"]],\"sequentialminus\":[[0.0,\"#0d0887\"],[0.1111111111111111,\"#46039f\"],[0.2222222222222222,\"#7201a8\"],[0.3333333333333333,\"#9c179e\"],[0.4444444444444444,\"#bd3786\"],[0.5555555555555556,\"#d8576b\"],[0.6666666666666666,\"#ed7953\"],[0.7777777777777778,\"#fb9f3a\"],[0.8888888888888888,\"#fdca26\"],[1.0,\"#f0f921\"]],\"diverging\":[[0,\"#8e0152\"],[0.1,\"#c51b7d\"],[0.2,\"#de77ae\"],[0.3,\"#f1b6da\"],[0.4,\"#fde0ef\"],[0.5,\"#f7f7f7\"],[0.6,\"#e6f5d0\"],[0.7,\"#b8e186\"],[0.8,\"#7fbc41\"],[0.9,\"#4d9221\"],[1,\"#276419\"]]},\"xaxis\":{\"gridcolor\":\"white\",\"linecolor\":\"white\",\"ticks\":\"\",\"title\":{\"standoff\":15},\"zerolinecolor\":\"white\",\"automargin\":true,\"zerolinewidth\":2},\"yaxis\":{\"gridcolor\":\"white\",\"linecolor\":\"white\",\"ticks\":\"\",\"title\":{\"standoff\":15},\"zerolinecolor\":\"white\",\"automargin\":true,\"zerolinewidth\":2},\"scene\":{\"xaxis\":{\"backgroundcolor\":\"#E5ECF6\",\"gridcolor\":\"white\",\"linecolor\":\"white\",\"showbackground\":true,\"ticks\":\"\",\"zerolinecolor\":\"white\",\"gridwidth\":2},\"yaxis\":{\"backgroundcolor\":\"#E5ECF6\",\"gridcolor\":\"white\",\"linecolor\":\"white\",\"showbackground\":true,\"ticks\":\"\",\"zerolinecolor\":\"white\",\"gridwidth\":2},\"zaxis\":{\"backgroundcolor\":\"#E5ECF6\",\"gridcolor\":\"white\",\"linecolor\":\"white\",\"showbackground\":true,\"ticks\":\"\",\"zerolinecolor\":\"white\",\"gridwidth\":2}},\"shapedefaults\":{\"line\":{\"color\":\"#2a3f5f\"}},\"annotationdefaults\":{\"arrowcolor\":\"#2a3f5f\",\"arrowhead\":0,\"arrowwidth\":1},\"geo\":{\"bgcolor\":\"white\",\"landcolor\":\"#E5ECF6\",\"subunitcolor\":\"white\",\"showland\":true,\"showlakes\":true,\"lakecolor\":\"white\"},\"title\":{\"x\":0.05},\"mapbox\":{\"style\":\"light\"}}},\"title\":{\"text\":\"DROPOUT_RATE = 0.01\"},\"xaxis\":{\"title\":{\"text\":\"EPOCH\"}},\"yaxis\":{\"title\":{\"text\":\"ACCURACY\"}}},                        {\"responsive\": true}                    ).then(function(){\n",
              "                            \n",
              "var gd = document.getElementById('8959b54f-6a9f-4338-8bb5-aa1d97375d15');\n",
              "var x = new MutationObserver(function (mutations, observer) {{\n",
              "        var display = window.getComputedStyle(gd).display;\n",
              "        if (!display || display === 'none') {{\n",
              "            console.log([gd, 'removed!']);\n",
              "            Plotly.purge(gd);\n",
              "            observer.disconnect();\n",
              "        }}\n",
              "}});\n",
              "\n",
              "// Listen for the removal of the full notebook cells\n",
              "var notebookContainer = gd.closest('#notebook-container');\n",
              "if (notebookContainer) {{\n",
              "    x.observe(notebookContainer, {childList: true});\n",
              "}}\n",
              "\n",
              "// Listen for the clearing of the current output cell\n",
              "var outputEl = gd.closest('.output');\n",
              "if (outputEl) {{\n",
              "    x.observe(outputEl, {childList: true});\n",
              "}}\n",
              "\n",
              "                        })                };                            </script>        </div>\n",
              "</body>\n",
              "</html>"
            ]
          },
          "metadata": {}
        }
      ]
    },
    {
      "cell_type": "code",
      "source": [
        "fig = go.Figure(data=go.Scatter(x=[i for i in range(200)], y=test_accuracy_history[4], mode =\"lines+markers\"))\n",
        "fig.update_layout(title=\"DROPOUT_RATE = 0.005\", xaxis_title = \"EPOCH\", yaxis_title = \"ACCURACY\")\n",
        "fig.show()"
      ],
      "metadata": {
        "colab": {
          "base_uri": "https://localhost:8080/",
          "height": 542
        },
        "id": "JaBw_OQpG5KZ",
        "outputId": "84f602a4-c25f-4223-83d5-6b8669c6128d"
      },
      "execution_count": null,
      "outputs": [
        {
          "output_type": "display_data",
          "data": {
            "text/html": [
              "<html>\n",
              "<head><meta charset=\"utf-8\" /></head>\n",
              "<body>\n",
              "    <div>            <script src=\"https://cdnjs.cloudflare.com/ajax/libs/mathjax/2.7.5/MathJax.js?config=TeX-AMS-MML_SVG\"></script><script type=\"text/javascript\">if (window.MathJax && window.MathJax.Hub && window.MathJax.Hub.Config) {window.MathJax.Hub.Config({SVG: {font: \"STIX-Web\"}});}</script>                <script type=\"text/javascript\">window.PlotlyConfig = {MathJaxConfig: 'local'};</script>\n",
              "        <script charset=\"utf-8\" src=\"https://cdn.plot.ly/plotly-2.24.1.min.js\"></script>                <div id=\"fcef2bf2-707e-4496-83bb-4e0cf21e9148\" class=\"plotly-graph-div\" style=\"height:525px; width:100%;\"></div>            <script type=\"text/javascript\">                                    window.PLOTLYENV=window.PLOTLYENV || {};                                    if (document.getElementById(\"fcef2bf2-707e-4496-83bb-4e0cf21e9148\")) {                    Plotly.newPlot(                        \"fcef2bf2-707e-4496-83bb-4e0cf21e9148\",                        [{\"mode\":\"lines+markers\",\"x\":[0,1,2,3,4,5,6,7,8,9,10,11,12,13,14,15,16,17,18,19,20,21,22,23,24,25,26,27,28,29,30,31,32,33,34,35,36,37,38,39,40,41,42,43,44,45,46,47,48,49,50,51,52,53,54,55,56,57,58,59,60,61,62,63,64,65,66,67,68,69,70,71,72,73,74,75,76,77,78,79,80,81,82,83,84,85,86,87,88,89,90,91,92,93,94,95,96,97,98,99,100,101,102,103,104,105,106,107,108,109,110,111,112,113,114,115,116,117,118,119,120,121,122,123,124,125,126,127,128,129,130,131,132,133,134,135,136,137,138,139,140,141,142,143,144,145,146,147,148,149,150,151,152,153,154,155,156,157,158,159,160,161,162,163,164,165,166,167,168,169,170,171,172,173,174,175,176,177,178,179,180,181,182,183,184,185,186,187,188,189,190,191,192,193,194,195,196,197,198,199],\"y\":[0.053359322249889374,0.2976183295249939,0.3808247447013855,0.43418407440185547,0.49479198455810547,0.510141909122467,0.5342023372650146,0.5502223372459412,0.5935919880867004,0.59353107213974,0.6001705527305603,0.6082718968391418,0.6122312545776367,0.6260583400726318,0.6275811791419983,0.6468294858932495,0.6576110124588013,0.6658951044082642,0.6434793472290039,0.6504842638969421,0.653895378112793,0.6673570275306702,0.6712554097175598,0.6685752868652344,0.6802095174789429,0.6779558062553406,0.6895291209220886,0.6776512265205383,0.6785039901733398,0.694341242313385,0.6874580979347229,0.6941584944725037,0.6873363256454468,0.6916001439094543,0.6923311352729797,0.6758847832679749,0.6907473802566528,0.7037826776504517,0.6635804176330566,0.7047572731971741,0.7037217617034912,0.6956813335418701,0.7008588910102844,0.694341242313385,0.6888591051101685,0.7053663730621338,0.7015289068222046,0.6912956237792969,0.6951940059661865,0.6983614563941956,0.6921483874320984,0.6977523565292358,0.7075592279434204,0.711214005947113,0.6989096403121948,0.7013461589813232,0.7103003263473511,0.703051745891571,0.7076201438903809,0.7139550447463989,0.702503502368927,0.6922702193260193,0.6992751359939575,0.7058537006378174,0.7070719599723816,0.7055491209030151,0.7101175785064697,0.7124322652816772,0.7094475030899048,0.7072547078132629,0.7187671065330505,0.703417181968689,0.6948285102844238,0.7233964800834656,0.7087165713310242,0.7173661589622498,0.7127367854118347,0.7086556553840637,0.7124931216239929,0.7142596244812012,0.7107875943183899,0.6981177926063538,0.7096911668777466,0.7163306474685669,0.7022598385810852,0.7134068608283997,0.7070719599723816,0.7099348306655884,0.7142596244812012,0.7107266783714294,0.7092648148536682,0.7172443270683289,0.6978132724761963,0.7051836252212524,0.7076201438903809,0.7148687243461609,0.7198026180267334,0.7037217617034912,0.7088993191719055,0.7058537006378174,0.7246756553649902,0.701589822769165,0.7074373960494995,0.69696044921875,0.6992751359939575,0.7057927846908569,0.7048181891441345,0.6988487839698792,0.7199853658676147,0.7095084190368652,0.7059755325317383,0.7088384032249451,0.7103003263473511,0.7149296402931213,0.7016507387161255,0.7124931216239929,0.708046555519104,0.7028080821037292,0.7165133953094482,0.7085338234901428,0.7064018845558167,0.7116403579711914,0.7141987085342407,0.7018334865570068,0.70749831199646,0.7092038989067078,0.7040872573852539,0.7113967537879944,0.6989096403121948,0.7045136094093323,0.7070110440254211,0.7055491209030151,0.7021989226341248,0.7069501280784607,0.7154778838157654,0.7135286331176758,0.7110921740531921,0.6949503421783447,0.7104830145835876,0.6989705562591553,0.7112749218940735,0.696046769618988,0.7035999298095703,0.694341242313385,0.7018944025039673,0.7011024951934814,0.7096911668777466,0.7081074714660645,0.7037826776504517,0.6949503421783447,0.7056100368499756,0.7000060677528381,0.6992142200469971,0.6914783716201782,0.6982396245002747,0.7070719599723816,0.6901991963386536,0.6868489980697632,0.7018944025039673,0.7058537006378174,0.7048181891441345,0.6962904334068298,0.6946458220481873,0.7012852430343628,0.6981787085533142,0.69696044921875,0.7106048464775085,0.6917828917503357,0.7046963572502136,0.6977523565292358,0.696716845035553,0.7004933953285217,0.6923920512199402,0.7009807229042053,0.6900773644447327,0.7054882049560547,0.690260112285614,0.6947675943374634,0.6959858536720276,0.6864835023880005,0.7017116546630859,0.7021989226341248,0.6953158378601074,0.6940975785255432,0.702503502368927,0.7109094262123108,0.6958640217781067,0.7011634111404419,0.7037217617034912,0.6968995332717896,0.6976305246353149,0.6871535778045654,0.6961076855659485,0.6967777609825134,0.700797975063324,0.6916001439094543,0.6915392875671387,0.6991533041000366,0.7006152272224426,0.7093257308006287],\"type\":\"scatter\"}],                        {\"template\":{\"data\":{\"histogram2dcontour\":[{\"type\":\"histogram2dcontour\",\"colorbar\":{\"outlinewidth\":0,\"ticks\":\"\"},\"colorscale\":[[0.0,\"#0d0887\"],[0.1111111111111111,\"#46039f\"],[0.2222222222222222,\"#7201a8\"],[0.3333333333333333,\"#9c179e\"],[0.4444444444444444,\"#bd3786\"],[0.5555555555555556,\"#d8576b\"],[0.6666666666666666,\"#ed7953\"],[0.7777777777777778,\"#fb9f3a\"],[0.8888888888888888,\"#fdca26\"],[1.0,\"#f0f921\"]]}],\"choropleth\":[{\"type\":\"choropleth\",\"colorbar\":{\"outlinewidth\":0,\"ticks\":\"\"}}],\"histogram2d\":[{\"type\":\"histogram2d\",\"colorbar\":{\"outlinewidth\":0,\"ticks\":\"\"},\"colorscale\":[[0.0,\"#0d0887\"],[0.1111111111111111,\"#46039f\"],[0.2222222222222222,\"#7201a8\"],[0.3333333333333333,\"#9c179e\"],[0.4444444444444444,\"#bd3786\"],[0.5555555555555556,\"#d8576b\"],[0.6666666666666666,\"#ed7953\"],[0.7777777777777778,\"#fb9f3a\"],[0.8888888888888888,\"#fdca26\"],[1.0,\"#f0f921\"]]}],\"heatmap\":[{\"type\":\"heatmap\",\"colorbar\":{\"outlinewidth\":0,\"ticks\":\"\"},\"colorscale\":[[0.0,\"#0d0887\"],[0.1111111111111111,\"#46039f\"],[0.2222222222222222,\"#7201a8\"],[0.3333333333333333,\"#9c179e\"],[0.4444444444444444,\"#bd3786\"],[0.5555555555555556,\"#d8576b\"],[0.6666666666666666,\"#ed7953\"],[0.7777777777777778,\"#fb9f3a\"],[0.8888888888888888,\"#fdca26\"],[1.0,\"#f0f921\"]]}],\"heatmapgl\":[{\"type\":\"heatmapgl\",\"colorbar\":{\"outlinewidth\":0,\"ticks\":\"\"},\"colorscale\":[[0.0,\"#0d0887\"],[0.1111111111111111,\"#46039f\"],[0.2222222222222222,\"#7201a8\"],[0.3333333333333333,\"#9c179e\"],[0.4444444444444444,\"#bd3786\"],[0.5555555555555556,\"#d8576b\"],[0.6666666666666666,\"#ed7953\"],[0.7777777777777778,\"#fb9f3a\"],[0.8888888888888888,\"#fdca26\"],[1.0,\"#f0f921\"]]}],\"contourcarpet\":[{\"type\":\"contourcarpet\",\"colorbar\":{\"outlinewidth\":0,\"ticks\":\"\"}}],\"contour\":[{\"type\":\"contour\",\"colorbar\":{\"outlinewidth\":0,\"ticks\":\"\"},\"colorscale\":[[0.0,\"#0d0887\"],[0.1111111111111111,\"#46039f\"],[0.2222222222222222,\"#7201a8\"],[0.3333333333333333,\"#9c179e\"],[0.4444444444444444,\"#bd3786\"],[0.5555555555555556,\"#d8576b\"],[0.6666666666666666,\"#ed7953\"],[0.7777777777777778,\"#fb9f3a\"],[0.8888888888888888,\"#fdca26\"],[1.0,\"#f0f921\"]]}],\"surface\":[{\"type\":\"surface\",\"colorbar\":{\"outlinewidth\":0,\"ticks\":\"\"},\"colorscale\":[[0.0,\"#0d0887\"],[0.1111111111111111,\"#46039f\"],[0.2222222222222222,\"#7201a8\"],[0.3333333333333333,\"#9c179e\"],[0.4444444444444444,\"#bd3786\"],[0.5555555555555556,\"#d8576b\"],[0.6666666666666666,\"#ed7953\"],[0.7777777777777778,\"#fb9f3a\"],[0.8888888888888888,\"#fdca26\"],[1.0,\"#f0f921\"]]}],\"mesh3d\":[{\"type\":\"mesh3d\",\"colorbar\":{\"outlinewidth\":0,\"ticks\":\"\"}}],\"scatter\":[{\"fillpattern\":{\"fillmode\":\"overlay\",\"size\":10,\"solidity\":0.2},\"type\":\"scatter\"}],\"parcoords\":[{\"type\":\"parcoords\",\"line\":{\"colorbar\":{\"outlinewidth\":0,\"ticks\":\"\"}}}],\"scatterpolargl\":[{\"type\":\"scatterpolargl\",\"marker\":{\"colorbar\":{\"outlinewidth\":0,\"ticks\":\"\"}}}],\"bar\":[{\"error_x\":{\"color\":\"#2a3f5f\"},\"error_y\":{\"color\":\"#2a3f5f\"},\"marker\":{\"line\":{\"color\":\"#E5ECF6\",\"width\":0.5},\"pattern\":{\"fillmode\":\"overlay\",\"size\":10,\"solidity\":0.2}},\"type\":\"bar\"}],\"scattergeo\":[{\"type\":\"scattergeo\",\"marker\":{\"colorbar\":{\"outlinewidth\":0,\"ticks\":\"\"}}}],\"scatterpolar\":[{\"type\":\"scatterpolar\",\"marker\":{\"colorbar\":{\"outlinewidth\":0,\"ticks\":\"\"}}}],\"histogram\":[{\"marker\":{\"pattern\":{\"fillmode\":\"overlay\",\"size\":10,\"solidity\":0.2}},\"type\":\"histogram\"}],\"scattergl\":[{\"type\":\"scattergl\",\"marker\":{\"colorbar\":{\"outlinewidth\":0,\"ticks\":\"\"}}}],\"scatter3d\":[{\"type\":\"scatter3d\",\"line\":{\"colorbar\":{\"outlinewidth\":0,\"ticks\":\"\"}},\"marker\":{\"colorbar\":{\"outlinewidth\":0,\"ticks\":\"\"}}}],\"scattermapbox\":[{\"type\":\"scattermapbox\",\"marker\":{\"colorbar\":{\"outlinewidth\":0,\"ticks\":\"\"}}}],\"scatterternary\":[{\"type\":\"scatterternary\",\"marker\":{\"colorbar\":{\"outlinewidth\":0,\"ticks\":\"\"}}}],\"scattercarpet\":[{\"type\":\"scattercarpet\",\"marker\":{\"colorbar\":{\"outlinewidth\":0,\"ticks\":\"\"}}}],\"carpet\":[{\"aaxis\":{\"endlinecolor\":\"#2a3f5f\",\"gridcolor\":\"white\",\"linecolor\":\"white\",\"minorgridcolor\":\"white\",\"startlinecolor\":\"#2a3f5f\"},\"baxis\":{\"endlinecolor\":\"#2a3f5f\",\"gridcolor\":\"white\",\"linecolor\":\"white\",\"minorgridcolor\":\"white\",\"startlinecolor\":\"#2a3f5f\"},\"type\":\"carpet\"}],\"table\":[{\"cells\":{\"fill\":{\"color\":\"#EBF0F8\"},\"line\":{\"color\":\"white\"}},\"header\":{\"fill\":{\"color\":\"#C8D4E3\"},\"line\":{\"color\":\"white\"}},\"type\":\"table\"}],\"barpolar\":[{\"marker\":{\"line\":{\"color\":\"#E5ECF6\",\"width\":0.5},\"pattern\":{\"fillmode\":\"overlay\",\"size\":10,\"solidity\":0.2}},\"type\":\"barpolar\"}],\"pie\":[{\"automargin\":true,\"type\":\"pie\"}]},\"layout\":{\"autotypenumbers\":\"strict\",\"colorway\":[\"#636efa\",\"#EF553B\",\"#00cc96\",\"#ab63fa\",\"#FFA15A\",\"#19d3f3\",\"#FF6692\",\"#B6E880\",\"#FF97FF\",\"#FECB52\"],\"font\":{\"color\":\"#2a3f5f\"},\"hovermode\":\"closest\",\"hoverlabel\":{\"align\":\"left\"},\"paper_bgcolor\":\"white\",\"plot_bgcolor\":\"#E5ECF6\",\"polar\":{\"bgcolor\":\"#E5ECF6\",\"angularaxis\":{\"gridcolor\":\"white\",\"linecolor\":\"white\",\"ticks\":\"\"},\"radialaxis\":{\"gridcolor\":\"white\",\"linecolor\":\"white\",\"ticks\":\"\"}},\"ternary\":{\"bgcolor\":\"#E5ECF6\",\"aaxis\":{\"gridcolor\":\"white\",\"linecolor\":\"white\",\"ticks\":\"\"},\"baxis\":{\"gridcolor\":\"white\",\"linecolor\":\"white\",\"ticks\":\"\"},\"caxis\":{\"gridcolor\":\"white\",\"linecolor\":\"white\",\"ticks\":\"\"}},\"coloraxis\":{\"colorbar\":{\"outlinewidth\":0,\"ticks\":\"\"}},\"colorscale\":{\"sequential\":[[0.0,\"#0d0887\"],[0.1111111111111111,\"#46039f\"],[0.2222222222222222,\"#7201a8\"],[0.3333333333333333,\"#9c179e\"],[0.4444444444444444,\"#bd3786\"],[0.5555555555555556,\"#d8576b\"],[0.6666666666666666,\"#ed7953\"],[0.7777777777777778,\"#fb9f3a\"],[0.8888888888888888,\"#fdca26\"],[1.0,\"#f0f921\"]],\"sequentialminus\":[[0.0,\"#0d0887\"],[0.1111111111111111,\"#46039f\"],[0.2222222222222222,\"#7201a8\"],[0.3333333333333333,\"#9c179e\"],[0.4444444444444444,\"#bd3786\"],[0.5555555555555556,\"#d8576b\"],[0.6666666666666666,\"#ed7953\"],[0.7777777777777778,\"#fb9f3a\"],[0.8888888888888888,\"#fdca26\"],[1.0,\"#f0f921\"]],\"diverging\":[[0,\"#8e0152\"],[0.1,\"#c51b7d\"],[0.2,\"#de77ae\"],[0.3,\"#f1b6da\"],[0.4,\"#fde0ef\"],[0.5,\"#f7f7f7\"],[0.6,\"#e6f5d0\"],[0.7,\"#b8e186\"],[0.8,\"#7fbc41\"],[0.9,\"#4d9221\"],[1,\"#276419\"]]},\"xaxis\":{\"gridcolor\":\"white\",\"linecolor\":\"white\",\"ticks\":\"\",\"title\":{\"standoff\":15},\"zerolinecolor\":\"white\",\"automargin\":true,\"zerolinewidth\":2},\"yaxis\":{\"gridcolor\":\"white\",\"linecolor\":\"white\",\"ticks\":\"\",\"title\":{\"standoff\":15},\"zerolinecolor\":\"white\",\"automargin\":true,\"zerolinewidth\":2},\"scene\":{\"xaxis\":{\"backgroundcolor\":\"#E5ECF6\",\"gridcolor\":\"white\",\"linecolor\":\"white\",\"showbackground\":true,\"ticks\":\"\",\"zerolinecolor\":\"white\",\"gridwidth\":2},\"yaxis\":{\"backgroundcolor\":\"#E5ECF6\",\"gridcolor\":\"white\",\"linecolor\":\"white\",\"showbackground\":true,\"ticks\":\"\",\"zerolinecolor\":\"white\",\"gridwidth\":2},\"zaxis\":{\"backgroundcolor\":\"#E5ECF6\",\"gridcolor\":\"white\",\"linecolor\":\"white\",\"showbackground\":true,\"ticks\":\"\",\"zerolinecolor\":\"white\",\"gridwidth\":2}},\"shapedefaults\":{\"line\":{\"color\":\"#2a3f5f\"}},\"annotationdefaults\":{\"arrowcolor\":\"#2a3f5f\",\"arrowhead\":0,\"arrowwidth\":1},\"geo\":{\"bgcolor\":\"white\",\"landcolor\":\"#E5ECF6\",\"subunitcolor\":\"white\",\"showland\":true,\"showlakes\":true,\"lakecolor\":\"white\"},\"title\":{\"x\":0.05},\"mapbox\":{\"style\":\"light\"}}},\"title\":{\"text\":\"DROPOUT_RATE = 0.005\"},\"xaxis\":{\"title\":{\"text\":\"EPOCH\"}},\"yaxis\":{\"title\":{\"text\":\"ACCURACY\"}}},                        {\"responsive\": true}                    ).then(function(){\n",
              "                            \n",
              "var gd = document.getElementById('fcef2bf2-707e-4496-83bb-4e0cf21e9148');\n",
              "var x = new MutationObserver(function (mutations, observer) {{\n",
              "        var display = window.getComputedStyle(gd).display;\n",
              "        if (!display || display === 'none') {{\n",
              "            console.log([gd, 'removed!']);\n",
              "            Plotly.purge(gd);\n",
              "            observer.disconnect();\n",
              "        }}\n",
              "}});\n",
              "\n",
              "// Listen for the removal of the full notebook cells\n",
              "var notebookContainer = gd.closest('#notebook-container');\n",
              "if (notebookContainer) {{\n",
              "    x.observe(notebookContainer, {childList: true});\n",
              "}}\n",
              "\n",
              "// Listen for the clearing of the current output cell\n",
              "var outputEl = gd.closest('.output');\n",
              "if (outputEl) {{\n",
              "    x.observe(outputEl, {childList: true});\n",
              "}}\n",
              "\n",
              "                        })                };                            </script>        </div>\n",
              "</body>\n",
              "</html>"
            ]
          },
          "metadata": {}
        }
      ]
    },
    {
      "cell_type": "code",
      "source": [
        "fig = go.Figure(data=go.Scatter(x=[i for i in range(200)], y=test_accuracy_history[5], mode =\"lines+markers\"))\n",
        "fig.update_layout(title=\"DROPOUT_RATE = 0.001\", xaxis_title = \"EPOCH\", yaxis_title = \"ACCURACY\")\n",
        "fig.show()"
      ],
      "metadata": {
        "colab": {
          "base_uri": "https://localhost:8080/",
          "height": 542
        },
        "id": "5anpoSIvG6Xo",
        "outputId": "42dbabe1-c0b0-4fb9-a21e-34a72a86acf6"
      },
      "execution_count": null,
      "outputs": [
        {
          "output_type": "display_data",
          "data": {
            "text/html": [
              "<html>\n",
              "<head><meta charset=\"utf-8\" /></head>\n",
              "<body>\n",
              "    <div>            <script src=\"https://cdnjs.cloudflare.com/ajax/libs/mathjax/2.7.5/MathJax.js?config=TeX-AMS-MML_SVG\"></script><script type=\"text/javascript\">if (window.MathJax && window.MathJax.Hub && window.MathJax.Hub.Config) {window.MathJax.Hub.Config({SVG: {font: \"STIX-Web\"}});}</script>                <script type=\"text/javascript\">window.PlotlyConfig = {MathJaxConfig: 'local'};</script>\n",
              "        <script charset=\"utf-8\" src=\"https://cdn.plot.ly/plotly-2.24.1.min.js\"></script>                <div id=\"f781a038-976d-4195-b714-2f19f08d19fa\" class=\"plotly-graph-div\" style=\"height:525px; width:100%;\"></div>            <script type=\"text/javascript\">                                    window.PLOTLYENV=window.PLOTLYENV || {};                                    if (document.getElementById(\"f781a038-976d-4195-b714-2f19f08d19fa\")) {                    Plotly.newPlot(                        \"f781a038-976d-4195-b714-2f19f08d19fa\",                        [{\"mode\":\"lines+markers\",\"x\":[0,1,2,3,4,5,6,7,8,9,10,11,12,13,14,15,16,17,18,19,20,21,22,23,24,25,26,27,28,29,30,31,32,33,34,35,36,37,38,39,40,41,42,43,44,45,46,47,48,49,50,51,52,53,54,55,56,57,58,59,60,61,62,63,64,65,66,67,68,69,70,71,72,73,74,75,76,77,78,79,80,81,82,83,84,85,86,87,88,89,90,91,92,93,94,95,96,97,98,99,100,101,102,103,104,105,106,107,108,109,110,111,112,113,114,115,116,117,118,119,120,121,122,123,124,125,126,127,128,129,130,131,132,133,134,135,136,137,138,139,140,141,142,143,144,145,146,147,148,149,150,151,152,153,154,155,156,157,158,159,160,161,162,163,164,165,166,167,168,169,170,171,172,173,174,175,176,177,178,179,180,181,182,183,184,185,186,187,188,189,190,191,192,193,194,195,196,197,198,199],\"y\":[0.04988731071352959,0.16568191349506378,0.3211914598941803,0.4181031882762909,0.4763964116573334,0.5131266117095947,0.555338978767395,0.571419894695282,0.6026679873466492,0.6149722933769226,0.6224645376205444,0.6399464011192322,0.6531643867492676,0.6506670117378235,0.6651032567024231,0.6615703105926514,0.6632149815559387,0.657306432723999,0.6745446920394897,0.6669915318489075,0.6857525706291199,0.695254921913147,0.6907473802566528,0.681549608707428,0.69696044921875,0.6882500052452087,0.7117012739181519,0.6957422494888306,0.7045136094093323,0.6980568766593933,0.6963513493537903,0.7176098227500916,0.7051836252212524,0.6936103105545044,0.7185235023498535,0.7124931216239929,0.7190716862678528,0.7240664958953857,0.713041365146637,0.7240055799484253,0.7098129987716675,0.719376266002655,0.7230919003486633,0.7131631970405579,0.7212645411491394,0.728452205657959,0.7214472889900208,0.7160869836807251,0.7115185260772705,0.7294877171516418,0.7152342200279236,0.7191326022148132,0.7272339463233948,0.7132850289344788,0.7172443270683289,0.7093257308006287,0.7279649376869202,0.7207163572311401,0.720289945602417,0.7200462818145752,0.7247365713119507,0.7197417616844177,0.7165133953094482,0.7238838076591492,0.7305841445922852,0.7216300368309021,0.7146250605583191,0.7233355641365051,0.7279040217399597,0.7270512580871582,0.7052445411682129,0.7189498543739319,0.7181580066680908,0.7268075942993164,0.7141987085342407,0.7184625864028931,0.7265030145645142,0.7220563888549805,0.7255284190177917,0.7286958694458008,0.7168788313865662,0.7255893349647522,0.7288177013397217,0.717670738697052,0.7159651517868042,0.730827808380127,0.7248584032058716,0.7219345569610596,0.7230309844017029,0.7247365713119507,0.7212645411491394,0.7137722969055176,0.7149296402931213,0.7247974872589111,0.7314978241920471,0.7230309844017029,0.7238838076591492,0.7232137322425842,0.7104830145835876,0.7245538234710693,0.7218736410140991,0.7184016704559326,0.7288786172866821,0.721751868724823,0.7126149535179138,0.715660572052002,0.7232137322425842,0.724919319152832,0.7029908299446106,0.7227873802185059,0.725162923336029,0.7122495174407959,0.7166960835456848,0.7244319915771484,0.7118840217590332,0.7208381295204163,0.7153560519218445,0.7125540375709534,0.723457396030426,0.7190107703208923,0.7191935181617737,0.7118231058120728,0.7141377925872803,0.7194980978965759,0.716208815574646,0.7151123881340027,0.7182189226150513,0.7172443270683289,0.7221782207489014,0.7054882049560547,0.7094475030899048,0.7191935181617737,0.7134677767753601,0.7224218845367432,0.7215082049369812,0.7159042358398438,0.7085947394371033,0.7139550447463989,0.7165133953094482,0.7084119915962219,0.7159651517868042,0.7214472889900208,0.7143205404281616,0.7126758694648743,0.7173052430152893,0.7126758694648743,0.7143814563751221,0.7225437164306641,0.703417181968689,0.7122495174407959,0.7090820670127869,0.7061582803726196,0.7140768766403198,0.7157214879989624,0.7099348306655884,0.7096302509307861,0.7135895490646362,0.7118231058120728,0.7098739147186279,0.7108485102653503,0.717670738697052,0.70420902967453,0.7112749218940735,0.7075592279434204,0.7111530900001526,0.7125540375709534,0.7134068608283997,0.7102394104003906,0.7120667695999146,0.7023207545280457,0.7201681137084961,0.7154169678688049,0.7017725706100464,0.7099957466125488,0.6958640217781067,0.7076201438903809,0.7110312581062317,0.7046963572502136,0.7082902193069458,0.7033562660217285,0.7014070749282837,0.7055491209030151,0.7077419757843018,0.708046555519104,0.7102394104003906,0.7152342200279236,0.7163306474685669,0.7116403579711914,0.7032344341278076,0.7020770907402039,0.7143814563751221,0.6948894262313843,0.7173052430152893,0.7099348306655884,0.7114576101303101,0.6986660361289978,0.7087165713310242,0.7118231058120728,0.7131022810935974,0.70749831199646],\"type\":\"scatter\"}],                        {\"template\":{\"data\":{\"histogram2dcontour\":[{\"type\":\"histogram2dcontour\",\"colorbar\":{\"outlinewidth\":0,\"ticks\":\"\"},\"colorscale\":[[0.0,\"#0d0887\"],[0.1111111111111111,\"#46039f\"],[0.2222222222222222,\"#7201a8\"],[0.3333333333333333,\"#9c179e\"],[0.4444444444444444,\"#bd3786\"],[0.5555555555555556,\"#d8576b\"],[0.6666666666666666,\"#ed7953\"],[0.7777777777777778,\"#fb9f3a\"],[0.8888888888888888,\"#fdca26\"],[1.0,\"#f0f921\"]]}],\"choropleth\":[{\"type\":\"choropleth\",\"colorbar\":{\"outlinewidth\":0,\"ticks\":\"\"}}],\"histogram2d\":[{\"type\":\"histogram2d\",\"colorbar\":{\"outlinewidth\":0,\"ticks\":\"\"},\"colorscale\":[[0.0,\"#0d0887\"],[0.1111111111111111,\"#46039f\"],[0.2222222222222222,\"#7201a8\"],[0.3333333333333333,\"#9c179e\"],[0.4444444444444444,\"#bd3786\"],[0.5555555555555556,\"#d8576b\"],[0.6666666666666666,\"#ed7953\"],[0.7777777777777778,\"#fb9f3a\"],[0.8888888888888888,\"#fdca26\"],[1.0,\"#f0f921\"]]}],\"heatmap\":[{\"type\":\"heatmap\",\"colorbar\":{\"outlinewidth\":0,\"ticks\":\"\"},\"colorscale\":[[0.0,\"#0d0887\"],[0.1111111111111111,\"#46039f\"],[0.2222222222222222,\"#7201a8\"],[0.3333333333333333,\"#9c179e\"],[0.4444444444444444,\"#bd3786\"],[0.5555555555555556,\"#d8576b\"],[0.6666666666666666,\"#ed7953\"],[0.7777777777777778,\"#fb9f3a\"],[0.8888888888888888,\"#fdca26\"],[1.0,\"#f0f921\"]]}],\"heatmapgl\":[{\"type\":\"heatmapgl\",\"colorbar\":{\"outlinewidth\":0,\"ticks\":\"\"},\"colorscale\":[[0.0,\"#0d0887\"],[0.1111111111111111,\"#46039f\"],[0.2222222222222222,\"#7201a8\"],[0.3333333333333333,\"#9c179e\"],[0.4444444444444444,\"#bd3786\"],[0.5555555555555556,\"#d8576b\"],[0.6666666666666666,\"#ed7953\"],[0.7777777777777778,\"#fb9f3a\"],[0.8888888888888888,\"#fdca26\"],[1.0,\"#f0f921\"]]}],\"contourcarpet\":[{\"type\":\"contourcarpet\",\"colorbar\":{\"outlinewidth\":0,\"ticks\":\"\"}}],\"contour\":[{\"type\":\"contour\",\"colorbar\":{\"outlinewidth\":0,\"ticks\":\"\"},\"colorscale\":[[0.0,\"#0d0887\"],[0.1111111111111111,\"#46039f\"],[0.2222222222222222,\"#7201a8\"],[0.3333333333333333,\"#9c179e\"],[0.4444444444444444,\"#bd3786\"],[0.5555555555555556,\"#d8576b\"],[0.6666666666666666,\"#ed7953\"],[0.7777777777777778,\"#fb9f3a\"],[0.8888888888888888,\"#fdca26\"],[1.0,\"#f0f921\"]]}],\"surface\":[{\"type\":\"surface\",\"colorbar\":{\"outlinewidth\":0,\"ticks\":\"\"},\"colorscale\":[[0.0,\"#0d0887\"],[0.1111111111111111,\"#46039f\"],[0.2222222222222222,\"#7201a8\"],[0.3333333333333333,\"#9c179e\"],[0.4444444444444444,\"#bd3786\"],[0.5555555555555556,\"#d8576b\"],[0.6666666666666666,\"#ed7953\"],[0.7777777777777778,\"#fb9f3a\"],[0.8888888888888888,\"#fdca26\"],[1.0,\"#f0f921\"]]}],\"mesh3d\":[{\"type\":\"mesh3d\",\"colorbar\":{\"outlinewidth\":0,\"ticks\":\"\"}}],\"scatter\":[{\"fillpattern\":{\"fillmode\":\"overlay\",\"size\":10,\"solidity\":0.2},\"type\":\"scatter\"}],\"parcoords\":[{\"type\":\"parcoords\",\"line\":{\"colorbar\":{\"outlinewidth\":0,\"ticks\":\"\"}}}],\"scatterpolargl\":[{\"type\":\"scatterpolargl\",\"marker\":{\"colorbar\":{\"outlinewidth\":0,\"ticks\":\"\"}}}],\"bar\":[{\"error_x\":{\"color\":\"#2a3f5f\"},\"error_y\":{\"color\":\"#2a3f5f\"},\"marker\":{\"line\":{\"color\":\"#E5ECF6\",\"width\":0.5},\"pattern\":{\"fillmode\":\"overlay\",\"size\":10,\"solidity\":0.2}},\"type\":\"bar\"}],\"scattergeo\":[{\"type\":\"scattergeo\",\"marker\":{\"colorbar\":{\"outlinewidth\":0,\"ticks\":\"\"}}}],\"scatterpolar\":[{\"type\":\"scatterpolar\",\"marker\":{\"colorbar\":{\"outlinewidth\":0,\"ticks\":\"\"}}}],\"histogram\":[{\"marker\":{\"pattern\":{\"fillmode\":\"overlay\",\"size\":10,\"solidity\":0.2}},\"type\":\"histogram\"}],\"scattergl\":[{\"type\":\"scattergl\",\"marker\":{\"colorbar\":{\"outlinewidth\":0,\"ticks\":\"\"}}}],\"scatter3d\":[{\"type\":\"scatter3d\",\"line\":{\"colorbar\":{\"outlinewidth\":0,\"ticks\":\"\"}},\"marker\":{\"colorbar\":{\"outlinewidth\":0,\"ticks\":\"\"}}}],\"scattermapbox\":[{\"type\":\"scattermapbox\",\"marker\":{\"colorbar\":{\"outlinewidth\":0,\"ticks\":\"\"}}}],\"scatterternary\":[{\"type\":\"scatterternary\",\"marker\":{\"colorbar\":{\"outlinewidth\":0,\"ticks\":\"\"}}}],\"scattercarpet\":[{\"type\":\"scattercarpet\",\"marker\":{\"colorbar\":{\"outlinewidth\":0,\"ticks\":\"\"}}}],\"carpet\":[{\"aaxis\":{\"endlinecolor\":\"#2a3f5f\",\"gridcolor\":\"white\",\"linecolor\":\"white\",\"minorgridcolor\":\"white\",\"startlinecolor\":\"#2a3f5f\"},\"baxis\":{\"endlinecolor\":\"#2a3f5f\",\"gridcolor\":\"white\",\"linecolor\":\"white\",\"minorgridcolor\":\"white\",\"startlinecolor\":\"#2a3f5f\"},\"type\":\"carpet\"}],\"table\":[{\"cells\":{\"fill\":{\"color\":\"#EBF0F8\"},\"line\":{\"color\":\"white\"}},\"header\":{\"fill\":{\"color\":\"#C8D4E3\"},\"line\":{\"color\":\"white\"}},\"type\":\"table\"}],\"barpolar\":[{\"marker\":{\"line\":{\"color\":\"#E5ECF6\",\"width\":0.5},\"pattern\":{\"fillmode\":\"overlay\",\"size\":10,\"solidity\":0.2}},\"type\":\"barpolar\"}],\"pie\":[{\"automargin\":true,\"type\":\"pie\"}]},\"layout\":{\"autotypenumbers\":\"strict\",\"colorway\":[\"#636efa\",\"#EF553B\",\"#00cc96\",\"#ab63fa\",\"#FFA15A\",\"#19d3f3\",\"#FF6692\",\"#B6E880\",\"#FF97FF\",\"#FECB52\"],\"font\":{\"color\":\"#2a3f5f\"},\"hovermode\":\"closest\",\"hoverlabel\":{\"align\":\"left\"},\"paper_bgcolor\":\"white\",\"plot_bgcolor\":\"#E5ECF6\",\"polar\":{\"bgcolor\":\"#E5ECF6\",\"angularaxis\":{\"gridcolor\":\"white\",\"linecolor\":\"white\",\"ticks\":\"\"},\"radialaxis\":{\"gridcolor\":\"white\",\"linecolor\":\"white\",\"ticks\":\"\"}},\"ternary\":{\"bgcolor\":\"#E5ECF6\",\"aaxis\":{\"gridcolor\":\"white\",\"linecolor\":\"white\",\"ticks\":\"\"},\"baxis\":{\"gridcolor\":\"white\",\"linecolor\":\"white\",\"ticks\":\"\"},\"caxis\":{\"gridcolor\":\"white\",\"linecolor\":\"white\",\"ticks\":\"\"}},\"coloraxis\":{\"colorbar\":{\"outlinewidth\":0,\"ticks\":\"\"}},\"colorscale\":{\"sequential\":[[0.0,\"#0d0887\"],[0.1111111111111111,\"#46039f\"],[0.2222222222222222,\"#7201a8\"],[0.3333333333333333,\"#9c179e\"],[0.4444444444444444,\"#bd3786\"],[0.5555555555555556,\"#d8576b\"],[0.6666666666666666,\"#ed7953\"],[0.7777777777777778,\"#fb9f3a\"],[0.8888888888888888,\"#fdca26\"],[1.0,\"#f0f921\"]],\"sequentialminus\":[[0.0,\"#0d0887\"],[0.1111111111111111,\"#46039f\"],[0.2222222222222222,\"#7201a8\"],[0.3333333333333333,\"#9c179e\"],[0.4444444444444444,\"#bd3786\"],[0.5555555555555556,\"#d8576b\"],[0.6666666666666666,\"#ed7953\"],[0.7777777777777778,\"#fb9f3a\"],[0.8888888888888888,\"#fdca26\"],[1.0,\"#f0f921\"]],\"diverging\":[[0,\"#8e0152\"],[0.1,\"#c51b7d\"],[0.2,\"#de77ae\"],[0.3,\"#f1b6da\"],[0.4,\"#fde0ef\"],[0.5,\"#f7f7f7\"],[0.6,\"#e6f5d0\"],[0.7,\"#b8e186\"],[0.8,\"#7fbc41\"],[0.9,\"#4d9221\"],[1,\"#276419\"]]},\"xaxis\":{\"gridcolor\":\"white\",\"linecolor\":\"white\",\"ticks\":\"\",\"title\":{\"standoff\":15},\"zerolinecolor\":\"white\",\"automargin\":true,\"zerolinewidth\":2},\"yaxis\":{\"gridcolor\":\"white\",\"linecolor\":\"white\",\"ticks\":\"\",\"title\":{\"standoff\":15},\"zerolinecolor\":\"white\",\"automargin\":true,\"zerolinewidth\":2},\"scene\":{\"xaxis\":{\"backgroundcolor\":\"#E5ECF6\",\"gridcolor\":\"white\",\"linecolor\":\"white\",\"showbackground\":true,\"ticks\":\"\",\"zerolinecolor\":\"white\",\"gridwidth\":2},\"yaxis\":{\"backgroundcolor\":\"#E5ECF6\",\"gridcolor\":\"white\",\"linecolor\":\"white\",\"showbackground\":true,\"ticks\":\"\",\"zerolinecolor\":\"white\",\"gridwidth\":2},\"zaxis\":{\"backgroundcolor\":\"#E5ECF6\",\"gridcolor\":\"white\",\"linecolor\":\"white\",\"showbackground\":true,\"ticks\":\"\",\"zerolinecolor\":\"white\",\"gridwidth\":2}},\"shapedefaults\":{\"line\":{\"color\":\"#2a3f5f\"}},\"annotationdefaults\":{\"arrowcolor\":\"#2a3f5f\",\"arrowhead\":0,\"arrowwidth\":1},\"geo\":{\"bgcolor\":\"white\",\"landcolor\":\"#E5ECF6\",\"subunitcolor\":\"white\",\"showland\":true,\"showlakes\":true,\"lakecolor\":\"white\"},\"title\":{\"x\":0.05},\"mapbox\":{\"style\":\"light\"}}},\"title\":{\"text\":\"DROPOUT_RATE = 0.001\"},\"xaxis\":{\"title\":{\"text\":\"EPOCH\"}},\"yaxis\":{\"title\":{\"text\":\"ACCURACY\"}}},                        {\"responsive\": true}                    ).then(function(){\n",
              "                            \n",
              "var gd = document.getElementById('f781a038-976d-4195-b714-2f19f08d19fa');\n",
              "var x = new MutationObserver(function (mutations, observer) {{\n",
              "        var display = window.getComputedStyle(gd).display;\n",
              "        if (!display || display === 'none') {{\n",
              "            console.log([gd, 'removed!']);\n",
              "            Plotly.purge(gd);\n",
              "            observer.disconnect();\n",
              "        }}\n",
              "}});\n",
              "\n",
              "// Listen for the removal of the full notebook cells\n",
              "var notebookContainer = gd.closest('#notebook-container');\n",
              "if (notebookContainer) {{\n",
              "    x.observe(notebookContainer, {childList: true});\n",
              "}}\n",
              "\n",
              "// Listen for the clearing of the current output cell\n",
              "var outputEl = gd.closest('.output');\n",
              "if (outputEl) {{\n",
              "    x.observe(outputEl, {childList: true});\n",
              "}}\n",
              "\n",
              "                        })                };                            </script>        </div>\n",
              "</body>\n",
              "</html>"
            ]
          },
          "metadata": {}
        }
      ]
    },
    {
      "cell_type": "markdown",
      "source": [
        "4) [171,141,47,59,72,33]"
      ],
      "metadata": {
        "id": "UmX23yeNvpOL"
      }
    },
    {
      "cell_type": "code",
      "source": [
        "dropout_rate = [0.5, 0.1, 0.05, 0.01, 0.005, 0.001]\n",
        "batch_size = 1120\n",
        "loss = torch.nn.CrossEntropyLoss()\n",
        "test_accuracy_history = [[], [], [], [], [], []]\n",
        "\n",
        "for rate in bar(range(6), desc='DROPOUT RATE', leave=False):\n",
        "  lenet = LeNet4(dropout_rate[rate]).to(device)\n",
        "  optimizer = torch.optim.Adam(lenet.parameters(), lr=0.001)\n",
        "  for epoch in bar(range(200), desc='LEARNING', leave=False):\n",
        "    order = np.random.permutation(len(train_data))\n",
        "\n",
        "    for start_index in range(0, len(train_data), batch_size):\n",
        "      optimizer.zero_grad()\n",
        "\n",
        "      batch_indexes = order[start_index:start_index+batch_size]\n",
        "\n",
        "      data_batch = train_data[batch_indexes].to(device)\n",
        "      label_batch = train_labels[batch_indexes].to(device)\n",
        "\n",
        "      preds = lenet.forward(data_batch)\n",
        "\n",
        "      loss_val = loss(preds, label_batch)\n",
        "      loss_val.backward()\n",
        "\n",
        "      optimizer.step()\n",
        "\n",
        "    with torch.no_grad():\n",
        "      test_preds = lenet.forward(test_data)\n",
        "      test_accuracy = (test_preds.argmax(dim=1)==test_labels).float().mean().data.cpu()\n",
        "      test_accuracy_history[rate].append(test_accuracy)"
      ],
      "metadata": {
        "colab": {
          "base_uri": "https://localhost:8080/",
          "height": 191,
          "referenced_widgets": [
            "5edad8ecc1f34bb291266abb5508ab20",
            "21935de307414138b5775f5914ef2559",
            "9145b78580124ce5b3839e0bd52c3d30",
            "48647bdbf6844631b42011ae21325a38",
            "e432d8389a0449debaad0490fb8cc4ec",
            "50d64c510c634ffb92e23205b99f28ff",
            "0e5c0322e4a04b3896ae33c3cd39ee28",
            "69cabfc229af427a89755bc5909fd97b",
            "ac6ca08fd07f4048ae8a14fabf220d98",
            "3931e116c3e24bc4ba2cd946c6a99a57",
            "72a02e9d27dd479c8fc08e2553d65cf8",
            "cf9a23f896bf49df9648c3cb5024b187",
            "3f1012ef6ad1406181b1b9129f246eb3",
            "e2bceb387df44f9a824fecf434a747ac",
            "671706afa6fe427d86993e48eeb90b19",
            "1651ebb076af45b08aff3aede18b2e39",
            "25829998c812429cb1eca3029a0e1f6b",
            "6899c502e7714e88ab20df4ad3377946",
            "860360be3a5440348c04bb1267c14d11",
            "9936d172973a450aa026cb753a8994e0",
            "6bd52c523c074ccb9dcac7db015d0124",
            "0209a51bcc1044c7ba6512c52a8ce10b",
            "a72472d4f4c5447cbf262f32523de750",
            "1aed145a95ab4190a9b0de6986077185",
            "71c8abbbae254997bca4999874ed674c",
            "db15163842af44e3bd021a089de527b5",
            "4d7fd68890a54b279a9367fb2e8c3137",
            "65924d4fad384785949218b92bdfe39a",
            "cbe32374f72e4c0a987e8c8070faa1ab",
            "959707f7ded943bf98a8d814dcc477c7",
            "cba18248a08f47139062b674506f6f1b",
            "cdd0f723765c49ba9996c52d17695097",
            "746002fd69244c51a7df59e3a801cdd9",
            "7c352736499f49dbbcc00608c3055818",
            "bdd97e2373df45688f10bb649725f47e",
            "832629c512794ae78fa7ab17495c2422",
            "9d11f64bbb184121944fa69ee4ea6d31",
            "ebcb0fe429e14b89b979aab2fba60e76",
            "500f51414ed944b496f48591de44f2a5",
            "80665ae8df6d48c08d0ef2a88e098142",
            "982180be00c6435a9dd09426c8837ccf",
            "623e3d3c4006466091a86a5f4456a369",
            "1843681ef8da4b18a7e98f849108b843",
            "4aaa161ab575425dbf45efd8cea5c06f",
            "9b72bf07120f4ecca2303054cd2bb28f",
            "d5e015af24ad48338090072d5509afe5",
            "d9fbbfc23f29457f9fd811f235493c66",
            "f869b4aa00a542dd9b0d7bd44e21afad",
            "d1de38c276f949aca90f549c46d9aa96",
            "a83d5d28458145f3ac9a8ccc4c9bbb9a",
            "16f3d320d9294761a72431889f0a8905",
            "7d739514dea94b4bb87cb1f1d40b5a96",
            "3a084600f0924418b2050d419899964c",
            "4b1cfe9d036a42bf9f79e53a71c1da14",
            "1ba0c4c1199249558cd35ececd816574",
            "f08f31db300b48028f771ef90cbdb84e",
            "4c551d7b955c4adea98068452052dd45",
            "95e58d7f409c4e74b07ac21cb6a41dfc",
            "e3fd456aa11f499c920a2c0b714a9c6c",
            "b69061c1d68244eb9ea5bc62e8b8162f",
            "a31f00e2e39c4c5dbf2d972b08e8177f",
            "34ab71b30a074ca38e52b3c3aa4980e3",
            "da875e1aee0d49fbbe573418b1aaa9be",
            "44e88752cc5241f5b20cb78a252ac190",
            "87487bf2ec23438a8806cc30f8524f1e",
            "ef119feb07fd448bbad22002f3c37fa9",
            "1d16810010da4693b3216de899047056",
            "5c1f3a72d649457785c04c198730a9e9",
            "31f4234381104ea0bb8b983e1be86f1d",
            "8224fc617c424156abbcc90d5eb05c86",
            "eb2d635394ca4140af7bc8f8493a0eb3",
            "e993ca7a0fc949938443927b7b60a6f3",
            "7a10c1bb2e9645bb90ce738963de0971",
            "86eb5a0b876244f78e572beed1aa93a2",
            "02b1acba27bb4f11b2e457ed3792182d",
            "c8b0c3cdf66849e58115b90b0c55a946",
            "4fdb9f05a58b4fe19fe4fa2540d25b50"
          ]
        },
        "id": "m0HQBJVdHAxG",
        "outputId": "4cfe009f-6dc9-4651-e2e9-a45413f0b709"
      },
      "execution_count": null,
      "outputs": [
        {
          "output_type": "stream",
          "name": "stderr",
          "text": [
            "<ipython-input-35-513434192f9f>:6: TqdmDeprecationWarning:\n",
            "\n",
            "This function will be removed in tqdm==5.0.0\n",
            "Please use `tqdm.notebook.tqdm` instead of `tqdm.tqdm_notebook`\n",
            "\n"
          ]
        },
        {
          "output_type": "display_data",
          "data": {
            "text/plain": [
              "DROPOUT RATE:   0%|          | 0/6 [00:00<?, ?it/s]"
            ],
            "application/vnd.jupyter.widget-view+json": {
              "version_major": 2,
              "version_minor": 0,
              "model_id": "5edad8ecc1f34bb291266abb5508ab20"
            }
          },
          "metadata": {}
        },
        {
          "output_type": "stream",
          "name": "stderr",
          "text": [
            "<ipython-input-35-513434192f9f>:9: TqdmDeprecationWarning:\n",
            "\n",
            "This function will be removed in tqdm==5.0.0\n",
            "Please use `tqdm.notebook.tqdm` instead of `tqdm.tqdm_notebook`\n",
            "\n"
          ]
        },
        {
          "output_type": "display_data",
          "data": {
            "text/plain": [
              "LEARNING:   0%|          | 0/200 [00:00<?, ?it/s]"
            ],
            "application/vnd.jupyter.widget-view+json": {
              "version_major": 2,
              "version_minor": 0,
              "model_id": "cf9a23f896bf49df9648c3cb5024b187"
            }
          },
          "metadata": {}
        },
        {
          "output_type": "display_data",
          "data": {
            "text/plain": [
              "LEARNING:   0%|          | 0/200 [00:00<?, ?it/s]"
            ],
            "application/vnd.jupyter.widget-view+json": {
              "version_major": 2,
              "version_minor": 0,
              "model_id": "a72472d4f4c5447cbf262f32523de750"
            }
          },
          "metadata": {}
        },
        {
          "output_type": "display_data",
          "data": {
            "text/plain": [
              "LEARNING:   0%|          | 0/200 [00:00<?, ?it/s]"
            ],
            "application/vnd.jupyter.widget-view+json": {
              "version_major": 2,
              "version_minor": 0,
              "model_id": "7c352736499f49dbbcc00608c3055818"
            }
          },
          "metadata": {}
        },
        {
          "output_type": "display_data",
          "data": {
            "text/plain": [
              "LEARNING:   0%|          | 0/200 [00:00<?, ?it/s]"
            ],
            "application/vnd.jupyter.widget-view+json": {
              "version_major": 2,
              "version_minor": 0,
              "model_id": "9b72bf07120f4ecca2303054cd2bb28f"
            }
          },
          "metadata": {}
        },
        {
          "output_type": "display_data",
          "data": {
            "text/plain": [
              "LEARNING:   0%|          | 0/200 [00:00<?, ?it/s]"
            ],
            "application/vnd.jupyter.widget-view+json": {
              "version_major": 2,
              "version_minor": 0,
              "model_id": "f08f31db300b48028f771ef90cbdb84e"
            }
          },
          "metadata": {}
        },
        {
          "output_type": "display_data",
          "data": {
            "text/plain": [
              "LEARNING:   0%|          | 0/200 [00:00<?, ?it/s]"
            ],
            "application/vnd.jupyter.widget-view+json": {
              "version_major": 2,
              "version_minor": 0,
              "model_id": "1d16810010da4693b3216de899047056"
            }
          },
          "metadata": {}
        }
      ]
    },
    {
      "cell_type": "code",
      "source": [
        "fig = go.Figure(data=go.Scatter(x=[i for i in range(200)], y=test_accuracy_history[0], mode =\"lines+markers\"))\n",
        "fig.update_layout(title=\"BATCH + DROPOUT_RATE = 0.5\", xaxis_title = \"EPOCH\", yaxis_title = \"ACCURACY\")\n",
        "fig.show()"
      ],
      "metadata": {
        "colab": {
          "base_uri": "https://localhost:8080/",
          "height": 542
        },
        "id": "qSQ2ex7jISk3",
        "outputId": "87b2ab73-cf5a-478e-a055-9180bacab60d"
      },
      "execution_count": null,
      "outputs": [
        {
          "output_type": "display_data",
          "data": {
            "text/html": [
              "<html>\n",
              "<head><meta charset=\"utf-8\" /></head>\n",
              "<body>\n",
              "    <div>            <script src=\"https://cdnjs.cloudflare.com/ajax/libs/mathjax/2.7.5/MathJax.js?config=TeX-AMS-MML_SVG\"></script><script type=\"text/javascript\">if (window.MathJax && window.MathJax.Hub && window.MathJax.Hub.Config) {window.MathJax.Hub.Config({SVG: {font: \"STIX-Web\"}});}</script>                <script type=\"text/javascript\">window.PlotlyConfig = {MathJaxConfig: 'local'};</script>\n",
              "        <script charset=\"utf-8\" src=\"https://cdn.plot.ly/plotly-2.24.1.min.js\"></script>                <div id=\"6b30d5a8-f122-49d2-9b72-fe782264189f\" class=\"plotly-graph-div\" style=\"height:525px; width:100%;\"></div>            <script type=\"text/javascript\">                                    window.PLOTLYENV=window.PLOTLYENV || {};                                    if (document.getElementById(\"6b30d5a8-f122-49d2-9b72-fe782264189f\")) {                    Plotly.newPlot(                        \"6b30d5a8-f122-49d2-9b72-fe782264189f\",                        [{\"mode\":\"lines+markers\",\"x\":[0,1,2,3,4,5,6,7,8,9,10,11,12,13,14,15,16,17,18,19,20,21,22,23,24,25,26,27,28,29,30,31,32,33,34,35,36,37,38,39,40,41,42,43,44,45,46,47,48,49,50,51,52,53,54,55,56,57,58,59,60,61,62,63,64,65,66,67,68,69,70,71,72,73,74,75,76,77,78,79,80,81,82,83,84,85,86,87,88,89,90,91,92,93,94,95,96,97,98,99,100,101,102,103,104,105,106,107,108,109,110,111,112,113,114,115,116,117,118,119,120,121,122,123,124,125,126,127,128,129,130,131,132,133,134,135,136,137,138,139,140,141,142,143,144,145,146,147,148,149,150,151,152,153,154,155,156,157,158,159,160,161,162,163,164,165,166,167,168,169,170,171,172,173,174,175,176,177,178,179,180,181,182,183,184,185,186,187,188,189,190,191,192,193,194,195,196,197,198,199],\"y\":[0.05744045972824097,0.19845283031463623,0.2752634584903717,0.3250289261341095,0.36766767501831055,0.39891576766967773,0.41718950867652893,0.43850886821746826,0.46494486927986145,0.48011207580566406,0.5030151605606079,0.5162940621376038,0.5089236497879028,0.5100809931755066,0.5325577259063721,0.5446183681488037,0.5446792840957642,0.5436437726020813,0.5585673451423645,0.5756228566169739,0.5697752237319946,0.5633184909820557,0.583663284778595,0.5653285980224609,0.5751964449882507,0.5820795297622681,0.589449942111969,0.5775720477104187,0.5953584909439087,0.6077237129211426,0.5918864607810974,0.5865870714187622,0.5943229794502258,0.6026070713996887,0.6012669801712036,0.6042516827583313,0.6021197438240051,0.6065054535865784,0.6015715599060059,0.6075409650802612,0.6079064607620239,0.6215508580207825,0.6216726303100586,0.6148504614830017,0.627276599407196,0.6129621863365173,0.6203935146331787,0.6189315915107727,0.6152159571647644,0.6222208738327026,0.636108934879303,0.6163123846054077,0.6219162940979004,0.6245964765548706,0.6220381259918213,0.6183834075927734,0.6253274083137512,0.6278248429298401,0.6244746446609497,0.6390327215194702,0.6372662782669067,0.6302613019943237,0.6311140656471252,0.6253274083137512,0.6394590735435486,0.6286166906356812,0.6250837445259094,0.62910395860672,0.6384235620498657,0.6405555009841919,0.6392154693603516,0.6272156834602356,0.6413474082946777,0.6320887207984924,0.6503015160560608,0.6411646604537964,0.6353170275688171,0.6440884470939636,0.6374489665031433,0.6359261870384216,0.6303222179412842,0.6333678364753723,0.6486569046974182,0.6461594700813293,0.6384235620498657,0.6466467976570129,0.6415300965309143,0.6459158062934875,0.639276385307312,0.6348297595977783,0.62910395860672,0.6498751044273376,0.6441493630409241,0.6397636532783508,0.634647011756897,0.6426874399185181,0.6481695771217346,0.6342815160751343,0.6321495771408081,0.6410428285598755,0.640981912612915,0.6512151956558228,0.632271409034729,0.6516416072845459,0.6426874399185181,0.6340988278388977,0.6333069205284119,0.6456112861633301,0.6401291489601135,0.6421392560005188,0.6370226144790649,0.6478649973869324,0.637814462184906,0.6426265239715576,0.6326978206634521,0.6443930268287659,0.638728141784668,0.649144172668457,0.6493878364562988,0.6386063098907471,0.6400682330131531,0.6437838673591614,0.6429311037063599,0.6336724162101746,0.6432965993881226,0.6463422179222107,0.6406164169311523,0.633733332157135,0.6406773328781128,0.6393373012542725,0.6529816389083862,0.6299567818641663,0.6408600807189941,0.6468294858932495,0.6454894542694092,0.632819652557373,0.645063042640686,0.6432965993881226,0.6461594700813293,0.64360111951828,0.6386672258377075,0.6444539427757263,0.6429311037063599,0.6478040814399719,0.6478649973869324,0.6440275311470032,0.635195255279541,0.6411037445068359,0.6445757746696472,0.6401291489601135,0.6504233479499817,0.6370835304260254,0.6520679593086243,0.6438447833061218,0.6300176382064819,0.6423829197883606,0.6392154693603516,0.6406773328781128,0.6477432250976562,0.6501187682151794,0.6499360203742981,0.6541998982429504,0.6504233479499817,0.6388499736785889,0.6420174241065979,0.6434184312820435,0.6397636532783508,0.6345251798629761,0.6513979434967041,0.6350125074386597,0.6430529356002808,0.6461594700813293,0.6364134550094604,0.6285557746887207,0.6133276224136353,0.6292257905006409,0.6289212703704834,0.6501796841621399,0.6431138515472412,0.6456721425056458,0.6303222179412842,0.6478649973869324,0.6411037445068359,0.6451848745346069,0.647438645362854,0.6404337286949158,0.6425656080245972,0.6407991647720337,0.6284339427947998,0.635438859462738,0.6415910124778748,0.6353779435157776,0.6426265239715576,0.6437229514122009,0.6361698508262634,0.6393982172012329,0.614484965801239,0.6382408738136292,0.6343424320220947,0.6304440498352051],\"type\":\"scatter\"}],                        {\"template\":{\"data\":{\"histogram2dcontour\":[{\"type\":\"histogram2dcontour\",\"colorbar\":{\"outlinewidth\":0,\"ticks\":\"\"},\"colorscale\":[[0.0,\"#0d0887\"],[0.1111111111111111,\"#46039f\"],[0.2222222222222222,\"#7201a8\"],[0.3333333333333333,\"#9c179e\"],[0.4444444444444444,\"#bd3786\"],[0.5555555555555556,\"#d8576b\"],[0.6666666666666666,\"#ed7953\"],[0.7777777777777778,\"#fb9f3a\"],[0.8888888888888888,\"#fdca26\"],[1.0,\"#f0f921\"]]}],\"choropleth\":[{\"type\":\"choropleth\",\"colorbar\":{\"outlinewidth\":0,\"ticks\":\"\"}}],\"histogram2d\":[{\"type\":\"histogram2d\",\"colorbar\":{\"outlinewidth\":0,\"ticks\":\"\"},\"colorscale\":[[0.0,\"#0d0887\"],[0.1111111111111111,\"#46039f\"],[0.2222222222222222,\"#7201a8\"],[0.3333333333333333,\"#9c179e\"],[0.4444444444444444,\"#bd3786\"],[0.5555555555555556,\"#d8576b\"],[0.6666666666666666,\"#ed7953\"],[0.7777777777777778,\"#fb9f3a\"],[0.8888888888888888,\"#fdca26\"],[1.0,\"#f0f921\"]]}],\"heatmap\":[{\"type\":\"heatmap\",\"colorbar\":{\"outlinewidth\":0,\"ticks\":\"\"},\"colorscale\":[[0.0,\"#0d0887\"],[0.1111111111111111,\"#46039f\"],[0.2222222222222222,\"#7201a8\"],[0.3333333333333333,\"#9c179e\"],[0.4444444444444444,\"#bd3786\"],[0.5555555555555556,\"#d8576b\"],[0.6666666666666666,\"#ed7953\"],[0.7777777777777778,\"#fb9f3a\"],[0.8888888888888888,\"#fdca26\"],[1.0,\"#f0f921\"]]}],\"heatmapgl\":[{\"type\":\"heatmapgl\",\"colorbar\":{\"outlinewidth\":0,\"ticks\":\"\"},\"colorscale\":[[0.0,\"#0d0887\"],[0.1111111111111111,\"#46039f\"],[0.2222222222222222,\"#7201a8\"],[0.3333333333333333,\"#9c179e\"],[0.4444444444444444,\"#bd3786\"],[0.5555555555555556,\"#d8576b\"],[0.6666666666666666,\"#ed7953\"],[0.7777777777777778,\"#fb9f3a\"],[0.8888888888888888,\"#fdca26\"],[1.0,\"#f0f921\"]]}],\"contourcarpet\":[{\"type\":\"contourcarpet\",\"colorbar\":{\"outlinewidth\":0,\"ticks\":\"\"}}],\"contour\":[{\"type\":\"contour\",\"colorbar\":{\"outlinewidth\":0,\"ticks\":\"\"},\"colorscale\":[[0.0,\"#0d0887\"],[0.1111111111111111,\"#46039f\"],[0.2222222222222222,\"#7201a8\"],[0.3333333333333333,\"#9c179e\"],[0.4444444444444444,\"#bd3786\"],[0.5555555555555556,\"#d8576b\"],[0.6666666666666666,\"#ed7953\"],[0.7777777777777778,\"#fb9f3a\"],[0.8888888888888888,\"#fdca26\"],[1.0,\"#f0f921\"]]}],\"surface\":[{\"type\":\"surface\",\"colorbar\":{\"outlinewidth\":0,\"ticks\":\"\"},\"colorscale\":[[0.0,\"#0d0887\"],[0.1111111111111111,\"#46039f\"],[0.2222222222222222,\"#7201a8\"],[0.3333333333333333,\"#9c179e\"],[0.4444444444444444,\"#bd3786\"],[0.5555555555555556,\"#d8576b\"],[0.6666666666666666,\"#ed7953\"],[0.7777777777777778,\"#fb9f3a\"],[0.8888888888888888,\"#fdca26\"],[1.0,\"#f0f921\"]]}],\"mesh3d\":[{\"type\":\"mesh3d\",\"colorbar\":{\"outlinewidth\":0,\"ticks\":\"\"}}],\"scatter\":[{\"fillpattern\":{\"fillmode\":\"overlay\",\"size\":10,\"solidity\":0.2},\"type\":\"scatter\"}],\"parcoords\":[{\"type\":\"parcoords\",\"line\":{\"colorbar\":{\"outlinewidth\":0,\"ticks\":\"\"}}}],\"scatterpolargl\":[{\"type\":\"scatterpolargl\",\"marker\":{\"colorbar\":{\"outlinewidth\":0,\"ticks\":\"\"}}}],\"bar\":[{\"error_x\":{\"color\":\"#2a3f5f\"},\"error_y\":{\"color\":\"#2a3f5f\"},\"marker\":{\"line\":{\"color\":\"#E5ECF6\",\"width\":0.5},\"pattern\":{\"fillmode\":\"overlay\",\"size\":10,\"solidity\":0.2}},\"type\":\"bar\"}],\"scattergeo\":[{\"type\":\"scattergeo\",\"marker\":{\"colorbar\":{\"outlinewidth\":0,\"ticks\":\"\"}}}],\"scatterpolar\":[{\"type\":\"scatterpolar\",\"marker\":{\"colorbar\":{\"outlinewidth\":0,\"ticks\":\"\"}}}],\"histogram\":[{\"marker\":{\"pattern\":{\"fillmode\":\"overlay\",\"size\":10,\"solidity\":0.2}},\"type\":\"histogram\"}],\"scattergl\":[{\"type\":\"scattergl\",\"marker\":{\"colorbar\":{\"outlinewidth\":0,\"ticks\":\"\"}}}],\"scatter3d\":[{\"type\":\"scatter3d\",\"line\":{\"colorbar\":{\"outlinewidth\":0,\"ticks\":\"\"}},\"marker\":{\"colorbar\":{\"outlinewidth\":0,\"ticks\":\"\"}}}],\"scattermapbox\":[{\"type\":\"scattermapbox\",\"marker\":{\"colorbar\":{\"outlinewidth\":0,\"ticks\":\"\"}}}],\"scatterternary\":[{\"type\":\"scatterternary\",\"marker\":{\"colorbar\":{\"outlinewidth\":0,\"ticks\":\"\"}}}],\"scattercarpet\":[{\"type\":\"scattercarpet\",\"marker\":{\"colorbar\":{\"outlinewidth\":0,\"ticks\":\"\"}}}],\"carpet\":[{\"aaxis\":{\"endlinecolor\":\"#2a3f5f\",\"gridcolor\":\"white\",\"linecolor\":\"white\",\"minorgridcolor\":\"white\",\"startlinecolor\":\"#2a3f5f\"},\"baxis\":{\"endlinecolor\":\"#2a3f5f\",\"gridcolor\":\"white\",\"linecolor\":\"white\",\"minorgridcolor\":\"white\",\"startlinecolor\":\"#2a3f5f\"},\"type\":\"carpet\"}],\"table\":[{\"cells\":{\"fill\":{\"color\":\"#EBF0F8\"},\"line\":{\"color\":\"white\"}},\"header\":{\"fill\":{\"color\":\"#C8D4E3\"},\"line\":{\"color\":\"white\"}},\"type\":\"table\"}],\"barpolar\":[{\"marker\":{\"line\":{\"color\":\"#E5ECF6\",\"width\":0.5},\"pattern\":{\"fillmode\":\"overlay\",\"size\":10,\"solidity\":0.2}},\"type\":\"barpolar\"}],\"pie\":[{\"automargin\":true,\"type\":\"pie\"}]},\"layout\":{\"autotypenumbers\":\"strict\",\"colorway\":[\"#636efa\",\"#EF553B\",\"#00cc96\",\"#ab63fa\",\"#FFA15A\",\"#19d3f3\",\"#FF6692\",\"#B6E880\",\"#FF97FF\",\"#FECB52\"],\"font\":{\"color\":\"#2a3f5f\"},\"hovermode\":\"closest\",\"hoverlabel\":{\"align\":\"left\"},\"paper_bgcolor\":\"white\",\"plot_bgcolor\":\"#E5ECF6\",\"polar\":{\"bgcolor\":\"#E5ECF6\",\"angularaxis\":{\"gridcolor\":\"white\",\"linecolor\":\"white\",\"ticks\":\"\"},\"radialaxis\":{\"gridcolor\":\"white\",\"linecolor\":\"white\",\"ticks\":\"\"}},\"ternary\":{\"bgcolor\":\"#E5ECF6\",\"aaxis\":{\"gridcolor\":\"white\",\"linecolor\":\"white\",\"ticks\":\"\"},\"baxis\":{\"gridcolor\":\"white\",\"linecolor\":\"white\",\"ticks\":\"\"},\"caxis\":{\"gridcolor\":\"white\",\"linecolor\":\"white\",\"ticks\":\"\"}},\"coloraxis\":{\"colorbar\":{\"outlinewidth\":0,\"ticks\":\"\"}},\"colorscale\":{\"sequential\":[[0.0,\"#0d0887\"],[0.1111111111111111,\"#46039f\"],[0.2222222222222222,\"#7201a8\"],[0.3333333333333333,\"#9c179e\"],[0.4444444444444444,\"#bd3786\"],[0.5555555555555556,\"#d8576b\"],[0.6666666666666666,\"#ed7953\"],[0.7777777777777778,\"#fb9f3a\"],[0.8888888888888888,\"#fdca26\"],[1.0,\"#f0f921\"]],\"sequentialminus\":[[0.0,\"#0d0887\"],[0.1111111111111111,\"#46039f\"],[0.2222222222222222,\"#7201a8\"],[0.3333333333333333,\"#9c179e\"],[0.4444444444444444,\"#bd3786\"],[0.5555555555555556,\"#d8576b\"],[0.6666666666666666,\"#ed7953\"],[0.7777777777777778,\"#fb9f3a\"],[0.8888888888888888,\"#fdca26\"],[1.0,\"#f0f921\"]],\"diverging\":[[0,\"#8e0152\"],[0.1,\"#c51b7d\"],[0.2,\"#de77ae\"],[0.3,\"#f1b6da\"],[0.4,\"#fde0ef\"],[0.5,\"#f7f7f7\"],[0.6,\"#e6f5d0\"],[0.7,\"#b8e186\"],[0.8,\"#7fbc41\"],[0.9,\"#4d9221\"],[1,\"#276419\"]]},\"xaxis\":{\"gridcolor\":\"white\",\"linecolor\":\"white\",\"ticks\":\"\",\"title\":{\"standoff\":15},\"zerolinecolor\":\"white\",\"automargin\":true,\"zerolinewidth\":2},\"yaxis\":{\"gridcolor\":\"white\",\"linecolor\":\"white\",\"ticks\":\"\",\"title\":{\"standoff\":15},\"zerolinecolor\":\"white\",\"automargin\":true,\"zerolinewidth\":2},\"scene\":{\"xaxis\":{\"backgroundcolor\":\"#E5ECF6\",\"gridcolor\":\"white\",\"linecolor\":\"white\",\"showbackground\":true,\"ticks\":\"\",\"zerolinecolor\":\"white\",\"gridwidth\":2},\"yaxis\":{\"backgroundcolor\":\"#E5ECF6\",\"gridcolor\":\"white\",\"linecolor\":\"white\",\"showbackground\":true,\"ticks\":\"\",\"zerolinecolor\":\"white\",\"gridwidth\":2},\"zaxis\":{\"backgroundcolor\":\"#E5ECF6\",\"gridcolor\":\"white\",\"linecolor\":\"white\",\"showbackground\":true,\"ticks\":\"\",\"zerolinecolor\":\"white\",\"gridwidth\":2}},\"shapedefaults\":{\"line\":{\"color\":\"#2a3f5f\"}},\"annotationdefaults\":{\"arrowcolor\":\"#2a3f5f\",\"arrowhead\":0,\"arrowwidth\":1},\"geo\":{\"bgcolor\":\"white\",\"landcolor\":\"#E5ECF6\",\"subunitcolor\":\"white\",\"showland\":true,\"showlakes\":true,\"lakecolor\":\"white\"},\"title\":{\"x\":0.05},\"mapbox\":{\"style\":\"light\"}}},\"title\":{\"text\":\"BATCH + DROPOUT_RATE = 0.5\"},\"xaxis\":{\"title\":{\"text\":\"EPOCH\"}},\"yaxis\":{\"title\":{\"text\":\"ACCURACY\"}}},                        {\"responsive\": true}                    ).then(function(){\n",
              "                            \n",
              "var gd = document.getElementById('6b30d5a8-f122-49d2-9b72-fe782264189f');\n",
              "var x = new MutationObserver(function (mutations, observer) {{\n",
              "        var display = window.getComputedStyle(gd).display;\n",
              "        if (!display || display === 'none') {{\n",
              "            console.log([gd, 'removed!']);\n",
              "            Plotly.purge(gd);\n",
              "            observer.disconnect();\n",
              "        }}\n",
              "}});\n",
              "\n",
              "// Listen for the removal of the full notebook cells\n",
              "var notebookContainer = gd.closest('#notebook-container');\n",
              "if (notebookContainer) {{\n",
              "    x.observe(notebookContainer, {childList: true});\n",
              "}}\n",
              "\n",
              "// Listen for the clearing of the current output cell\n",
              "var outputEl = gd.closest('.output');\n",
              "if (outputEl) {{\n",
              "    x.observe(outputEl, {childList: true});\n",
              "}}\n",
              "\n",
              "                        })                };                            </script>        </div>\n",
              "</body>\n",
              "</html>"
            ]
          },
          "metadata": {}
        }
      ]
    },
    {
      "cell_type": "code",
      "source": [
        "fig = go.Figure(data=go.Scatter(x=[i for i in range(200)], y=test_accuracy_history[1], mode =\"lines+markers\"))\n",
        "fig.update_layout(title=\"BATCH + DROPOUT_RATE = 0.1\", xaxis_title = \"EPOCH\", yaxis_title = \"ACCURACY\")\n",
        "fig.show()"
      ],
      "metadata": {
        "colab": {
          "base_uri": "https://localhost:8080/",
          "height": 542
        },
        "id": "X4WrRuMpISk4",
        "outputId": "7f040012-30fd-41fb-f214-fbbb30180c25"
      },
      "execution_count": null,
      "outputs": [
        {
          "output_type": "display_data",
          "data": {
            "text/html": [
              "<html>\n",
              "<head><meta charset=\"utf-8\" /></head>\n",
              "<body>\n",
              "    <div>            <script src=\"https://cdnjs.cloudflare.com/ajax/libs/mathjax/2.7.5/MathJax.js?config=TeX-AMS-MML_SVG\"></script><script type=\"text/javascript\">if (window.MathJax && window.MathJax.Hub && window.MathJax.Hub.Config) {window.MathJax.Hub.Config({SVG: {font: \"STIX-Web\"}});}</script>                <script type=\"text/javascript\">window.PlotlyConfig = {MathJaxConfig: 'local'};</script>\n",
              "        <script charset=\"utf-8\" src=\"https://cdn.plot.ly/plotly-2.24.1.min.js\"></script>                <div id=\"7d8df7e9-b002-4418-b2b9-0f42b784bf9f\" class=\"plotly-graph-div\" style=\"height:525px; width:100%;\"></div>            <script type=\"text/javascript\">                                    window.PLOTLYENV=window.PLOTLYENV || {};                                    if (document.getElementById(\"7d8df7e9-b002-4418-b2b9-0f42b784bf9f\")) {                    Plotly.newPlot(                        \"7d8df7e9-b002-4418-b2b9-0f42b784bf9f\",                        [{\"mode\":\"lines+markers\",\"x\":[0,1,2,3,4,5,6,7,8,9,10,11,12,13,14,15,16,17,18,19,20,21,22,23,24,25,26,27,28,29,30,31,32,33,34,35,36,37,38,39,40,41,42,43,44,45,46,47,48,49,50,51,52,53,54,55,56,57,58,59,60,61,62,63,64,65,66,67,68,69,70,71,72,73,74,75,76,77,78,79,80,81,82,83,84,85,86,87,88,89,90,91,92,93,94,95,96,97,98,99,100,101,102,103,104,105,106,107,108,109,110,111,112,113,114,115,116,117,118,119,120,121,122,123,124,125,126,127,128,129,130,131,132,133,134,135,136,137,138,139,140,141,142,143,144,145,146,147,148,149,150,151,152,153,154,155,156,157,158,159,160,161,162,163,164,165,166,167,168,169,170,171,172,173,174,175,176,177,178,179,180,181,182,183,184,185,186,187,188,189,190,191,192,193,194,195,196,197,198,199],\"y\":[0.2624109089374542,0.41999146342277527,0.5065481066703796,0.5407809019088745,0.5895717740058899,0.6065663695335388,0.624657392501831,0.630565881729126,0.6379362940788269,0.6487178206443787,0.6562709212303162,0.6599256992340088,0.682341456413269,0.6713772416114807,0.6768593788146973,0.678016722202301,0.6866053342819214,0.6917828917503357,0.6842297911643982,0.7012852430343628,0.7110921740531921,0.7124322652816772,0.7113358378410339,0.7087774872779846,0.7123713493347168,0.7040872573852539,0.717670738697052,0.7124931216239929,0.712127685546875,0.7201071977615356,0.729000449180603,0.717670738697052,0.7166960835456848,0.7211427092552185,0.7329597473144531,0.725162923336029,0.7280258536338806,0.7167569994926453,0.7238228917121887,0.7265639305114746,0.7049400210380554,0.7362490296363831,0.7286958694458008,0.7323505878448486,0.7148078083992004,0.7350916862487793,0.726076602935791,0.7221173048019409,0.7298532128334045,0.7417311072349548,0.7194980978965759,0.726746678352356,0.7297313809394836,0.7382591366767883,0.7339343428611755,0.7381982207298279,0.7338125109672546,0.7366753816604614,0.718584418296814,0.7330206632614136,0.7416093349456787,0.7346043586730957,0.7355789542198181,0.7390509843826294,0.7374672889709473,0.7408174276351929,0.7308887243270874,0.7324115037918091,0.7365535497665405,0.7327160835266113,0.7232137322425842,0.7229700684547424,0.7360662817955017,0.7447158694267273,0.7163915634155273,0.7288786172866821,0.7360662817955017,0.7373454570770264,0.7244929075241089,0.7315587401390076,0.7355789542198181,0.7319851517677307,0.7363099455833435,0.7277821898460388,0.7417311072349548,0.734787106513977,0.733995258808136,0.7367362976074219,0.7265030145645142,0.7235183119773865,0.7302795648574829,0.7310714721679688,0.742705762386322,0.7355180382728577,0.7446549534797668,0.725162923336029,0.7376499772071838,0.7372845411300659,0.7346652746200562,0.7391728162765503,0.7326551675796509,0.7385028004646301,0.7336297631263733,0.7218127846717834,0.7361271977424622,0.7263202667236328,0.7346043586730957,0.7333252429962158,0.7416093349456787,0.7273557782173157,0.7375890612602234,0.7417311072349548,0.7274166941642761,0.7386245727539062,0.7305841445922852,0.7282694578170776,0.7310105562210083,0.733995258808136,0.7366753816604614,0.7306450605392456,0.7282085418701172,0.7228482961654663,0.734787106513977,0.7313759922981262,0.7242492437362671,0.7253456711769104,0.7369799613952637,0.7375890612602234,0.7344825267791748,0.7342998385429382,0.7373454570770264,0.7456904649734497,0.7346043586730957,0.7314978241920471,0.7280867695808411,0.7325942516326904,0.726746678352356,0.7305841445922852,0.7318633198738098,0.7288177013397217,0.7244929075241089,0.7344825267791748,0.7286958694458008,0.7381373047828674,0.7223000526428223,0.7299750447273254,0.7281476259231567,0.7244319915771484,0.7257111668586731,0.7250410914421082,0.7203508615493774,0.7291831374168396,0.7207163572311401,0.7325942516326904,0.7333252429962158,0.7343607544898987,0.725832998752594,0.7132241129875183,0.7286349534988403,0.7339343428611755,0.7243101596832275,0.7340561747550964,0.7170006632804871,0.7338734269142151,0.7297922968864441,0.7320460677146912,0.7283303737640381,0.7313759922981262,0.7375282049179077,0.7224828004837036,0.7224218845367432,0.7355789542198181,0.7369190454483032,0.7286349534988403,0.7208381295204163,0.7282085418701172,0.7237619757652283,0.7360053658485413,0.7346652746200562,0.7280867695808411,0.724919319152832,0.7327769994735718,0.734787106513977,0.7165743112564087,0.7324724197387695,0.7281476259231567,0.7271121144294739,0.7341170907020569,0.7239447236061096,0.7292440533638,0.738868236541748,0.7354571223258972,0.7310105562210083,0.7322288155555725,0.7247974872589111,0.7074373960494995,0.7288786172866821,0.731619656085968,0.7285740375518799,0.7230919003486633],\"type\":\"scatter\"}],                        {\"template\":{\"data\":{\"histogram2dcontour\":[{\"type\":\"histogram2dcontour\",\"colorbar\":{\"outlinewidth\":0,\"ticks\":\"\"},\"colorscale\":[[0.0,\"#0d0887\"],[0.1111111111111111,\"#46039f\"],[0.2222222222222222,\"#7201a8\"],[0.3333333333333333,\"#9c179e\"],[0.4444444444444444,\"#bd3786\"],[0.5555555555555556,\"#d8576b\"],[0.6666666666666666,\"#ed7953\"],[0.7777777777777778,\"#fb9f3a\"],[0.8888888888888888,\"#fdca26\"],[1.0,\"#f0f921\"]]}],\"choropleth\":[{\"type\":\"choropleth\",\"colorbar\":{\"outlinewidth\":0,\"ticks\":\"\"}}],\"histogram2d\":[{\"type\":\"histogram2d\",\"colorbar\":{\"outlinewidth\":0,\"ticks\":\"\"},\"colorscale\":[[0.0,\"#0d0887\"],[0.1111111111111111,\"#46039f\"],[0.2222222222222222,\"#7201a8\"],[0.3333333333333333,\"#9c179e\"],[0.4444444444444444,\"#bd3786\"],[0.5555555555555556,\"#d8576b\"],[0.6666666666666666,\"#ed7953\"],[0.7777777777777778,\"#fb9f3a\"],[0.8888888888888888,\"#fdca26\"],[1.0,\"#f0f921\"]]}],\"heatmap\":[{\"type\":\"heatmap\",\"colorbar\":{\"outlinewidth\":0,\"ticks\":\"\"},\"colorscale\":[[0.0,\"#0d0887\"],[0.1111111111111111,\"#46039f\"],[0.2222222222222222,\"#7201a8\"],[0.3333333333333333,\"#9c179e\"],[0.4444444444444444,\"#bd3786\"],[0.5555555555555556,\"#d8576b\"],[0.6666666666666666,\"#ed7953\"],[0.7777777777777778,\"#fb9f3a\"],[0.8888888888888888,\"#fdca26\"],[1.0,\"#f0f921\"]]}],\"heatmapgl\":[{\"type\":\"heatmapgl\",\"colorbar\":{\"outlinewidth\":0,\"ticks\":\"\"},\"colorscale\":[[0.0,\"#0d0887\"],[0.1111111111111111,\"#46039f\"],[0.2222222222222222,\"#7201a8\"],[0.3333333333333333,\"#9c179e\"],[0.4444444444444444,\"#bd3786\"],[0.5555555555555556,\"#d8576b\"],[0.6666666666666666,\"#ed7953\"],[0.7777777777777778,\"#fb9f3a\"],[0.8888888888888888,\"#fdca26\"],[1.0,\"#f0f921\"]]}],\"contourcarpet\":[{\"type\":\"contourcarpet\",\"colorbar\":{\"outlinewidth\":0,\"ticks\":\"\"}}],\"contour\":[{\"type\":\"contour\",\"colorbar\":{\"outlinewidth\":0,\"ticks\":\"\"},\"colorscale\":[[0.0,\"#0d0887\"],[0.1111111111111111,\"#46039f\"],[0.2222222222222222,\"#7201a8\"],[0.3333333333333333,\"#9c179e\"],[0.4444444444444444,\"#bd3786\"],[0.5555555555555556,\"#d8576b\"],[0.6666666666666666,\"#ed7953\"],[0.7777777777777778,\"#fb9f3a\"],[0.8888888888888888,\"#fdca26\"],[1.0,\"#f0f921\"]]}],\"surface\":[{\"type\":\"surface\",\"colorbar\":{\"outlinewidth\":0,\"ticks\":\"\"},\"colorscale\":[[0.0,\"#0d0887\"],[0.1111111111111111,\"#46039f\"],[0.2222222222222222,\"#7201a8\"],[0.3333333333333333,\"#9c179e\"],[0.4444444444444444,\"#bd3786\"],[0.5555555555555556,\"#d8576b\"],[0.6666666666666666,\"#ed7953\"],[0.7777777777777778,\"#fb9f3a\"],[0.8888888888888888,\"#fdca26\"],[1.0,\"#f0f921\"]]}],\"mesh3d\":[{\"type\":\"mesh3d\",\"colorbar\":{\"outlinewidth\":0,\"ticks\":\"\"}}],\"scatter\":[{\"fillpattern\":{\"fillmode\":\"overlay\",\"size\":10,\"solidity\":0.2},\"type\":\"scatter\"}],\"parcoords\":[{\"type\":\"parcoords\",\"line\":{\"colorbar\":{\"outlinewidth\":0,\"ticks\":\"\"}}}],\"scatterpolargl\":[{\"type\":\"scatterpolargl\",\"marker\":{\"colorbar\":{\"outlinewidth\":0,\"ticks\":\"\"}}}],\"bar\":[{\"error_x\":{\"color\":\"#2a3f5f\"},\"error_y\":{\"color\":\"#2a3f5f\"},\"marker\":{\"line\":{\"color\":\"#E5ECF6\",\"width\":0.5},\"pattern\":{\"fillmode\":\"overlay\",\"size\":10,\"solidity\":0.2}},\"type\":\"bar\"}],\"scattergeo\":[{\"type\":\"scattergeo\",\"marker\":{\"colorbar\":{\"outlinewidth\":0,\"ticks\":\"\"}}}],\"scatterpolar\":[{\"type\":\"scatterpolar\",\"marker\":{\"colorbar\":{\"outlinewidth\":0,\"ticks\":\"\"}}}],\"histogram\":[{\"marker\":{\"pattern\":{\"fillmode\":\"overlay\",\"size\":10,\"solidity\":0.2}},\"type\":\"histogram\"}],\"scattergl\":[{\"type\":\"scattergl\",\"marker\":{\"colorbar\":{\"outlinewidth\":0,\"ticks\":\"\"}}}],\"scatter3d\":[{\"type\":\"scatter3d\",\"line\":{\"colorbar\":{\"outlinewidth\":0,\"ticks\":\"\"}},\"marker\":{\"colorbar\":{\"outlinewidth\":0,\"ticks\":\"\"}}}],\"scattermapbox\":[{\"type\":\"scattermapbox\",\"marker\":{\"colorbar\":{\"outlinewidth\":0,\"ticks\":\"\"}}}],\"scatterternary\":[{\"type\":\"scatterternary\",\"marker\":{\"colorbar\":{\"outlinewidth\":0,\"ticks\":\"\"}}}],\"scattercarpet\":[{\"type\":\"scattercarpet\",\"marker\":{\"colorbar\":{\"outlinewidth\":0,\"ticks\":\"\"}}}],\"carpet\":[{\"aaxis\":{\"endlinecolor\":\"#2a3f5f\",\"gridcolor\":\"white\",\"linecolor\":\"white\",\"minorgridcolor\":\"white\",\"startlinecolor\":\"#2a3f5f\"},\"baxis\":{\"endlinecolor\":\"#2a3f5f\",\"gridcolor\":\"white\",\"linecolor\":\"white\",\"minorgridcolor\":\"white\",\"startlinecolor\":\"#2a3f5f\"},\"type\":\"carpet\"}],\"table\":[{\"cells\":{\"fill\":{\"color\":\"#EBF0F8\"},\"line\":{\"color\":\"white\"}},\"header\":{\"fill\":{\"color\":\"#C8D4E3\"},\"line\":{\"color\":\"white\"}},\"type\":\"table\"}],\"barpolar\":[{\"marker\":{\"line\":{\"color\":\"#E5ECF6\",\"width\":0.5},\"pattern\":{\"fillmode\":\"overlay\",\"size\":10,\"solidity\":0.2}},\"type\":\"barpolar\"}],\"pie\":[{\"automargin\":true,\"type\":\"pie\"}]},\"layout\":{\"autotypenumbers\":\"strict\",\"colorway\":[\"#636efa\",\"#EF553B\",\"#00cc96\",\"#ab63fa\",\"#FFA15A\",\"#19d3f3\",\"#FF6692\",\"#B6E880\",\"#FF97FF\",\"#FECB52\"],\"font\":{\"color\":\"#2a3f5f\"},\"hovermode\":\"closest\",\"hoverlabel\":{\"align\":\"left\"},\"paper_bgcolor\":\"white\",\"plot_bgcolor\":\"#E5ECF6\",\"polar\":{\"bgcolor\":\"#E5ECF6\",\"angularaxis\":{\"gridcolor\":\"white\",\"linecolor\":\"white\",\"ticks\":\"\"},\"radialaxis\":{\"gridcolor\":\"white\",\"linecolor\":\"white\",\"ticks\":\"\"}},\"ternary\":{\"bgcolor\":\"#E5ECF6\",\"aaxis\":{\"gridcolor\":\"white\",\"linecolor\":\"white\",\"ticks\":\"\"},\"baxis\":{\"gridcolor\":\"white\",\"linecolor\":\"white\",\"ticks\":\"\"},\"caxis\":{\"gridcolor\":\"white\",\"linecolor\":\"white\",\"ticks\":\"\"}},\"coloraxis\":{\"colorbar\":{\"outlinewidth\":0,\"ticks\":\"\"}},\"colorscale\":{\"sequential\":[[0.0,\"#0d0887\"],[0.1111111111111111,\"#46039f\"],[0.2222222222222222,\"#7201a8\"],[0.3333333333333333,\"#9c179e\"],[0.4444444444444444,\"#bd3786\"],[0.5555555555555556,\"#d8576b\"],[0.6666666666666666,\"#ed7953\"],[0.7777777777777778,\"#fb9f3a\"],[0.8888888888888888,\"#fdca26\"],[1.0,\"#f0f921\"]],\"sequentialminus\":[[0.0,\"#0d0887\"],[0.1111111111111111,\"#46039f\"],[0.2222222222222222,\"#7201a8\"],[0.3333333333333333,\"#9c179e\"],[0.4444444444444444,\"#bd3786\"],[0.5555555555555556,\"#d8576b\"],[0.6666666666666666,\"#ed7953\"],[0.7777777777777778,\"#fb9f3a\"],[0.8888888888888888,\"#fdca26\"],[1.0,\"#f0f921\"]],\"diverging\":[[0,\"#8e0152\"],[0.1,\"#c51b7d\"],[0.2,\"#de77ae\"],[0.3,\"#f1b6da\"],[0.4,\"#fde0ef\"],[0.5,\"#f7f7f7\"],[0.6,\"#e6f5d0\"],[0.7,\"#b8e186\"],[0.8,\"#7fbc41\"],[0.9,\"#4d9221\"],[1,\"#276419\"]]},\"xaxis\":{\"gridcolor\":\"white\",\"linecolor\":\"white\",\"ticks\":\"\",\"title\":{\"standoff\":15},\"zerolinecolor\":\"white\",\"automargin\":true,\"zerolinewidth\":2},\"yaxis\":{\"gridcolor\":\"white\",\"linecolor\":\"white\",\"ticks\":\"\",\"title\":{\"standoff\":15},\"zerolinecolor\":\"white\",\"automargin\":true,\"zerolinewidth\":2},\"scene\":{\"xaxis\":{\"backgroundcolor\":\"#E5ECF6\",\"gridcolor\":\"white\",\"linecolor\":\"white\",\"showbackground\":true,\"ticks\":\"\",\"zerolinecolor\":\"white\",\"gridwidth\":2},\"yaxis\":{\"backgroundcolor\":\"#E5ECF6\",\"gridcolor\":\"white\",\"linecolor\":\"white\",\"showbackground\":true,\"ticks\":\"\",\"zerolinecolor\":\"white\",\"gridwidth\":2},\"zaxis\":{\"backgroundcolor\":\"#E5ECF6\",\"gridcolor\":\"white\",\"linecolor\":\"white\",\"showbackground\":true,\"ticks\":\"\",\"zerolinecolor\":\"white\",\"gridwidth\":2}},\"shapedefaults\":{\"line\":{\"color\":\"#2a3f5f\"}},\"annotationdefaults\":{\"arrowcolor\":\"#2a3f5f\",\"arrowhead\":0,\"arrowwidth\":1},\"geo\":{\"bgcolor\":\"white\",\"landcolor\":\"#E5ECF6\",\"subunitcolor\":\"white\",\"showland\":true,\"showlakes\":true,\"lakecolor\":\"white\"},\"title\":{\"x\":0.05},\"mapbox\":{\"style\":\"light\"}}},\"title\":{\"text\":\"BATCH + DROPOUT_RATE = 0.1\"},\"xaxis\":{\"title\":{\"text\":\"EPOCH\"}},\"yaxis\":{\"title\":{\"text\":\"ACCURACY\"}}},                        {\"responsive\": true}                    ).then(function(){\n",
              "                            \n",
              "var gd = document.getElementById('7d8df7e9-b002-4418-b2b9-0f42b784bf9f');\n",
              "var x = new MutationObserver(function (mutations, observer) {{\n",
              "        var display = window.getComputedStyle(gd).display;\n",
              "        if (!display || display === 'none') {{\n",
              "            console.log([gd, 'removed!']);\n",
              "            Plotly.purge(gd);\n",
              "            observer.disconnect();\n",
              "        }}\n",
              "}});\n",
              "\n",
              "// Listen for the removal of the full notebook cells\n",
              "var notebookContainer = gd.closest('#notebook-container');\n",
              "if (notebookContainer) {{\n",
              "    x.observe(notebookContainer, {childList: true});\n",
              "}}\n",
              "\n",
              "// Listen for the clearing of the current output cell\n",
              "var outputEl = gd.closest('.output');\n",
              "if (outputEl) {{\n",
              "    x.observe(outputEl, {childList: true});\n",
              "}}\n",
              "\n",
              "                        })                };                            </script>        </div>\n",
              "</body>\n",
              "</html>"
            ]
          },
          "metadata": {}
        }
      ]
    },
    {
      "cell_type": "code",
      "source": [
        "fig = go.Figure(data=go.Scatter(x=[i for i in range(200)], y=test_accuracy_history[2], mode =\"lines+markers\"))\n",
        "fig.update_layout(title=\"BATCH + DROPOUT_RATE = 0.05\", xaxis_title = \"EPOCH\", yaxis_title = \"ACCURACY\")\n",
        "fig.show()"
      ],
      "metadata": {
        "colab": {
          "base_uri": "https://localhost:8080/",
          "height": 542
        },
        "id": "S75LZDdlISk4",
        "outputId": "26def208-46f5-42de-e934-4ee5fd55bf1f"
      },
      "execution_count": null,
      "outputs": [
        {
          "output_type": "display_data",
          "data": {
            "text/html": [
              "<html>\n",
              "<head><meta charset=\"utf-8\" /></head>\n",
              "<body>\n",
              "    <div>            <script src=\"https://cdnjs.cloudflare.com/ajax/libs/mathjax/2.7.5/MathJax.js?config=TeX-AMS-MML_SVG\"></script><script type=\"text/javascript\">if (window.MathJax && window.MathJax.Hub && window.MathJax.Hub.Config) {window.MathJax.Hub.Config({SVG: {font: \"STIX-Web\"}});}</script>                <script type=\"text/javascript\">window.PlotlyConfig = {MathJaxConfig: 'local'};</script>\n",
              "        <script charset=\"utf-8\" src=\"https://cdn.plot.ly/plotly-2.24.1.min.js\"></script>                <div id=\"f07c7660-6477-45bf-9e9d-7585a96f5ce3\" class=\"plotly-graph-div\" style=\"height:525px; width:100%;\"></div>            <script type=\"text/javascript\">                                    window.PLOTLYENV=window.PLOTLYENV || {};                                    if (document.getElementById(\"f07c7660-6477-45bf-9e9d-7585a96f5ce3\")) {                    Plotly.newPlot(                        \"f07c7660-6477-45bf-9e9d-7585a96f5ce3\",                        [{\"mode\":\"lines+markers\",\"x\":[0,1,2,3,4,5,6,7,8,9,10,11,12,13,14,15,16,17,18,19,20,21,22,23,24,25,26,27,28,29,30,31,32,33,34,35,36,37,38,39,40,41,42,43,44,45,46,47,48,49,50,51,52,53,54,55,56,57,58,59,60,61,62,63,64,65,66,67,68,69,70,71,72,73,74,75,76,77,78,79,80,81,82,83,84,85,86,87,88,89,90,91,92,93,94,95,96,97,98,99,100,101,102,103,104,105,106,107,108,109,110,111,112,113,114,115,116,117,118,119,120,121,122,123,124,125,126,127,128,129,130,131,132,133,134,135,136,137,138,139,140,141,142,143,144,145,146,147,148,149,150,151,152,153,154,155,156,157,158,159,160,161,162,163,164,165,166,167,168,169,170,171,172,173,174,175,176,177,178,179,180,181,182,183,184,185,186,187,188,189,190,191,192,193,194,195,196,197,198,199],\"y\":[0.26990315318107605,0.45800086855888367,0.5437656044960022,0.6078455448150635,0.6206371188163757,0.6349515914916992,0.6601693630218506,0.6723518371582031,0.6792958378791809,0.6867880821228027,0.6986660361289978,0.6811232566833496,0.6951940059661865,0.7092038989067078,0.722665548324585,0.7340561747550964,0.7226046323776245,0.7218127846717834,0.7283303737640381,0.73978191614151,0.7291222810745239,0.7344825267791748,0.7375890612602234,0.741243839263916,0.7425230145454407,0.7402083277702332,0.7483705878257751,0.743863046169281,0.7503806948661804,0.7352744340896606,0.7360053658485413,0.7346043586730957,0.7408174276351929,0.7466650605201721,0.7518426179885864,0.7594566345214844,0.7524517178535461,0.7629286646842957,0.7593957781791687,0.7510507702827454,0.7514162063598633,0.7500152587890625,0.7394773960113525,0.7619540691375732,0.7520253658294678,0.7522080540657043,0.754400908946991,0.743863046169281,0.7551319003105164,0.7617104053497314,0.746786892414093,0.7538527250289917,0.7531827092170715,0.7559846639633179,0.7575074434280396,0.7607967257499695,0.7518426179885864,0.7558019161224365,0.750868022441864,0.7602485418319702,0.7606748938560486,0.7488579154014587,0.7607967257499695,0.7526953816413879,0.7438021302223206,0.7574465274810791,0.7491015195846558,0.7497106790542603,0.738076388835907,0.7489188313484192,0.7479442358016968,0.7439848780632019,0.7460559010505676,0.7501370310783386,0.7587866187095642,0.758116602897644,0.7487360835075378,0.7533653974533081,0.7460559010505676,0.7581775188446045,0.7432539463043213,0.7506852746009827,0.7459949851036072,0.758482038974762,0.7498934268951416,0.7539745569229126,0.7453858852386475,0.7493451833724976,0.7522080540657043,0.755862832069397,0.7547664046287537,0.7518426179885864,0.7551928162574768,0.7491015195846558,0.7524517178535461,0.7464213967323303,0.7501979470252991,0.7531217932701111,0.7496497631072998,0.7521471381187439,0.7487360835075378,0.7456295490264893,0.7530608773231506,0.7425230145454407,0.7475787401199341,0.7501979470252991,0.7523908019065857,0.7474569082260132,0.7434366941452026,0.740695595741272,0.7530608773231506,0.7475178241729736,0.7469695806503296,0.7605530619621277,0.7551928162574768,0.7451422214508057,0.7475178241729736,0.755862832069397,0.7453858852386475,0.7433757781982422,0.7450203895568848,0.741243839263916,0.7568983435630798,0.7450203895568848,0.7503806948661804,0.7539745569229126,0.7473350763320923,0.7479442358016968,0.7413047552108765,0.7536090612411499,0.7459340691566467,0.7448377013206482,0.7491015195846558,0.7432539463043213,0.7435585260391235,0.7533044815063477,0.7500152587890625,0.7461777329444885,0.7415484189987183,0.744411289691925,0.7492842674255371,0.7505025267601013,0.7442285418510437,0.7385637164115906,0.7422184348106384,0.7430711984634399,0.7332643270492554,0.741243839263916,0.7396600842475891,0.7375282049179077,0.7440457940101624,0.7477614879608154,0.743863046169281,0.7417311072349548,0.7475787401199341,0.7425839304924011,0.7510507702827454,0.7372845411300659,0.7417920231819153,0.7409392595291138,0.7434976100921631,0.7398428320884705,0.7478224039077759,0.7508071064949036,0.7407565116882324,0.7428884506225586,0.7442285418510437,0.7353353500366211,0.743863046169281,0.7453858852386475,0.7458122968673706,0.740695595741272,0.7369799613952637,0.7411220073699951,0.7306450605392456,0.7392337322235107,0.733081579208374,0.7346043586730957,0.7418529391288757,0.7325942516326904,0.7433148622512817,0.738990068435669,0.7529999613761902,0.7391119003295898,0.7377718091011047,0.7478224039077759,0.738990068435669,0.7376499772071838,0.7377108931541443,0.7312542200088501,0.7360053658485413,0.7365535497665405,0.7402692437171936,0.7448377013206482,0.7367972135543823,0.73253333568573,0.7469087243080139,0.7403910756111145,0.7378936409950256,0.7365535497665405],\"type\":\"scatter\"}],                        {\"template\":{\"data\":{\"histogram2dcontour\":[{\"type\":\"histogram2dcontour\",\"colorbar\":{\"outlinewidth\":0,\"ticks\":\"\"},\"colorscale\":[[0.0,\"#0d0887\"],[0.1111111111111111,\"#46039f\"],[0.2222222222222222,\"#7201a8\"],[0.3333333333333333,\"#9c179e\"],[0.4444444444444444,\"#bd3786\"],[0.5555555555555556,\"#d8576b\"],[0.6666666666666666,\"#ed7953\"],[0.7777777777777778,\"#fb9f3a\"],[0.8888888888888888,\"#fdca26\"],[1.0,\"#f0f921\"]]}],\"choropleth\":[{\"type\":\"choropleth\",\"colorbar\":{\"outlinewidth\":0,\"ticks\":\"\"}}],\"histogram2d\":[{\"type\":\"histogram2d\",\"colorbar\":{\"outlinewidth\":0,\"ticks\":\"\"},\"colorscale\":[[0.0,\"#0d0887\"],[0.1111111111111111,\"#46039f\"],[0.2222222222222222,\"#7201a8\"],[0.3333333333333333,\"#9c179e\"],[0.4444444444444444,\"#bd3786\"],[0.5555555555555556,\"#d8576b\"],[0.6666666666666666,\"#ed7953\"],[0.7777777777777778,\"#fb9f3a\"],[0.8888888888888888,\"#fdca26\"],[1.0,\"#f0f921\"]]}],\"heatmap\":[{\"type\":\"heatmap\",\"colorbar\":{\"outlinewidth\":0,\"ticks\":\"\"},\"colorscale\":[[0.0,\"#0d0887\"],[0.1111111111111111,\"#46039f\"],[0.2222222222222222,\"#7201a8\"],[0.3333333333333333,\"#9c179e\"],[0.4444444444444444,\"#bd3786\"],[0.5555555555555556,\"#d8576b\"],[0.6666666666666666,\"#ed7953\"],[0.7777777777777778,\"#fb9f3a\"],[0.8888888888888888,\"#fdca26\"],[1.0,\"#f0f921\"]]}],\"heatmapgl\":[{\"type\":\"heatmapgl\",\"colorbar\":{\"outlinewidth\":0,\"ticks\":\"\"},\"colorscale\":[[0.0,\"#0d0887\"],[0.1111111111111111,\"#46039f\"],[0.2222222222222222,\"#7201a8\"],[0.3333333333333333,\"#9c179e\"],[0.4444444444444444,\"#bd3786\"],[0.5555555555555556,\"#d8576b\"],[0.6666666666666666,\"#ed7953\"],[0.7777777777777778,\"#fb9f3a\"],[0.8888888888888888,\"#fdca26\"],[1.0,\"#f0f921\"]]}],\"contourcarpet\":[{\"type\":\"contourcarpet\",\"colorbar\":{\"outlinewidth\":0,\"ticks\":\"\"}}],\"contour\":[{\"type\":\"contour\",\"colorbar\":{\"outlinewidth\":0,\"ticks\":\"\"},\"colorscale\":[[0.0,\"#0d0887\"],[0.1111111111111111,\"#46039f\"],[0.2222222222222222,\"#7201a8\"],[0.3333333333333333,\"#9c179e\"],[0.4444444444444444,\"#bd3786\"],[0.5555555555555556,\"#d8576b\"],[0.6666666666666666,\"#ed7953\"],[0.7777777777777778,\"#fb9f3a\"],[0.8888888888888888,\"#fdca26\"],[1.0,\"#f0f921\"]]}],\"surface\":[{\"type\":\"surface\",\"colorbar\":{\"outlinewidth\":0,\"ticks\":\"\"},\"colorscale\":[[0.0,\"#0d0887\"],[0.1111111111111111,\"#46039f\"],[0.2222222222222222,\"#7201a8\"],[0.3333333333333333,\"#9c179e\"],[0.4444444444444444,\"#bd3786\"],[0.5555555555555556,\"#d8576b\"],[0.6666666666666666,\"#ed7953\"],[0.7777777777777778,\"#fb9f3a\"],[0.8888888888888888,\"#fdca26\"],[1.0,\"#f0f921\"]]}],\"mesh3d\":[{\"type\":\"mesh3d\",\"colorbar\":{\"outlinewidth\":0,\"ticks\":\"\"}}],\"scatter\":[{\"fillpattern\":{\"fillmode\":\"overlay\",\"size\":10,\"solidity\":0.2},\"type\":\"scatter\"}],\"parcoords\":[{\"type\":\"parcoords\",\"line\":{\"colorbar\":{\"outlinewidth\":0,\"ticks\":\"\"}}}],\"scatterpolargl\":[{\"type\":\"scatterpolargl\",\"marker\":{\"colorbar\":{\"outlinewidth\":0,\"ticks\":\"\"}}}],\"bar\":[{\"error_x\":{\"color\":\"#2a3f5f\"},\"error_y\":{\"color\":\"#2a3f5f\"},\"marker\":{\"line\":{\"color\":\"#E5ECF6\",\"width\":0.5},\"pattern\":{\"fillmode\":\"overlay\",\"size\":10,\"solidity\":0.2}},\"type\":\"bar\"}],\"scattergeo\":[{\"type\":\"scattergeo\",\"marker\":{\"colorbar\":{\"outlinewidth\":0,\"ticks\":\"\"}}}],\"scatterpolar\":[{\"type\":\"scatterpolar\",\"marker\":{\"colorbar\":{\"outlinewidth\":0,\"ticks\":\"\"}}}],\"histogram\":[{\"marker\":{\"pattern\":{\"fillmode\":\"overlay\",\"size\":10,\"solidity\":0.2}},\"type\":\"histogram\"}],\"scattergl\":[{\"type\":\"scattergl\",\"marker\":{\"colorbar\":{\"outlinewidth\":0,\"ticks\":\"\"}}}],\"scatter3d\":[{\"type\":\"scatter3d\",\"line\":{\"colorbar\":{\"outlinewidth\":0,\"ticks\":\"\"}},\"marker\":{\"colorbar\":{\"outlinewidth\":0,\"ticks\":\"\"}}}],\"scattermapbox\":[{\"type\":\"scattermapbox\",\"marker\":{\"colorbar\":{\"outlinewidth\":0,\"ticks\":\"\"}}}],\"scatterternary\":[{\"type\":\"scatterternary\",\"marker\":{\"colorbar\":{\"outlinewidth\":0,\"ticks\":\"\"}}}],\"scattercarpet\":[{\"type\":\"scattercarpet\",\"marker\":{\"colorbar\":{\"outlinewidth\":0,\"ticks\":\"\"}}}],\"carpet\":[{\"aaxis\":{\"endlinecolor\":\"#2a3f5f\",\"gridcolor\":\"white\",\"linecolor\":\"white\",\"minorgridcolor\":\"white\",\"startlinecolor\":\"#2a3f5f\"},\"baxis\":{\"endlinecolor\":\"#2a3f5f\",\"gridcolor\":\"white\",\"linecolor\":\"white\",\"minorgridcolor\":\"white\",\"startlinecolor\":\"#2a3f5f\"},\"type\":\"carpet\"}],\"table\":[{\"cells\":{\"fill\":{\"color\":\"#EBF0F8\"},\"line\":{\"color\":\"white\"}},\"header\":{\"fill\":{\"color\":\"#C8D4E3\"},\"line\":{\"color\":\"white\"}},\"type\":\"table\"}],\"barpolar\":[{\"marker\":{\"line\":{\"color\":\"#E5ECF6\",\"width\":0.5},\"pattern\":{\"fillmode\":\"overlay\",\"size\":10,\"solidity\":0.2}},\"type\":\"barpolar\"}],\"pie\":[{\"automargin\":true,\"type\":\"pie\"}]},\"layout\":{\"autotypenumbers\":\"strict\",\"colorway\":[\"#636efa\",\"#EF553B\",\"#00cc96\",\"#ab63fa\",\"#FFA15A\",\"#19d3f3\",\"#FF6692\",\"#B6E880\",\"#FF97FF\",\"#FECB52\"],\"font\":{\"color\":\"#2a3f5f\"},\"hovermode\":\"closest\",\"hoverlabel\":{\"align\":\"left\"},\"paper_bgcolor\":\"white\",\"plot_bgcolor\":\"#E5ECF6\",\"polar\":{\"bgcolor\":\"#E5ECF6\",\"angularaxis\":{\"gridcolor\":\"white\",\"linecolor\":\"white\",\"ticks\":\"\"},\"radialaxis\":{\"gridcolor\":\"white\",\"linecolor\":\"white\",\"ticks\":\"\"}},\"ternary\":{\"bgcolor\":\"#E5ECF6\",\"aaxis\":{\"gridcolor\":\"white\",\"linecolor\":\"white\",\"ticks\":\"\"},\"baxis\":{\"gridcolor\":\"white\",\"linecolor\":\"white\",\"ticks\":\"\"},\"caxis\":{\"gridcolor\":\"white\",\"linecolor\":\"white\",\"ticks\":\"\"}},\"coloraxis\":{\"colorbar\":{\"outlinewidth\":0,\"ticks\":\"\"}},\"colorscale\":{\"sequential\":[[0.0,\"#0d0887\"],[0.1111111111111111,\"#46039f\"],[0.2222222222222222,\"#7201a8\"],[0.3333333333333333,\"#9c179e\"],[0.4444444444444444,\"#bd3786\"],[0.5555555555555556,\"#d8576b\"],[0.6666666666666666,\"#ed7953\"],[0.7777777777777778,\"#fb9f3a\"],[0.8888888888888888,\"#fdca26\"],[1.0,\"#f0f921\"]],\"sequentialminus\":[[0.0,\"#0d0887\"],[0.1111111111111111,\"#46039f\"],[0.2222222222222222,\"#7201a8\"],[0.3333333333333333,\"#9c179e\"],[0.4444444444444444,\"#bd3786\"],[0.5555555555555556,\"#d8576b\"],[0.6666666666666666,\"#ed7953\"],[0.7777777777777778,\"#fb9f3a\"],[0.8888888888888888,\"#fdca26\"],[1.0,\"#f0f921\"]],\"diverging\":[[0,\"#8e0152\"],[0.1,\"#c51b7d\"],[0.2,\"#de77ae\"],[0.3,\"#f1b6da\"],[0.4,\"#fde0ef\"],[0.5,\"#f7f7f7\"],[0.6,\"#e6f5d0\"],[0.7,\"#b8e186\"],[0.8,\"#7fbc41\"],[0.9,\"#4d9221\"],[1,\"#276419\"]]},\"xaxis\":{\"gridcolor\":\"white\",\"linecolor\":\"white\",\"ticks\":\"\",\"title\":{\"standoff\":15},\"zerolinecolor\":\"white\",\"automargin\":true,\"zerolinewidth\":2},\"yaxis\":{\"gridcolor\":\"white\",\"linecolor\":\"white\",\"ticks\":\"\",\"title\":{\"standoff\":15},\"zerolinecolor\":\"white\",\"automargin\":true,\"zerolinewidth\":2},\"scene\":{\"xaxis\":{\"backgroundcolor\":\"#E5ECF6\",\"gridcolor\":\"white\",\"linecolor\":\"white\",\"showbackground\":true,\"ticks\":\"\",\"zerolinecolor\":\"white\",\"gridwidth\":2},\"yaxis\":{\"backgroundcolor\":\"#E5ECF6\",\"gridcolor\":\"white\",\"linecolor\":\"white\",\"showbackground\":true,\"ticks\":\"\",\"zerolinecolor\":\"white\",\"gridwidth\":2},\"zaxis\":{\"backgroundcolor\":\"#E5ECF6\",\"gridcolor\":\"white\",\"linecolor\":\"white\",\"showbackground\":true,\"ticks\":\"\",\"zerolinecolor\":\"white\",\"gridwidth\":2}},\"shapedefaults\":{\"line\":{\"color\":\"#2a3f5f\"}},\"annotationdefaults\":{\"arrowcolor\":\"#2a3f5f\",\"arrowhead\":0,\"arrowwidth\":1},\"geo\":{\"bgcolor\":\"white\",\"landcolor\":\"#E5ECF6\",\"subunitcolor\":\"white\",\"showland\":true,\"showlakes\":true,\"lakecolor\":\"white\"},\"title\":{\"x\":0.05},\"mapbox\":{\"style\":\"light\"}}},\"title\":{\"text\":\"BATCH + DROPOUT_RATE = 0.05\"},\"xaxis\":{\"title\":{\"text\":\"EPOCH\"}},\"yaxis\":{\"title\":{\"text\":\"ACCURACY\"}}},                        {\"responsive\": true}                    ).then(function(){\n",
              "                            \n",
              "var gd = document.getElementById('f07c7660-6477-45bf-9e9d-7585a96f5ce3');\n",
              "var x = new MutationObserver(function (mutations, observer) {{\n",
              "        var display = window.getComputedStyle(gd).display;\n",
              "        if (!display || display === 'none') {{\n",
              "            console.log([gd, 'removed!']);\n",
              "            Plotly.purge(gd);\n",
              "            observer.disconnect();\n",
              "        }}\n",
              "}});\n",
              "\n",
              "// Listen for the removal of the full notebook cells\n",
              "var notebookContainer = gd.closest('#notebook-container');\n",
              "if (notebookContainer) {{\n",
              "    x.observe(notebookContainer, {childList: true});\n",
              "}}\n",
              "\n",
              "// Listen for the clearing of the current output cell\n",
              "var outputEl = gd.closest('.output');\n",
              "if (outputEl) {{\n",
              "    x.observe(outputEl, {childList: true});\n",
              "}}\n",
              "\n",
              "                        })                };                            </script>        </div>\n",
              "</body>\n",
              "</html>"
            ]
          },
          "metadata": {}
        }
      ]
    },
    {
      "cell_type": "code",
      "source": [
        "fig = go.Figure(data=go.Scatter(x=[i for i in range(200)], y=test_accuracy_history[3], mode =\"lines+markers\"))\n",
        "fig.update_layout(title=\"BATCH + DROPOUT_RATE = 0.01\", xaxis_title = \"EPOCH\", yaxis_title = \"ACCURACY\")\n",
        "fig.show()"
      ],
      "metadata": {
        "colab": {
          "base_uri": "https://localhost:8080/",
          "height": 542
        },
        "id": "6RE1WvcJISk4",
        "outputId": "0177f475-b7d7-4b86-f6ec-d39619dd6a5d"
      },
      "execution_count": null,
      "outputs": [
        {
          "output_type": "display_data",
          "data": {
            "text/html": [
              "<html>\n",
              "<head><meta charset=\"utf-8\" /></head>\n",
              "<body>\n",
              "    <div>            <script src=\"https://cdnjs.cloudflare.com/ajax/libs/mathjax/2.7.5/MathJax.js?config=TeX-AMS-MML_SVG\"></script><script type=\"text/javascript\">if (window.MathJax && window.MathJax.Hub && window.MathJax.Hub.Config) {window.MathJax.Hub.Config({SVG: {font: \"STIX-Web\"}});}</script>                <script type=\"text/javascript\">window.PlotlyConfig = {MathJaxConfig: 'local'};</script>\n",
              "        <script charset=\"utf-8\" src=\"https://cdn.plot.ly/plotly-2.24.1.min.js\"></script>                <div id=\"2ab1e7a4-b1b7-4539-b3f5-a1c2f71f6daf\" class=\"plotly-graph-div\" style=\"height:525px; width:100%;\"></div>            <script type=\"text/javascript\">                                    window.PLOTLYENV=window.PLOTLYENV || {};                                    if (document.getElementById(\"2ab1e7a4-b1b7-4539-b3f5-a1c2f71f6daf\")) {                    Plotly.newPlot(                        \"2ab1e7a4-b1b7-4539-b3f5-a1c2f71f6daf\",                        [{\"mode\":\"lines+markers\",\"x\":[0,1,2,3,4,5,6,7,8,9,10,11,12,13,14,15,16,17,18,19,20,21,22,23,24,25,26,27,28,29,30,31,32,33,34,35,36,37,38,39,40,41,42,43,44,45,46,47,48,49,50,51,52,53,54,55,56,57,58,59,60,61,62,63,64,65,66,67,68,69,70,71,72,73,74,75,76,77,78,79,80,81,82,83,84,85,86,87,88,89,90,91,92,93,94,95,96,97,98,99,100,101,102,103,104,105,106,107,108,109,110,111,112,113,114,115,116,117,118,119,120,121,122,123,124,125,126,127,128,129,130,131,132,133,134,135,136,137,138,139,140,141,142,143,144,145,146,147,148,149,150,151,152,153,154,155,156,157,158,159,160,161,162,163,164,165,166,167,168,169,170,171,172,173,174,175,176,177,178,179,180,181,182,183,184,185,186,187,188,189,190,191,192,193,194,195,196,197,198,199],\"y\":[0.34695741534233093,0.48023390769958496,0.5610038638114929,0.617774248123169,0.6426874399185181,0.6595602035522461,0.6803922653198242,0.684717059135437,0.6872144937515259,0.6884327530860901,0.6994578838348389,0.6955595016479492,0.7031735181808472,0.7093865871429443,0.7163915634155273,0.7083510756492615,0.717670738697052,0.7223609685897827,0.7155387997627258,0.7142596244812012,0.7268685102462769,0.7253456711769104,0.7264420986175537,0.7346043586730957,0.7380154728889465,0.7166352272033691,0.7364926338195801,0.7295486330986023,0.7238838076591492,0.7199853658676147,0.7361881136894226,0.7266857624053955,0.7365535497665405,0.7185235023498535,0.7329597473144531,0.72528475522995,0.725832998752594,0.7143205404281616,0.7237010598182678,0.7236401438713074,0.7357617020606995,0.7314978241920471,0.7128586173057556,0.7360662817955017,0.7333252429962158,0.7219345569610596,0.7259548306465149,0.7374672889709473,0.7277821898460388,0.7387464046478271,0.7350307703018188,0.7367362976074219,0.7254675030708313,0.7282085418701172,0.730827808380127,0.7168179154396057,0.7351526021957397,0.7273557782173157,0.7237619757652283,0.7255284190177917,0.7150514721870422,0.7236401438713074,0.7268685102462769,0.722665548324585,0.7224828004837036,0.7318633198738098,0.7238838076591492,0.7253456711769104,0.7242492437362671,0.7165133953094482,0.7210817933082581,0.7258939146995544,0.7194980978965759,0.7285131216049194,0.7240055799484253,0.722665548324585,0.7163915634155273,0.7214472889900208,0.7173052430152893,0.7204117774963379,0.7215691208839417,0.7228482961654663,0.7235792279243469,0.708960235118866,0.7177925109863281,0.7199853658676147,0.71474689245224,0.7201681137084961,0.7178534269332886,0.7221782207489014,0.721751868724823,0.7157824039459229,0.7172443270683289,0.7275994420051575,0.725162923336029,0.7082293033599854,0.7178534269332886,0.7143205404281616,0.7109703421592712,0.7191326022148132,0.713833212852478,0.7160260677337646,0.7239447236061096,0.7090820670127869,0.7151123881340027,0.7078638076782227,0.7081074714660645,0.7119449377059937,0.7180361747741699,0.7032344341278076,0.7243101596832275,0.7143814563751221,0.7235792279243469,0.7110921740531921,0.7172443270683289,0.7128586173057556,0.7060973644256592,0.7141377925872803,0.7192544341087341,0.7163306474685669,0.7131022810935974,0.7174879908561707,0.7182798385620117,0.7157824039459229,0.7034780979156494,0.7140768766403198,0.7203508615493774,0.7037826776504517,0.7184016704559326,0.7133459448814392,0.7017116546630859,0.7111530900001526,0.7123713493347168,0.711214005947113,0.7162697315216064,0.7051836252212524,0.7146859765052795,0.7134068608283997,0.7085338234901428,0.7090820670127869,0.7083510756492615,0.7145642042160034,0.7123104333877563,0.6965340971946716,0.7054882049560547,0.7158433198928833,0.7140159606933594,0.7048181891441345,0.7000669836997986,0.7149296402931213,0.715660572052002,0.7079856395721436,0.7135895490646362,0.718584418296814,0.7162697315216064,0.7165133953094482,0.7196199297904968,0.7115185260772705,0.711579442024231,0.7128586173057556,0.6961076855659485,0.7049400210380554,0.712127685546875,0.7152342200279236,0.7157824039459229,0.7095084190368652,0.7084729075431824,0.7118231058120728,0.7173052430152893,0.7135895490646362,0.7062191367149353,0.7187671065330505,0.7056100368499756,0.708046555519104,0.7009807229042053,0.7090211510658264,0.7135895490646362,0.7068892121315002,0.7098129987716675,0.7145642042160034,0.7026253342628479,0.703965425491333,0.7061582803726196,0.7159042358398438,0.7207163572311401,0.6984832882881165,0.7000060677528381,0.7107875943183899,0.708960235118866,0.698422372341156,0.70420902967453,0.7124931216239929,0.7076810598373413,0.7045745253562927,0.7051836252212524,0.6983005404472351,0.7131631970405579,0.7016507387161255,0.7021989226341248,0.7077419757843018],\"type\":\"scatter\"}],                        {\"template\":{\"data\":{\"histogram2dcontour\":[{\"type\":\"histogram2dcontour\",\"colorbar\":{\"outlinewidth\":0,\"ticks\":\"\"},\"colorscale\":[[0.0,\"#0d0887\"],[0.1111111111111111,\"#46039f\"],[0.2222222222222222,\"#7201a8\"],[0.3333333333333333,\"#9c179e\"],[0.4444444444444444,\"#bd3786\"],[0.5555555555555556,\"#d8576b\"],[0.6666666666666666,\"#ed7953\"],[0.7777777777777778,\"#fb9f3a\"],[0.8888888888888888,\"#fdca26\"],[1.0,\"#f0f921\"]]}],\"choropleth\":[{\"type\":\"choropleth\",\"colorbar\":{\"outlinewidth\":0,\"ticks\":\"\"}}],\"histogram2d\":[{\"type\":\"histogram2d\",\"colorbar\":{\"outlinewidth\":0,\"ticks\":\"\"},\"colorscale\":[[0.0,\"#0d0887\"],[0.1111111111111111,\"#46039f\"],[0.2222222222222222,\"#7201a8\"],[0.3333333333333333,\"#9c179e\"],[0.4444444444444444,\"#bd3786\"],[0.5555555555555556,\"#d8576b\"],[0.6666666666666666,\"#ed7953\"],[0.7777777777777778,\"#fb9f3a\"],[0.8888888888888888,\"#fdca26\"],[1.0,\"#f0f921\"]]}],\"heatmap\":[{\"type\":\"heatmap\",\"colorbar\":{\"outlinewidth\":0,\"ticks\":\"\"},\"colorscale\":[[0.0,\"#0d0887\"],[0.1111111111111111,\"#46039f\"],[0.2222222222222222,\"#7201a8\"],[0.3333333333333333,\"#9c179e\"],[0.4444444444444444,\"#bd3786\"],[0.5555555555555556,\"#d8576b\"],[0.6666666666666666,\"#ed7953\"],[0.7777777777777778,\"#fb9f3a\"],[0.8888888888888888,\"#fdca26\"],[1.0,\"#f0f921\"]]}],\"heatmapgl\":[{\"type\":\"heatmapgl\",\"colorbar\":{\"outlinewidth\":0,\"ticks\":\"\"},\"colorscale\":[[0.0,\"#0d0887\"],[0.1111111111111111,\"#46039f\"],[0.2222222222222222,\"#7201a8\"],[0.3333333333333333,\"#9c179e\"],[0.4444444444444444,\"#bd3786\"],[0.5555555555555556,\"#d8576b\"],[0.6666666666666666,\"#ed7953\"],[0.7777777777777778,\"#fb9f3a\"],[0.8888888888888888,\"#fdca26\"],[1.0,\"#f0f921\"]]}],\"contourcarpet\":[{\"type\":\"contourcarpet\",\"colorbar\":{\"outlinewidth\":0,\"ticks\":\"\"}}],\"contour\":[{\"type\":\"contour\",\"colorbar\":{\"outlinewidth\":0,\"ticks\":\"\"},\"colorscale\":[[0.0,\"#0d0887\"],[0.1111111111111111,\"#46039f\"],[0.2222222222222222,\"#7201a8\"],[0.3333333333333333,\"#9c179e\"],[0.4444444444444444,\"#bd3786\"],[0.5555555555555556,\"#d8576b\"],[0.6666666666666666,\"#ed7953\"],[0.7777777777777778,\"#fb9f3a\"],[0.8888888888888888,\"#fdca26\"],[1.0,\"#f0f921\"]]}],\"surface\":[{\"type\":\"surface\",\"colorbar\":{\"outlinewidth\":0,\"ticks\":\"\"},\"colorscale\":[[0.0,\"#0d0887\"],[0.1111111111111111,\"#46039f\"],[0.2222222222222222,\"#7201a8\"],[0.3333333333333333,\"#9c179e\"],[0.4444444444444444,\"#bd3786\"],[0.5555555555555556,\"#d8576b\"],[0.6666666666666666,\"#ed7953\"],[0.7777777777777778,\"#fb9f3a\"],[0.8888888888888888,\"#fdca26\"],[1.0,\"#f0f921\"]]}],\"mesh3d\":[{\"type\":\"mesh3d\",\"colorbar\":{\"outlinewidth\":0,\"ticks\":\"\"}}],\"scatter\":[{\"fillpattern\":{\"fillmode\":\"overlay\",\"size\":10,\"solidity\":0.2},\"type\":\"scatter\"}],\"parcoords\":[{\"type\":\"parcoords\",\"line\":{\"colorbar\":{\"outlinewidth\":0,\"ticks\":\"\"}}}],\"scatterpolargl\":[{\"type\":\"scatterpolargl\",\"marker\":{\"colorbar\":{\"outlinewidth\":0,\"ticks\":\"\"}}}],\"bar\":[{\"error_x\":{\"color\":\"#2a3f5f\"},\"error_y\":{\"color\":\"#2a3f5f\"},\"marker\":{\"line\":{\"color\":\"#E5ECF6\",\"width\":0.5},\"pattern\":{\"fillmode\":\"overlay\",\"size\":10,\"solidity\":0.2}},\"type\":\"bar\"}],\"scattergeo\":[{\"type\":\"scattergeo\",\"marker\":{\"colorbar\":{\"outlinewidth\":0,\"ticks\":\"\"}}}],\"scatterpolar\":[{\"type\":\"scatterpolar\",\"marker\":{\"colorbar\":{\"outlinewidth\":0,\"ticks\":\"\"}}}],\"histogram\":[{\"marker\":{\"pattern\":{\"fillmode\":\"overlay\",\"size\":10,\"solidity\":0.2}},\"type\":\"histogram\"}],\"scattergl\":[{\"type\":\"scattergl\",\"marker\":{\"colorbar\":{\"outlinewidth\":0,\"ticks\":\"\"}}}],\"scatter3d\":[{\"type\":\"scatter3d\",\"line\":{\"colorbar\":{\"outlinewidth\":0,\"ticks\":\"\"}},\"marker\":{\"colorbar\":{\"outlinewidth\":0,\"ticks\":\"\"}}}],\"scattermapbox\":[{\"type\":\"scattermapbox\",\"marker\":{\"colorbar\":{\"outlinewidth\":0,\"ticks\":\"\"}}}],\"scatterternary\":[{\"type\":\"scatterternary\",\"marker\":{\"colorbar\":{\"outlinewidth\":0,\"ticks\":\"\"}}}],\"scattercarpet\":[{\"type\":\"scattercarpet\",\"marker\":{\"colorbar\":{\"outlinewidth\":0,\"ticks\":\"\"}}}],\"carpet\":[{\"aaxis\":{\"endlinecolor\":\"#2a3f5f\",\"gridcolor\":\"white\",\"linecolor\":\"white\",\"minorgridcolor\":\"white\",\"startlinecolor\":\"#2a3f5f\"},\"baxis\":{\"endlinecolor\":\"#2a3f5f\",\"gridcolor\":\"white\",\"linecolor\":\"white\",\"minorgridcolor\":\"white\",\"startlinecolor\":\"#2a3f5f\"},\"type\":\"carpet\"}],\"table\":[{\"cells\":{\"fill\":{\"color\":\"#EBF0F8\"},\"line\":{\"color\":\"white\"}},\"header\":{\"fill\":{\"color\":\"#C8D4E3\"},\"line\":{\"color\":\"white\"}},\"type\":\"table\"}],\"barpolar\":[{\"marker\":{\"line\":{\"color\":\"#E5ECF6\",\"width\":0.5},\"pattern\":{\"fillmode\":\"overlay\",\"size\":10,\"solidity\":0.2}},\"type\":\"barpolar\"}],\"pie\":[{\"automargin\":true,\"type\":\"pie\"}]},\"layout\":{\"autotypenumbers\":\"strict\",\"colorway\":[\"#636efa\",\"#EF553B\",\"#00cc96\",\"#ab63fa\",\"#FFA15A\",\"#19d3f3\",\"#FF6692\",\"#B6E880\",\"#FF97FF\",\"#FECB52\"],\"font\":{\"color\":\"#2a3f5f\"},\"hovermode\":\"closest\",\"hoverlabel\":{\"align\":\"left\"},\"paper_bgcolor\":\"white\",\"plot_bgcolor\":\"#E5ECF6\",\"polar\":{\"bgcolor\":\"#E5ECF6\",\"angularaxis\":{\"gridcolor\":\"white\",\"linecolor\":\"white\",\"ticks\":\"\"},\"radialaxis\":{\"gridcolor\":\"white\",\"linecolor\":\"white\",\"ticks\":\"\"}},\"ternary\":{\"bgcolor\":\"#E5ECF6\",\"aaxis\":{\"gridcolor\":\"white\",\"linecolor\":\"white\",\"ticks\":\"\"},\"baxis\":{\"gridcolor\":\"white\",\"linecolor\":\"white\",\"ticks\":\"\"},\"caxis\":{\"gridcolor\":\"white\",\"linecolor\":\"white\",\"ticks\":\"\"}},\"coloraxis\":{\"colorbar\":{\"outlinewidth\":0,\"ticks\":\"\"}},\"colorscale\":{\"sequential\":[[0.0,\"#0d0887\"],[0.1111111111111111,\"#46039f\"],[0.2222222222222222,\"#7201a8\"],[0.3333333333333333,\"#9c179e\"],[0.4444444444444444,\"#bd3786\"],[0.5555555555555556,\"#d8576b\"],[0.6666666666666666,\"#ed7953\"],[0.7777777777777778,\"#fb9f3a\"],[0.8888888888888888,\"#fdca26\"],[1.0,\"#f0f921\"]],\"sequentialminus\":[[0.0,\"#0d0887\"],[0.1111111111111111,\"#46039f\"],[0.2222222222222222,\"#7201a8\"],[0.3333333333333333,\"#9c179e\"],[0.4444444444444444,\"#bd3786\"],[0.5555555555555556,\"#d8576b\"],[0.6666666666666666,\"#ed7953\"],[0.7777777777777778,\"#fb9f3a\"],[0.8888888888888888,\"#fdca26\"],[1.0,\"#f0f921\"]],\"diverging\":[[0,\"#8e0152\"],[0.1,\"#c51b7d\"],[0.2,\"#de77ae\"],[0.3,\"#f1b6da\"],[0.4,\"#fde0ef\"],[0.5,\"#f7f7f7\"],[0.6,\"#e6f5d0\"],[0.7,\"#b8e186\"],[0.8,\"#7fbc41\"],[0.9,\"#4d9221\"],[1,\"#276419\"]]},\"xaxis\":{\"gridcolor\":\"white\",\"linecolor\":\"white\",\"ticks\":\"\",\"title\":{\"standoff\":15},\"zerolinecolor\":\"white\",\"automargin\":true,\"zerolinewidth\":2},\"yaxis\":{\"gridcolor\":\"white\",\"linecolor\":\"white\",\"ticks\":\"\",\"title\":{\"standoff\":15},\"zerolinecolor\":\"white\",\"automargin\":true,\"zerolinewidth\":2},\"scene\":{\"xaxis\":{\"backgroundcolor\":\"#E5ECF6\",\"gridcolor\":\"white\",\"linecolor\":\"white\",\"showbackground\":true,\"ticks\":\"\",\"zerolinecolor\":\"white\",\"gridwidth\":2},\"yaxis\":{\"backgroundcolor\":\"#E5ECF6\",\"gridcolor\":\"white\",\"linecolor\":\"white\",\"showbackground\":true,\"ticks\":\"\",\"zerolinecolor\":\"white\",\"gridwidth\":2},\"zaxis\":{\"backgroundcolor\":\"#E5ECF6\",\"gridcolor\":\"white\",\"linecolor\":\"white\",\"showbackground\":true,\"ticks\":\"\",\"zerolinecolor\":\"white\",\"gridwidth\":2}},\"shapedefaults\":{\"line\":{\"color\":\"#2a3f5f\"}},\"annotationdefaults\":{\"arrowcolor\":\"#2a3f5f\",\"arrowhead\":0,\"arrowwidth\":1},\"geo\":{\"bgcolor\":\"white\",\"landcolor\":\"#E5ECF6\",\"subunitcolor\":\"white\",\"showland\":true,\"showlakes\":true,\"lakecolor\":\"white\"},\"title\":{\"x\":0.05},\"mapbox\":{\"style\":\"light\"}}},\"title\":{\"text\":\"BATCH + DROPOUT_RATE = 0.01\"},\"xaxis\":{\"title\":{\"text\":\"EPOCH\"}},\"yaxis\":{\"title\":{\"text\":\"ACCURACY\"}}},                        {\"responsive\": true}                    ).then(function(){\n",
              "                            \n",
              "var gd = document.getElementById('2ab1e7a4-b1b7-4539-b3f5-a1c2f71f6daf');\n",
              "var x = new MutationObserver(function (mutations, observer) {{\n",
              "        var display = window.getComputedStyle(gd).display;\n",
              "        if (!display || display === 'none') {{\n",
              "            console.log([gd, 'removed!']);\n",
              "            Plotly.purge(gd);\n",
              "            observer.disconnect();\n",
              "        }}\n",
              "}});\n",
              "\n",
              "// Listen for the removal of the full notebook cells\n",
              "var notebookContainer = gd.closest('#notebook-container');\n",
              "if (notebookContainer) {{\n",
              "    x.observe(notebookContainer, {childList: true});\n",
              "}}\n",
              "\n",
              "// Listen for the clearing of the current output cell\n",
              "var outputEl = gd.closest('.output');\n",
              "if (outputEl) {{\n",
              "    x.observe(outputEl, {childList: true});\n",
              "}}\n",
              "\n",
              "                        })                };                            </script>        </div>\n",
              "</body>\n",
              "</html>"
            ]
          },
          "metadata": {}
        }
      ]
    },
    {
      "cell_type": "code",
      "source": [
        "fig = go.Figure(data=go.Scatter(x=[i for i in range(200)], y=test_accuracy_history[4], mode =\"lines+markers\"))\n",
        "fig.update_layout(title=\"BATCH + DROPOUT_RATE = 0.005\", xaxis_title = \"EPOCH\", yaxis_title = \"ACCURACY\")\n",
        "fig.show()"
      ],
      "metadata": {
        "colab": {
          "base_uri": "https://localhost:8080/",
          "height": 542
        },
        "id": "4OaR0a6xISk4",
        "outputId": "77a38952-8fee-475e-ec37-7b3a0c55355f"
      },
      "execution_count": null,
      "outputs": [
        {
          "output_type": "display_data",
          "data": {
            "text/html": [
              "<html>\n",
              "<head><meta charset=\"utf-8\" /></head>\n",
              "<body>\n",
              "    <div>            <script src=\"https://cdnjs.cloudflare.com/ajax/libs/mathjax/2.7.5/MathJax.js?config=TeX-AMS-MML_SVG\"></script><script type=\"text/javascript\">if (window.MathJax && window.MathJax.Hub && window.MathJax.Hub.Config) {window.MathJax.Hub.Config({SVG: {font: \"STIX-Web\"}});}</script>                <script type=\"text/javascript\">window.PlotlyConfig = {MathJaxConfig: 'local'};</script>\n",
              "        <script charset=\"utf-8\" src=\"https://cdn.plot.ly/plotly-2.24.1.min.js\"></script>                <div id=\"7affd2bf-8201-4b97-a102-c5c6cce57738\" class=\"plotly-graph-div\" style=\"height:525px; width:100%;\"></div>            <script type=\"text/javascript\">                                    window.PLOTLYENV=window.PLOTLYENV || {};                                    if (document.getElementById(\"7affd2bf-8201-4b97-a102-c5c6cce57738\")) {                    Plotly.newPlot(                        \"7affd2bf-8201-4b97-a102-c5c6cce57738\",                        [{\"mode\":\"lines+markers\",\"x\":[0,1,2,3,4,5,6,7,8,9,10,11,12,13,14,15,16,17,18,19,20,21,22,23,24,25,26,27,28,29,30,31,32,33,34,35,36,37,38,39,40,41,42,43,44,45,46,47,48,49,50,51,52,53,54,55,56,57,58,59,60,61,62,63,64,65,66,67,68,69,70,71,72,73,74,75,76,77,78,79,80,81,82,83,84,85,86,87,88,89,90,91,92,93,94,95,96,97,98,99,100,101,102,103,104,105,106,107,108,109,110,111,112,113,114,115,116,117,118,119,120,121,122,123,124,125,126,127,128,129,130,131,132,133,134,135,136,137,138,139,140,141,142,143,144,145,146,147,148,149,150,151,152,153,154,155,156,157,158,159,160,161,162,163,164,165,166,167,168,169,170,171,172,173,174,175,176,177,178,179,180,181,182,183,184,185,186,187,188,189,190,191,192,193,194,195,196,197,198,199],\"y\":[0.418712317943573,0.528842031955719,0.587744414806366,0.6141804456710815,0.623195469379425,0.6316623091697693,0.6479868292808533,0.6490832567214966,0.6646768450737,0.6790522336959839,0.6747883558273315,0.6872754096984863,0.6828896999359131,0.6925138831138611,0.7043917775154114,0.7040263414382935,0.6838642954826355,0.6919047236442566,0.6965340971946716,0.6897727847099304,0.7070110440254211,0.706584632396698,0.7052445411682129,0.700797975063324,0.7031126022338867,0.6968386173248291,0.7085338234901428,0.7105439305305481,0.7159651517868042,0.7032953500747681,0.7098739147186279,0.7151733040809631,0.703965425491333,0.7079856395721436,0.7095084190368652,0.7137113809585571,0.7045136094093323,0.7167569994926453,0.70749831199646,0.704879105091095,0.6968995332717896,0.7141377925872803,0.711579442024231,0.7100566625595093,0.7127367854118347,0.7070110440254211,0.7176098227500916,0.7113358378410339,0.7007370591163635,0.7078028917312622,0.7065237164497375,0.7164524793624878,0.7050009369850159,0.7101784944534302,0.7078028917312622,0.7000669836997986,0.7088993191719055,0.7068282961845398,0.6982396245002747,0.7116403579711914,0.7108485102653503,0.7154169678688049,0.7189498543739319,0.7032953500747681,0.7081074714660645,0.7066455483436584,0.7136504650115967,0.7088384032249451,0.7127977013587952,0.7067673802375793,0.7035390138626099,0.7043308615684509,0.7042699456214905,0.7045745253562927,0.7022598385810852,0.6895291209220886,0.7035999298095703,0.7105439305305481,0.7053663730621338,0.7009807229042053,0.7098129987716675,0.701041579246521,0.7055491209030151,0.6999452114105225,0.7059755325317383,0.6988487839698792,0.7087774872779846,0.7092648148536682,0.6930620670318604,0.6879454255104065,0.701589822769165,0.7083510756492615,0.7053054571151733,0.7060973644256592,0.7108485102653503,0.7005543112754822,0.6998233795166016,0.6817323565483093,0.7004324793815613,0.6961076855659485,0.6962295174598694,0.6973259449005127,0.7045136094093323,0.6931229829788208,0.703417181968689,0.7011024951934814,0.7049400210380554,0.710665762424469,0.7021380066871643,0.6879454255104065,0.6921483874320984,0.7051227688789368,0.7060973644256592,0.695254921913147,0.7034780979156494,0.6965950131416321,0.6944021582603455,0.6792349219322205,0.7057927846908569,0.7016507387161255,0.6983614563941956,0.6983614563941956,0.6965950131416321,0.6930620670318604,0.7015289068222046,0.6987878680229187,0.7109094262123108,0.6956204175949097,0.6866053342819214,0.6948285102844238,0.7012852430343628,0.708046555519104,0.7060973644256592,0.6958640217781067,0.6940366625785828,0.6968386173248291,0.6944630742073059,0.6988487839698792,0.703051745891571,0.7032344341278076,0.6992751359939575,0.7009198069572449,0.694341242313385,0.6880672574043274,0.6928184032440186,0.6886763572692871,0.7018334865570068,0.6929402351379395,0.6975696086883545,0.6900773644447327,0.6961686015129089,0.6882500052452087,0.6964122653007507,0.6870317459106445,0.683011531829834,0.6916001439094543,0.6958640217781067,0.692635715007782,0.6981787085533142,0.6958031058311462,0.6990314722061157,0.6865444183349609,0.6897727847099304,0.6984832882881165,0.6954985857009888,0.6926965713500977,0.6872144937515259,0.697508692741394,0.6905646324157715,0.6961686015129089,0.680635929107666,0.6929402351379395,0.7008588910102844,0.6900164484977722,0.6921483874320984,0.6921483874320984,0.6880672574043274,0.6925138831138611,0.7009807229042053,0.6885545253753662,0.6864835023880005,0.6911128759384155,0.695254921913147,0.6933666467666626,0.6911128759384155,0.6866662502288818,0.6865444183349609,0.6911128759384155,0.6948285102844238,0.6941584944725037,0.684717059135437,0.6850216388702393,0.6880063414573669,0.6923920512199402,0.6916001439094543,0.6873972415924072,0.6886763572692871,0.6911128759384155,0.689346432685852,0.6903819441795349],\"type\":\"scatter\"}],                        {\"template\":{\"data\":{\"histogram2dcontour\":[{\"type\":\"histogram2dcontour\",\"colorbar\":{\"outlinewidth\":0,\"ticks\":\"\"},\"colorscale\":[[0.0,\"#0d0887\"],[0.1111111111111111,\"#46039f\"],[0.2222222222222222,\"#7201a8\"],[0.3333333333333333,\"#9c179e\"],[0.4444444444444444,\"#bd3786\"],[0.5555555555555556,\"#d8576b\"],[0.6666666666666666,\"#ed7953\"],[0.7777777777777778,\"#fb9f3a\"],[0.8888888888888888,\"#fdca26\"],[1.0,\"#f0f921\"]]}],\"choropleth\":[{\"type\":\"choropleth\",\"colorbar\":{\"outlinewidth\":0,\"ticks\":\"\"}}],\"histogram2d\":[{\"type\":\"histogram2d\",\"colorbar\":{\"outlinewidth\":0,\"ticks\":\"\"},\"colorscale\":[[0.0,\"#0d0887\"],[0.1111111111111111,\"#46039f\"],[0.2222222222222222,\"#7201a8\"],[0.3333333333333333,\"#9c179e\"],[0.4444444444444444,\"#bd3786\"],[0.5555555555555556,\"#d8576b\"],[0.6666666666666666,\"#ed7953\"],[0.7777777777777778,\"#fb9f3a\"],[0.8888888888888888,\"#fdca26\"],[1.0,\"#f0f921\"]]}],\"heatmap\":[{\"type\":\"heatmap\",\"colorbar\":{\"outlinewidth\":0,\"ticks\":\"\"},\"colorscale\":[[0.0,\"#0d0887\"],[0.1111111111111111,\"#46039f\"],[0.2222222222222222,\"#7201a8\"],[0.3333333333333333,\"#9c179e\"],[0.4444444444444444,\"#bd3786\"],[0.5555555555555556,\"#d8576b\"],[0.6666666666666666,\"#ed7953\"],[0.7777777777777778,\"#fb9f3a\"],[0.8888888888888888,\"#fdca26\"],[1.0,\"#f0f921\"]]}],\"heatmapgl\":[{\"type\":\"heatmapgl\",\"colorbar\":{\"outlinewidth\":0,\"ticks\":\"\"},\"colorscale\":[[0.0,\"#0d0887\"],[0.1111111111111111,\"#46039f\"],[0.2222222222222222,\"#7201a8\"],[0.3333333333333333,\"#9c179e\"],[0.4444444444444444,\"#bd3786\"],[0.5555555555555556,\"#d8576b\"],[0.6666666666666666,\"#ed7953\"],[0.7777777777777778,\"#fb9f3a\"],[0.8888888888888888,\"#fdca26\"],[1.0,\"#f0f921\"]]}],\"contourcarpet\":[{\"type\":\"contourcarpet\",\"colorbar\":{\"outlinewidth\":0,\"ticks\":\"\"}}],\"contour\":[{\"type\":\"contour\",\"colorbar\":{\"outlinewidth\":0,\"ticks\":\"\"},\"colorscale\":[[0.0,\"#0d0887\"],[0.1111111111111111,\"#46039f\"],[0.2222222222222222,\"#7201a8\"],[0.3333333333333333,\"#9c179e\"],[0.4444444444444444,\"#bd3786\"],[0.5555555555555556,\"#d8576b\"],[0.6666666666666666,\"#ed7953\"],[0.7777777777777778,\"#fb9f3a\"],[0.8888888888888888,\"#fdca26\"],[1.0,\"#f0f921\"]]}],\"surface\":[{\"type\":\"surface\",\"colorbar\":{\"outlinewidth\":0,\"ticks\":\"\"},\"colorscale\":[[0.0,\"#0d0887\"],[0.1111111111111111,\"#46039f\"],[0.2222222222222222,\"#7201a8\"],[0.3333333333333333,\"#9c179e\"],[0.4444444444444444,\"#bd3786\"],[0.5555555555555556,\"#d8576b\"],[0.6666666666666666,\"#ed7953\"],[0.7777777777777778,\"#fb9f3a\"],[0.8888888888888888,\"#fdca26\"],[1.0,\"#f0f921\"]]}],\"mesh3d\":[{\"type\":\"mesh3d\",\"colorbar\":{\"outlinewidth\":0,\"ticks\":\"\"}}],\"scatter\":[{\"fillpattern\":{\"fillmode\":\"overlay\",\"size\":10,\"solidity\":0.2},\"type\":\"scatter\"}],\"parcoords\":[{\"type\":\"parcoords\",\"line\":{\"colorbar\":{\"outlinewidth\":0,\"ticks\":\"\"}}}],\"scatterpolargl\":[{\"type\":\"scatterpolargl\",\"marker\":{\"colorbar\":{\"outlinewidth\":0,\"ticks\":\"\"}}}],\"bar\":[{\"error_x\":{\"color\":\"#2a3f5f\"},\"error_y\":{\"color\":\"#2a3f5f\"},\"marker\":{\"line\":{\"color\":\"#E5ECF6\",\"width\":0.5},\"pattern\":{\"fillmode\":\"overlay\",\"size\":10,\"solidity\":0.2}},\"type\":\"bar\"}],\"scattergeo\":[{\"type\":\"scattergeo\",\"marker\":{\"colorbar\":{\"outlinewidth\":0,\"ticks\":\"\"}}}],\"scatterpolar\":[{\"type\":\"scatterpolar\",\"marker\":{\"colorbar\":{\"outlinewidth\":0,\"ticks\":\"\"}}}],\"histogram\":[{\"marker\":{\"pattern\":{\"fillmode\":\"overlay\",\"size\":10,\"solidity\":0.2}},\"type\":\"histogram\"}],\"scattergl\":[{\"type\":\"scattergl\",\"marker\":{\"colorbar\":{\"outlinewidth\":0,\"ticks\":\"\"}}}],\"scatter3d\":[{\"type\":\"scatter3d\",\"line\":{\"colorbar\":{\"outlinewidth\":0,\"ticks\":\"\"}},\"marker\":{\"colorbar\":{\"outlinewidth\":0,\"ticks\":\"\"}}}],\"scattermapbox\":[{\"type\":\"scattermapbox\",\"marker\":{\"colorbar\":{\"outlinewidth\":0,\"ticks\":\"\"}}}],\"scatterternary\":[{\"type\":\"scatterternary\",\"marker\":{\"colorbar\":{\"outlinewidth\":0,\"ticks\":\"\"}}}],\"scattercarpet\":[{\"type\":\"scattercarpet\",\"marker\":{\"colorbar\":{\"outlinewidth\":0,\"ticks\":\"\"}}}],\"carpet\":[{\"aaxis\":{\"endlinecolor\":\"#2a3f5f\",\"gridcolor\":\"white\",\"linecolor\":\"white\",\"minorgridcolor\":\"white\",\"startlinecolor\":\"#2a3f5f\"},\"baxis\":{\"endlinecolor\":\"#2a3f5f\",\"gridcolor\":\"white\",\"linecolor\":\"white\",\"minorgridcolor\":\"white\",\"startlinecolor\":\"#2a3f5f\"},\"type\":\"carpet\"}],\"table\":[{\"cells\":{\"fill\":{\"color\":\"#EBF0F8\"},\"line\":{\"color\":\"white\"}},\"header\":{\"fill\":{\"color\":\"#C8D4E3\"},\"line\":{\"color\":\"white\"}},\"type\":\"table\"}],\"barpolar\":[{\"marker\":{\"line\":{\"color\":\"#E5ECF6\",\"width\":0.5},\"pattern\":{\"fillmode\":\"overlay\",\"size\":10,\"solidity\":0.2}},\"type\":\"barpolar\"}],\"pie\":[{\"automargin\":true,\"type\":\"pie\"}]},\"layout\":{\"autotypenumbers\":\"strict\",\"colorway\":[\"#636efa\",\"#EF553B\",\"#00cc96\",\"#ab63fa\",\"#FFA15A\",\"#19d3f3\",\"#FF6692\",\"#B6E880\",\"#FF97FF\",\"#FECB52\"],\"font\":{\"color\":\"#2a3f5f\"},\"hovermode\":\"closest\",\"hoverlabel\":{\"align\":\"left\"},\"paper_bgcolor\":\"white\",\"plot_bgcolor\":\"#E5ECF6\",\"polar\":{\"bgcolor\":\"#E5ECF6\",\"angularaxis\":{\"gridcolor\":\"white\",\"linecolor\":\"white\",\"ticks\":\"\"},\"radialaxis\":{\"gridcolor\":\"white\",\"linecolor\":\"white\",\"ticks\":\"\"}},\"ternary\":{\"bgcolor\":\"#E5ECF6\",\"aaxis\":{\"gridcolor\":\"white\",\"linecolor\":\"white\",\"ticks\":\"\"},\"baxis\":{\"gridcolor\":\"white\",\"linecolor\":\"white\",\"ticks\":\"\"},\"caxis\":{\"gridcolor\":\"white\",\"linecolor\":\"white\",\"ticks\":\"\"}},\"coloraxis\":{\"colorbar\":{\"outlinewidth\":0,\"ticks\":\"\"}},\"colorscale\":{\"sequential\":[[0.0,\"#0d0887\"],[0.1111111111111111,\"#46039f\"],[0.2222222222222222,\"#7201a8\"],[0.3333333333333333,\"#9c179e\"],[0.4444444444444444,\"#bd3786\"],[0.5555555555555556,\"#d8576b\"],[0.6666666666666666,\"#ed7953\"],[0.7777777777777778,\"#fb9f3a\"],[0.8888888888888888,\"#fdca26\"],[1.0,\"#f0f921\"]],\"sequentialminus\":[[0.0,\"#0d0887\"],[0.1111111111111111,\"#46039f\"],[0.2222222222222222,\"#7201a8\"],[0.3333333333333333,\"#9c179e\"],[0.4444444444444444,\"#bd3786\"],[0.5555555555555556,\"#d8576b\"],[0.6666666666666666,\"#ed7953\"],[0.7777777777777778,\"#fb9f3a\"],[0.8888888888888888,\"#fdca26\"],[1.0,\"#f0f921\"]],\"diverging\":[[0,\"#8e0152\"],[0.1,\"#c51b7d\"],[0.2,\"#de77ae\"],[0.3,\"#f1b6da\"],[0.4,\"#fde0ef\"],[0.5,\"#f7f7f7\"],[0.6,\"#e6f5d0\"],[0.7,\"#b8e186\"],[0.8,\"#7fbc41\"],[0.9,\"#4d9221\"],[1,\"#276419\"]]},\"xaxis\":{\"gridcolor\":\"white\",\"linecolor\":\"white\",\"ticks\":\"\",\"title\":{\"standoff\":15},\"zerolinecolor\":\"white\",\"automargin\":true,\"zerolinewidth\":2},\"yaxis\":{\"gridcolor\":\"white\",\"linecolor\":\"white\",\"ticks\":\"\",\"title\":{\"standoff\":15},\"zerolinecolor\":\"white\",\"automargin\":true,\"zerolinewidth\":2},\"scene\":{\"xaxis\":{\"backgroundcolor\":\"#E5ECF6\",\"gridcolor\":\"white\",\"linecolor\":\"white\",\"showbackground\":true,\"ticks\":\"\",\"zerolinecolor\":\"white\",\"gridwidth\":2},\"yaxis\":{\"backgroundcolor\":\"#E5ECF6\",\"gridcolor\":\"white\",\"linecolor\":\"white\",\"showbackground\":true,\"ticks\":\"\",\"zerolinecolor\":\"white\",\"gridwidth\":2},\"zaxis\":{\"backgroundcolor\":\"#E5ECF6\",\"gridcolor\":\"white\",\"linecolor\":\"white\",\"showbackground\":true,\"ticks\":\"\",\"zerolinecolor\":\"white\",\"gridwidth\":2}},\"shapedefaults\":{\"line\":{\"color\":\"#2a3f5f\"}},\"annotationdefaults\":{\"arrowcolor\":\"#2a3f5f\",\"arrowhead\":0,\"arrowwidth\":1},\"geo\":{\"bgcolor\":\"white\",\"landcolor\":\"#E5ECF6\",\"subunitcolor\":\"white\",\"showland\":true,\"showlakes\":true,\"lakecolor\":\"white\"},\"title\":{\"x\":0.05},\"mapbox\":{\"style\":\"light\"}}},\"title\":{\"text\":\"BATCH + DROPOUT_RATE = 0.005\"},\"xaxis\":{\"title\":{\"text\":\"EPOCH\"}},\"yaxis\":{\"title\":{\"text\":\"ACCURACY\"}}},                        {\"responsive\": true}                    ).then(function(){\n",
              "                            \n",
              "var gd = document.getElementById('7affd2bf-8201-4b97-a102-c5c6cce57738');\n",
              "var x = new MutationObserver(function (mutations, observer) {{\n",
              "        var display = window.getComputedStyle(gd).display;\n",
              "        if (!display || display === 'none') {{\n",
              "            console.log([gd, 'removed!']);\n",
              "            Plotly.purge(gd);\n",
              "            observer.disconnect();\n",
              "        }}\n",
              "}});\n",
              "\n",
              "// Listen for the removal of the full notebook cells\n",
              "var notebookContainer = gd.closest('#notebook-container');\n",
              "if (notebookContainer) {{\n",
              "    x.observe(notebookContainer, {childList: true});\n",
              "}}\n",
              "\n",
              "// Listen for the clearing of the current output cell\n",
              "var outputEl = gd.closest('.output');\n",
              "if (outputEl) {{\n",
              "    x.observe(outputEl, {childList: true});\n",
              "}}\n",
              "\n",
              "                        })                };                            </script>        </div>\n",
              "</body>\n",
              "</html>"
            ]
          },
          "metadata": {}
        }
      ]
    },
    {
      "cell_type": "code",
      "source": [
        "fig = go.Figure(data=go.Scatter(x=[i for i in range(200)], y=test_accuracy_history[5], mode =\"lines+markers\"))\n",
        "fig.update_layout(title=\"BATCH + DROPOUT_RATE = 0.001\", xaxis_title = \"EPOCH\", yaxis_title = \"ACCURACY\")\n",
        "fig.show()"
      ],
      "metadata": {
        "colab": {
          "base_uri": "https://localhost:8080/",
          "height": 542
        },
        "id": "N6OgNMKFISk4",
        "outputId": "39975edf-5009-4ee2-cd3b-35cb1d9bc10f"
      },
      "execution_count": null,
      "outputs": [
        {
          "output_type": "display_data",
          "data": {
            "text/html": [
              "<html>\n",
              "<head><meta charset=\"utf-8\" /></head>\n",
              "<body>\n",
              "    <div>            <script src=\"https://cdnjs.cloudflare.com/ajax/libs/mathjax/2.7.5/MathJax.js?config=TeX-AMS-MML_SVG\"></script><script type=\"text/javascript\">if (window.MathJax && window.MathJax.Hub && window.MathJax.Hub.Config) {window.MathJax.Hub.Config({SVG: {font: \"STIX-Web\"}});}</script>                <script type=\"text/javascript\">window.PlotlyConfig = {MathJaxConfig: 'local'};</script>\n",
              "        <script charset=\"utf-8\" src=\"https://cdn.plot.ly/plotly-2.24.1.min.js\"></script>                <div id=\"88c305d6-0092-41c8-9a9a-37266bc530f4\" class=\"plotly-graph-div\" style=\"height:525px; width:100%;\"></div>            <script type=\"text/javascript\">                                    window.PLOTLYENV=window.PLOTLYENV || {};                                    if (document.getElementById(\"88c305d6-0092-41c8-9a9a-37266bc530f4\")) {                    Plotly.newPlot(                        \"88c305d6-0092-41c8-9a9a-37266bc530f4\",                        [{\"mode\":\"lines+markers\",\"x\":[0,1,2,3,4,5,6,7,8,9,10,11,12,13,14,15,16,17,18,19,20,21,22,23,24,25,26,27,28,29,30,31,32,33,34,35,36,37,38,39,40,41,42,43,44,45,46,47,48,49,50,51,52,53,54,55,56,57,58,59,60,61,62,63,64,65,66,67,68,69,70,71,72,73,74,75,76,77,78,79,80,81,82,83,84,85,86,87,88,89,90,91,92,93,94,95,96,97,98,99,100,101,102,103,104,105,106,107,108,109,110,111,112,113,114,115,116,117,118,119,120,121,122,123,124,125,126,127,128,129,130,131,132,133,134,135,136,137,138,139,140,141,142,143,144,145,146,147,148,149,150,151,152,153,154,155,156,157,158,159,160,161,162,163,164,165,166,167,168,169,170,171,172,173,174,175,176,177,178,179,180,181,182,183,184,185,186,187,188,189,190,191,192,193,194,195,196,197,198,199],\"y\":[0.328988254070282,0.48949259519577026,0.5672169327735901,0.5987086296081543,0.635438859462738,0.6431747674942017,0.6434184312820435,0.6666869521141052,0.684717059135437,0.6777730584144592,0.6917828917503357,0.6954376697540283,0.6974477767944336,0.699336051940918,0.6950721740722656,0.715660572052002,0.7026253342628479,0.7068282961845398,0.7104830145835876,0.7138941287994385,0.7188889384269714,0.7076810598373413,0.7224828004837036,0.7263811826705933,0.7205945253372192,0.7166352272033691,0.7181580066680908,0.7254675030708313,0.7223000526428223,0.7192544341087341,0.70749831199646,0.7141377925872803,0.7062191367149353,0.7219345569610596,0.724371075630188,0.717914342880249,0.7103612422943115,0.717914342880249,0.7090211510658264,0.7106048464775085,0.7247365713119507,0.710665762424469,0.7099348306655884,0.7093865871429443,0.7086556553840637,0.7055491209030151,0.7151123881340027,0.7155387997627258,0.7113967537879944,0.7168788313865662,0.7054272890090942,0.7137722969055176,0.715660572052002,0.7159042358398438,0.7166960835456848,0.7168179154396057,0.711214005947113,0.7137113809585571,0.7091429829597473,0.7088384032249451,0.7142596244812012,0.7133459448814392,0.7175489068031311,0.7149296402931213,0.7090211510658264,0.7035999298095703,0.7090820670127869,0.7113967537879944,0.7051836252212524,0.7068892121315002,0.7017116546630859,0.7026862502098083,0.6994578838348389,0.6961076855659485,0.7027471661567688,0.7120058536529541,0.6972041130065918,0.7110921740531921,0.7014679908752441,0.706584632396698,0.6981787085533142,0.6997624635696411,0.7051836252212524,0.7037217617034912,0.7046963572502136,0.7067673802375793,0.7045745253562927,0.7118231058120728,0.7073764801025391,0.6957422494888306,0.7107266783714294,0.7055491209030151,0.7020162343978882,0.6979959607124329,0.6963513493537903,0.701589822769165,0.6961686015129089,0.7020770907402039,0.703965425491333,0.6900164484977722,0.6972650289535522,0.7064018845558167,0.6961686015129089,0.6972650289535522,0.7007370591163635,0.6962295174598694,0.6912347078323364,0.6983614563941956,0.6946458220481873,0.6908082962036133,0.7026253342628479,0.7053663730621338,0.6885545253753662,0.701041579246521,0.6936712265014648,0.7017116546630859,0.6999452114105225,0.6981177926063538,0.7009198069572449,0.6904428601264954,0.6970213651657104,0.6918438076972961,0.6867880821228027,0.6869708299636841,0.6959249377250671,0.6950721740722656,0.6955595016479492,0.6892246007919312,0.6954985857009888,0.6884936094284058,0.6875190138816833,0.6912956237792969,0.6884327530860901,0.6884936094284058,0.6903819441795349,0.689346432685852,0.6901991963386536,0.6909910440444946,0.6910519599914551,0.6855698227882385,0.6930011510848999,0.6846561431884766,0.6886154413223267,0.6910519599914551,0.6987878680229187,0.6955595016479492,0.6936103105545044,0.6914174556732178,0.6891636848449707,0.6887372732162476,0.6863008141517639,0.6861180663108826,0.6912347078323364,0.6877626776695251,0.673387348651886,0.6883109211921692,0.6837424635887146,0.6818541884422302,0.685630738735199,0.6910519599914551,0.6841688752174377,0.6872754096984863,0.6788085699081421,0.6804531812667847,0.6916001439094543,0.6799659132957458,0.6837424635887146,0.6877017617225647,0.6828287839889526,0.6838642954826355,0.6805140972137451,0.670098066329956,0.6792349219322205,0.6707072257995605,0.6830724477767944,0.6917828917503357,0.676554799079895,0.6847779750823975,0.682097852230072,0.6802095174789429,0.6859353184700012,0.6711335778236389,0.686178982257843,0.6885545253753662,0.6856916546821594,0.6891027688980103,0.6743619441986084,0.6730827689170837,0.6826460361480713,0.674849271774292,0.6753974556922913,0.6729609370231628,0.6850825548171997,0.6804531812667847,0.683255136013031,0.6814886927604675,0.6763720512390137,0.6799659132957458,0.6792349219322205,0.6824023723602295],\"type\":\"scatter\"}],                        {\"template\":{\"data\":{\"histogram2dcontour\":[{\"type\":\"histogram2dcontour\",\"colorbar\":{\"outlinewidth\":0,\"ticks\":\"\"},\"colorscale\":[[0.0,\"#0d0887\"],[0.1111111111111111,\"#46039f\"],[0.2222222222222222,\"#7201a8\"],[0.3333333333333333,\"#9c179e\"],[0.4444444444444444,\"#bd3786\"],[0.5555555555555556,\"#d8576b\"],[0.6666666666666666,\"#ed7953\"],[0.7777777777777778,\"#fb9f3a\"],[0.8888888888888888,\"#fdca26\"],[1.0,\"#f0f921\"]]}],\"choropleth\":[{\"type\":\"choropleth\",\"colorbar\":{\"outlinewidth\":0,\"ticks\":\"\"}}],\"histogram2d\":[{\"type\":\"histogram2d\",\"colorbar\":{\"outlinewidth\":0,\"ticks\":\"\"},\"colorscale\":[[0.0,\"#0d0887\"],[0.1111111111111111,\"#46039f\"],[0.2222222222222222,\"#7201a8\"],[0.3333333333333333,\"#9c179e\"],[0.4444444444444444,\"#bd3786\"],[0.5555555555555556,\"#d8576b\"],[0.6666666666666666,\"#ed7953\"],[0.7777777777777778,\"#fb9f3a\"],[0.8888888888888888,\"#fdca26\"],[1.0,\"#f0f921\"]]}],\"heatmap\":[{\"type\":\"heatmap\",\"colorbar\":{\"outlinewidth\":0,\"ticks\":\"\"},\"colorscale\":[[0.0,\"#0d0887\"],[0.1111111111111111,\"#46039f\"],[0.2222222222222222,\"#7201a8\"],[0.3333333333333333,\"#9c179e\"],[0.4444444444444444,\"#bd3786\"],[0.5555555555555556,\"#d8576b\"],[0.6666666666666666,\"#ed7953\"],[0.7777777777777778,\"#fb9f3a\"],[0.8888888888888888,\"#fdca26\"],[1.0,\"#f0f921\"]]}],\"heatmapgl\":[{\"type\":\"heatmapgl\",\"colorbar\":{\"outlinewidth\":0,\"ticks\":\"\"},\"colorscale\":[[0.0,\"#0d0887\"],[0.1111111111111111,\"#46039f\"],[0.2222222222222222,\"#7201a8\"],[0.3333333333333333,\"#9c179e\"],[0.4444444444444444,\"#bd3786\"],[0.5555555555555556,\"#d8576b\"],[0.6666666666666666,\"#ed7953\"],[0.7777777777777778,\"#fb9f3a\"],[0.8888888888888888,\"#fdca26\"],[1.0,\"#f0f921\"]]}],\"contourcarpet\":[{\"type\":\"contourcarpet\",\"colorbar\":{\"outlinewidth\":0,\"ticks\":\"\"}}],\"contour\":[{\"type\":\"contour\",\"colorbar\":{\"outlinewidth\":0,\"ticks\":\"\"},\"colorscale\":[[0.0,\"#0d0887\"],[0.1111111111111111,\"#46039f\"],[0.2222222222222222,\"#7201a8\"],[0.3333333333333333,\"#9c179e\"],[0.4444444444444444,\"#bd3786\"],[0.5555555555555556,\"#d8576b\"],[0.6666666666666666,\"#ed7953\"],[0.7777777777777778,\"#fb9f3a\"],[0.8888888888888888,\"#fdca26\"],[1.0,\"#f0f921\"]]}],\"surface\":[{\"type\":\"surface\",\"colorbar\":{\"outlinewidth\":0,\"ticks\":\"\"},\"colorscale\":[[0.0,\"#0d0887\"],[0.1111111111111111,\"#46039f\"],[0.2222222222222222,\"#7201a8\"],[0.3333333333333333,\"#9c179e\"],[0.4444444444444444,\"#bd3786\"],[0.5555555555555556,\"#d8576b\"],[0.6666666666666666,\"#ed7953\"],[0.7777777777777778,\"#fb9f3a\"],[0.8888888888888888,\"#fdca26\"],[1.0,\"#f0f921\"]]}],\"mesh3d\":[{\"type\":\"mesh3d\",\"colorbar\":{\"outlinewidth\":0,\"ticks\":\"\"}}],\"scatter\":[{\"fillpattern\":{\"fillmode\":\"overlay\",\"size\":10,\"solidity\":0.2},\"type\":\"scatter\"}],\"parcoords\":[{\"type\":\"parcoords\",\"line\":{\"colorbar\":{\"outlinewidth\":0,\"ticks\":\"\"}}}],\"scatterpolargl\":[{\"type\":\"scatterpolargl\",\"marker\":{\"colorbar\":{\"outlinewidth\":0,\"ticks\":\"\"}}}],\"bar\":[{\"error_x\":{\"color\":\"#2a3f5f\"},\"error_y\":{\"color\":\"#2a3f5f\"},\"marker\":{\"line\":{\"color\":\"#E5ECF6\",\"width\":0.5},\"pattern\":{\"fillmode\":\"overlay\",\"size\":10,\"solidity\":0.2}},\"type\":\"bar\"}],\"scattergeo\":[{\"type\":\"scattergeo\",\"marker\":{\"colorbar\":{\"outlinewidth\":0,\"ticks\":\"\"}}}],\"scatterpolar\":[{\"type\":\"scatterpolar\",\"marker\":{\"colorbar\":{\"outlinewidth\":0,\"ticks\":\"\"}}}],\"histogram\":[{\"marker\":{\"pattern\":{\"fillmode\":\"overlay\",\"size\":10,\"solidity\":0.2}},\"type\":\"histogram\"}],\"scattergl\":[{\"type\":\"scattergl\",\"marker\":{\"colorbar\":{\"outlinewidth\":0,\"ticks\":\"\"}}}],\"scatter3d\":[{\"type\":\"scatter3d\",\"line\":{\"colorbar\":{\"outlinewidth\":0,\"ticks\":\"\"}},\"marker\":{\"colorbar\":{\"outlinewidth\":0,\"ticks\":\"\"}}}],\"scattermapbox\":[{\"type\":\"scattermapbox\",\"marker\":{\"colorbar\":{\"outlinewidth\":0,\"ticks\":\"\"}}}],\"scatterternary\":[{\"type\":\"scatterternary\",\"marker\":{\"colorbar\":{\"outlinewidth\":0,\"ticks\":\"\"}}}],\"scattercarpet\":[{\"type\":\"scattercarpet\",\"marker\":{\"colorbar\":{\"outlinewidth\":0,\"ticks\":\"\"}}}],\"carpet\":[{\"aaxis\":{\"endlinecolor\":\"#2a3f5f\",\"gridcolor\":\"white\",\"linecolor\":\"white\",\"minorgridcolor\":\"white\",\"startlinecolor\":\"#2a3f5f\"},\"baxis\":{\"endlinecolor\":\"#2a3f5f\",\"gridcolor\":\"white\",\"linecolor\":\"white\",\"minorgridcolor\":\"white\",\"startlinecolor\":\"#2a3f5f\"},\"type\":\"carpet\"}],\"table\":[{\"cells\":{\"fill\":{\"color\":\"#EBF0F8\"},\"line\":{\"color\":\"white\"}},\"header\":{\"fill\":{\"color\":\"#C8D4E3\"},\"line\":{\"color\":\"white\"}},\"type\":\"table\"}],\"barpolar\":[{\"marker\":{\"line\":{\"color\":\"#E5ECF6\",\"width\":0.5},\"pattern\":{\"fillmode\":\"overlay\",\"size\":10,\"solidity\":0.2}},\"type\":\"barpolar\"}],\"pie\":[{\"automargin\":true,\"type\":\"pie\"}]},\"layout\":{\"autotypenumbers\":\"strict\",\"colorway\":[\"#636efa\",\"#EF553B\",\"#00cc96\",\"#ab63fa\",\"#FFA15A\",\"#19d3f3\",\"#FF6692\",\"#B6E880\",\"#FF97FF\",\"#FECB52\"],\"font\":{\"color\":\"#2a3f5f\"},\"hovermode\":\"closest\",\"hoverlabel\":{\"align\":\"left\"},\"paper_bgcolor\":\"white\",\"plot_bgcolor\":\"#E5ECF6\",\"polar\":{\"bgcolor\":\"#E5ECF6\",\"angularaxis\":{\"gridcolor\":\"white\",\"linecolor\":\"white\",\"ticks\":\"\"},\"radialaxis\":{\"gridcolor\":\"white\",\"linecolor\":\"white\",\"ticks\":\"\"}},\"ternary\":{\"bgcolor\":\"#E5ECF6\",\"aaxis\":{\"gridcolor\":\"white\",\"linecolor\":\"white\",\"ticks\":\"\"},\"baxis\":{\"gridcolor\":\"white\",\"linecolor\":\"white\",\"ticks\":\"\"},\"caxis\":{\"gridcolor\":\"white\",\"linecolor\":\"white\",\"ticks\":\"\"}},\"coloraxis\":{\"colorbar\":{\"outlinewidth\":0,\"ticks\":\"\"}},\"colorscale\":{\"sequential\":[[0.0,\"#0d0887\"],[0.1111111111111111,\"#46039f\"],[0.2222222222222222,\"#7201a8\"],[0.3333333333333333,\"#9c179e\"],[0.4444444444444444,\"#bd3786\"],[0.5555555555555556,\"#d8576b\"],[0.6666666666666666,\"#ed7953\"],[0.7777777777777778,\"#fb9f3a\"],[0.8888888888888888,\"#fdca26\"],[1.0,\"#f0f921\"]],\"sequentialminus\":[[0.0,\"#0d0887\"],[0.1111111111111111,\"#46039f\"],[0.2222222222222222,\"#7201a8\"],[0.3333333333333333,\"#9c179e\"],[0.4444444444444444,\"#bd3786\"],[0.5555555555555556,\"#d8576b\"],[0.6666666666666666,\"#ed7953\"],[0.7777777777777778,\"#fb9f3a\"],[0.8888888888888888,\"#fdca26\"],[1.0,\"#f0f921\"]],\"diverging\":[[0,\"#8e0152\"],[0.1,\"#c51b7d\"],[0.2,\"#de77ae\"],[0.3,\"#f1b6da\"],[0.4,\"#fde0ef\"],[0.5,\"#f7f7f7\"],[0.6,\"#e6f5d0\"],[0.7,\"#b8e186\"],[0.8,\"#7fbc41\"],[0.9,\"#4d9221\"],[1,\"#276419\"]]},\"xaxis\":{\"gridcolor\":\"white\",\"linecolor\":\"white\",\"ticks\":\"\",\"title\":{\"standoff\":15},\"zerolinecolor\":\"white\",\"automargin\":true,\"zerolinewidth\":2},\"yaxis\":{\"gridcolor\":\"white\",\"linecolor\":\"white\",\"ticks\":\"\",\"title\":{\"standoff\":15},\"zerolinecolor\":\"white\",\"automargin\":true,\"zerolinewidth\":2},\"scene\":{\"xaxis\":{\"backgroundcolor\":\"#E5ECF6\",\"gridcolor\":\"white\",\"linecolor\":\"white\",\"showbackground\":true,\"ticks\":\"\",\"zerolinecolor\":\"white\",\"gridwidth\":2},\"yaxis\":{\"backgroundcolor\":\"#E5ECF6\",\"gridcolor\":\"white\",\"linecolor\":\"white\",\"showbackground\":true,\"ticks\":\"\",\"zerolinecolor\":\"white\",\"gridwidth\":2},\"zaxis\":{\"backgroundcolor\":\"#E5ECF6\",\"gridcolor\":\"white\",\"linecolor\":\"white\",\"showbackground\":true,\"ticks\":\"\",\"zerolinecolor\":\"white\",\"gridwidth\":2}},\"shapedefaults\":{\"line\":{\"color\":\"#2a3f5f\"}},\"annotationdefaults\":{\"arrowcolor\":\"#2a3f5f\",\"arrowhead\":0,\"arrowwidth\":1},\"geo\":{\"bgcolor\":\"white\",\"landcolor\":\"#E5ECF6\",\"subunitcolor\":\"white\",\"showland\":true,\"showlakes\":true,\"lakecolor\":\"white\"},\"title\":{\"x\":0.05},\"mapbox\":{\"style\":\"light\"}}},\"title\":{\"text\":\"BATCH + DROPOUT_RATE = 0.001\"},\"xaxis\":{\"title\":{\"text\":\"EPOCH\"}},\"yaxis\":{\"title\":{\"text\":\"ACCURACY\"}}},                        {\"responsive\": true}                    ).then(function(){\n",
              "                            \n",
              "var gd = document.getElementById('88c305d6-0092-41c8-9a9a-37266bc530f4');\n",
              "var x = new MutationObserver(function (mutations, observer) {{\n",
              "        var display = window.getComputedStyle(gd).display;\n",
              "        if (!display || display === 'none') {{\n",
              "            console.log([gd, 'removed!']);\n",
              "            Plotly.purge(gd);\n",
              "            observer.disconnect();\n",
              "        }}\n",
              "}});\n",
              "\n",
              "// Listen for the removal of the full notebook cells\n",
              "var notebookContainer = gd.closest('#notebook-container');\n",
              "if (notebookContainer) {{\n",
              "    x.observe(notebookContainer, {childList: true});\n",
              "}}\n",
              "\n",
              "// Listen for the clearing of the current output cell\n",
              "var outputEl = gd.closest('.output');\n",
              "if (outputEl) {{\n",
              "    x.observe(outputEl, {childList: true});\n",
              "}}\n",
              "\n",
              "                        })                };                            </script>        </div>\n",
              "</body>\n",
              "</html>"
            ]
          },
          "metadata": {}
        }
      ]
    },
    {
      "cell_type": "markdown",
      "source": [
        "***EXPERIMENT WITH EPOCHES***"
      ],
      "metadata": {
        "id": "nZrf7freJLkz"
      }
    },
    {
      "cell_type": "code",
      "source": [
        "accuracy_net = []\n",
        "for experiment in bar(range(20), desc = 'EXPERIMENT'):\n",
        "  loss = torch.nn.CrossEntropyLoss()\n",
        "  lenet = LeNet1().to(device)\n",
        "  optimizer = torch.optim.Adam(lenet.parameters(), lr=0.001)\n",
        "  batch_size = 1120\n",
        "  max_acc = 0\n",
        "\n",
        "  for epoch in range(118):\n",
        "    order = np.random.permutation(len(train_data))\n",
        "\n",
        "    for start_index in range(0, len(train_data), batch_size):\n",
        "      optimizer.zero_grad()\n",
        "\n",
        "      batch_indexes = order[start_index:start_index+batch_size]\n",
        "\n",
        "      data_batch = train_data[batch_indexes]\n",
        "      labels_batch= train_labels[batch_indexes]\n",
        "\n",
        "      preds = lenet.forward(data_batch)\n",
        "\n",
        "      loss_val = loss(preds, labels_batch)\n",
        "      loss_val.backward()\n",
        "\n",
        "      optimizer.step()\n",
        "    with torch.no_grad():\n",
        "      test_preds = lenet.forward(test_data)\n",
        "      accuracy = (test_preds.argmax(dim=1)==test_labels).float().mean().data.cpu()\n",
        "      max_acc = max(max_acc, accuracy)\n",
        "  accuracy_net.append(max_acc)\n",
        "  print(max_acc)\n",
        "print('ACCURACY OF 1st MODEL:\\n', *accuracy_net)"
      ],
      "metadata": {
        "id": "0fCGRzpRJTug"
      },
      "execution_count": null,
      "outputs": []
    },
    {
      "cell_type": "code",
      "source": [
        "acc1 = \"tensor(0.7182) tensor(0.7186) tensor(0.7147) tensor(0.7340) tensor(0.7180) tensor(0.7148) tensor(0.7160) tensor(0.7207) tensor(0.7213) tensor(0.7213) tensor(0.7222) tensor(0.7120) tensor(0.7225) tensor(0.7268) tensor(0.7397) tensor(0.7233) tensor(0.7325) tensor(0.7045)\""
      ],
      "metadata": {
        "id": "bjnN3q61GlO3"
      },
      "execution_count": 22,
      "outputs": []
    },
    {
      "cell_type": "code",
      "source": [
        "accuracy_net = []\n",
        "for experiment in bar(range(20), desc = 'EXPERIMENT', leave = False):\n",
        "\n",
        "  loss = torch.nn.CrossEntropyLoss()\n",
        "  lenet = LeNet2().to(device)\n",
        "\n",
        "  optimizer = torch.optim.Adam(lenet.parameters(), lr=0.001)\n",
        "  batch_size = 1120\n",
        "  max_acc = 0\n",
        "\n",
        "  for epoch in bar(range(35), leave=False):\n",
        "    order = np.random.permutation(len(train_data))\n",
        "\n",
        "    for start_index in range(0, len(train_data), batch_size):\n",
        "      optimizer.zero_grad()\n",
        "\n",
        "      batch_indexes = order[start_index:start_index+batch_size]\n",
        "\n",
        "      data_batch = train_data[batch_indexes]\n",
        "      labels_batch= train_labels[batch_indexes]\n",
        "\n",
        "      preds = lenet.forward(data_batch)\n",
        "\n",
        "      loss_val = loss(preds, labels_batch)\n",
        "      loss_val.backward()\n",
        "\n",
        "      optimizer.step()\n",
        "    with torch.no_grad():\n",
        "      test_preds = lenet.forward(test_data)\n",
        "      accuracy = (test_preds.argmax(dim=1)==test_labels).float().mean().data.cpu()\n",
        "      max_acc = max(max_acc, accuracy)\n",
        "  accuracy_net.append(max_acc)\n",
        "  print(max_acc)\n",
        "print('ACCURACY OF 2nd MODEL:\\n', *accuracy_net)"
      ],
      "metadata": {
        "id": "e9S0isgYc1I1"
      },
      "execution_count": null,
      "outputs": []
    },
    {
      "cell_type": "code",
      "source": [
        "acc2 = \"tensor(0.7261) tensor(0.7246) tensor(0.7000) tensor(0.7102) tensor(0.7364) tensor(0.7243) tensor(0.7470) tensor(0.7421) tensor(0.7535) tensor(0.6815) tensor(0.7428) tensor(0.6279) tensor(0.6547) tensor(0.7359) tensor(0.7280) tensor(0.7422) tensor(0.7506) tensor(0.6987) tensor(0.6503) tensor(0.7093)\""
      ],
      "metadata": {
        "id": "G_X3xkNHL5iF"
      },
      "execution_count": 23,
      "outputs": []
    },
    {
      "cell_type": "code",
      "source": [
        "dropout_rate = [0.5, 0.1, 0.05, 0.01, 0.005, 0.001]\n",
        "epochs = [205,104,147,69,110,104]\n",
        "\n",
        "for rate in bar(range(6), desc = \"DROPOUT RATE\", leave= False):\n",
        "  accuracy_net = []\n",
        "  for experiment in bar(range(20), desc = 'EXPERIMENT', leave = False):\n",
        "\n",
        "    loss = torch.nn.CrossEntropyLoss()\n",
        "    lenet = LeNet3(dropout_rate[rate]).to(device)\n",
        "\n",
        "    optimizer = torch.optim.Adam(lenet.parameters(), lr=0.001)\n",
        "    batch_size = 1120\n",
        "    max_acc = 0\n",
        "\n",
        "    for epoch in bar(range(epochs[rate]), leave=False):\n",
        "      order = np.random.permutation(len(train_data))\n",
        "\n",
        "      for start_index in range(0, len(train_data), batch_size):\n",
        "        optimizer.zero_grad()\n",
        "\n",
        "        batch_indexes = order[start_index:start_index+batch_size]\n",
        "\n",
        "        data_batch = train_data[batch_indexes]\n",
        "        labels_batch= train_labels[batch_indexes]\n",
        "\n",
        "        preds = lenet.forward(data_batch)\n",
        "\n",
        "        loss_val = loss(preds, labels_batch)\n",
        "        loss_val.backward()\n",
        "\n",
        "        optimizer.step()\n",
        "      lenet.eval()\n",
        "      with torch.no_grad():\n",
        "        test_preds = lenet.forward(test_data)\n",
        "        accuracy = (test_preds.argmax(dim=1)==test_labels).float().mean().data.cpu()\n",
        "        max_acc = max(max_acc, accuracy)\n",
        "      lenet.train()\n",
        "    accuracy_net.append(max_acc)\n",
        "    print(max_acc)\n",
        "  print(f'ACCURACY OF 3.{rate+1} MODEL:\\n', *accuracy_net)"
      ],
      "metadata": {
        "id": "OcRE0JBmdKFh"
      },
      "execution_count": null,
      "outputs": []
    },
    {
      "cell_type": "code",
      "source": [
        "acc3_0 = \"tensor(0.5991) tensor(0.6754) tensor(0.6535) tensor(0.6773) tensor(0.5614) tensor(0.5723) tensor(0.6599) tensor(0.6379) tensor(0.6791) tensor(0.6047) tensor(0.6546) tensor(0.5907) tensor(0.5968) tensor(0.6918) tensor(0.6437) tensor(0.6322) tensor(0.5952) tensor(0.5083) tensor(0.6255)\"\n",
        "acc3_1 = \"tensor(0.7235) tensor(0.7484) tensor(0.7274) tensor(0.7356) tensor(0.7252) tensor(0.7490) tensor(0.7201) tensor(0.7446) tensor(0.7459) tensor(0.7138) tensor(0.7422) tensor(0.7403) tensor(0.7314) tensor(0.7618) tensor(0.7348) tensor(0.7453) tensor(0.7397) tensor(0.7273) tensor(0.7408) tensor(0.7451)\"\n",
        "acc3_2 = \"tensor(0.7406) tensor(0.7413) tensor(0.7418) tensor(0.7373) tensor(0.7444) tensor(0.7330) tensor(0.7172) tensor(0.7546) tensor(0.7342) tensor(0.7366) tensor(0.7526) tensor(0.7320) tensor(0.7372) tensor(0.7160) tensor(0.7462) tensor(0.7256) tensor(0.7353) tensor(0.7431) tensor(0.7359) tensor(0.7272)\"\n",
        "acc3_3 = \"tensor(0.7416) tensor(0.7154) tensor(0.7268) tensor(0.7294) tensor(0.7054) tensor(0.7392) tensor(0.7348) tensor(0.7246) tensor(0.7241) tensor(0.7207) tensor(0.7391) tensor(0.7167) tensor(0.6872) tensor(0.7091) tensor(0.7309) tensor(0.6950) tensor(0.7348) tensor(0.6820) tensor(0.7061)\"\n",
        "acc3_4 = \"tensor(0.7275) tensor(0.7140) tensor(0.7207) tensor(0.7271) tensor(0.7290) tensor(0.7286) tensor(0.7046) tensor(0.7347) tensor(0.7263) tensor(0.7278) tensor(0.7151) tensor(0.7342) tensor(0.7372) tensor(0.7306) tensor(0.7327) tensor(0.6839) tensor(0.7167) tensor(0.7215) tensor(0.7165)\"\n",
        "acc3_5 = \"tensor(0.7127) tensor(0.7310) tensor(0.7106) tensor(0.7267) tensor(0.7213) tensor(0.7216) tensor(0.7101) tensor(0.7232) tensor(0.7108) tensor(0.7235) tensor(0.7372) tensor(0.7266) tensor(0.7249) tensor(0.7264) tensor(0.7293) tensor(0.6998) tensor(0.7283) tensor(0.7239) tensor(0.7375) tensor(0.7171)\""
      ],
      "metadata": {
        "id": "DaqtR1L4MlmJ"
      },
      "execution_count": 24,
      "outputs": []
    },
    {
      "cell_type": "code",
      "source": [
        "dropout_rate = [0.5, 0.1, 0.05, 0.01, 0.005, 0.001]\n",
        "epochs = [171,141,47,59,72,33]\n",
        "\n",
        "for rate in bar(range(6), desc = \"DROPOUT RATE\", leave= False):\n",
        "  accuracy_net = []\n",
        "  for experiment in bar(range(20), desc = 'EXPERIMENT', leave = False):\n",
        "\n",
        "    loss = torch.nn.CrossEntropyLoss()\n",
        "    lenet = LeNet4(dropout_rate[rate]).to(device)\n",
        "\n",
        "    optimizer = torch.optim.Adam(lenet.parameters(), lr=0.001)\n",
        "    batch_size = 1120\n",
        "    max_acc = 0\n",
        "\n",
        "    for epoch in bar(range(epochs[rate]), leave=False):\n",
        "      order = np.random.permutation(len(train_data))\n",
        "\n",
        "      for start_index in range(0, len(train_data), batch_size):\n",
        "        optimizer.zero_grad()\n",
        "\n",
        "        batch_indexes = order[start_index:start_index+batch_size]\n",
        "\n",
        "        data_batch = train_data[batch_indexes]\n",
        "        labels_batch= train_labels[batch_indexes]\n",
        "\n",
        "        preds = lenet.forward(data_batch)\n",
        "\n",
        "        loss_val = loss(preds, labels_batch)\n",
        "        loss_val.backward()\n",
        "\n",
        "        optimizer.step()\n",
        "      lenet.eval()\n",
        "      with torch.no_grad():\n",
        "        test_preds = lenet.forward(test_data)\n",
        "        accuracy = (test_preds.argmax(dim=1)==test_labels).float().mean().data.cpu()\n",
        "        max_acc = max(max_acc, accuracy)\n",
        "      lenet.train()\n",
        "    accuracy_net.append(max_acc)\n",
        "    print(max_acc)\n",
        "  print(f'ACCURACY OF 4.{rate} MODEL:\\n', *accuracy_net)"
      ],
      "metadata": {
        "id": "E8rojshRd533"
      },
      "execution_count": null,
      "outputs": []
    },
    {
      "cell_type": "code",
      "source": [
        "dropout_rate = [0.1, 0.05, 0.01, 0.005, 0.001]\n",
        "epochs = [141,47,59,72,33]\n",
        "\n",
        "for rate in bar(range(5), desc = \"DROPOUT RATE\", leave= False):\n",
        "  accuracy_net = []\n",
        "  for experiment in bar(range(20), desc = 'EXPERIMENT', leave = False):\n",
        "\n",
        "    loss = torch.nn.CrossEntropyLoss()\n",
        "    lenet = LeNet4(dropout_rate[rate]).to(device)\n",
        "\n",
        "    optimizer = torch.optim.Adam(lenet.parameters(), lr=0.001)\n",
        "    batch_size = 1120\n",
        "    max_acc = 0\n",
        "\n",
        "    for epoch in bar(range(epochs[rate]), leave=False):\n",
        "      order = np.random.permutation(len(train_data))\n",
        "\n",
        "      for start_index in range(0, len(train_data), batch_size):\n",
        "        optimizer.zero_grad()\n",
        "\n",
        "        batch_indexes = order[start_index:start_index+batch_size]\n",
        "\n",
        "        data_batch = train_data[batch_indexes]\n",
        "        labels_batch= train_labels[batch_indexes]\n",
        "\n",
        "        preds = lenet.forward(data_batch)\n",
        "\n",
        "        loss_val = loss(preds, labels_batch)\n",
        "        loss_val.backward()\n",
        "\n",
        "        optimizer.step()\n",
        "      lenet.eval()\n",
        "      with torch.no_grad():\n",
        "        test_preds = lenet.forward(test_data)\n",
        "        accuracy = (test_preds.argmax(dim=1)==test_labels).float().mean().data.cpu()\n",
        "        max_acc = max(max_acc, accuracy)\n",
        "      lenet.train()\n",
        "    accuracy_net.append(max_acc)\n",
        "    print(max_acc)\n",
        "  print(f'ACCURACY OF 4.{rate+1} MODEL:\\n', *accuracy_net)"
      ],
      "metadata": {
        "id": "MkTXL1j2TojE"
      },
      "execution_count": null,
      "outputs": []
    },
    {
      "cell_type": "code",
      "source": [
        "acc4_0 = \"tensor(0.6564) tensor(0.6586) tensor(0.6390) tensor(0.6250) tensor(0.7214) tensor(0.6965) tensor(0.6738) tensor(0.6822) tensor(0.7007) tensor(0.6971) tensor(0.7067) tensor(0.6618) tensor(0.6691) tensor(0.6736) tensor(0.6641) tensor(0.6847) tensor(0.6226) tensor(0.6895) tensor(0.6595) tensor(0.6286)\"\n",
        "acc4_1 = \"tensor(0.7471) tensor(0.7701) tensor(0.7646) tensor(0.7560) tensor(0.7721) tensor(0.7629) tensor(0.7675) tensor(0.7545) tensor(0.7745) tensor(0.7666) tensor(0.7671) tensor(0.7504) tensor(0.7899) tensor(0.7805) tensor(0.7891) tensor(0.7847) tensor(0.7655) tensor(0.7525) tensor(0.7743) tensor(0.7506)\"\n",
        "acc4_2 = \"tensor(0.7747) tensor(0.7565) tensor(0.7752) tensor(0.7832) tensor(0.7759) tensor(0.7514) tensor(0.7236) tensor(0.7539) tensor(0.7445) tensor(0.7722) tensor(0.7601) tensor(0.7671) tensor(0.7273) tensor(0.7708) tensor(0.7691) tensor(0.7564) tensor(0.7683) tensor(0.7331) tensor(0.7626) tensor(0.7610)\"\n",
        "acc4_3 = \"tensor(0.7460) tensor(0.7280) tensor(0.7405) tensor(0.7305) tensor(0.7458) tensor(0.7608) tensor(0.7659) tensor(0.7298) tensor(0.7636) tensor(0.7161) tensor(0.7648) tensor(0.7521) tensor(0.7724) tensor(0.7495) tensor(0.7384) tensor(0.7598) tensor(0.7551) tensor(0.7606) tensor(0.7567) tensor(0.7504)\"\n",
        "acc4_4 = \"tensor(0.7188) tensor(0.7408) tensor(0.7476) tensor(0.7428) tensor(0.7587) tensor(0.7589) tensor(0.7410) tensor(0.7407) tensor(0.7584) tensor(0.7629) tensor(0.7454) tensor(0.7453) tensor(0.7312) tensor(0.7407) tensor(0.7496) tensor(0.7357) tensor(0.7519) tensor(0.7511) tensor(0.7365) tensor(0.7585)\"\n",
        "acc4_5 = \"tensor(0.7179) tensor(0.7532) tensor(0.7177) tensor(0.7180) tensor(0.7324) tensor(0.7305) tensor(0.7318) tensor(0.7309) tensor(0.7130) tensor(0.7482) tensor(0.6700) tensor(0.7284) tensor(0.6964) tensor(0.7356) tensor(0.7241) tensor(0.7107) tensor(0.7046) tensor(0.7420) tensor(0.7348) tensor(0.7350)\""
      ],
      "metadata": {
        "id": "KCyuF1qthVlw"
      },
      "execution_count": 25,
      "outputs": []
    },
    {
      "cell_type": "code",
      "source": [
        "samples = [acc1, acc2, acc3_0, acc3_1, acc3_2, acc3_3, acc3_4, acc3_5, acc4_0, acc4_1, acc4_2, acc4_3, acc4_4, acc4_5]\n",
        "for i in range(len(samples)):\n",
        "    samples[i] = list(map(float, samples[i].replace(\"tensor(\", '').replace(')', '').replace(\"[\",\"\").replace(\"]\", \"\").split()))"
      ],
      "metadata": {
        "id": "NKq_yMeg9igP"
      },
      "execution_count": 26,
      "outputs": []
    },
    {
      "cell_type": "code",
      "source": [
        "plt.figure(figsize = (16., 6.))\n",
        "plt.boxplot(samples)"
      ],
      "metadata": {
        "colab": {
          "base_uri": "https://localhost:8080/",
          "height": 1000
        },
        "id": "MnlWKIGR_Dt6",
        "outputId": "d4ffbbd0-e3ce-4573-b081-92d0cbb83755"
      },
      "execution_count": 27,
      "outputs": [
        {
          "output_type": "execute_result",
          "data": {
            "text/plain": [
              "{'whiskers': [<matplotlib.lines.Line2D at 0x7ae1905224a0>,\n",
              "  <matplotlib.lines.Line2D at 0x7ae190522740>,\n",
              "  <matplotlib.lines.Line2D at 0x7ae190523160>,\n",
              "  <matplotlib.lines.Line2D at 0x7ae190523400>,\n",
              "  <matplotlib.lines.Line2D at 0x7ae190560430>,\n",
              "  <matplotlib.lines.Line2D at 0x7ae1905606d0>,\n",
              "  <matplotlib.lines.Line2D at 0x7ae190561690>,\n",
              "  <matplotlib.lines.Line2D at 0x7ae190561930>,\n",
              "  <matplotlib.lines.Line2D at 0x7ae1905628f0>,\n",
              "  <matplotlib.lines.Line2D at 0x7ae190562b90>,\n",
              "  <matplotlib.lines.Line2D at 0x7ae190563b50>,\n",
              "  <matplotlib.lines.Line2D at 0x7ae190563df0>,\n",
              "  <matplotlib.lines.Line2D at 0x7ae19059cdf0>,\n",
              "  <matplotlib.lines.Line2D at 0x7ae19059d090>,\n",
              "  <matplotlib.lines.Line2D at 0x7ae19059e050>,\n",
              "  <matplotlib.lines.Line2D at 0x7ae19059e2f0>,\n",
              "  <matplotlib.lines.Line2D at 0x7ae19059f2b0>,\n",
              "  <matplotlib.lines.Line2D at 0x7ae19059f580>,\n",
              "  <matplotlib.lines.Line2D at 0x7ae1905dc580>,\n",
              "  <matplotlib.lines.Line2D at 0x7ae1905dc820>,\n",
              "  <matplotlib.lines.Line2D at 0x7ae1905dd7e0>,\n",
              "  <matplotlib.lines.Line2D at 0x7ae1905dda80>,\n",
              "  <matplotlib.lines.Line2D at 0x7ae1905dea40>,\n",
              "  <matplotlib.lines.Line2D at 0x7ae1905dece0>,\n",
              "  <matplotlib.lines.Line2D at 0x7ae1905dfca0>,\n",
              "  <matplotlib.lines.Line2D at 0x7ae1905dff40>,\n",
              "  <matplotlib.lines.Line2D at 0x7ae190418f40>,\n",
              "  <matplotlib.lines.Line2D at 0x7ae1904191e0>],\n",
              " 'caps': [<matplotlib.lines.Line2D at 0x7ae192637850>,\n",
              "  <matplotlib.lines.Line2D at 0x7ae192634c40>,\n",
              "  <matplotlib.lines.Line2D at 0x7ae1905236a0>,\n",
              "  <matplotlib.lines.Line2D at 0x7ae190523940>,\n",
              "  <matplotlib.lines.Line2D at 0x7ae190560970>,\n",
              "  <matplotlib.lines.Line2D at 0x7ae190560c10>,\n",
              "  <matplotlib.lines.Line2D at 0x7ae190561bd0>,\n",
              "  <matplotlib.lines.Line2D at 0x7ae190561e70>,\n",
              "  <matplotlib.lines.Line2D at 0x7ae190562e30>,\n",
              "  <matplotlib.lines.Line2D at 0x7ae1905630d0>,\n",
              "  <matplotlib.lines.Line2D at 0x7ae19059c0d0>,\n",
              "  <matplotlib.lines.Line2D at 0x7ae19059c370>,\n",
              "  <matplotlib.lines.Line2D at 0x7ae19059d330>,\n",
              "  <matplotlib.lines.Line2D at 0x7ae19059d5d0>,\n",
              "  <matplotlib.lines.Line2D at 0x7ae19059e590>,\n",
              "  <matplotlib.lines.Line2D at 0x7ae19059e830>,\n",
              "  <matplotlib.lines.Line2D at 0x7ae19059f820>,\n",
              "  <matplotlib.lines.Line2D at 0x7ae19059fac0>,\n",
              "  <matplotlib.lines.Line2D at 0x7ae1905dcac0>,\n",
              "  <matplotlib.lines.Line2D at 0x7ae1905dcd60>,\n",
              "  <matplotlib.lines.Line2D at 0x7ae1905ddd20>,\n",
              "  <matplotlib.lines.Line2D at 0x7ae1905ddfc0>,\n",
              "  <matplotlib.lines.Line2D at 0x7ae1905def80>,\n",
              "  <matplotlib.lines.Line2D at 0x7ae1905df220>,\n",
              "  <matplotlib.lines.Line2D at 0x7ae190418220>,\n",
              "  <matplotlib.lines.Line2D at 0x7ae1904184c0>,\n",
              "  <matplotlib.lines.Line2D at 0x7ae190419480>,\n",
              "  <matplotlib.lines.Line2D at 0x7ae190419720>],\n",
              " 'boxes': [<matplotlib.lines.Line2D at 0x7ae190522200>,\n",
              "  <matplotlib.lines.Line2D at 0x7ae190522ec0>,\n",
              "  <matplotlib.lines.Line2D at 0x7ae190560190>,\n",
              "  <matplotlib.lines.Line2D at 0x7ae1905613f0>,\n",
              "  <matplotlib.lines.Line2D at 0x7ae190562650>,\n",
              "  <matplotlib.lines.Line2D at 0x7ae1905638b0>,\n",
              "  <matplotlib.lines.Line2D at 0x7ae19059cb50>,\n",
              "  <matplotlib.lines.Line2D at 0x7ae19059ddb0>,\n",
              "  <matplotlib.lines.Line2D at 0x7ae19059f010>,\n",
              "  <matplotlib.lines.Line2D at 0x7ae1905dc2e0>,\n",
              "  <matplotlib.lines.Line2D at 0x7ae1905dd540>,\n",
              "  <matplotlib.lines.Line2D at 0x7ae1905de7a0>,\n",
              "  <matplotlib.lines.Line2D at 0x7ae1905dfa00>,\n",
              "  <matplotlib.lines.Line2D at 0x7ae190418ca0>],\n",
              " 'medians': [<matplotlib.lines.Line2D at 0x7ae190522980>,\n",
              "  <matplotlib.lines.Line2D at 0x7ae190523be0>,\n",
              "  <matplotlib.lines.Line2D at 0x7ae190560eb0>,\n",
              "  <matplotlib.lines.Line2D at 0x7ae190562110>,\n",
              "  <matplotlib.lines.Line2D at 0x7ae190563370>,\n",
              "  <matplotlib.lines.Line2D at 0x7ae19059c610>,\n",
              "  <matplotlib.lines.Line2D at 0x7ae19059d870>,\n",
              "  <matplotlib.lines.Line2D at 0x7ae19059ead0>,\n",
              "  <matplotlib.lines.Line2D at 0x7ae19059fd60>,\n",
              "  <matplotlib.lines.Line2D at 0x7ae1905dd000>,\n",
              "  <matplotlib.lines.Line2D at 0x7ae1905de260>,\n",
              "  <matplotlib.lines.Line2D at 0x7ae1905df4c0>,\n",
              "  <matplotlib.lines.Line2D at 0x7ae190418760>,\n",
              "  <matplotlib.lines.Line2D at 0x7ae1904199c0>],\n",
              " 'fliers': [<matplotlib.lines.Line2D at 0x7ae190522c20>,\n",
              "  <matplotlib.lines.Line2D at 0x7ae190523e80>,\n",
              "  <matplotlib.lines.Line2D at 0x7ae190561150>,\n",
              "  <matplotlib.lines.Line2D at 0x7ae1905623b0>,\n",
              "  <matplotlib.lines.Line2D at 0x7ae190563610>,\n",
              "  <matplotlib.lines.Line2D at 0x7ae19059c8b0>,\n",
              "  <matplotlib.lines.Line2D at 0x7ae19059db10>,\n",
              "  <matplotlib.lines.Line2D at 0x7ae19059ed70>,\n",
              "  <matplotlib.lines.Line2D at 0x7ae1905dc040>,\n",
              "  <matplotlib.lines.Line2D at 0x7ae1905dd2a0>,\n",
              "  <matplotlib.lines.Line2D at 0x7ae1905de500>,\n",
              "  <matplotlib.lines.Line2D at 0x7ae1905df760>,\n",
              "  <matplotlib.lines.Line2D at 0x7ae190418a00>,\n",
              "  <matplotlib.lines.Line2D at 0x7ae190419c60>],\n",
              " 'means': []}"
            ]
          },
          "metadata": {},
          "execution_count": 27
        },
        {
          "output_type": "display_data",
          "data": {
            "text/plain": [
              "<Figure size 1600x600 with 1 Axes>"
            ],
            "image/png": "[encoded data removed]"
          },
          "metadata": {}
        }
      ]
    },
    {
      "cell_type": "code",
      "source": [
        "t_stat, p_val = stats.ttest_ind(samples[0], samples[1])\n",
        "p_val\n"
      ],
      "metadata": {
        "colab": {
          "base_uri": "https://localhost:8080/"
        },
        "id": "wEmLZuhkBdqO",
        "outputId": "0030fd75-6569-47fa-d9cb-945ce52e12ba"
      },
      "execution_count": 30,
      "outputs": [
        {
          "output_type": "execute_result",
          "data": {
            "text/plain": [
              "0.43341623391007034"
            ]
          },
          "metadata": {},
          "execution_count": 30
        }
      ]
    },
    {
      "cell_type": "code",
      "source": [
        "t_stat, p_val = stats.ttest_ind(samples[1], samples[2])\n",
        "p_val\n"
      ],
      "metadata": {
        "colab": {
          "base_uri": "https://localhost:8080/"
        },
        "id": "SVtQvVG1DtG9",
        "outputId": "c89a259c-0d96-4196-b464-3b52dcd19584"
      },
      "execution_count": 31,
      "outputs": [
        {
          "output_type": "execute_result",
          "data": {
            "text/plain": [
              "6.839158681816284e-08"
            ]
          },
          "metadata": {},
          "execution_count": 31
        }
      ]
    },
    {
      "cell_type": "code",
      "source": [
        "t_stat, p_val = stats.ttest_ind(samples[1], samples[3])\n",
        "p_val\n"
      ],
      "metadata": {
        "colab": {
          "base_uri": "https://localhost:8080/"
        },
        "id": "SUkwfuFDDxh-",
        "outputId": "2535b14e-6c66-4d36-dfad-dc4489036083"
      },
      "execution_count": 32,
      "outputs": [
        {
          "output_type": "execute_result",
          "data": {
            "text/plain": [
              "0.010210416276496813"
            ]
          },
          "metadata": {},
          "execution_count": 32
        }
      ]
    },
    {
      "cell_type": "code",
      "source": [
        "t_stat, p_val = stats.ttest_ind(samples[3], samples[4])\n",
        "p_val\n"
      ],
      "metadata": {
        "colab": {
          "base_uri": "https://localhost:8080/"
        },
        "id": "5wEGaeXVD10D",
        "outputId": "91e5373e-4bce-4bb6-8384-e9ef48b1439d"
      },
      "execution_count": 33,
      "outputs": [
        {
          "output_type": "execute_result",
          "data": {
            "text/plain": [
              "0.8838876517278773"
            ]
          },
          "metadata": {},
          "execution_count": 33
        }
      ]
    },
    {
      "cell_type": "code",
      "source": [
        "t_stat, p_val = stats.ttest_ind(samples[3], samples[5])\n",
        "p_val\n"
      ],
      "metadata": {
        "colab": {
          "base_uri": "https://localhost:8080/"
        },
        "id": "YkhovfhID7no",
        "outputId": "bdfee2be-dfde-4b8c-ce38-dc95064e6b90"
      },
      "execution_count": 34,
      "outputs": [
        {
          "output_type": "execute_result",
          "data": {
            "text/plain": [
              "0.0005622914427574036"
            ]
          },
          "metadata": {},
          "execution_count": 34
        }
      ]
    },
    {
      "cell_type": "code",
      "source": [
        "t_stat, p_val = stats.ttest_ind(samples[3], samples[6])\n",
        "p_val\n"
      ],
      "metadata": {
        "colab": {
          "base_uri": "https://localhost:8080/"
        },
        "id": "y2raQThTD_wd",
        "outputId": "f4c17922-14b6-4664-87d6-c7fdaa4a1a5f"
      },
      "execution_count": 35,
      "outputs": [
        {
          "output_type": "execute_result",
          "data": {
            "text/plain": [
              "0.0006134902382904839"
            ]
          },
          "metadata": {},
          "execution_count": 35
        }
      ]
    },
    {
      "cell_type": "code",
      "source": [
        "t_stat, p_val = stats.ttest_ind(samples[3], samples[7])\n",
        "p_val\n"
      ],
      "metadata": {
        "colab": {
          "base_uri": "https://localhost:8080/"
        },
        "id": "aAbrh1J-EDP-",
        "outputId": "1bbe2dae-eed5-4232-8d6f-8b01c6be0f6b"
      },
      "execution_count": 36,
      "outputs": [
        {
          "output_type": "execute_result",
          "data": {
            "text/plain": [
              "7.331582170818569e-05"
            ]
          },
          "metadata": {},
          "execution_count": 36
        }
      ]
    },
    {
      "cell_type": "code",
      "source": [
        "t_stat, p_val = stats.ttest_ind(samples[3], samples[8])\n",
        "p_val\n"
      ],
      "metadata": {
        "colab": {
          "base_uri": "https://localhost:8080/"
        },
        "id": "0JSt166OEI3K",
        "outputId": "894b0375-cb5c-49cb-cf37-bf665d9e8742"
      },
      "execution_count": 37,
      "outputs": [
        {
          "output_type": "execute_result",
          "data": {
            "text/plain": [
              "4.583108836868947e-12"
            ]
          },
          "metadata": {},
          "execution_count": 37
        }
      ]
    },
    {
      "cell_type": "code",
      "source": [
        "t_stat, p_val = stats.ttest_ind(samples[3], samples[9])\n",
        "p_val\n"
      ],
      "metadata": {
        "colab": {
          "base_uri": "https://localhost:8080/"
        },
        "id": "h9GpOqRcEMts",
        "outputId": "40c5e958-115b-4c99-ff68-66021e84e5eb"
      },
      "execution_count": 38,
      "outputs": [
        {
          "output_type": "execute_result",
          "data": {
            "text/plain": [
              "2.6154371974001343e-09"
            ]
          },
          "metadata": {},
          "execution_count": 38
        }
      ]
    },
    {
      "cell_type": "code",
      "source": [
        "t_stat, p_val = stats.ttest_ind(samples[9], samples[10])\n",
        "p_val\n"
      ],
      "metadata": {
        "colab": {
          "base_uri": "https://localhost:8080/"
        },
        "id": "jhugS-eKEYma",
        "outputId": "d1d98270-e28b-4642-9e10-f1742284228f"
      },
      "execution_count": 39,
      "outputs": [
        {
          "output_type": "execute_result",
          "data": {
            "text/plain": [
              "0.10870144955678467"
            ]
          },
          "metadata": {},
          "execution_count": 39
        }
      ]
    },
    {
      "cell_type": "code",
      "source": [
        "t_stat, p_val = stats.ttest_ind(samples[9], samples[11])\n",
        "p_val\n"
      ],
      "metadata": {
        "colab": {
          "base_uri": "https://localhost:8080/"
        },
        "id": "ezhT3AP2EcTz",
        "outputId": "09662755-e3ce-4ce6-ce37-8c655af720e2"
      },
      "execution_count": 40,
      "outputs": [
        {
          "output_type": "execute_result",
          "data": {
            "text/plain": [
              "0.0002624608680203041"
            ]
          },
          "metadata": {},
          "execution_count": 40
        }
      ]
    },
    {
      "cell_type": "code",
      "source": [
        "t_stat, p_val = stats.ttest_ind(samples[9], samples[12])\n",
        "p_val\n"
      ],
      "metadata": {
        "colab": {
          "base_uri": "https://localhost:8080/"
        },
        "id": "c6thMQsXEgFO",
        "outputId": "b1f8c979-cd46-49e2-9e95-3ec23a3ed404"
      },
      "execution_count": 41,
      "outputs": [
        {
          "output_type": "execute_result",
          "data": {
            "text/plain": [
              "1.8085979980679783e-06"
            ]
          },
          "metadata": {},
          "execution_count": 41
        }
      ]
    },
    {
      "cell_type": "code",
      "source": [
        "t_stat, p_val = stats.ttest_ind(samples[9], samples[13])\n",
        "p_val\n"
      ],
      "metadata": {
        "colab": {
          "base_uri": "https://localhost:8080/"
        },
        "id": "ZZ62WCUdEmaa",
        "outputId": "fcdd1a93-0357-44c3-f693-ad036536e213"
      },
      "execution_count": 42,
      "outputs": [
        {
          "output_type": "execute_result",
          "data": {
            "text/plain": [
              "2.895229847321963e-10"
            ]
          },
          "metadata": {},
          "execution_count": 42
        }
      ]
    },
    {
      "cell_type": "markdown",
      "source": [
        "Самая лучшая сеть - Сеть 4_1 с батч-нормализацией и dropout_rate = 0.1"
      ],
      "metadata": {
        "id": "w54wgBXHFdOr"
      }
    }
  ]
}