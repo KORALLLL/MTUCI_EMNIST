{
  "nbformat": 4,
  "nbformat_minor": 0,
  "metadata": {
    "colab": {
      "provenance": [],
      "authorship_tag": "ABX9TyPz38jpt9PSOmX1gIpMS6NB",
      "include_colab_link": true
    },
    "kernelspec": {
      "name": "python3",
      "display_name": "Python 3"
    },
    "language_info": {
      "name": "python"
    }
  },
  "cells": [
    {
      "cell_type": "markdown",
      "metadata": {
        "id": "view-in-github",
        "colab_type": "text"
      },
      "source": [
        "<a href=\"https://colab.research.google.com/github/KORALLLL/MTUCI_EMNIST/blob/Artem/lenet/Artem_week8.ipynb\" target=\"_parent\"><img src=\"https://colab.research.google.com/assets/colab-badge.svg\" alt=\"Open In Colab\"/></a>"
      ]
    },
    {
      "cell_type": "markdown",
      "metadata": {
        "id": "N5V2riLPuxOJ"
      },
      "source": [
        "Train dataset: MNIST + EMNIST letters\n",
        "\n",
        "Test dataset: dataset of DreamTeam\n",
        "\n",
        "Training sample size: 36960\n",
        "\n",
        "Testing sample size: 16784\n",
        "\n",
        "Loss function: Cross Entropy Loss\n",
        "\n",
        "Optimizer: Adam\n",
        "_______________\n",
        "lr = 0.005\n",
        "\n",
        "betas = (0.8, 0.9)\n",
        "\n",
        "eps = 1e-8\n",
        "\n",
        "weight_decay = 0.001\n",
        "\n",
        "amsgrad = False\n",
        "_________________\n",
        "Batch size: 1120"
      ]
    },
    {
      "cell_type": "markdown",
      "metadata": {
        "id": "kAHQg0W4vM6t"
      },
      "source": [
        "***IMPORT***\n",
        "\n",
        "---"
      ]
    },
    {
      "cell_type": "code",
      "execution_count": 5,
      "metadata": {
        "id": "6Y4kP-x9VXGe"
      },
      "outputs": [],
      "source": [
        "import torch\n",
        "import torchvision.datasets\n",
        "import random\n",
        "import numpy as np\n",
        "import matplotlib.pyplot as plt\n",
        "import pickle\n",
        "from tqdm import tqdm_notebook as bar\n",
        "import plotly.graph_objects as go\n"
      ]
    },
    {
      "cell_type": "code",
      "execution_count": 6,
      "metadata": {
        "id": "WDmxm3xs-4Np"
      },
      "outputs": [],
      "source": [
        "import plotly.graph_objs as go\n",
        "from plotly.subplots import make_subplots"
      ]
    },
    {
      "cell_type": "code",
      "execution_count": 7,
      "metadata": {
        "id": "H8ImmYczBqFs"
      },
      "outputs": [],
      "source": [
        "import scipy.stats as stats"
      ]
    },
    {
      "cell_type": "markdown",
      "metadata": {
        "id": "KfolF0wwvS5H"
      },
      "source": [
        "***REPO***\n",
        "\n",
        "---\n",
        "\n"
      ]
    },
    {
      "cell_type": "code",
      "execution_count": null,
      "metadata": {
        "id": "dz5_QntkVZN4"
      },
      "outputs": [],
      "source": [
        "!git clone https://github.com/KORALLLL/MTUCI_EMNIST.git"
      ]
    },
    {
      "cell_type": "markdown",
      "metadata": {
        "id": "WcvLTdxOvWV6"
      },
      "source": [
        "***TORCH.DEVICE***\n",
        "\n",
        "---\n",
        "\n"
      ]
    },
    {
      "cell_type": "code",
      "execution_count": null,
      "metadata": {
        "id": "wcYVOOeAskZd"
      },
      "outputs": [],
      "source": [
        "device = torch.device('cuda:0' if torch.cuda.is_available() else 'cpu')"
      ]
    },
    {
      "cell_type": "markdown",
      "metadata": {
        "id": "puLy2BIkvHHQ"
      },
      "source": [
        "***DATASET***\n",
        "\n",
        "---\n",
        "\n"
      ]
    },
    {
      "cell_type": "code",
      "execution_count": null,
      "metadata": {
        "id": "FzgtKxL7VZcQ"
      },
      "outputs": [],
      "source": [
        "emnist_train = torchvision.datasets.EMNIST('./', split='letters', download = True, train = True)\n",
        "mnist_train = torchvision.datasets.EMNIST('./', split='mnist', download = True, train = True)\n",
        "emnist_val = torchvision.datasets.EMNIST('./', split='letters', download = True, train = False)\n",
        "mnist_val = torchvision.datasets.EMNIST('./', split='mnist', download = True, train = False)\n",
        "\n",
        "emnist_train_data = emnist_train.data\n",
        "mnist_train_data = mnist_train.data\n",
        "train_data = torch.cat([emnist_train_data[:24960], mnist_train_data[:12000]], dim=0).float().unsqueeze(1).to(device) / 255\n",
        "\n",
        "emnist_val_data = emnist_val.data\n",
        "mnist_val_data = mnist_val.data\n",
        "val_data = torch.cat([emnist_val_data, mnist_val_data], dim=0).float().unsqueeze(1).to(device) / 255\n",
        "\n",
        "temp_emnist_train_labels = emnist_train.targets[:24960]\n",
        "emnist_train_labels = []\n",
        "\n",
        "temp_emnist_val_labels = emnist_val.targets\n",
        "emnist_val_labels = []\n",
        "\n",
        "for i in range(len(temp_emnist_train_labels)):\n",
        "  if temp_emnist_train_labels[i]==15:\n",
        "    emnist_train_labels.append(torch.tensor(0))\n",
        "  elif temp_emnist_train_labels[i]>15:\n",
        "    emnist_train_labels.append(temp_emnist_train_labels[i]+8)\n",
        "  else:\n",
        "    emnist_train_labels.append(temp_emnist_train_labels[i]+9)\n",
        "\n",
        "for i in range(len(temp_emnist_val_labels)):\n",
        "  if temp_emnist_val_labels[i]==15:\n",
        "    emnist_val_labels.append(torch.tensor(0))\n",
        "  elif temp_emnist_val_labels[i]>15:\n",
        "    emnist_val_labels.append(temp_emnist_val_labels[i] + 8)\n",
        "  else:\n",
        "    emnist_val_labels.append(temp_emnist_val_labels[i]+9)\n",
        "\n",
        "mnist_train_labels = mnist_train.targets\n",
        "train_labels = torch.cat([torch.stack(emnist_train_labels[:24960]), mnist_train_labels[:12000]], dim=0).to(device)\n",
        "\n",
        "mnist_val_labels = mnist_val.targets\n",
        "val_labels = torch.cat([torch.stack(emnist_val_labels), mnist_val_labels], dim=0).to(device)\n",
        "\n",
        "\n",
        "file = open('MTUCI_EMNIST/dataset.pkl', 'rb')\n",
        "test_dataset = pickle.load(file)\n",
        "file.close()\n",
        "\n",
        "test_data = test_dataset['data'].numpy()\n",
        "test_data = np.flip(test_data, axis = 3)\n",
        "test_data = np.rot90(test_data, k=1, axes=(2,3))\n",
        "test_data = 1 - test_data\n",
        "test_data = torch.from_numpy(test_data).float().to(device)\n",
        "test_labels = test_dataset['targets'].to(device)"
      ]
    },
    {
      "cell_type": "code",
      "source": [
        "class Block(torch.nn.Module):\n",
        "  def __init__(self, in_channels, out_channels, padding):\n",
        "    super(Block, self).__init__()\n",
        "    self.conv = torch.nn.Conv2d(in_channels=in_channels, out_channels=out_channels, kernel_size=3, padding=padding)\n",
        "    self.bn = torch.nn.BatchNorm2d(out_channels)\n",
        "    self.act = torch.nn.ReLU6()\n",
        "    self.dp = torch.nn.Dropout(p=0.05)\n",
        "\n",
        "  def forward(self, x):\n",
        "    x = self.conv(x)\n",
        "    x = self.bn(x)\n",
        "    x = self.act(x)\n",
        "    x = self.dp(x)\n",
        "    return x"
      ],
      "metadata": {
        "id": "vsqZbXCYpbG7",
        "execution": {
          "iopub.status.busy": "2023-11-26T16:56:09.009568Z",
          "iopub.execute_input": "2023-11-26T16:56:09.010508Z",
          "iopub.status.idle": "2023-11-26T16:56:09.017637Z",
          "shell.execute_reply.started": "2023-11-26T16:56:09.010463Z",
          "shell.execute_reply": "2023-11-26T16:56:09.016636Z"
        },
        "trusted": true
      },
      "execution_count": null,
      "outputs": []
    },
    {
      "cell_type": "code",
      "source": [
        "class Block1(torch.nn.Module):\n",
        "  def __init__(self, in_channels, out_channels):\n",
        "    super(Block1, self).__init__()\n",
        "    self.block1 = Block(in_channels, out_channels, 1)\n",
        "    self.block2 = Block(out_channels, out_channels, 1)\n",
        "    self.block3 = Block(out_channels, out_channels, 1)\n",
        "  def forward(self,x):\n",
        "    x = self.block1(x)\n",
        "    temp = x\n",
        "    x = self.block2(x)\n",
        "    x = self.block3(x)\n",
        "    x = torch.add(x, temp)\n",
        "    return x"
      ],
      "metadata": {
        "id": "Pq1m3Hgn15nh",
        "execution": {
          "iopub.status.busy": "2023-11-26T16:56:14.490424Z",
          "iopub.execute_input": "2023-11-26T16:56:14.490784Z",
          "iopub.status.idle": "2023-11-26T16:56:14.497185Z",
          "shell.execute_reply.started": "2023-11-26T16:56:14.490754Z",
          "shell.execute_reply": "2023-11-26T16:56:14.496312Z"
        },
        "trusted": true
      },
      "execution_count": null,
      "outputs": []
    },
    {
      "cell_type": "code",
      "source": [
        "class Block2(torch.nn.Module):\n",
        "  def __init__(self, in_channels, out_channels):\n",
        "    super(Block2, self).__init__()\n",
        "    self.block1 = Block(in_channels, out_channels, 0)\n",
        "    self.block2 = Block(out_channels, out_channels, 1)\n",
        "    self.block3 = Block(out_channels, out_channels, 1)\n",
        "  def forward(self, x):\n",
        "    x = self.block1(x)\n",
        "    temp = x\n",
        "    x = self.block2(x)\n",
        "    x = self.block3(x)\n",
        "    x = torch.add(x, temp)\n",
        "    return x"
      ],
      "metadata": {
        "id": "L0MMaDoq7h_V",
        "execution": {
          "iopub.status.busy": "2023-11-26T16:56:17.844064Z",
          "iopub.execute_input": "2023-11-26T16:56:17.844784Z",
          "iopub.status.idle": "2023-11-26T16:56:17.850767Z",
          "shell.execute_reply.started": "2023-11-26T16:56:17.844749Z",
          "shell.execute_reply": "2023-11-26T16:56:17.849882Z"
        },
        "trusted": true
      },
      "execution_count": null,
      "outputs": []
    },
    {
      "cell_type": "code",
      "source": [
        "class Net1(torch.nn.Module):\n",
        "  def __init__(self):\n",
        "    super(Net1, self).__init__()\n",
        "    self.block1 = Block1(1,4)\n",
        "    self.block2 = Block1(4,8)\n",
        "    self.pool1 = torch.nn.Sequential(\n",
        "        torch.nn.AvgPool2d(kernel_size=2, stride=2),\n",
        "        torch.nn.ReLU6()\n",
        "    )\n",
        "    self.block3 = Block2(8, 16)\n",
        "    self.block4 = Block2(16,32)\n",
        "    self.pool2 = torch.nn.Sequential(\n",
        "        torch.nn.AvgPool2d(kernel_size=2, stride=2),\n",
        "        torch.nn.ReLU6()\n",
        "    )\n",
        "    self.fc1 = torch.nn.Linear(32*5*5,120)\n",
        "    self.act1 = torch.nn.ReLU6()\n",
        "    self.fc2 = torch.nn.Linear(120, 84)\n",
        "    self.act2 = torch.nn.ReLU6()\n",
        "    self.fc3 = torch.nn.Linear(84,35)\n",
        "\n",
        "  def forward(self, x):\n",
        "    x = self.block1(x)\n",
        "    x = self.block2(x)\n",
        "    x = self.pool1(x)\n",
        "    x = self.block3(x)\n",
        "    x = self.block4(x)\n",
        "    x = self.pool2(x)\n",
        "    x = x.view(x.size(0), x.size(1)*x.size(2)*x.size(3))\n",
        "\n",
        "    x = self.fc1(x)\n",
        "    x = self.act1(x)\n",
        "    x = self.fc2(x)\n",
        "    x = self.act2(x)\n",
        "    x = self.fc3(x)\n",
        "    return x"
      ],
      "metadata": {
        "id": "kpXiJg6_q4y1",
        "execution": {
          "iopub.status.busy": "2023-11-26T13:30:56.691786Z",
          "iopub.execute_input": "2023-11-26T13:30:56.692810Z",
          "iopub.status.idle": "2023-11-26T13:30:56.702567Z",
          "shell.execute_reply.started": "2023-11-26T13:30:56.692774Z",
          "shell.execute_reply": "2023-11-26T13:30:56.701601Z"
        },
        "trusted": true
      },
      "execution_count": null,
      "outputs": []
    },
    {
      "cell_type": "code",
      "source": [
        "class Net2(torch.nn.Module):\n",
        "  def __init__(self):\n",
        "    super(Net2, self).__init__()\n",
        "    self.block1 = Block1(1,4)\n",
        "    self.block2 = Block1(4,8)\n",
        "    self.block3 = Block1(8,16)\n",
        "    self.pool1 = torch.nn.Sequential(\n",
        "        torch.nn.AvgPool2d(kernel_size=2, stride=2),\n",
        "        torch.nn.ReLU6()\n",
        "    )\n",
        "    self.block4 = Block1(16,32)\n",
        "    self.block5 = Block2(32, 64)\n",
        "    self.block6 = Block2(64,128)\n",
        "    self.pool2 = torch.nn.Sequential(\n",
        "        torch.nn.AvgPool2d(kernel_size=2, stride=2),\n",
        "        torch.nn.ReLU6()\n",
        "    )\n",
        "    self.fc1 = torch.nn.Linear(128*5*5,120)\n",
        "    self.act1 = torch.nn.ReLU6()\n",
        "    self.fc2 = torch.nn.Linear(120, 84)\n",
        "    self.act2 = torch.nn.ReLU6()\n",
        "    self.fc3 = torch.nn.Linear(84,35)\n",
        "\n",
        "  def forward(self, x):\n",
        "    x = self.block1(x)\n",
        "    x = self.block2(x)\n",
        "    x = self.block3(x)\n",
        "    x = self.pool1(x)\n",
        "    x = self.block4(x)\n",
        "    x = self.block5(x)\n",
        "    x = self.block6(x)\n",
        "    x = self.pool2(x)\n",
        "    x = x.view(x.size(0), x.size(1)*x.size(2)*x.size(3))\n",
        "\n",
        "    x = self.fc1(x)\n",
        "    x = self.act1(x)\n",
        "    x = self.fc2(x)\n",
        "    x = self.act2(x)\n",
        "    x = self.fc3(x)\n",
        "    return x"
      ],
      "metadata": {
        "id": "H9UueLbCZO6J",
        "execution": {
          "iopub.status.busy": "2023-11-26T13:30:59.371032Z",
          "iopub.execute_input": "2023-11-26T13:30:59.371758Z",
          "iopub.status.idle": "2023-11-26T13:30:59.382294Z",
          "shell.execute_reply.started": "2023-11-26T13:30:59.371724Z",
          "shell.execute_reply": "2023-11-26T13:30:59.381428Z"
        },
        "trusted": true
      },
      "execution_count": null,
      "outputs": []
    },
    {
      "cell_type": "code",
      "source": [
        "class Net3(torch.nn.Module):\n",
        "  def __init__(self):\n",
        "    super(Net3, self).__init__()\n",
        "    self.block1 = Block1(1,4)\n",
        "    self.block2 = Block1(4,8)\n",
        "    self.block3 = Block1(8,16)\n",
        "    self.block4 = Block1(16,32)\n",
        "    self.pool1 = torch.nn.Sequential(\n",
        "        torch.nn.AvgPool2d(kernel_size=2, stride=2),\n",
        "        torch.nn.ReLU6()\n",
        "    )\n",
        "    self.block5 = Block1(32,64)\n",
        "    self.block6 = Block2(64, 128)\n",
        "    self.block7 = Block1(128, 256)\n",
        "    self.block8 = Block2(256,512)\n",
        "    self.pool2 = torch.nn.Sequential(\n",
        "        torch.nn.AvgPool2d(kernel_size=2, stride=2),\n",
        "        torch.nn.ReLU6()\n",
        "    )\n",
        "    self.fc1 = torch.nn.Linear(512*5*5,120)\n",
        "    self.act1 = torch.nn.ReLU6()\n",
        "    self.fc2 = torch.nn.Linear(120, 84)\n",
        "    self.act2 = torch.nn.ReLU6()\n",
        "    self.fc3 = torch.nn.Linear(84,35)\n",
        "\n",
        "  def forward(self, x):\n",
        "    x = self.block1(x)\n",
        "    x = self.block2(x)\n",
        "    x = self.block3(x)\n",
        "    x = self.block4(x)\n",
        "    x = self.pool1(x)\n",
        "    x = self.block5(x)\n",
        "    x = self.block6(x)\n",
        "    x = self.block7(x)\n",
        "    x = self.block8(x)\n",
        "    x = self.pool2(x)\n",
        "    x = x.view(x.size(0), x.size(1)*x.size(2)*x.size(3))\n",
        "\n",
        "    x = self.fc1(x)\n",
        "    x = self.act1(x)\n",
        "    x = self.fc2(x)\n",
        "    x = self.act2(x)\n",
        "    x = self.fc3(x)\n",
        "    return x"
      ],
      "metadata": {
        "id": "aoXQY5KjtqQu",
        "execution": {
          "iopub.status.busy": "2023-11-26T13:31:06.519566Z",
          "iopub.execute_input": "2023-11-26T13:31:06.519932Z",
          "iopub.status.idle": "2023-11-26T13:31:06.531426Z",
          "shell.execute_reply.started": "2023-11-26T13:31:06.519906Z",
          "shell.execute_reply": "2023-11-26T13:31:06.530478Z"
        },
        "trusted": true
      },
      "execution_count": null,
      "outputs": []
    },
    {
      "cell_type": "markdown",
      "metadata": {
        "id": "t2J1Bdi7LRTa"
      },
      "source": [
        "***NET***"
      ]
    },
    {
      "cell_type": "code",
      "execution_count": null,
      "metadata": {
        "id": "-0dUHJpQLxRG"
      },
      "outputs": [],
      "source": [
        "batch_size = 1120\n",
        "test_accuracies = []\n",
        "for epoch in bar(100, desc = \"NET1\"):\n",
        "  lenet = Net1().to(device)\n",
        "  loss = torch.nn.CrossEntropyLoss()\n",
        "  optimizer = torch.optim.Adam(lenet.parameters(), lr = 0.005, betas = (0.8, 0.9), eps = 1e-8, weight_decay = 0.001, amsgrad = False)\n",
        "  test_accuracy = []\n",
        "  for epoch in bar(range(100), desc = 'LEARNING', leave=False):\n",
        "    indexs = np.random.permutation(len(train_data))\n",
        "\n",
        "    for start_index in range(0, len(train_data), batch_size):\n",
        "      optimizer.zero_grad()\n",
        "      batch_index = indexs[start_index: start_index + batch_size]\n",
        "      labels_batch = train_labels[batch_index].to(device)\n",
        "\n",
        "      images_batch = train_data[batch_index].to(device)\n",
        "      prediction = lenet.forward(images_batch)\n",
        "      loss_value = loss(prediction, labels_batch)\n",
        "      loss_value.backward()\n",
        "      optimizer.step()\n",
        "\n",
        "    lenet.eval()\n",
        "    with torch.no_grad():\n",
        "      prediction_test = lenet.forward(test_data)\n",
        "      test_acc = (prediction_test.argmax(dim = 1) == test_labels).float().mean().data.cpu()\n",
        "      test_accuracy.append(test_acc)\n",
        "    lenet.train()\n",
        "\n",
        "  test_accuracies.append(test_accuracy)"
      ]
    },
    {
      "cell_type": "code",
      "source": [
        "batch_size = 1120\n",
        "test_accuracies = []\n",
        "for epoch in bar(100, desc = \"NET2\"):\n",
        "  lenet2 = Net2().to(device)\n",
        "  loss = torch.nn.CrossEntropyLoss()\n",
        "  optimizer = torch.optim.Adam(lenet2.parameters(), lr = 0.005, betas = (0.8, 0.9), eps = 1e-8, weight_decay = 0.001, amsgrad = False)\n",
        "  test_accuracy = []\n",
        "  for epoch in bar(range(100), desc = 'LEARNING', leave=False):\n",
        "    indexs = np.random.permutation(len(train_data))\n",
        "\n",
        "    for start_index in range(0, len(train_data), batch_size):\n",
        "      optimizer.zero_grad()\n",
        "      batch_index = indexs[start_index: start_index + batch_size]\n",
        "      labels_batch = train_labels[batch_index].to(device)\n",
        "\n",
        "      images_batch = train_data[batch_index].to(device)\n",
        "      prediction = lenet2.forward(images_batch)\n",
        "      loss_value = loss(prediction, labels_batch)\n",
        "      loss_value.backward()\n",
        "      optimizer.step()\n",
        "\n",
        "    lenet.eval()\n",
        "    with torch.no_grad():\n",
        "      prediction_test = lenet2.forward(test_data)\n",
        "      test_acc = (prediction_test.argmax(dim = 1) == test_labels).float().mean().data.cpu()\n",
        "      test_accuracy.append(test_acc)\n",
        "    lenet.train()\n",
        "\n",
        "  test_accuracies.append(test_accuracy)"
      ],
      "metadata": {
        "id": "BIZrhfaPLhZC"
      },
      "execution_count": null,
      "outputs": []
    },
    {
      "cell_type": "code",
      "source": [
        "batch_size = 1120\n",
        "test_accuracies = []\n",
        "for epoch in bar(100, desc = \"NET3\"):\n",
        "  lenet3 = Net3().to(device)\n",
        "  loss = torch.nn.CrossEntropyLoss()\n",
        "  optimizer = torch.optim.Adam(lenet3.parameters(), lr = 0.005, betas = (0.8, 0.9), eps = 1e-8, weight_decay = 0.001, amsgrad = False)\n",
        "  test_accuracy = []\n",
        "  for epoch in bar(range(100), desc = 'LEARNING', leave=False):\n",
        "    indexs = np.random.permutation(len(train_data))\n",
        "\n",
        "    for start_index in range(0, len(train_data), batch_size):\n",
        "      optimizer.zero_grad()\n",
        "      batch_index = indexs[start_index: start_index + batch_size]\n",
        "      labels_batch = train_labels[batch_index].to(device)\n",
        "\n",
        "      images_batch = train_data[batch_index].to(device)\n",
        "      prediction = lenet3.forward(images_batch)\n",
        "      loss_value = loss(prediction, labels_batch)\n",
        "      loss_value.backward()\n",
        "      optimizer.step()\n",
        "\n",
        "    lenet.eval()\n",
        "    with torch.no_grad():\n",
        "      prediction_test = lenet.forward(test_data)\n",
        "      test_acc = (prediction_test.argmax(dim = 1) == test_labels).float().mean().data.cpu()\n",
        "      test_accuracy.append(test_acc)\n",
        "    lenet3.train()\n",
        "\n",
        "  test_accuracies.append(test_accuracy)"
      ],
      "metadata": {
        "id": "BkBEdktmLpM1"
      },
      "execution_count": null,
      "outputs": []
    },
    {
      "cell_type": "markdown",
      "source": [
        "***EXPERIMENT***"
      ],
      "metadata": {
        "id": "8yLXNF5fMEQS"
      }
    },
    {
      "cell_type": "code",
      "execution_count": null,
      "metadata": {
        "id": "XxYE01TFQdVQ"
      },
      "outputs": [],
      "source": [
        "for i in range(1):\n",
        "  accuracy_net = []\n",
        "  for experiment in bar(range(10), desc = 'EXPERIMENT', leave = False):\n",
        "\n",
        "    loss = torch.nn.CrossEntropyLoss()\n",
        "    lenet = Net1().to(device)\n",
        "\n",
        "    optimizer = torch.optim.Adam(lenet.parameters(), lr = 0.005, betas = (0.8, 0.9), eps = 1e-8, weight_decay = 0.001, amsgrad = False)\n",
        "    batch_size = 1120\n",
        "    max_acc = 0\n",
        "\n",
        "    for epoch in bar(range(100), leave=False):\n",
        "      order = np.random.permutation(len(train_data))\n",
        "\n",
        "      for start_index in range(0, len(train_data), batch_size):\n",
        "        optimizer.zero_grad()\n",
        "\n",
        "        batch_indexes = order[start_index:start_index+batch_size]\n",
        "\n",
        "        data_batch = train_data[batch_indexes]\n",
        "        labels_batch= train_labels[batch_indexes]\n",
        "\n",
        "        preds = lenet.forward(data_batch)\n",
        "\n",
        "        loss_val = loss(preds, labels_batch)\n",
        "        loss_val.backward()\n",
        "\n",
        "        optimizer.step()\n",
        "      lenet.eval()\n",
        "      with torch.no_grad():\n",
        "        test_preds = lenet.forward(test_data)\n",
        "        accuracy = (test_preds.argmax(dim=1)==test_labels).float().mean().data.cpu()\n",
        "        max_acc = max(max_acc, accuracy)\n",
        "      lenet.train()\n",
        "    accuracy_net.append(max_acc)\n",
        "    print(max_acc)\n",
        "  print(*accuracy_net)"
      ]
    },
    {
      "cell_type": "code",
      "execution_count": 9,
      "metadata": {
        "id": "Jet-s-E4QdVQ"
      },
      "outputs": [],
      "source": [
        "acc_1 = \"tensor(0.8296) tensor(0.8268) tensor(0.8268) tensor(0.8240) tensor(0.8371) tensor(0.8271) tensor(0.8326) tensor(0.8284) tensor(0.8226) tensor(0.8293) tensor(0.8302) tensor(0.8412) tensor(0.8322)\""
      ]
    },
    {
      "cell_type": "code",
      "execution_count": null,
      "metadata": {
        "id": "CJ8R6xPzNBiN"
      },
      "outputs": [],
      "source": [
        "for i in range(1):\n",
        "  accuracy_net = []\n",
        "  for experiment in bar(range(10), desc = 'EXPERIMENT', leave = False):\n",
        "\n",
        "    loss = torch.nn.CrossEntropyLoss()\n",
        "    lenet2 = Net2().to(device)\n",
        "\n",
        "    optimizer = torch.optim.Adam(lenet2.parameters(), lr = 0.005, betas = (0.8, 0.9), eps = 1e-8, weight_decay = 0.001, amsgrad = False)\n",
        "    batch_size = 1120\n",
        "    max_acc = 0\n",
        "\n",
        "    for epoch in bar(range(100), leave=False):\n",
        "      order = np.random.permutation(len(train_data))\n",
        "\n",
        "      for start_index in range(0, len(train_data), batch_size):\n",
        "        optimizer.zero_grad()\n",
        "\n",
        "        batch_indexes = order[start_index:start_index+batch_size]\n",
        "\n",
        "        data_batch = train_data[batch_indexes]\n",
        "        labels_batch= train_labels[batch_indexes]\n",
        "\n",
        "        preds = lenet.forward(data_batch)\n",
        "\n",
        "        loss_val = loss(preds, labels_batch)\n",
        "        loss_val.backward()\n",
        "\n",
        "        optimizer.step()\n",
        "      lenet2.eval()\n",
        "      with torch.no_grad():\n",
        "        test_preds = lenet.forward(test_data)\n",
        "        accuracy = (test_preds.argmax(dim=1)==test_labels).float().mean().data.cpu()\n",
        "        max_acc = max(max_acc, accuracy)\n",
        "      lenet2.train()\n",
        "    accuracy_net.append(max_acc)\n",
        "    print(max_acc)\n",
        "  print(*accuracy_net)"
      ]
    },
    {
      "cell_type": "code",
      "execution_count": 12,
      "metadata": {
        "id": "ACdjYm2ONBiN"
      },
      "outputs": [],
      "source": [
        "acc_2 = \"tensor(0.8413) tensor(0.8465) tensor(0.8401) tensor(0.8527) tensor(0.8322) tensor(0.8512) tensor(0.8364) tensor(0.8344) tensor(0.8313) tensor(0.8476) tensor(0.8425) tensor(0.8371) tensor(0.8405) tensor(0.8407) tensor(0.8521) tensor(0.8492) tensor(0.8497) tensor(0.8502)\""
      ]
    },
    {
      "cell_type": "code",
      "execution_count": null,
      "metadata": {
        "id": "ZK6cZWIQNCCA"
      },
      "outputs": [],
      "source": [
        "for i in range(1):\n",
        "  accuracy_net = []\n",
        "  for experiment in bar(range(10), desc = 'EXPERIMENT', leave = False):\n",
        "\n",
        "    loss = torch.nn.CrossEntropyLoss()\n",
        "    lenet3 = Net3().to(device)\n",
        "\n",
        "    optimizer = torch.optim.Adam(lenet3.parameters(), lr = 0.005, betas = (0.8, 0.9), eps = 1e-8, weight_decay = 0.001, amsgrad = False)\n",
        "    batch_size = 1120\n",
        "    max_acc = 0\n",
        "\n",
        "    for epoch in bar(range(100), leave=False):\n",
        "      order = np.random.permutation(len(train_data))\n",
        "\n",
        "      for start_index in range(0, len(train_data), batch_size):\n",
        "        optimizer.zero_grad()\n",
        "\n",
        "        batch_indexes = order[start_index:start_index+batch_size]\n",
        "\n",
        "        data_batch = train_data[batch_indexes]\n",
        "        labels_batch= train_labels[batch_indexes]\n",
        "\n",
        "        preds = lenet3.forward(data_batch)\n",
        "\n",
        "        loss_val = loss(preds, labels_batch)\n",
        "        loss_val.backward()\n",
        "\n",
        "        optimizer.step()\n",
        "      lenet.eval()\n",
        "      with torch.no_grad():\n",
        "        test_preds = lenet3.forward(test_data)\n",
        "        accuracy = (test_preds.argmax(dim=1)==test_labels).float().mean().data.cpu()\n",
        "        max_acc = max(max_acc, accuracy)\n",
        "      lenet3.train()\n",
        "    accuracy_net.append(max_acc)\n",
        "    print(max_acc)\n",
        "  print(*accuracy_net)"
      ]
    },
    {
      "cell_type": "code",
      "execution_count": 15,
      "metadata": {
        "id": "EOq1RtWzNCCA"
      },
      "outputs": [],
      "source": [
        "acc_3 = \"tensor(0.8422) tensor(0.8501) tensor(0.8466) tensor(0.8312) tensor(0.8431) tensor(0.8348) tensor(0.8348) tensor(0.8376) tensor(0.8372) tensor(0.8341) tensor(0.8505) tensor(0.8429) \""
      ]
    },
    {
      "cell_type": "code",
      "execution_count": 16,
      "metadata": {
        "id": "7qn4qVc0RPGT"
      },
      "outputs": [],
      "source": [
        "samples = [acc_1, acc_2, acc_3]\n",
        "for i in range(len(samples)):\n",
        "    samples[i] = list(map(float, samples[i].replace(\"tensor(\", '').replace(')', '').replace(\"[\",\"\").replace(\"]\", \"\").split()))"
      ]
    },
    {
      "cell_type": "code",
      "execution_count": 17,
      "metadata": {
        "id": "H3-NndQ9RfXK",
        "colab": {
          "base_uri": "https://localhost:8080/",
          "height": 904
        },
        "outputId": "359205e4-04c5-4c85-fac9-ceea5180f32c"
      },
      "outputs": [
        {
          "output_type": "execute_result",
          "data": {
            "text/plain": [
              "{'whiskers': [<matplotlib.lines.Line2D at 0x7f9bafb98d90>,\n",
              "  <matplotlib.lines.Line2D at 0x7f9bafb99030>,\n",
              "  <matplotlib.lines.Line2D at 0x7f9bafb99ff0>,\n",
              "  <matplotlib.lines.Line2D at 0x7f9bafb9a290>,\n",
              "  <matplotlib.lines.Line2D at 0x7f9bafb9b250>,\n",
              "  <matplotlib.lines.Line2D at 0x7f9bafb9b4f0>],\n",
              " 'caps': [<matplotlib.lines.Line2D at 0x7f9bafb992d0>,\n",
              "  <matplotlib.lines.Line2D at 0x7f9bafb99570>,\n",
              "  <matplotlib.lines.Line2D at 0x7f9bafb9a530>,\n",
              "  <matplotlib.lines.Line2D at 0x7f9bafb9a7d0>,\n",
              "  <matplotlib.lines.Line2D at 0x7f9bafb9b790>,\n",
              "  <matplotlib.lines.Line2D at 0x7f9bafb9ba30>],\n",
              " 'boxes': [<matplotlib.lines.Line2D at 0x7f9bafb98af0>,\n",
              "  <matplotlib.lines.Line2D at 0x7f9bafb99d50>,\n",
              "  <matplotlib.lines.Line2D at 0x7f9bafb9afb0>],\n",
              " 'medians': [<matplotlib.lines.Line2D at 0x7f9bafb99810>,\n",
              "  <matplotlib.lines.Line2D at 0x7f9bafb9aa70>,\n",
              "  <matplotlib.lines.Line2D at 0x7f9bafb9bcd0>],\n",
              " 'fliers': [<matplotlib.lines.Line2D at 0x7f9bafb99ab0>,\n",
              "  <matplotlib.lines.Line2D at 0x7f9bafb9ad10>,\n",
              "  <matplotlib.lines.Line2D at 0x7f9bafb9bf70>],\n",
              " 'means': []}"
            ]
          },
          "metadata": {},
          "execution_count": 17
        },
        {
          "output_type": "display_data",
          "data": {
            "text/plain": [
              "<Figure size 1600x600 with 1 Axes>"
            ],
            "image/png": "[encoded data removed]"
          },
          "metadata": {}
        }
      ],
      "source": [
        "plt.figure(figsize = (16., 6.))\n",
        "plt.boxplot(samples)"
      ]
    },
    {
      "cell_type": "code",
      "source": [
        "t_stat, p_val = stats.ttest_ind(samples[0], samples[1])\n",
        "p_val\n"
      ],
      "metadata": {
        "colab": {
          "base_uri": "https://localhost:8080/"
        },
        "id": "wEmLZuhkBdqO",
        "outputId": "663ab948-2943-4461-ed21-07208e4147b7"
      },
      "execution_count": 18,
      "outputs": [
        {
          "output_type": "execute_result",
          "data": {
            "text/plain": [
              "2.92006733473666e-06"
            ]
          },
          "metadata": {},
          "execution_count": 18
        }
      ]
    },
    {
      "cell_type": "markdown",
      "source": [
        "***FC***"
      ],
      "metadata": {
        "id": "xQHftKr1QjgL"
      }
    },
    {
      "cell_type": "code",
      "source": [
        "class Net4(torch.nn.Module):\n",
        "  def __init__(self):\n",
        "    super(Net4, self).__init__()\n",
        "    self.block1 = Block1(1,4)\n",
        "    self.block2 = Block1(4,8)\n",
        "    self.block3 = Block1(8,16)\n",
        "    self.pool1 = torch.nn.Sequential(\n",
        "        torch.nn.AvgPool2d(kernel_size=2, stride=2),\n",
        "        torch.nn.ReLU6()\n",
        "    )\n",
        "    self.block4 = Block1(16,32)\n",
        "    self.block5 = Block2(32, 64)\n",
        "    self.block6 = Block2(64,128)\n",
        "    self.pool2 = torch.nn.Sequential(\n",
        "        torch.nn.AvgPool2d(kernel_size=2, stride=2),\n",
        "        torch.nn.ReLU6()\n",
        "    )\n",
        "    self.fc1 = torch.nn.Linear(128*5*5,1024)\n",
        "    self.act1 = torch.nn.ReLU6()\n",
        "    self.fc2 = torch.nn.Linear(1024, 1024)\n",
        "    self.act2 = torch.nn.ReLU6()\n",
        "    self.fc3 = torch.nn.Linear(1024,35)\n",
        "\n",
        "  def forward(self, x):\n",
        "    x = self.block1(x)\n",
        "    x = self.block2(x)\n",
        "    x = self.block3(x)\n",
        "    x = self.pool1(x)\n",
        "    x = self.block4(x)\n",
        "    x = self.block5(x)\n",
        "    x = self.block6(x)\n",
        "    x = self.pool2(x)\n",
        "    x = x.view(x.size(0), x.size(1)*x.size(2)*x.size(3))\n",
        "\n",
        "    x = self.fc1(x)\n",
        "    x = self.act1(x)\n",
        "    x = self.fc2(x)\n",
        "    x = self.act2(x)\n",
        "    x = self.fc3(x)\n",
        "    return x"
      ],
      "metadata": {
        "id": "x1GHux1YQlSV"
      },
      "execution_count": null,
      "outputs": []
    },
    {
      "cell_type": "code",
      "source": [
        "class Net5(torch.nn.Module):\n",
        "  def __init__(self):\n",
        "    super(Net5, self).__init__()\n",
        "    self.block1 = Block1(1,4)\n",
        "    self.block2 = Block1(4,8)\n",
        "    self.block3 = Block1(8,16)\n",
        "    self.pool1 = torch.nn.Sequential(\n",
        "        torch.nn.AvgPool2d(kernel_size=2, stride=2),\n",
        "        torch.nn.ReLU6()\n",
        "    )\n",
        "    self.block4 = Block1(16,32)\n",
        "    self.block5 = Block2(32, 64)\n",
        "    self.block6 = Block2(64,128)\n",
        "    self.pool2 = torch.nn.Sequential(\n",
        "        torch.nn.AvgPool2d(kernel_size=2, stride=2),\n",
        "        torch.nn.ReLU6()\n",
        "    )\n",
        "    self.fc1 = torch.nn.Linear(128*5*5,4096)\n",
        "    self.act1 = torch.nn.ReLU6()\n",
        "    self.fc2 = torch.nn.Linear(4096, 4096)\n",
        "    self.act2 = torch.nn.ReLU6()\n",
        "    self.fc3 = torch.nn.Linear(4096,35)\n",
        "\n",
        "  def forward(self, x):\n",
        "    x = self.block1(x)\n",
        "    x = self.block2(x)\n",
        "    x = self.block3(x)\n",
        "    x = self.pool1(x)\n",
        "    x = self.block4(x)\n",
        "    x = self.block5(x)\n",
        "    x = self.block6(x)\n",
        "    x = self.pool2(x)\n",
        "    x = x.view(x.size(0), x.size(1)*x.size(2)*x.size(3))\n",
        "\n",
        "    x = self.fc1(x)\n",
        "    x = self.act1(x)\n",
        "    x = self.fc2(x)\n",
        "    x = self.act2(x)\n",
        "    x = self.fc3(x)\n",
        "    return x"
      ],
      "metadata": {
        "id": "s5BqHJoLQ8mY"
      },
      "execution_count": null,
      "outputs": []
    },
    {
      "cell_type": "code",
      "source": [
        "batch_size = 1120\n",
        "test_accuracies = []\n",
        "for epoch in bar(100, desc = \"NET4\"):\n",
        "  lenet3 = Net3().to(device)\n",
        "  loss = torch.nn.CrossEntropyLoss()\n",
        "  optimizer = torch.optim.Adam(lenet3.parameters(), lr = 0.005, betas = (0.8, 0.9), eps = 1e-8, weight_decay = 0.001, amsgrad = False)\n",
        "  test_accuracy = []\n",
        "  for epoch in bar(range(100), desc = 'LEARNING', leave=False):\n",
        "    indexs = np.random.permutation(len(train_data))\n",
        "\n",
        "    for start_index in range(0, len(train_data), batch_size):\n",
        "      optimizer.zero_grad()\n",
        "      batch_index = indexs[start_index: start_index + batch_size]\n",
        "      labels_batch = train_labels[batch_index].to(device)\n",
        "\n",
        "      images_batch = train_data[batch_index].to(device)\n",
        "      prediction = lenet3.forward(images_batch)\n",
        "      loss_value = loss(prediction, labels_batch)\n",
        "      loss_value.backward()\n",
        "      optimizer.step()\n",
        "\n",
        "    lenet.eval()\n",
        "    with torch.no_grad():\n",
        "      prediction_test = lenet.forward(test_data)\n",
        "      test_acc = (prediction_test.argmax(dim = 1) == test_labels).float().mean().data.cpu()\n",
        "      test_accuracy.append(test_acc)\n",
        "    lenet3.train()\n",
        "\n",
        "  test_accuracies.append(test_accuracy)"
      ],
      "metadata": {
        "id": "D7GFn-RXR-4k"
      },
      "execution_count": null,
      "outputs": []
    },
    {
      "cell_type": "code",
      "source": [
        "batch_size = 1120\n",
        "test_accuracies = []\n",
        "for epoch in bar(100, desc = \"NET5\"):\n",
        "  lenet3 = Net3().to(device)\n",
        "  loss = torch.nn.CrossEntropyLoss()\n",
        "  optimizer = torch.optim.Adam(lenet3.parameters(), lr = 0.005, betas = (0.8, 0.9), eps = 1e-8, weight_decay = 0.001, amsgrad = False)\n",
        "  test_accuracy = []\n",
        "  for epoch in bar(range(100), desc = 'LEARNING', leave=False):\n",
        "    indexs = np.random.permutation(len(train_data))\n",
        "\n",
        "    for start_index in range(0, len(train_data), batch_size):\n",
        "      optimizer.zero_grad()\n",
        "      batch_index = indexs[start_index: start_index + batch_size]\n",
        "      labels_batch = train_labels[batch_index].to(device)\n",
        "\n",
        "      images_batch = train_data[batch_index].to(device)\n",
        "      prediction = lenet3.forward(images_batch)\n",
        "      loss_value = loss(prediction, labels_batch)\n",
        "      loss_value.backward()\n",
        "      optimizer.step()\n",
        "\n",
        "    lenet.eval()\n",
        "    with torch.no_grad():\n",
        "      prediction_test = lenet.forward(test_data)\n",
        "      test_acc = (prediction_test.argmax(dim = 1) == test_labels).float().mean().data.cpu()\n",
        "      test_accuracy.append(test_acc)\n",
        "    lenet3.train()\n",
        "\n",
        "  test_accuracies.append(test_accuracy)"
      ],
      "metadata": {
        "id": "TH_mPzZ8SAXf"
      },
      "execution_count": null,
      "outputs": []
    },
    {
      "cell_type": "markdown",
      "source": [
        "***EXPERIMENT***"
      ],
      "metadata": {
        "id": "4Byo_2mWSGUd"
      }
    },
    {
      "cell_type": "code",
      "execution_count": null,
      "metadata": {
        "id": "3dEgtktiSLKJ"
      },
      "outputs": [],
      "source": [
        "for i in range(1):\n",
        "  accuracy_net = []\n",
        "  for experiment in bar(range(10), desc = 'EXPERIMENT', leave = False):\n",
        "\n",
        "    loss = torch.nn.CrossEntropyLoss()\n",
        "    lenet4 = Net4().to(device)\n",
        "\n",
        "    optimizer = torch.optim.Adam(lenet4.parameters(), lr = 0.005, betas = (0.8, 0.9), eps = 1e-8, weight_decay = 0.001, amsgrad = False)\n",
        "    batch_size = 1120\n",
        "    max_acc = 0\n",
        "\n",
        "    for epoch in bar(range(100), leave=False):\n",
        "      order = np.random.permutation(len(train_data))\n",
        "\n",
        "      for start_index in range(0, len(train_data), batch_size):\n",
        "        optimizer.zero_grad()\n",
        "\n",
        "        batch_indexes = order[start_index:start_index+batch_size]\n",
        "\n",
        "        data_batch = train_data[batch_indexes]\n",
        "        labels_batch= train_labels[batch_indexes]\n",
        "\n",
        "        preds = lenet4.forward(data_batch)\n",
        "\n",
        "        loss_val = loss(preds, labels_batch)\n",
        "        loss_val.backward()\n",
        "\n",
        "        optimizer.step()\n",
        "      lenet.eval()\n",
        "      with torch.no_grad():\n",
        "        test_preds = lenet3.forward(test_data)\n",
        "        accuracy = (test_preds.argmax(dim=1)==test_labels).float().mean().data.cpu()\n",
        "        max_acc = max(max_acc, accuracy)\n",
        "      lenet4.train()\n",
        "    accuracy_net.append(max_acc)\n",
        "    print(max_acc)\n",
        "  print(*accuracy_net)"
      ]
    },
    {
      "cell_type": "code",
      "execution_count": 23,
      "metadata": {
        "id": "OfCg281XSLKK"
      },
      "outputs": [],
      "source": [
        "acc_4 = \"tensor(0.8576) tensor(0.8351) tensor(0.8333) tensor(0.8309) tensor(0.8318) tensor(0.8334) tensor(0.8326) tensor(0.8360) tensor(0.8412) tensor(0.8315) tensor(0.8461) tensor(0.8449) tensor(0.8440) tensor(0.8342) tensor(0.8429) tensor(0.8604)\""
      ]
    },
    {
      "cell_type": "code",
      "execution_count": null,
      "metadata": {
        "id": "NWG2jOeFSaRR"
      },
      "outputs": [],
      "source": [
        "for i in range(1):\n",
        "  accuracy_net = []\n",
        "  for experiment in bar(range(10), desc = 'EXPERIMENT', leave = False):\n",
        "\n",
        "    loss = torch.nn.CrossEntropyLoss()\n",
        "    lenet5 = Net5().to(device)\n",
        "\n",
        "    optimizer = torch.optim.Adam(lenet5.parameters(), lr = 0.005, betas = (0.8, 0.9), eps = 1e-8, weight_decay = 0.001, amsgrad = False)\n",
        "    batch_size = 1120\n",
        "    max_acc = 0\n",
        "\n",
        "    for epoch in bar(range(100), leave=False):\n",
        "      order = np.random.permutation(len(train_data))\n",
        "\n",
        "      for start_index in range(0, len(train_data), batch_size):\n",
        "        optimizer.zero_grad()\n",
        "\n",
        "        batch_indexes = order[start_index:start_index+batch_size]\n",
        "\n",
        "        data_batch = train_data[batch_indexes]\n",
        "        labels_batch= train_labels[batch_indexes]\n",
        "\n",
        "        preds = lenet5.forward(data_batch)\n",
        "\n",
        "        loss_val = loss(preds, labels_batch)\n",
        "        loss_val.backward()\n",
        "\n",
        "        optimizer.step()\n",
        "      lenet.eval()\n",
        "      with torch.no_grad():\n",
        "        test_preds = lenet3.forward(test_data)\n",
        "        accuracy = (test_preds.argmax(dim=1)==test_labels).float().mean().data.cpu()\n",
        "        max_acc = max(max_acc, accuracy)\n",
        "      lenet5.train()\n",
        "    accuracy_net.append(max_acc)\n",
        "    print(max_acc)\n",
        "  print(*accuracy_net)"
      ]
    },
    {
      "cell_type": "code",
      "execution_count": 24,
      "metadata": {
        "id": "uhNkoYBySaRR"
      },
      "outputs": [],
      "source": [
        "acc_5 = \"tensor(0.8373) tensor(0.8347) tensor(0.8552) tensor(0.8411) tensor(0.8386) tensor(0.8402) tensor(0.8451) tensor(0.8436) tensor(0.8383) tensor(0.8312) tensor(0.8411) tensor(0.8446) tensor(0.8490) tensor(0.8501) tensor(0.8451) tensor(0.8357) tensor(0.8422)\""
      ]
    },
    {
      "cell_type": "code",
      "execution_count": 25,
      "metadata": {
        "id": "PnobnCdVSLKK"
      },
      "outputs": [],
      "source": [
        "samples = [acc_4, acc_5]\n",
        "for i in range(len(samples)):\n",
        "    samples[i] = list(map(float, samples[i].replace(\"tensor(\", '').replace(')', '').replace(\"[\",\"\").replace(\"]\", \"\").split()))"
      ]
    },
    {
      "cell_type": "code",
      "execution_count": 26,
      "metadata": {
        "colab": {
          "base_uri": "https://localhost:8080/",
          "height": 782
        },
        "outputId": "c0194c3c-b612-4da4-b04d-319f91239569",
        "id": "q-Tsvx6FSLKK"
      },
      "outputs": [
        {
          "output_type": "execute_result",
          "data": {
            "text/plain": [
              "{'whiskers': [<matplotlib.lines.Line2D at 0x7f9baca2c6a0>,\n",
              "  <matplotlib.lines.Line2D at 0x7f9baca2c940>,\n",
              "  <matplotlib.lines.Line2D at 0x7f9baca2d870>,\n",
              "  <matplotlib.lines.Line2D at 0x7f9baca2db10>],\n",
              " 'caps': [<matplotlib.lines.Line2D at 0x7f9baca2cb50>,\n",
              "  <matplotlib.lines.Line2D at 0x7f9baca2cdf0>,\n",
              "  <matplotlib.lines.Line2D at 0x7f9baca2ddb0>,\n",
              "  <matplotlib.lines.Line2D at 0x7f9baca2e050>],\n",
              " 'boxes': [<matplotlib.lines.Line2D at 0x7f9baca2c400>,\n",
              "  <matplotlib.lines.Line2D at 0x7f9baca2d5d0>],\n",
              " 'medians': [<matplotlib.lines.Line2D at 0x7f9baca2d090>,\n",
              "  <matplotlib.lines.Line2D at 0x7f9baca2e2f0>],\n",
              " 'fliers': [<matplotlib.lines.Line2D at 0x7f9baca2d330>,\n",
              "  <matplotlib.lines.Line2D at 0x7f9baca2e590>],\n",
              " 'means': []}"
            ]
          },
          "metadata": {},
          "execution_count": 26
        },
        {
          "output_type": "display_data",
          "data": {
            "text/plain": [
              "<Figure size 1600x600 with 1 Axes>"
            ],
            "image/png": "[encoded data removed]"
          },
          "metadata": {}
        }
      ],
      "source": [
        "plt.figure(figsize = (16., 6.))\n",
        "plt.boxplot(samples)"
      ]
    },
    {
      "cell_type": "code",
      "source": [
        "t_stat, p_val = stats.ttest_ind(samples[0], samples[1])\n",
        "p_val"
      ],
      "metadata": {
        "colab": {
          "base_uri": "https://localhost:8080/"
        },
        "id": "SOZ--9miTfTn",
        "outputId": "27f7d6f9-e393-4e39-935a-440e7dd6132d"
      },
      "execution_count": 27,
      "outputs": [
        {
          "output_type": "execute_result",
          "data": {
            "text/plain": [
              "0.41666426345638796"
            ]
          },
          "metadata": {},
          "execution_count": 27
        }
      ]
    },
    {
      "cell_type": "markdown",
      "source": [
        "net5 - лучшая сеть"
      ],
      "metadata": {
        "id": "Z4hdo89pTWad"
      }
    }
  ]
}