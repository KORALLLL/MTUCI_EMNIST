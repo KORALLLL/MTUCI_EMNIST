{
  "nbformat": 4,
  "nbformat_minor": 0,
  "metadata": {
    "colab": {
      "provenance": [],
      "gpuType": "T4",
      "authorship_tag": "ABX9TyNs53awoR8cQjOIRXga9uW+",
      "include_colab_link": true
    },
    "kernelspec": {
      "name": "python3",
      "display_name": "Python 3"
    },
    "language_info": {
      "name": "python"
    },
    "accelerator": "GPU",
    "widgets": {
      "application/vnd.jupyter.widget-state+json": {
        "3f955a8a77f74fd99bbc10211048127e": {
          "model_module": "@jupyter-widgets/controls",
          "model_name": "HBoxModel",
          "model_module_version": "1.5.0",
          "state": {
            "_dom_classes": [],
            "_model_module": "@jupyter-widgets/controls",
            "_model_module_version": "1.5.0",
            "_model_name": "HBoxModel",
            "_view_count": null,
            "_view_module": "@jupyter-widgets/controls",
            "_view_module_version": "1.5.0",
            "_view_name": "HBoxView",
            "box_style": "",
            "children": [
              "IPY_MODEL_26906b54029b46e78d7e7b59ed56e825",
              "IPY_MODEL_8266e16e473340739c1e2b951f18e96e",
              "IPY_MODEL_12f37a4c97f544cf81508c5022884b17"
            ],
            "layout": "IPY_MODEL_debc3c1c3e6e489a8ed90af67586214a"
          }
        },
        "26906b54029b46e78d7e7b59ed56e825": {
          "model_module": "@jupyter-widgets/controls",
          "model_name": "HTMLModel",
          "model_module_version": "1.5.0",
          "state": {
            "_dom_classes": [],
            "_model_module": "@jupyter-widgets/controls",
            "_model_module_version": "1.5.0",
            "_model_name": "HTMLModel",
            "_view_count": null,
            "_view_module": "@jupyter-widgets/controls",
            "_view_module_version": "1.5.0",
            "_view_name": "HTMLView",
            "description": "",
            "description_tooltip": null,
            "layout": "IPY_MODEL_4068a341c19843a7a62072b4c8bb79be",
            "placeholder": "​",
            "style": "IPY_MODEL_52d1465735384b3aacb47b6c4bb5356d",
            "value": "LEARNING: 100%"
          }
        },
        "8266e16e473340739c1e2b951f18e96e": {
          "model_module": "@jupyter-widgets/controls",
          "model_name": "FloatProgressModel",
          "model_module_version": "1.5.0",
          "state": {
            "_dom_classes": [],
            "_model_module": "@jupyter-widgets/controls",
            "_model_module_version": "1.5.0",
            "_model_name": "FloatProgressModel",
            "_view_count": null,
            "_view_module": "@jupyter-widgets/controls",
            "_view_module_version": "1.5.0",
            "_view_name": "ProgressView",
            "bar_style": "success",
            "description": "",
            "description_tooltip": null,
            "layout": "IPY_MODEL_029e0926a8e74363aa4c6614b67ca299",
            "max": 100,
            "min": 0,
            "orientation": "horizontal",
            "style": "IPY_MODEL_38a0694e8ed8467abff195a4172584b4",
            "value": 100
          }
        },
        "12f37a4c97f544cf81508c5022884b17": {
          "model_module": "@jupyter-widgets/controls",
          "model_name": "HTMLModel",
          "model_module_version": "1.5.0",
          "state": {
            "_dom_classes": [],
            "_model_module": "@jupyter-widgets/controls",
            "_model_module_version": "1.5.0",
            "_model_name": "HTMLModel",
            "_view_count": null,
            "_view_module": "@jupyter-widgets/controls",
            "_view_module_version": "1.5.0",
            "_view_name": "HTMLView",
            "description": "",
            "description_tooltip": null,
            "layout": "IPY_MODEL_32cd2d7f8e3b4c2fac25574a6ee37930",
            "placeholder": "​",
            "style": "IPY_MODEL_0337ae4b33c84ab8bf94b815b3a647e7",
            "value": " 100/100 [00:41&lt;00:00,  2.35it/s]"
          }
        },
        "debc3c1c3e6e489a8ed90af67586214a": {
          "model_module": "@jupyter-widgets/base",
          "model_name": "LayoutModel",
          "model_module_version": "1.2.0",
          "state": {
            "_model_module": "@jupyter-widgets/base",
            "_model_module_version": "1.2.0",
            "_model_name": "LayoutModel",
            "_view_count": null,
            "_view_module": "@jupyter-widgets/base",
            "_view_module_version": "1.2.0",
            "_view_name": "LayoutView",
            "align_content": null,
            "align_items": null,
            "align_self": null,
            "border": null,
            "bottom": null,
            "display": null,
            "flex": null,
            "flex_flow": null,
            "grid_area": null,
            "grid_auto_columns": null,
            "grid_auto_flow": null,
            "grid_auto_rows": null,
            "grid_column": null,
            "grid_gap": null,
            "grid_row": null,
            "grid_template_areas": null,
            "grid_template_columns": null,
            "grid_template_rows": null,
            "height": null,
            "justify_content": null,
            "justify_items": null,
            "left": null,
            "margin": null,
            "max_height": null,
            "max_width": null,
            "min_height": null,
            "min_width": null,
            "object_fit": null,
            "object_position": null,
            "order": null,
            "overflow": null,
            "overflow_x": null,
            "overflow_y": null,
            "padding": null,
            "right": null,
            "top": null,
            "visibility": null,
            "width": null
          }
        },
        "4068a341c19843a7a62072b4c8bb79be": {
          "model_module": "@jupyter-widgets/base",
          "model_name": "LayoutModel",
          "model_module_version": "1.2.0",
          "state": {
            "_model_module": "@jupyter-widgets/base",
            "_model_module_version": "1.2.0",
            "_model_name": "LayoutModel",
            "_view_count": null,
            "_view_module": "@jupyter-widgets/base",
            "_view_module_version": "1.2.0",
            "_view_name": "LayoutView",
            "align_content": null,
            "align_items": null,
            "align_self": null,
            "border": null,
            "bottom": null,
            "display": null,
            "flex": null,
            "flex_flow": null,
            "grid_area": null,
            "grid_auto_columns": null,
            "grid_auto_flow": null,
            "grid_auto_rows": null,
            "grid_column": null,
            "grid_gap": null,
            "grid_row": null,
            "grid_template_areas": null,
            "grid_template_columns": null,
            "grid_template_rows": null,
            "height": null,
            "justify_content": null,
            "justify_items": null,
            "left": null,
            "margin": null,
            "max_height": null,
            "max_width": null,
            "min_height": null,
            "min_width": null,
            "object_fit": null,
            "object_position": null,
            "order": null,
            "overflow": null,
            "overflow_x": null,
            "overflow_y": null,
            "padding": null,
            "right": null,
            "top": null,
            "visibility": null,
            "width": null
          }
        },
        "52d1465735384b3aacb47b6c4bb5356d": {
          "model_module": "@jupyter-widgets/controls",
          "model_name": "DescriptionStyleModel",
          "model_module_version": "1.5.0",
          "state": {
            "_model_module": "@jupyter-widgets/controls",
            "_model_module_version": "1.5.0",
            "_model_name": "DescriptionStyleModel",
            "_view_count": null,
            "_view_module": "@jupyter-widgets/base",
            "_view_module_version": "1.2.0",
            "_view_name": "StyleView",
            "description_width": ""
          }
        },
        "029e0926a8e74363aa4c6614b67ca299": {
          "model_module": "@jupyter-widgets/base",
          "model_name": "LayoutModel",
          "model_module_version": "1.2.0",
          "state": {
            "_model_module": "@jupyter-widgets/base",
            "_model_module_version": "1.2.0",
            "_model_name": "LayoutModel",
            "_view_count": null,
            "_view_module": "@jupyter-widgets/base",
            "_view_module_version": "1.2.0",
            "_view_name": "LayoutView",
            "align_content": null,
            "align_items": null,
            "align_self": null,
            "border": null,
            "bottom": null,
            "display": null,
            "flex": null,
            "flex_flow": null,
            "grid_area": null,
            "grid_auto_columns": null,
            "grid_auto_flow": null,
            "grid_auto_rows": null,
            "grid_column": null,
            "grid_gap": null,
            "grid_row": null,
            "grid_template_areas": null,
            "grid_template_columns": null,
            "grid_template_rows": null,
            "height": null,
            "justify_content": null,
            "justify_items": null,
            "left": null,
            "margin": null,
            "max_height": null,
            "max_width": null,
            "min_height": null,
            "min_width": null,
            "object_fit": null,
            "object_position": null,
            "order": null,
            "overflow": null,
            "overflow_x": null,
            "overflow_y": null,
            "padding": null,
            "right": null,
            "top": null,
            "visibility": null,
            "width": null
          }
        },
        "38a0694e8ed8467abff195a4172584b4": {
          "model_module": "@jupyter-widgets/controls",
          "model_name": "ProgressStyleModel",
          "model_module_version": "1.5.0",
          "state": {
            "_model_module": "@jupyter-widgets/controls",
            "_model_module_version": "1.5.0",
            "_model_name": "ProgressStyleModel",
            "_view_count": null,
            "_view_module": "@jupyter-widgets/base",
            "_view_module_version": "1.2.0",
            "_view_name": "StyleView",
            "bar_color": null,
            "description_width": ""
          }
        },
        "32cd2d7f8e3b4c2fac25574a6ee37930": {
          "model_module": "@jupyter-widgets/base",
          "model_name": "LayoutModel",
          "model_module_version": "1.2.0",
          "state": {
            "_model_module": "@jupyter-widgets/base",
            "_model_module_version": "1.2.0",
            "_model_name": "LayoutModel",
            "_view_count": null,
            "_view_module": "@jupyter-widgets/base",
            "_view_module_version": "1.2.0",
            "_view_name": "LayoutView",
            "align_content": null,
            "align_items": null,
            "align_self": null,
            "border": null,
            "bottom": null,
            "display": null,
            "flex": null,
            "flex_flow": null,
            "grid_area": null,
            "grid_auto_columns": null,
            "grid_auto_flow": null,
            "grid_auto_rows": null,
            "grid_column": null,
            "grid_gap": null,
            "grid_row": null,
            "grid_template_areas": null,
            "grid_template_columns": null,
            "grid_template_rows": null,
            "height": null,
            "justify_content": null,
            "justify_items": null,
            "left": null,
            "margin": null,
            "max_height": null,
            "max_width": null,
            "min_height": null,
            "min_width": null,
            "object_fit": null,
            "object_position": null,
            "order": null,
            "overflow": null,
            "overflow_x": null,
            "overflow_y": null,
            "padding": null,
            "right": null,
            "top": null,
            "visibility": null,
            "width": null
          }
        },
        "0337ae4b33c84ab8bf94b815b3a647e7": {
          "model_module": "@jupyter-widgets/controls",
          "model_name": "DescriptionStyleModel",
          "model_module_version": "1.5.0",
          "state": {
            "_model_module": "@jupyter-widgets/controls",
            "_model_module_version": "1.5.0",
            "_model_name": "DescriptionStyleModel",
            "_view_count": null,
            "_view_module": "@jupyter-widgets/base",
            "_view_module_version": "1.2.0",
            "_view_name": "StyleView",
            "description_width": ""
          }
        }
      }
    }
  },
  "cells": [
    {
      "cell_type": "markdown",
      "metadata": {
        "id": "view-in-github",
        "colab_type": "text"
      },
      "source": [
        "<a href=\"https://colab.research.google.com/github/KORALLLL/MTUCI_EMNIST/blob/Artem/lenet/gamayunov2004_lenet.ipynb\" target=\"_parent\"><img src=\"https://colab.research.google.com/assets/colab-badge.svg\" alt=\"Open In Colab\"/></a>"
      ]
    },
    {
      "cell_type": "markdown",
      "source": [
        "<table class=\"paleBlueRows\" style=\"height: 310px;\" width=\"700\">\n",
        "<thead>\n",
        "<tr>\n",
        "<th>Layer</th>\n",
        "<th>Layer type 2</th>\n",
        "<th>Feature maps</th>\n",
        "<th>Size</th>\n",
        "<th>Kernel size</th>\n",
        "<th>Stride</th>\n",
        "<th>Activation</th>\n",
        "</tr>\n",
        "</thead>\n",
        "<tbody>\n",
        "<tr>\n",
        "<td>input</td>\n",
        "<td>image</td>\n",
        "<td>1</td>\n",
        "<td>28*28</td>\n",
        "<td>-</td>\n",
        "<td>-</td>\n",
        "<td>-</td>\n",
        "</tr>\n",
        "<tr>\n",
        "<td>1</td>\n",
        "<td>convolution</td>\n",
        "<td>6</td>\n",
        "<td>28*28</td>\n",
        "<td>5*5</td>\n",
        "<td>1</td>\n",
        "<td>tanh</td>\n",
        "</tr>\n",
        "<tr>\n",
        "<td>2</td>\n",
        "<td>average pooling</td>\n",
        "<td>6</td>\n",
        "<td>14*14</td>\n",
        "<td><span style=\"font-family: 'Times New Roman', Times, serif; font-size: 16px; font-style: normal; font-variant-ligatures: normal; font-variant-caps: normal; font-weight: 400; background-color: #d0e4f5;\">2*2</span></td>\n",
        "<td>2</td>\n",
        "<td>tanh</td>\n",
        "</tr>\n",
        "<tr>\n",
        "<td>3</td>\n",
        "<td><span style=\"font-family: 'Times New Roman', Times, serif; font-size: 16px; font-style: normal; font-variant-ligatures: normal; font-variant-caps: normal; font-weight: 400;\">convolution</span></td>\n",
        "<td>16</td>\n",
        "<td>10*10</td>\n",
        "<td>5*5</td>\n",
        "<td>1</td>\n",
        "<td>tanh</td>\n",
        "</tr>\n",
        "<tr>\n",
        "<td>4</td>\n",
        "<td>average pooling</td>\n",
        "<td>16</td>\n",
        "<td>5*5</td>\n",
        "<td><span style=\"font-family: 'Times New Roman', Times, serif; font-size: 16px; font-style: normal; font-variant-ligatures: normal; font-variant-caps: normal; font-weight: 400; background-color: #d0e4f5;\">2*2</span></td>\n",
        "<td>2</td>\n",
        "<td>tanh</td>\n",
        "</tr>\n",
        "<tr>\n",
        "<td>5</td>\n",
        "<td>fully connected</td>\n",
        "<td>-</td>\n",
        "<td>120</td>\n",
        "<td>-</td>\n",
        "<td>-</td>\n",
        "<td>tanh</td>\n",
        "</tr>\n",
        "<tr>\n",
        "<td>6</td>\n",
        "<td><span style=\"font-family: 'Times New Roman', Times, serif; font-size: 16px; font-style: normal; font-variant-ligatures: normal; font-variant-caps: normal; font-weight: 400; background-color: #d0e4f5;\">fully connected</span></td>\n",
        "<td>-</td>\n",
        "<td>84</td>\n",
        "<td>-</td>\n",
        "<td>-</td>\n",
        "<td><span style=\"font-family: 'Times New Roman', Times, serif; font-size: 16px; font-style: normal; font-variant-ligatures: normal; font-variant-caps: normal; font-weight: 400; background-color: #d0e4f5;\">tanh</span></td>\n",
        "</tr>\n",
        "<tr>\n",
        "<td>output</td>\n",
        "<td><span style=\"font-family: 'Times New Roman', Times, serif; font-size: 16px; font-style: normal; font-variant-ligatures: normal; font-variant-caps: normal; font-weight: 400;\">fully connected</span></td>\n",
        "<td>-</td>\n",
        "<td>35</td>\n",
        "<td>-</td>\n",
        "<td>-</td>\n",
        "<td>-</td>\n",
        "</tr>\n",
        "</tbody>\n",
        "</table>"
      ],
      "metadata": {
        "id": "tZuv6xyhyU-B"
      }
    },
    {
      "cell_type": "markdown",
      "source": [
        "**Train dataset:** MNIST + EMNIST letters\n",
        "\n",
        "**Test dataset:** dataset of DreamTeam\n",
        "\n",
        "**Training sample size:** 36960\n",
        "\n",
        "**Testing sample size:** 16784\n",
        "\n",
        "**Loss function:** Cross Entropy Loss\n",
        "\n",
        "**Optimizer:** Adam\n",
        "\n",
        "**Learning rate:** 1.0e-3\n",
        "\n",
        "**Batch size:** 1120\n",
        "\n",
        "**Epoch number:** 100"
      ],
      "metadata": {
        "id": "6kiXeVBfxBwm"
      }
    },
    {
      "cell_type": "markdown",
      "source": [
        "***IMPORT***\n",
        "\n",
        "---"
      ],
      "metadata": {
        "id": "kAHQg0W4vM6t"
      }
    },
    {
      "cell_type": "code",
      "execution_count": 9,
      "metadata": {
        "id": "6Y4kP-x9VXGe"
      },
      "outputs": [],
      "source": [
        "import torch\n",
        "import torchvision.datasets\n",
        "import random\n",
        "import numpy as np\n",
        "import matplotlib.pyplot as plt\n",
        "import pickle\n",
        "from tqdm import tqdm_notebook as bar\n",
        "\n",
        "random.seed(0)\n",
        "np.random.seed(0)\n",
        "torch.manual_seed(0)\n",
        "torch.cuda.manual_seed(0)\n",
        "torch.backends.cudnn.deterministic = True"
      ]
    },
    {
      "cell_type": "markdown",
      "source": [
        "***REPO***\n",
        "\n",
        "---\n",
        "\n"
      ],
      "metadata": {
        "id": "KfolF0wwvS5H"
      }
    },
    {
      "cell_type": "code",
      "source": [
        "!git clone https://github.com/KORALLLL/MTUCI_EMNIST.git"
      ],
      "metadata": {
        "id": "dz5_QntkVZN4"
      },
      "execution_count": null,
      "outputs": []
    },
    {
      "cell_type": "markdown",
      "source": [
        "***TORCH.DEVICE***\n",
        "\n",
        "---\n",
        "\n"
      ],
      "metadata": {
        "id": "WcvLTdxOvWV6"
      }
    },
    {
      "cell_type": "code",
      "source": [
        "device = torch.device('cuda:0' if torch.cuda.is_available() else 'cpu')"
      ],
      "metadata": {
        "id": "wcYVOOeAskZd"
      },
      "execution_count": 11,
      "outputs": []
    },
    {
      "cell_type": "markdown",
      "source": [
        "***DATASET***\n",
        "\n",
        "---\n",
        "\n"
      ],
      "metadata": {
        "id": "puLy2BIkvHHQ"
      }
    },
    {
      "cell_type": "code",
      "source": [
        "emnist_train = torchvision.datasets.EMNIST('./', split='letters', download = True, train = True)\n",
        "mnist_train = torchvision.datasets.EMNIST('./', split='mnist', download = True, train = True)\n",
        "emnist_val = torchvision.datasets.EMNIST('./', split='letters', download = True, train = False)\n",
        "mnist_val = torchvision.datasets.EMNIST('./', split='mnist', download = True, train = False)\n",
        "\n",
        "emnist_train_data = emnist_train.data\n",
        "mnist_train_data = mnist_train.data\n",
        "train_data = torch.cat([emnist_train_data[:24960], mnist_train_data[:12000]], dim=0).float().unsqueeze(1).to(device) / 255\n",
        "\n",
        "emnist_val_data = emnist_val.data\n",
        "mnist_val_data = mnist_val.data\n",
        "val_data = torch.cat([emnist_val_data, mnist_val_data], dim=0).float().unsqueeze(1).to(device) / 255\n",
        "\n",
        "temp_emnist_train_labels = emnist_train.targets[:24960]\n",
        "emnist_train_labels = []\n",
        "\n",
        "temp_emnist_val_labels = emnist_val.targets\n",
        "emnist_val_labels = []\n",
        "\n",
        "for i in range(len(temp_emnist_train_labels)):\n",
        "  if temp_emnist_train_labels[i]==15:\n",
        "    emnist_train_labels.append(torch.tensor(0))\n",
        "  elif temp_emnist_train_labels[i]>15:\n",
        "    emnist_train_labels.append(temp_emnist_train_labels[i]+8)\n",
        "  else:\n",
        "    emnist_train_labels.append(temp_emnist_train_labels[i]+9)\n",
        "\n",
        "for i in range(len(temp_emnist_val_labels)):\n",
        "  if temp_emnist_val_labels[i]==15:\n",
        "    emnist_val_labels.append(torch.tensor(0))\n",
        "  elif temp_emnist_val_labels[i]>15:\n",
        "    emnist_val_labels.append(temp_emnist_val_labels[i] + 8)\n",
        "  else:\n",
        "    emnist_val_labels.append(temp_emnist_val_labels[i]+9)\n",
        "\n",
        "mnist_train_labels = mnist_train.targets\n",
        "train_labels = torch.cat([torch.stack(emnist_train_labels[:24960]), mnist_train_labels[:12000]], dim=0).to(device)\n",
        "\n",
        "mnist_val_labels = mnist_val.targets\n",
        "val_labels = torch.cat([torch.stack(emnist_val_labels), mnist_val_labels], dim=0).to(device)\n",
        "\n",
        "\n",
        "file = open('MTUCI_EMNIST/dataset.pkl', 'rb')\n",
        "test_dataset = pickle.load(file)\n",
        "file.close()\n",
        "\n",
        "test_data = test_dataset['data'].numpy()\n",
        "test_data = np.flip(test_data, axis = 3)\n",
        "test_data = np.rot90(test_data, k=1, axes=(2,3))\n",
        "test_data = 1 - test_data\n",
        "test_data = torch.from_numpy(test_data).float().to(device)\n",
        "test_labels = test_dataset['targets'].to(device)"
      ],
      "metadata": {
        "id": "FzgtKxL7VZcQ"
      },
      "execution_count": 31,
      "outputs": []
    },
    {
      "cell_type": "markdown",
      "source": [
        "***SHOW VAL_DATA***\n",
        "\n",
        "---\n",
        "\n"
      ],
      "metadata": {
        "id": "z9rs5bZlvDWG"
      }
    },
    {
      "cell_type": "code",
      "source": [
        "plt.imshow(val_data.cpu()[1][0])\n",
        "plt.show()"
      ],
      "metadata": {
        "colab": {
          "base_uri": "https://localhost:8080/",
          "height": 430
        },
        "id": "ds4OBbCtVZyw",
        "outputId": "72d25005-660f-4ce2-c21e-c676a3784dd0"
      },
      "execution_count": 41,
      "outputs": [
        {
          "output_type": "display_data",
          "data": {
            "text/plain": [
              "<Figure size 640x480 with 1 Axes>"
            ],
            "image/png": "[encoded data removed]"
          },
          "metadata": {}
        }
      ]
    },
    {
      "cell_type": "markdown",
      "source": [
        "***NEURAL NETWORK***\n",
        "\n",
        "---\n",
        "\n"
      ],
      "metadata": {
        "id": "DH0FEBcSuuVg"
      }
    },
    {
      "cell_type": "code",
      "source": [
        "class LeNet5(torch.nn.Module):\n",
        "    def __init__(self):\n",
        "        super(LeNet5, self).__init__()\n",
        "\n",
        "        self.conv1 = torch.nn.Conv2d(\n",
        "            in_channels=1, out_channels=6, kernel_size=5, padding=2)\n",
        "        self.act1  = torch.nn.Tanh()\n",
        "        self.pool1 = torch.nn.AvgPool2d(kernel_size=2, stride=2)\n",
        "\n",
        "        self.conv2 = torch.nn.Conv2d(\n",
        "            in_channels=6, out_channels=16, kernel_size=5, padding=0)\n",
        "        self.act2  = torch.nn.Tanh()\n",
        "        self.pool2 = torch.nn.AvgPool2d(kernel_size=2, stride=2)\n",
        "\n",
        "        self.fc1   = torch.nn.Linear(5 * 5 * 16, 120)\n",
        "        self.act3  = torch.nn.Tanh()\n",
        "\n",
        "        self.fc2   = torch.nn.Linear(120, 84)\n",
        "        self.act4  = torch.nn.Tanh()\n",
        "\n",
        "        self.fc3   = torch.nn.Linear(84, 35)\n",
        "\n",
        "    def forward(self, x):\n",
        "\n",
        "        x = self.conv1(x)\n",
        "        x = self.act1(x)\n",
        "        x = self.pool1(x)\n",
        "\n",
        "        x = self.conv2(x)\n",
        "        x = self.act2(x)\n",
        "        x = self.pool2(x)\n",
        "\n",
        "        x = x.view(x.size(0), x.size(1) * x.size(2) * x.size(3))\n",
        "\n",
        "        x = self.fc1(x)\n",
        "        x = self.act3(x)\n",
        "        x = self.fc2(x)\n",
        "        x = self.act4(x)\n",
        "        x = self.fc3(x)\n",
        "\n",
        "        return x\n",
        "\n",
        "lenet5 = LeNet5()"
      ],
      "metadata": {
        "id": "w1wMxqWqVaGU"
      },
      "execution_count": 32,
      "outputs": []
    },
    {
      "cell_type": "code",
      "source": [
        "lenet5 = lenet5.to(device)"
      ],
      "metadata": {
        "id": "k3zKzn_lVaOU"
      },
      "execution_count": 33,
      "outputs": []
    },
    {
      "cell_type": "markdown",
      "source": [
        "***LOSS- AND OPTIMIZER-FUNCTIONS***\n",
        "\n",
        "---\n",
        "\n"
      ],
      "metadata": {
        "id": "ZpOPXD3luXF3"
      }
    },
    {
      "cell_type": "code",
      "source": [
        "loss = torch.nn.CrossEntropyLoss()\n",
        "optimizer = torch.optim.Adam(lenet5.parameters(), lr=1.0e-3)"
      ],
      "metadata": {
        "id": "fRvMSZk8VaVF"
      },
      "execution_count": 34,
      "outputs": []
    },
    {
      "cell_type": "markdown",
      "source": [
        "***METRICS***\n",
        "\n",
        "---\n",
        "\n"
      ],
      "metadata": {
        "id": "Mc8PAiMyuRVP"
      }
    },
    {
      "cell_type": "code",
      "source": [
        "train_accuracy_history = []\n",
        "val_accuracy_history = []\n",
        "test_accuracy_history = []\n",
        "train_loss_history = []\n",
        "val_loss_history = []\n",
        "test_loss_history = []"
      ],
      "metadata": {
        "id": "VyljRhIArWRW"
      },
      "execution_count": 35,
      "outputs": []
    },
    {
      "cell_type": "markdown",
      "source": [
        "***LEARNING***\n",
        "\n",
        "---\n",
        "\n"
      ],
      "metadata": {
        "id": "5izikpqiuPYf"
      }
    },
    {
      "cell_type": "code",
      "source": [
        "batch_size = 1120\n",
        "\n",
        "for epoch in bar(range(100), desc='LEARNING'):\n",
        "  order = np.random.permutation(len(train_data))\n",
        "  for start_index in range(0, len(train_data), batch_size):\n",
        "    optimizer.zero_grad()\n",
        "\n",
        "    batch_indexes = order[start_index:start_index+batch_size]\n",
        "\n",
        "    data_batch = train_data[batch_indexes].to(device)\n",
        "    label_batch = train_labels[batch_indexes].to(device)\n",
        "\n",
        "    preds = lenet5.forward(data_batch)\n",
        "\n",
        "    loss_val = loss(preds, label_batch)\n",
        "    loss_val.backward()\n",
        "\n",
        "    optimizer.step()\n",
        "\n",
        "\n",
        "  train_preds = lenet5.forward(train_data)\n",
        "  val_preds = lenet5.forward(val_data)\n",
        "  test_preds = lenet5.forward(test_data)\n",
        "\n",
        "  train_loss_history.append(loss(train_preds, train_labels).data.cpu())\n",
        "  val_loss_history.append(loss(val_preds, val_labels).data.cpu())\n",
        "  test_loss_history.append(loss(test_preds, test_labels).data.cpu())\n",
        "\n",
        "  train_accuracy = (train_preds.argmax(dim=1)==train_labels).float().mean().data.cpu()\n",
        "  val_accuracy = (val_preds.argmax(dim=1)==val_labels).float().mean().data.cpu()\n",
        "  test_accuracy = (test_preds.argmax(dim=1)==test_labels).float().mean().data.cpu()\n",
        "\n",
        "  train_accuracy_history.append(train_accuracy)\n",
        "  val_accuracy_history.append(val_accuracy)\n",
        "  test_accuracy_history.append(test_accuracy)\n",
        "\n",
        "print(\"The net has been trained\")"
      ],
      "metadata": {
        "colab": {
          "base_uri": "https://localhost:8080/",
          "height": 118,
          "referenced_widgets": [
            "3f955a8a77f74fd99bbc10211048127e",
            "26906b54029b46e78d7e7b59ed56e825",
            "8266e16e473340739c1e2b951f18e96e",
            "12f37a4c97f544cf81508c5022884b17",
            "debc3c1c3e6e489a8ed90af67586214a",
            "4068a341c19843a7a62072b4c8bb79be",
            "52d1465735384b3aacb47b6c4bb5356d",
            "029e0926a8e74363aa4c6614b67ca299",
            "38a0694e8ed8467abff195a4172584b4",
            "32cd2d7f8e3b4c2fac25574a6ee37930",
            "0337ae4b33c84ab8bf94b815b3a647e7"
          ]
        },
        "id": "m4LtM7w0Vabc",
        "outputId": "0518ba1b-b36b-45ab-f2a8-3c0bb06125d7"
      },
      "execution_count": 36,
      "outputs": [
        {
          "output_type": "stream",
          "name": "stderr",
          "text": [
            "<ipython-input-36-b5c0482788ed>:3: TqdmDeprecationWarning: This function will be removed in tqdm==5.0.0\n",
            "Please use `tqdm.notebook.tqdm` instead of `tqdm.tqdm_notebook`\n",
            "  for epoch in bar(range(100), desc='LEARNING'):\n"
          ]
        },
        {
          "output_type": "display_data",
          "data": {
            "text/plain": [
              "LEARNING:   0%|          | 0/100 [00:00<?, ?it/s]"
            ],
            "application/vnd.jupyter.widget-view+json": {
              "version_major": 2,
              "version_minor": 0,
              "model_id": "3f955a8a77f74fd99bbc10211048127e"
            }
          },
          "metadata": {}
        },
        {
          "output_type": "stream",
          "name": "stdout",
          "text": [
            "The net has been trained\n"
          ]
        }
      ]
    },
    {
      "cell_type": "markdown",
      "source": [
        "***ACCURACY HISTORY***\n",
        "\n",
        "---\n",
        "\n"
      ],
      "metadata": {
        "id": "8K7aOArtuAVy"
      }
    },
    {
      "cell_type": "code",
      "source": [
        "plt.figure(figsize=(16.0, 6.0))\n",
        "plt.plot(range(len(train_accuracy_history)), train_accuracy_history, c = 'red', label = 'train accuracy history')\n",
        "plt.plot(range(len(train_accuracy_history)), val_accuracy_history, c = 'green', label = 'validation accuracy history')\n",
        "plt.plot(range(len(train_accuracy_history)), test_accuracy_history, c = 'blue', label = 'test accuracy history')\n",
        "plt.xlabel('epoch')\n",
        "plt.ylabel('accuracy')\n",
        "plt.legend(loc='lower right')"
      ],
      "metadata": {
        "colab": {
          "base_uri": "https://localhost:8080/",
          "height": 560
        },
        "id": "ln1Ylo83V4uF",
        "outputId": "1a4a3e80-fac2-4ddb-cbc2-6fda86ffeff7"
      },
      "execution_count": 37,
      "outputs": [
        {
          "output_type": "execute_result",
          "data": {
            "text/plain": [
              "<matplotlib.legend.Legend at 0x7fa4620cf010>"
            ]
          },
          "metadata": {},
          "execution_count": 37
        },
        {
          "output_type": "display_data",
          "data": {
            "text/plain": [
              "<Figure size 1600x600 with 1 Axes>"
            ],
            "image/png": "[encoded data removed]"
          },
          "metadata": {}
        }
      ]
    },
    {
      "cell_type": "markdown",
      "source": [
        "***LOSS HISTORY***\n",
        "\n",
        "---\n",
        "\n"
      ],
      "metadata": {
        "id": "YCS3mpJYt89A"
      }
    },
    {
      "cell_type": "code",
      "source": [
        "plt.figure(figsize=(16.0, 6.0))\n",
        "plt.plot(range(len(train_loss_history)), train_loss_history, c = 'red', label = 'train loss history')\n",
        "plt.plot(range(len(train_loss_history)), val_loss_history, c = 'green', label = 'validation loss history')\n",
        "plt.plot(range(len(train_loss_history)), test_loss_history, c = 'blue', label = 'test loss history')\n",
        "plt.xlabel('epoch')\n",
        "plt.ylabel('loss')\n",
        "plt.legend(loc='upper right')"
      ],
      "metadata": {
        "colab": {
          "base_uri": "https://localhost:8080/",
          "height": 559
        },
        "id": "2-1G-nMztmUx",
        "outputId": "62bf9d7c-9668-45f3-8cbc-2fd4a7f442ca"
      },
      "execution_count": 38,
      "outputs": [
        {
          "output_type": "execute_result",
          "data": {
            "text/plain": [
              "<matplotlib.legend.Legend at 0x7fa462092c20>"
            ]
          },
          "metadata": {},
          "execution_count": 38
        },
        {
          "output_type": "display_data",
          "data": {
            "text/plain": [
              "<Figure size 1600x600 with 1 Axes>"
            ],
            "image/png": "[encoded data removed]"
          },
          "metadata": {}
        }
      ]
    }
  ]
}